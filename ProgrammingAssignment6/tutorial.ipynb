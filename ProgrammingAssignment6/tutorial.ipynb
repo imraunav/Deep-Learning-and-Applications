{
 "cells": [
  {
   "cell_type": "code",
   "execution_count": 18,
   "metadata": {},
   "outputs": [],
   "source": [
    "import tensorflow as tf\n",
    "from tensorflow.keras import layers, Sequential, Input, Model\n",
    "import numpy as np"
   ]
  },
  {
   "cell_type": "code",
   "execution_count": 19,
   "metadata": {},
   "outputs": [
    {
     "data": {
      "text/plain": [
       "TensorShape([50, 4])"
      ]
     },
     "execution_count": 19,
     "metadata": {},
     "output_type": "execute_result"
    }
   ],
   "source": [
    "samples, timesteps, features = 32, 10, 8\n",
    "inputs = np.random.random([50, 10, 4]).astype(np.float32)\n",
    "simple_rnn = layers.SimpleRNN(4)\n",
    "\n",
    "outputs = simple_rnn(inputs)\n",
    "outputs.shape"
   ]
  },
  {
   "cell_type": "code",
   "execution_count": 53,
   "metadata": {},
   "outputs": [],
   "source": [
    "samples, timesteps, features = 32, 50, 8\n",
    "X, seq_lengths = [], []\n",
    "for i in range(samples):\n",
    "    l = np.random.randint(20, 50)\n",
    "    X.append(np.random.random((l,features)))\n",
    "    seq_lengths.append(l)\n",
    "\n",
    "seq_lengths = np.array(seq_lengths)\n",
    "Y = np.random.randint(3, size=samples)"
   ]
  },
  {
   "cell_type": "code",
   "execution_count": 54,
   "metadata": {},
   "outputs": [],
   "source": [
    "max_len = np.max(seq_lengths)"
   ]
  },
  {
   "cell_type": "code",
   "execution_count": 55,
   "metadata": {},
   "outputs": [
    {
     "data": {
      "text/plain": [
       "(array([41, 26, 45, 27, 38, 48, 30, 22, 33, 25]), 49)"
      ]
     },
     "execution_count": 55,
     "metadata": {},
     "output_type": "execute_result"
    }
   ],
   "source": [
    "seq_lengths[:10], max_len"
   ]
  },
  {
   "cell_type": "code",
   "execution_count": 63,
   "metadata": {},
   "outputs": [],
   "source": [
    "X_padded = tf.keras.utils.pad_sequences(X, value=10_000, padding=\"post\", dtype=np.float64, maxlen=timesteps)\n"
   ]
  },
  {
   "cell_type": "code",
   "execution_count": 64,
   "metadata": {},
   "outputs": [
    {
     "data": {
      "text/plain": [
       "(32, 50, 8)"
      ]
     },
     "execution_count": 64,
     "metadata": {},
     "output_type": "execute_result"
    }
   ],
   "source": [
    "X_padded.shape"
   ]
  },
  {
   "cell_type": "code",
   "execution_count": 65,
   "metadata": {},
   "outputs": [
    {
     "name": "stdout",
     "output_type": "stream",
     "text": [
      "Model: \"sequential_7\"\n",
      "_________________________________________________________________\n",
      " Layer (type)                Output Shape              Param #   \n",
      "=================================================================\n",
      " masking_9 (Masking)         (None, None, 8)           0         \n",
      "                                                                 \n",
      " simple_rnn_11 (SimpleRNN)   (None, 32)                1312      \n",
      "                                                                 \n",
      " dense_8 (Dense)             (None, 3)                 99        \n",
      "                                                                 \n",
      "=================================================================\n",
      "Total params: 1,411\n",
      "Trainable params: 1,411\n",
      "Non-trainable params: 0\n",
      "_________________________________________________________________\n"
     ]
    }
   ],
   "source": [
    "model = tf.keras.Sequential()\n",
    "model.add(tf.keras.layers.Masking(mask_value=10_000, input_shape=(None, features)))\n",
    "model.add(tf.keras.layers.SimpleRNN(32))\n",
    "model.add(tf.keras.layers.Dense(3))\n",
    "\n",
    "model.summary()"
   ]
  },
  {
   "cell_type": "code",
   "execution_count": 66,
   "metadata": {},
   "outputs": [
    {
     "data": {
      "text/plain": [
       "<tf.Tensor: shape=(1, 3), dtype=float32, numpy=array([[ 0.07405048, -0.19711518, -0.76090425]], dtype=float32)>"
      ]
     },
     "execution_count": 66,
     "metadata": {},
     "output_type": "execute_result"
    }
   ],
   "source": [
    "model(np.expand_dims(X[0], 0))"
   ]
  },
  {
   "cell_type": "code",
   "execution_count": 67,
   "metadata": {},
   "outputs": [
    {
     "data": {
      "text/plain": [
       "<tf.Tensor: shape=(1, 3), dtype=float32, numpy=array([[ 0.07405048, -0.19711518, -0.76090425]], dtype=float32)>"
      ]
     },
     "execution_count": 67,
     "metadata": {},
     "output_type": "execute_result"
    }
   ],
   "source": [
    "model(np.expand_dims(X_padded[0], 0))"
   ]
  },
  {
   "cell_type": "code",
   "execution_count": 75,
   "metadata": {},
   "outputs": [],
   "source": [
    "model.compile(optimizer=\"adam\", loss=\"sparse_categorical_crossentropy\", metrics=[\"accuracy\"])"
   ]
  },
  {
   "cell_type": "code",
   "execution_count": 76,
   "metadata": {},
   "outputs": [
    {
     "name": "stdout",
     "output_type": "stream",
     "text": [
      "Epoch 1/50\n",
      "32/32 - 1s - loss: 1.0986 - accuracy: 0.3125 - 615ms/epoch - 19ms/step\n",
      "Epoch 2/50\n",
      "32/32 - 0s - loss: 1.0986 - accuracy: 0.3125 - 74ms/epoch - 2ms/step\n",
      "Epoch 3/50\n",
      "32/32 - 0s - loss: 1.0986 - accuracy: 0.3125 - 70ms/epoch - 2ms/step\n",
      "Epoch 4/50\n",
      "32/32 - 0s - loss: 1.0986 - accuracy: 0.3125 - 69ms/epoch - 2ms/step\n",
      "Epoch 5/50\n",
      "32/32 - 0s - loss: 1.0986 - accuracy: 0.3125 - 70ms/epoch - 2ms/step\n",
      "Epoch 6/50\n",
      "32/32 - 0s - loss: 1.0986 - accuracy: 0.3125 - 71ms/epoch - 2ms/step\n",
      "Epoch 7/50\n",
      "32/32 - 0s - loss: 1.0986 - accuracy: 0.3125 - 70ms/epoch - 2ms/step\n",
      "Epoch 8/50\n",
      "32/32 - 0s - loss: 1.0986 - accuracy: 0.3125 - 69ms/epoch - 2ms/step\n",
      "Epoch 9/50\n",
      "32/32 - 0s - loss: 1.0986 - accuracy: 0.3125 - 68ms/epoch - 2ms/step\n",
      "Epoch 10/50\n",
      "32/32 - 0s - loss: 1.0986 - accuracy: 0.3125 - 68ms/epoch - 2ms/step\n",
      "Epoch 11/50\n",
      "32/32 - 0s - loss: 1.0986 - accuracy: 0.3125 - 68ms/epoch - 2ms/step\n",
      "Epoch 12/50\n",
      "32/32 - 0s - loss: 1.0986 - accuracy: 0.3125 - 67ms/epoch - 2ms/step\n",
      "Epoch 13/50\n",
      "32/32 - 0s - loss: 1.0986 - accuracy: 0.3125 - 68ms/epoch - 2ms/step\n",
      "Epoch 14/50\n",
      "32/32 - 0s - loss: 1.0986 - accuracy: 0.3125 - 68ms/epoch - 2ms/step\n",
      "Epoch 15/50\n",
      "32/32 - 0s - loss: 1.0986 - accuracy: 0.3125 - 68ms/epoch - 2ms/step\n",
      "Epoch 16/50\n",
      "32/32 - 0s - loss: 1.0986 - accuracy: 0.3125 - 68ms/epoch - 2ms/step\n",
      "Epoch 17/50\n",
      "32/32 - 0s - loss: 1.0986 - accuracy: 0.3125 - 67ms/epoch - 2ms/step\n",
      "Epoch 18/50\n",
      "32/32 - 0s - loss: 1.0986 - accuracy: 0.3125 - 67ms/epoch - 2ms/step\n",
      "Epoch 19/50\n",
      "32/32 - 0s - loss: 1.0986 - accuracy: 0.3125 - 68ms/epoch - 2ms/step\n",
      "Epoch 20/50\n",
      "32/32 - 0s - loss: 1.0986 - accuracy: 0.3125 - 70ms/epoch - 2ms/step\n",
      "Epoch 21/50\n",
      "32/32 - 0s - loss: 1.0986 - accuracy: 0.3125 - 70ms/epoch - 2ms/step\n",
      "Epoch 22/50\n",
      "32/32 - 0s - loss: 1.0986 - accuracy: 0.3125 - 69ms/epoch - 2ms/step\n",
      "Epoch 23/50\n",
      "32/32 - 0s - loss: 1.0986 - accuracy: 0.3125 - 70ms/epoch - 2ms/step\n",
      "Epoch 24/50\n",
      "32/32 - 0s - loss: 1.0986 - accuracy: 0.3125 - 72ms/epoch - 2ms/step\n",
      "Epoch 25/50\n",
      "32/32 - 0s - loss: 1.0986 - accuracy: 0.3125 - 68ms/epoch - 2ms/step\n",
      "Epoch 26/50\n",
      "32/32 - 0s - loss: 1.0986 - accuracy: 0.3125 - 67ms/epoch - 2ms/step\n",
      "Epoch 27/50\n",
      "32/32 - 0s - loss: 1.0986 - accuracy: 0.3125 - 67ms/epoch - 2ms/step\n",
      "Epoch 28/50\n",
      "32/32 - 0s - loss: 1.0986 - accuracy: 0.3125 - 67ms/epoch - 2ms/step\n",
      "Epoch 29/50\n",
      "32/32 - 0s - loss: 1.0986 - accuracy: 0.3125 - 67ms/epoch - 2ms/step\n",
      "Epoch 30/50\n",
      "32/32 - 0s - loss: 1.0986 - accuracy: 0.3125 - 67ms/epoch - 2ms/step\n",
      "Epoch 31/50\n",
      "32/32 - 0s - loss: 1.0986 - accuracy: 0.3125 - 68ms/epoch - 2ms/step\n",
      "Epoch 32/50\n",
      "32/32 - 0s - loss: 1.0986 - accuracy: 0.3125 - 70ms/epoch - 2ms/step\n",
      "Epoch 33/50\n",
      "32/32 - 0s - loss: 1.0986 - accuracy: 0.3125 - 69ms/epoch - 2ms/step\n",
      "Epoch 34/50\n",
      "32/32 - 0s - loss: 1.0986 - accuracy: 0.3125 - 70ms/epoch - 2ms/step\n",
      "Epoch 35/50\n",
      "32/32 - 0s - loss: 1.0986 - accuracy: 0.3125 - 69ms/epoch - 2ms/step\n",
      "Epoch 36/50\n",
      "32/32 - 0s - loss: 1.0986 - accuracy: 0.3125 - 68ms/epoch - 2ms/step\n",
      "Epoch 37/50\n",
      "32/32 - 0s - loss: 1.0986 - accuracy: 0.3125 - 68ms/epoch - 2ms/step\n",
      "Epoch 38/50\n",
      "32/32 - 0s - loss: 1.0986 - accuracy: 0.3125 - 68ms/epoch - 2ms/step\n",
      "Epoch 39/50\n",
      "32/32 - 0s - loss: 1.0986 - accuracy: 0.3125 - 69ms/epoch - 2ms/step\n",
      "Epoch 40/50\n",
      "32/32 - 0s - loss: 1.0986 - accuracy: 0.3125 - 70ms/epoch - 2ms/step\n",
      "Epoch 41/50\n",
      "32/32 - 0s - loss: 1.0986 - accuracy: 0.3125 - 71ms/epoch - 2ms/step\n",
      "Epoch 42/50\n",
      "32/32 - 0s - loss: 1.0986 - accuracy: 0.3125 - 69ms/epoch - 2ms/step\n",
      "Epoch 43/50\n",
      "32/32 - 0s - loss: 1.0986 - accuracy: 0.3125 - 69ms/epoch - 2ms/step\n",
      "Epoch 44/50\n",
      "32/32 - 0s - loss: 1.0986 - accuracy: 0.3125 - 69ms/epoch - 2ms/step\n",
      "Epoch 45/50\n",
      "32/32 - 0s - loss: 1.0986 - accuracy: 0.3125 - 91ms/epoch - 3ms/step\n",
      "Epoch 46/50\n",
      "32/32 - 0s - loss: 1.0986 - accuracy: 0.3125 - 69ms/epoch - 2ms/step\n",
      "Epoch 47/50\n",
      "32/32 - 0s - loss: 1.0986 - accuracy: 0.3125 - 69ms/epoch - 2ms/step\n",
      "Epoch 48/50\n",
      "32/32 - 0s - loss: 1.0986 - accuracy: 0.3125 - 68ms/epoch - 2ms/step\n",
      "Epoch 49/50\n",
      "32/32 - 0s - loss: 1.0986 - accuracy: 0.3125 - 68ms/epoch - 2ms/step\n",
      "Epoch 50/50\n",
      "32/32 - 0s - loss: 1.0986 - accuracy: 0.3125 - 68ms/epoch - 2ms/step\n"
     ]
    },
    {
     "data": {
      "text/plain": [
       "<keras.callbacks.History at 0x133c05600>"
      ]
     },
     "execution_count": 76,
     "metadata": {},
     "output_type": "execute_result"
    }
   ],
   "source": [
    "model.fit(X_padded, Y, batch_size=1, epochs=50, verbose=2)\n"
   ]
  },
  {
   "cell_type": "code",
   "execution_count": 37,
   "metadata": {},
   "outputs": [
    {
     "data": {
      "text/plain": [
       "False"
      ]
     },
     "execution_count": 37,
     "metadata": {},
     "output_type": "execute_result"
    }
   ],
   "source": [
    "np.nan == np.nan"
   ]
  },
  {
   "cell_type": "code",
   "execution_count": 6,
   "metadata": {},
   "outputs": [],
   "source": [
    "# mask_value= [np.nan, np.nan]"
   ]
  },
  {
   "cell_type": "code",
   "execution_count": 7,
   "metadata": {},
   "outputs": [],
   "source": [
    "# X_padded= []\n",
    "# for i in range(100):\n",
    "#     X_ = []\n",
    "#     pad = max_len - seq_lengths[i]\n",
    "#     X_ = [p for p in X[i]]\n",
    "#     for _ in range(pad):\n",
    "#         X_.append(mask_value)\n",
    "#     X_padded.append(X_)\n",
    "\n",
    "# # X_padded = tf.expand_dims(X_padded, axis=-1)\n",
    "# # # X_padded = np.array(X_padded)\n",
    "# # X_padded.shape"
   ]
  },
  {
   "cell_type": "code",
   "execution_count": 8,
   "metadata": {},
   "outputs": [],
   "source": [
    "X_padded = np.expand_dims(X_padded, axis=-1)"
   ]
  },
  {
   "cell_type": "code",
   "execution_count": 23,
   "metadata": {},
   "outputs": [
    {
     "data": {
      "text/plain": [
       "(100, 49, 2, 1)"
      ]
     },
     "execution_count": 23,
     "metadata": {},
     "output_type": "execute_result"
    }
   ],
   "source": [
    "# X_padded.shape"
   ]
  },
  {
   "cell_type": "code",
   "execution_count": 13,
   "metadata": {},
   "outputs": [
    {
     "name": "stdout",
     "output_type": "stream",
     "text": [
      "Model: \"model_1\"\n",
      "_________________________________________________________________\n",
      " Layer (type)                Output Shape              Param #   \n",
      "=================================================================\n",
      " input_2 (InputLayer)        [(None, 49, 2)]           0         \n",
      "                                                                 \n",
      " masking_1 (Masking)         (None, 49, 2)             0         \n",
      "                                                                 \n",
      " simple_rnn_2 (SimpleRNN)    (None, 16)                304       \n",
      "                                                                 \n",
      " dense_1 (Dense)             (None, 2)                 34        \n",
      "                                                                 \n",
      "=================================================================\n",
      "Total params: 338\n",
      "Trainable params: 338\n",
      "Non-trainable params: 0\n",
      "_________________________________________________________________\n"
     ]
    }
   ],
   "source": [
    "# model = Sequential()\n",
    "# model.add(layers.Masking(mask_value=mask_value, input_shape=(49, 1)))\n",
    "# model.add(layers.SimpleRNN(units=16))\n",
    "# model.add(layers.Dense(units=1, activation='sigmoid'))\n",
    "# inputs = Input(shape=(49,2))\n",
    "# x = layers.Masking(mask_value=np.nan, input_shape=(49,2))(inputs)\n",
    "# x = layers.SimpleRNN(units=16)(x)\n",
    "# x = layers.Dense(units=2, activation=\"sigmoid\")(x)\n",
    "# model = Model(inputs=inputs, outputs=x)\n",
    "# model.summary()"
   ]
  },
  {
   "cell_type": "code",
   "execution_count": 14,
   "metadata": {},
   "outputs": [],
   "source": [
    "# model.compile(loss='binary_crossentropy', optimizer='adam', metrics=['accuracy'])"
   ]
  },
  {
   "cell_type": "code",
   "execution_count": 15,
   "metadata": {},
   "outputs": [
    {
     "data": {
      "text/plain": [
       "<tf.Tensor: shape=(100, 2), dtype=float32, numpy=\n",
       "array([[       nan,        nan],\n",
       "       [       nan,        nan],\n",
       "       [       nan,        nan],\n",
       "       [       nan,        nan],\n",
       "       [       nan,        nan],\n",
       "       [       nan,        nan],\n",
       "       [0.56388193, 0.4953467 ],\n",
       "       [       nan,        nan],\n",
       "       [       nan,        nan],\n",
       "       [       nan,        nan],\n",
       "       [0.53903973, 0.49090222],\n",
       "       [       nan,        nan],\n",
       "       [       nan,        nan],\n",
       "       [       nan,        nan],\n",
       "       [       nan,        nan],\n",
       "       [       nan,        nan],\n",
       "       [       nan,        nan],\n",
       "       [       nan,        nan],\n",
       "       [       nan,        nan],\n",
       "       [       nan,        nan],\n",
       "       [       nan,        nan],\n",
       "       [       nan,        nan],\n",
       "       [       nan,        nan],\n",
       "       [       nan,        nan],\n",
       "       [       nan,        nan],\n",
       "       [       nan,        nan],\n",
       "       [       nan,        nan],\n",
       "       [       nan,        nan],\n",
       "       [       nan,        nan],\n",
       "       [       nan,        nan],\n",
       "       [       nan,        nan],\n",
       "       [       nan,        nan],\n",
       "       [       nan,        nan],\n",
       "       [       nan,        nan],\n",
       "       [0.49663424, 0.5349223 ],\n",
       "       [       nan,        nan],\n",
       "       [       nan,        nan],\n",
       "       [       nan,        nan],\n",
       "       [       nan,        nan],\n",
       "       [       nan,        nan],\n",
       "       [       nan,        nan],\n",
       "       [       nan,        nan],\n",
       "       [       nan,        nan],\n",
       "       [       nan,        nan],\n",
       "       [       nan,        nan],\n",
       "       [       nan,        nan],\n",
       "       [       nan,        nan],\n",
       "       [       nan,        nan],\n",
       "       [       nan,        nan],\n",
       "       [       nan,        nan],\n",
       "       [       nan,        nan],\n",
       "       [       nan,        nan],\n",
       "       [       nan,        nan],\n",
       "       [       nan,        nan],\n",
       "       [       nan,        nan],\n",
       "       [       nan,        nan],\n",
       "       [       nan,        nan],\n",
       "       [       nan,        nan],\n",
       "       [       nan,        nan],\n",
       "       [       nan,        nan],\n",
       "       [       nan,        nan],\n",
       "       [       nan,        nan],\n",
       "       [       nan,        nan],\n",
       "       [       nan,        nan],\n",
       "       [       nan,        nan],\n",
       "       [       nan,        nan],\n",
       "       [       nan,        nan],\n",
       "       [       nan,        nan],\n",
       "       [       nan,        nan],\n",
       "       [       nan,        nan],\n",
       "       [       nan,        nan],\n",
       "       [       nan,        nan],\n",
       "       [       nan,        nan],\n",
       "       [       nan,        nan],\n",
       "       [       nan,        nan],\n",
       "       [       nan,        nan],\n",
       "       [       nan,        nan],\n",
       "       [       nan,        nan],\n",
       "       [       nan,        nan],\n",
       "       [       nan,        nan],\n",
       "       [       nan,        nan],\n",
       "       [       nan,        nan],\n",
       "       [       nan,        nan],\n",
       "       [       nan,        nan],\n",
       "       [       nan,        nan],\n",
       "       [       nan,        nan],\n",
       "       [       nan,        nan],\n",
       "       [       nan,        nan],\n",
       "       [       nan,        nan],\n",
       "       [       nan,        nan],\n",
       "       [       nan,        nan],\n",
       "       [       nan,        nan],\n",
       "       [       nan,        nan],\n",
       "       [       nan,        nan],\n",
       "       [       nan,        nan],\n",
       "       [       nan,        nan],\n",
       "       [       nan,        nan],\n",
       "       [       nan,        nan],\n",
       "       [       nan,        nan],\n",
       "       [0.61163753, 0.5758349 ]], dtype=float32)>"
      ]
     },
     "execution_count": 15,
     "metadata": {},
     "output_type": "execute_result"
    }
   ],
   "source": [
    "# model(X_padded)"
   ]
  },
  {
   "cell_type": "code",
   "execution_count": 12,
   "metadata": {},
   "outputs": [
    {
     "name": "stdout",
     "output_type": "stream",
     "text": [
      "Epoch 1/50\n"
     ]
    },
    {
     "name": "stderr",
     "output_type": "stream",
     "text": [
      "2023-05-09 23:53:26.941040: W tensorflow/tsl/platform/profile_utils/cpu_utils.cc:128] Failed to get CPU frequency: 0 Hz\n"
     ]
    },
    {
     "name": "stdout",
     "output_type": "stream",
     "text": [
      "100/100 [==============================] - 1s 2ms/step - loss: nan - accuracy: 0.4100\n",
      "Epoch 2/50\n",
      "100/100 [==============================] - 0s 2ms/step - loss: nan - accuracy: 0.4100\n",
      "Epoch 3/50\n",
      "100/100 [==============================] - 0s 2ms/step - loss: nan - accuracy: 0.4100\n",
      "Epoch 4/50\n",
      "100/100 [==============================] - 0s 2ms/step - loss: nan - accuracy: 0.4100\n",
      "Epoch 5/50\n",
      "100/100 [==============================] - 0s 2ms/step - loss: nan - accuracy: 0.4100\n",
      "Epoch 6/50\n",
      "100/100 [==============================] - 0s 2ms/step - loss: nan - accuracy: 0.4100\n",
      "Epoch 7/50\n",
      "100/100 [==============================] - 0s 2ms/step - loss: nan - accuracy: 0.4100\n",
      "Epoch 8/50\n",
      "100/100 [==============================] - 0s 2ms/step - loss: nan - accuracy: 0.4100\n",
      "Epoch 9/50\n",
      "100/100 [==============================] - 0s 2ms/step - loss: nan - accuracy: 0.4100\n",
      "Epoch 10/50\n",
      "100/100 [==============================] - 0s 2ms/step - loss: nan - accuracy: 0.4100\n",
      "Epoch 11/50\n",
      "100/100 [==============================] - 0s 2ms/step - loss: nan - accuracy: 0.4100\n",
      "Epoch 12/50\n",
      "100/100 [==============================] - 0s 2ms/step - loss: nan - accuracy: 0.4100\n",
      "Epoch 13/50\n",
      "100/100 [==============================] - 0s 2ms/step - loss: nan - accuracy: 0.4100\n",
      "Epoch 14/50\n",
      "100/100 [==============================] - 0s 2ms/step - loss: nan - accuracy: 0.4100\n",
      "Epoch 15/50\n",
      "100/100 [==============================] - 0s 2ms/step - loss: nan - accuracy: 0.4100\n",
      "Epoch 16/50\n",
      "100/100 [==============================] - 0s 2ms/step - loss: nan - accuracy: 0.4100\n",
      "Epoch 17/50\n",
      "100/100 [==============================] - 0s 2ms/step - loss: nan - accuracy: 0.4100\n",
      "Epoch 18/50\n",
      "100/100 [==============================] - 0s 2ms/step - loss: nan - accuracy: 0.4100\n",
      "Epoch 19/50\n",
      "100/100 [==============================] - 0s 2ms/step - loss: nan - accuracy: 0.4100\n",
      "Epoch 20/50\n",
      "100/100 [==============================] - 0s 2ms/step - loss: nan - accuracy: 0.4100\n",
      "Epoch 21/50\n",
      "100/100 [==============================] - 0s 2ms/step - loss: nan - accuracy: 0.4100\n",
      "Epoch 22/50\n",
      "100/100 [==============================] - 0s 2ms/step - loss: nan - accuracy: 0.4100\n",
      "Epoch 23/50\n",
      "100/100 [==============================] - 0s 2ms/step - loss: nan - accuracy: 0.4100\n",
      "Epoch 24/50\n",
      "100/100 [==============================] - 0s 2ms/step - loss: nan - accuracy: 0.4100\n",
      "Epoch 25/50\n",
      "100/100 [==============================] - 0s 2ms/step - loss: nan - accuracy: 0.4100\n",
      "Epoch 26/50\n",
      "100/100 [==============================] - 0s 2ms/step - loss: nan - accuracy: 0.4100\n",
      "Epoch 27/50\n",
      "100/100 [==============================] - 0s 2ms/step - loss: nan - accuracy: 0.4100\n",
      "Epoch 28/50\n",
      "100/100 [==============================] - 0s 2ms/step - loss: nan - accuracy: 0.4100\n",
      "Epoch 29/50\n",
      "100/100 [==============================] - 0s 2ms/step - loss: nan - accuracy: 0.4100\n",
      "Epoch 30/50\n",
      "100/100 [==============================] - 0s 2ms/step - loss: nan - accuracy: 0.4100\n",
      "Epoch 31/50\n",
      "100/100 [==============================] - 0s 2ms/step - loss: nan - accuracy: 0.4100\n",
      "Epoch 32/50\n",
      "100/100 [==============================] - 0s 2ms/step - loss: nan - accuracy: 0.4100\n",
      "Epoch 33/50\n",
      "100/100 [==============================] - 0s 2ms/step - loss: nan - accuracy: 0.4100\n",
      "Epoch 34/50\n",
      "100/100 [==============================] - 0s 2ms/step - loss: nan - accuracy: 0.4100\n",
      "Epoch 35/50\n",
      "100/100 [==============================] - 0s 2ms/step - loss: nan - accuracy: 0.4100\n",
      "Epoch 36/50\n",
      "100/100 [==============================] - 0s 2ms/step - loss: nan - accuracy: 0.4100\n",
      "Epoch 37/50\n",
      "100/100 [==============================] - 0s 2ms/step - loss: nan - accuracy: 0.4100\n",
      "Epoch 38/50\n",
      "100/100 [==============================] - 0s 2ms/step - loss: nan - accuracy: 0.4100\n",
      "Epoch 39/50\n",
      "100/100 [==============================] - 0s 2ms/step - loss: nan - accuracy: 0.4100\n",
      "Epoch 40/50\n",
      "100/100 [==============================] - 0s 2ms/step - loss: nan - accuracy: 0.4100\n",
      "Epoch 41/50\n",
      "100/100 [==============================] - 0s 2ms/step - loss: nan - accuracy: 0.4100\n",
      "Epoch 42/50\n",
      "100/100 [==============================] - 0s 2ms/step - loss: nan - accuracy: 0.4100\n",
      "Epoch 43/50\n",
      "100/100 [==============================] - 0s 2ms/step - loss: nan - accuracy: 0.4100\n",
      "Epoch 44/50\n",
      "100/100 [==============================] - 0s 2ms/step - loss: nan - accuracy: 0.4100\n",
      "Epoch 45/50\n",
      "100/100 [==============================] - 0s 2ms/step - loss: nan - accuracy: 0.4100\n",
      "Epoch 46/50\n",
      "100/100 [==============================] - 0s 2ms/step - loss: nan - accuracy: 0.4100\n",
      "Epoch 47/50\n",
      "100/100 [==============================] - 0s 2ms/step - loss: nan - accuracy: 0.4100\n",
      "Epoch 48/50\n",
      "100/100 [==============================] - 0s 2ms/step - loss: nan - accuracy: 0.4100\n",
      "Epoch 49/50\n",
      "100/100 [==============================] - 0s 2ms/step - loss: nan - accuracy: 0.4100\n",
      "Epoch 50/50\n",
      "100/100 [==============================] - 0s 2ms/step - loss: nan - accuracy: 0.4100\n"
     ]
    },
    {
     "data": {
      "text/plain": [
       "<keras.callbacks.History at 0x284804b50>"
      ]
     },
     "execution_count": 12,
     "metadata": {},
     "output_type": "execute_result"
    }
   ],
   "source": [
    "# model.fit(X_padded, Y, batch_size=1, epochs=50, sample_weight=seq_lengths)"
   ]
  },
  {
   "cell_type": "code",
   "execution_count": 79,
   "metadata": {},
   "outputs": [
    {
     "data": {
      "text/plain": [
       "False"
      ]
     },
     "execution_count": 79,
     "metadata": {},
     "output_type": "execute_result"
    }
   ],
   "source": [
    "np.nan == np.nan"
   ]
  },
  {
   "cell_type": "code",
   "execution_count": null,
   "metadata": {},
   "outputs": [],
   "source": []
  }
 ],
 "metadata": {
  "kernelspec": {
   "display_name": "tf-env",
   "language": "python",
   "name": "python3"
  },
  "language_info": {
   "codemirror_mode": {
    "name": "ipython",
    "version": 3
   },
   "file_extension": ".py",
   "mimetype": "text/x-python",
   "name": "python",
   "nbconvert_exporter": "python",
   "pygments_lexer": "ipython3",
   "version": "3.10.9"
  },
  "orig_nbformat": 4
 },
 "nbformat": 4,
 "nbformat_minor": 2
}
