{
 "cells": [
  {
   "cell_type": "code",
   "execution_count": 1,
   "metadata": {},
   "outputs": [],
   "source": [
    "import numpy as np\n",
    "from matplotlib import pyplot as plt\n",
    "import pickle\n",
    "from helper_fn import data_import, relabel"
   ]
  },
  {
   "cell_type": "code",
   "execution_count": 2,
   "metadata": {},
   "outputs": [],
   "source": [
    "from tensorflow.keras.models import load_model"
   ]
  },
  {
   "cell_type": "code",
   "execution_count": 3,
   "metadata": {},
   "outputs": [],
   "source": [
    "test_path='./Group_10/test'\n",
    "train_path='./Group_10/train'\n",
    "val_path='./Group_10/val'\n",
    "\n",
    "#import datasets\n",
    "train_data, train_labels = data_import(train_path)\n",
    "test_data, test_labels = data_import(test_path)\n",
    "val_data, val_labels = data_import(val_path)\n",
    "\n",
    "train_data = train_data.reshape(-1, 784)/255.0\n",
    "test_data = test_data.reshape(-1, 784)/255.0\n",
    "val_data = val_data.reshape(-1, 784)/255.0\n",
    "\n",
    "train_labels = relabel(train_labels)\n",
    "test_labels = relabel(test_labels)\n",
    "val_labels = relabel(val_labels)\n",
    "\n",
    "mean_vec = np.mean(train_data, axis=0) # 784 dimentional vector\n",
    "# print(mean_vec.shape) \n",
    "\n",
    "# mean correction\n",
    "train_data = train_data - mean_vec\n",
    "test_data = test_data - mean_vec\n",
    "val_data = val_data - mean_vec"
   ]
  },
  {
   "attachments": {},
   "cell_type": "markdown",
   "metadata": {},
   "source": [
    "# PCA Task1"
   ]
  },
  {
   "cell_type": "code",
   "execution_count": 11,
   "metadata": {},
   "outputs": [],
   "source": [
    "with open(\"./pca_models/pca32.pkl\", mode=\"rb\") as f:\n",
    "    pca32 = pickle.load(f)\n",
    "\n",
    "reduced_train = pca32.transform(train_data)\n",
    "reduced_test = pca32.transform(test_data)\n",
    "reduced_val = pca32.transform(val_data)"
   ]
  },
  {
   "cell_type": "code",
   "execution_count": 14,
   "metadata": {},
   "outputs": [
    {
     "name": "stdout",
     "output_type": "stream",
     "text": [
      "Model: \"Model-PCA32\"\n",
      "_________________________________________________________________\n",
      " Layer (type)                Output Shape              Param #   \n",
      "=================================================================\n",
      " Input (InputLayer)          [(None, 32)]              0         \n",
      "                                                                 \n",
      " Layer1 (Dense)              (None, 16)                528       \n",
      "                                                                 \n",
      " Layer2 (Dense)              (None, 8)                 136       \n",
      "                                                                 \n",
      " Output (Dense)              (None, 5)                 45        \n",
      "                                                                 \n",
      "=================================================================\n",
      "Total params: 709\n",
      "Trainable params: 709\n",
      "Non-trainable params: 0\n",
      "_________________________________________________________________\n",
      "Train data eval:\n",
      "356/356 [==============================] - 0s 254us/step - loss: 0.0068 - accuracy: 0.9987\n",
      "[0.006802352145314217, 0.9986824989318848]\n",
      "Test data eval:\n",
      "119/119 [==============================] - 0s 250us/step - loss: 0.1066 - accuracy: 0.9784\n",
      "[0.10661952942609787, 0.9783926010131836]\n",
      "Val data eval:\n",
      "119/119 [==============================] - 0s 267us/step - loss: 0.0852 - accuracy: 0.9816\n",
      "[0.08520220965147018, 0.9815546870231628]\n"
     ]
    }
   ],
   "source": [
    "model = load_model(\"./pca_models/pcamodel1_32.h5\")\n",
    "model.summary()\n",
    "print(\"Train data eval:\")\n",
    "print(model.evaluate(reduced_train, train_labels))\n",
    "\n",
    "print(\"Test data eval:\")\n",
    "print(model.evaluate(reduced_test, test_labels))\n",
    "\n",
    "print(\"Val data eval:\")\n",
    "print(model.evaluate(reduced_val, val_labels))\n",
    "\n"
   ]
  },
  {
   "cell_type": "code",
   "execution_count": 15,
   "metadata": {},
   "outputs": [
    {
     "name": "stdout",
     "output_type": "stream",
     "text": [
      "Model: \"Model-PCA32\"\n",
      "_________________________________________________________________\n",
      " Layer (type)                Output Shape              Param #   \n",
      "=================================================================\n",
      " Input (InputLayer)          [(None, 32)]              0         \n",
      "                                                                 \n",
      " Layer1 (Dense)              (None, 256)               8448      \n",
      "                                                                 \n",
      " Layer2 (Dense)              (None, 128)               32896     \n",
      "                                                                 \n",
      " Layer3 (Dense)              (None, 64)                8256      \n",
      "                                                                 \n",
      " Layer4 (Dense)              (None, 32)                2080      \n",
      "                                                                 \n",
      " Output (Dense)              (None, 5)                 165       \n",
      "                                                                 \n",
      "=================================================================\n",
      "Total params: 51,845\n",
      "Trainable params: 51,845\n",
      "Non-trainable params: 0\n",
      "_________________________________________________________________\n",
      "Train data eval:\n",
      "356/356 [==============================] - 0s 333us/step - loss: 0.0170 - accuracy: 0.9959\n",
      "[0.016996508464217186, 0.9958717823028564]\n",
      "Test data eval:\n",
      "119/119 [==============================] - 0s 351us/step - loss: 0.0667 - accuracy: 0.9823\n",
      "[0.06674440950155258, 0.9823451638221741]\n",
      "Val data eval:\n",
      "119/119 [==============================] - 0s 331us/step - loss: 0.0562 - accuracy: 0.9823\n",
      "[0.05622228607535362, 0.9823451638221741]\n"
     ]
    }
   ],
   "source": [
    "model = load_model(\"./pca_models/pcamodel2_32.h5\")\n",
    "model.summary()\n",
    "print(\"Train data eval:\")\n",
    "print(model.evaluate(reduced_train, train_labels))\n",
    "\n",
    "print(\"Test data eval:\")\n",
    "print(model.evaluate(reduced_test, test_labels))\n",
    "\n",
    "print(\"Val data eval:\")\n",
    "print(model.evaluate(reduced_val, val_labels))\n"
   ]
  },
  {
   "attachments": {},
   "cell_type": "markdown",
   "metadata": {},
   "source": [
    "## 64 PCA"
   ]
  },
  {
   "cell_type": "code",
   "execution_count": 55,
   "metadata": {},
   "outputs": [],
   "source": [
    "with open(\"./pca_models/pca64.pkl\", mode=\"rb\") as f:\n",
    "    pca64 = pickle.load(f)\n",
    "\n",
    "reduced_train = pca64.transform(train_data)\n",
    "reduced_test = pca64.transform(test_data)\n",
    "reduced_val = pca64.transform(val_data)"
   ]
  },
  {
   "cell_type": "code",
   "execution_count": 7,
   "metadata": {},
   "outputs": [
    {
     "name": "stdout",
     "output_type": "stream",
     "text": [
      "Model: \"Model-PCA64\"\n",
      "_________________________________________________________________\n",
      " Layer (type)                Output Shape              Param #   \n",
      "=================================================================\n",
      " Input (InputLayer)          [(None, 64)]              0         \n",
      "                                                                 \n",
      " Layer1 (Dense)              (None, 16)                1040      \n",
      "                                                                 \n",
      " Layer2 (Dense)              (None, 8)                 136       \n",
      "                                                                 \n",
      " Output (Dense)              (None, 5)                 45        \n",
      "                                                                 \n",
      "=================================================================\n",
      "Total params: 1,221\n",
      "Trainable params: 1,221\n",
      "Non-trainable params: 0\n",
      "_________________________________________________________________\n",
      "Train data eval:\n",
      "356/356 [==============================] - 0s 255us/step - loss: 0.0059 - accuracy: 0.9989\n",
      "[0.005892763379961252, 0.9989460110664368]\n",
      "Test data eval:\n",
      "119/119 [==============================] - 0s 252us/step - loss: 0.1147 - accuracy: 0.9758\n",
      "[0.11474204063415527, 0.9757575988769531]\n",
      "Val data eval:\n",
      "119/119 [==============================] - 0s 243us/step - loss: 0.0788 - accuracy: 0.9821\n",
      "[0.07881473749876022, 0.9820817112922668]\n"
     ]
    }
   ],
   "source": [
    "model = load_model(\"./pca_models/pcamodel1_64.h5\")\n",
    "model.summary()\n",
    "print(\"Train data eval:\")\n",
    "print(model.evaluate(reduced_train, train_labels))\n",
    "\n",
    "print(\"Test data eval:\")\n",
    "print(model.evaluate(reduced_test, test_labels))\n",
    "\n",
    "print(\"Val data eval:\")\n",
    "print(model.evaluate(reduced_val, val_labels))\n",
    "\n"
   ]
  },
  {
   "cell_type": "code",
   "execution_count": 56,
   "metadata": {},
   "outputs": [
    {
     "name": "stdout",
     "output_type": "stream",
     "text": [
      "Model: \"Model-PCA64\"\n",
      "_________________________________________________________________\n",
      " Layer (type)                Output Shape              Param #   \n",
      "=================================================================\n",
      " Input (InputLayer)          [(None, 64)]              0         \n",
      "                                                                 \n",
      " Layer1 (Dense)              (None, 256)               16640     \n",
      "                                                                 \n",
      " Layer2 (Dense)              (None, 128)               32896     \n",
      "                                                                 \n",
      " Layer3 (Dense)              (None, 64)                8256      \n",
      "                                                                 \n",
      " Layer4 (Dense)              (None, 32)                2080      \n",
      "                                                                 \n",
      " Output (Dense)              (None, 5)                 165       \n",
      "                                                                 \n",
      "=================================================================\n",
      "Total params: 60,037\n",
      "Trainable params: 60,037\n",
      "Non-trainable params: 0\n",
      "_________________________________________________________________\n",
      "Train data eval:\n",
      "356/356 [==============================] - 0s 324us/step - loss: 0.5938 - accuracy: 0.8704\n",
      "[0.5938382148742676, 0.87044358253479]\n",
      "Test data eval:\n",
      "119/119 [==============================] - 0s 349us/step - loss: 0.6577 - accuracy: 0.8564\n",
      "[0.6577026844024658, 0.8563899993896484]\n",
      "Val data eval:\n",
      "119/119 [==============================] - 0s 329us/step - loss: 0.6170 - accuracy: 0.8648\n",
      "[0.6169804930686951, 0.8648221492767334]\n"
     ]
    }
   ],
   "source": [
    "model = load_model(\"./pca_models/pcamodel2_64.h5\")\n",
    "model.summary()\n",
    "print(\"Train data eval:\")\n",
    "print(model.evaluate(reduced_train, train_labels))\n",
    "\n",
    "print(\"Test data eval:\")\n",
    "print(model.evaluate(reduced_test, test_labels))\n",
    "\n",
    "print(\"Val data eval:\")\n",
    "print(model.evaluate(reduced_val, val_labels))"
   ]
  },
  {
   "attachments": {},
   "cell_type": "markdown",
   "metadata": {},
   "source": [
    "## 128 PCA"
   ]
  },
  {
   "cell_type": "code",
   "execution_count": 57,
   "metadata": {},
   "outputs": [],
   "source": [
    "with open(\"./pca_models/pca128.pkl\", mode=\"rb\") as f:\n",
    "    pca128 = pickle.load(f)\n",
    "\n",
    "reduced_train = pca128.transform(train_data)\n",
    "reduced_test = pca128.transform(test_data)\n",
    "reduced_val = pca128.transform(val_data)"
   ]
  },
  {
   "cell_type": "code",
   "execution_count": 58,
   "metadata": {},
   "outputs": [
    {
     "name": "stdout",
     "output_type": "stream",
     "text": [
      "Model: \"Model-PCA128\"\n",
      "_________________________________________________________________\n",
      " Layer (type)                Output Shape              Param #   \n",
      "=================================================================\n",
      " Input (InputLayer)          [(None, 128)]             0         \n",
      "                                                                 \n",
      " Layer1 (Dense)              (None, 16)                2064      \n",
      "                                                                 \n",
      " Layer2 (Dense)              (None, 8)                 136       \n",
      "                                                                 \n",
      " Output (Dense)              (None, 5)                 45        \n",
      "                                                                 \n",
      "=================================================================\n",
      "Total params: 2,245\n",
      "Trainable params: 2,245\n",
      "Non-trainable params: 0\n",
      "_________________________________________________________________\n",
      "Train data eval:\n",
      "356/356 [==============================] - 0s 262us/step - loss: 0.3860 - accuracy: 0.9136\n",
      "[0.38601988554000854, 0.9135704636573792]\n",
      "Test data eval:\n",
      "119/119 [==============================] - 0s 263us/step - loss: 0.5295 - accuracy: 0.8888\n",
      "[0.5294536352157593, 0.8888010382652283]\n",
      "Val data eval:\n",
      "119/119 [==============================] - 0s 277us/step - loss: 0.4523 - accuracy: 0.9028\n",
      "[0.4522886276245117, 0.9027668237686157]\n"
     ]
    }
   ],
   "source": [
    "model = load_model(\"./pca_models/pcamodel1_128.h5\")\n",
    "model.summary()\n",
    "\n",
    "print(\"Train data eval:\")\n",
    "print(model.evaluate(reduced_train, train_labels))\n",
    "\n",
    "print(\"Test data eval:\")\n",
    "print(model.evaluate(reduced_test, test_labels))\n",
    "\n",
    "print(\"Val data eval:\")\n",
    "print(model.evaluate(reduced_val, val_labels))\n"
   ]
  },
  {
   "cell_type": "code",
   "execution_count": 59,
   "metadata": {},
   "outputs": [
    {
     "name": "stdout",
     "output_type": "stream",
     "text": [
      "Model: \"Model-PCA128\"\n",
      "_________________________________________________________________\n",
      " Layer (type)                Output Shape              Param #   \n",
      "=================================================================\n",
      " Input (InputLayer)          [(None, 128)]             0         \n",
      "                                                                 \n",
      " Layer1 (Dense)              (None, 256)               33024     \n",
      "                                                                 \n",
      " Layer2 (Dense)              (None, 128)               32896     \n",
      "                                                                 \n",
      " Layer3 (Dense)              (None, 64)                8256      \n",
      "                                                                 \n",
      " Layer4 (Dense)              (None, 32)                2080      \n",
      "                                                                 \n",
      " Output (Dense)              (None, 5)                 165       \n",
      "                                                                 \n",
      "=================================================================\n",
      "Total params: 76,421\n",
      "Trainable params: 76,421\n",
      "Non-trainable params: 0\n",
      "_________________________________________________________________\n",
      "Train data eval:\n",
      "356/356 [==============================] - 0s 356us/step - loss: 0.4530 - accuracy: 0.8756\n",
      "[0.45302310585975647, 0.8756258487701416]\n",
      "Test data eval:\n",
      "119/119 [==============================] - 0s 347us/step - loss: 0.5253 - accuracy: 0.8648\n",
      "[0.5253426432609558, 0.8648221492767334]\n",
      "Val data eval:\n",
      "119/119 [==============================] - 0s 354us/step - loss: 0.4973 - accuracy: 0.8667\n",
      "[0.49730217456817627, 0.8666666746139526]\n"
     ]
    }
   ],
   "source": [
    "model = load_model(\"./pca_models/pcamodel2_128.h5\")\n",
    "model.summary()\n",
    "\n",
    "print(\"Train data eval:\")\n",
    "print(model.evaluate(reduced_train, train_labels))\n",
    "\n",
    "print(\"Test data eval:\")\n",
    "print(model.evaluate(reduced_test, test_labels))\n",
    "\n",
    "print(\"Val data eval:\")\n",
    "print(model.evaluate(reduced_val, val_labels))\n"
   ]
  },
  {
   "attachments": {},
   "cell_type": "markdown",
   "metadata": {},
   "source": [
    "## 256 PCA"
   ]
  },
  {
   "cell_type": "code",
   "execution_count": 60,
   "metadata": {},
   "outputs": [],
   "source": [
    "with open(\"./pca_models/pca256.pkl\", mode=\"rb\") as f:\n",
    "    pca256 = pickle.load(f)\n",
    "\n",
    "reduced_train = pca256.transform(train_data)\n",
    "reduced_test = pca256.transform(test_data)\n",
    "reduced_val = pca256.transform(val_data)"
   ]
  },
  {
   "cell_type": "code",
   "execution_count": 61,
   "metadata": {},
   "outputs": [
    {
     "name": "stdout",
     "output_type": "stream",
     "text": [
      "Model: \"Model-PCA256\"\n",
      "_________________________________________________________________\n",
      " Layer (type)                Output Shape              Param #   \n",
      "=================================================================\n",
      " Input (InputLayer)          [(None, 256)]             0         \n",
      "                                                                 \n",
      " Layer1 (Dense)              (None, 16)                4112      \n",
      "                                                                 \n",
      " Layer2 (Dense)              (None, 8)                 136       \n",
      "                                                                 \n",
      " Output (Dense)              (None, 5)                 45        \n",
      "                                                                 \n",
      "=================================================================\n",
      "Total params: 4,293\n",
      "Trainable params: 4,293\n",
      "Non-trainable params: 0\n",
      "_________________________________________________________________\n",
      "Train data eval:\n",
      "356/356 [==============================] - 0s 257us/step - loss: 0.4986 - accuracy: 0.8796\n",
      "[0.49864867329597473, 0.8795784115791321]\n",
      "Test data eval:\n",
      "119/119 [==============================] - 0s 268us/step - loss: 0.6280 - accuracy: 0.8585\n",
      "[0.6280404329299927, 0.8584980368614197]\n",
      "Val data eval:\n",
      "119/119 [==============================] - 0s 278us/step - loss: 0.6221 - accuracy: 0.8617\n",
      "[0.6220759153366089, 0.8616600632667542]\n"
     ]
    }
   ],
   "source": [
    "model = load_model(\"./pca_models/pcamodel1_256.h5\")\n",
    "model.summary()\n",
    "\n",
    "print(\"Train data eval:\")\n",
    "print(model.evaluate(reduced_train, train_labels))\n",
    "\n",
    "print(\"Test data eval:\")\n",
    "print(model.evaluate(reduced_test, test_labels))\n",
    "\n",
    "print(\"Val data eval:\")\n",
    "print(model.evaluate(reduced_val, val_labels))\n"
   ]
  },
  {
   "cell_type": "code",
   "execution_count": 63,
   "metadata": {},
   "outputs": [
    {
     "name": "stdout",
     "output_type": "stream",
     "text": [
      "Model: \"Model-PCA256\"\n",
      "_________________________________________________________________\n",
      " Layer (type)                Output Shape              Param #   \n",
      "=================================================================\n",
      " Input (InputLayer)          [(None, 256)]             0         \n",
      "                                                                 \n",
      " Layer1 (Dense)              (None, 256)               65792     \n",
      "                                                                 \n",
      " Layer2 (Dense)              (None, 128)               32896     \n",
      "                                                                 \n",
      " Layer3 (Dense)              (None, 64)                8256      \n",
      "                                                                 \n",
      " Layer4 (Dense)              (None, 32)                2080      \n",
      "                                                                 \n",
      " Output (Dense)              (None, 5)                 165       \n",
      "                                                                 \n",
      "=================================================================\n",
      "Total params: 109,189\n",
      "Trainable params: 109,189\n",
      "Non-trainable params: 0\n",
      "_________________________________________________________________\n",
      "Train data eval:\n",
      "356/356 [==============================] - 0s 404us/step - loss: 0.2060 - accuracy: 0.9324\n",
      "[0.20596528053283691, 0.9323671460151672]\n",
      "Test data eval:\n",
      "119/119 [==============================] - 0s 396us/step - loss: 0.2938 - accuracy: 0.9075\n",
      "[0.29375848174095154, 0.9075098633766174]\n",
      "Val data eval:\n",
      "119/119 [==============================] - 0s 407us/step - loss: 0.2758 - accuracy: 0.9199\n",
      "[0.2758120596408844, 0.9198945760726929]\n"
     ]
    }
   ],
   "source": [
    "model = load_model(\"./pca_models/pcamodel2_256.h5\")\n",
    "model.summary()\n",
    "\n",
    "print(\"Train data eval:\")\n",
    "print(model.evaluate(reduced_train, train_labels))\n",
    "\n",
    "print(\"Test data eval:\")\n",
    "print(model.evaluate(reduced_test, test_labels))\n",
    "\n",
    "print(\"Val data eval:\")\n",
    "print(model.evaluate(reduced_val, val_labels))\n"
   ]
  },
  {
   "attachments": {},
   "cell_type": "markdown",
   "metadata": {},
   "source": [
    "# Autoencoders"
   ]
  },
  {
   "cell_type": "code",
   "execution_count": 47,
   "metadata": {},
   "outputs": [],
   "source": [
    "test_path='./Group_10/test'\n",
    "train_path='./Group_10/train'\n",
    "val_path='./Group_10/val'\n",
    "\n",
    "#import datasets\n",
    "train_data, train_labels = data_import(train_path)\n",
    "test_data, test_labels = data_import(test_path)\n",
    "val_data, val_labels = data_import(val_path)\n",
    "\n",
    "train_data = train_data.reshape(-1, 784)/255.0\n",
    "test_data = test_data.reshape(-1, 784)/255.0\n",
    "val_data = val_data.reshape(-1, 784)/255.0\n",
    "\n",
    "train_labels = relabel(train_labels)\n",
    "test_labels = relabel(test_labels)\n",
    "val_labels = relabel(val_labels)\n",
    "\n",
    "# mean_vec = np.mean(train_data, axis=0) # 784 dimentional vector\n",
    "# print(mean_vec.shape) "
   ]
  },
  {
   "attachments": {},
   "cell_type": "markdown",
   "metadata": {},
   "source": [
    "## One layer 32 bottleneck"
   ]
  },
  {
   "cell_type": "code",
   "execution_count": 81,
   "metadata": {},
   "outputs": [],
   "source": [
    "model = load_model(\"./autoencoder_models/autoencoder_1layer_32.h5\")"
   ]
  },
  {
   "cell_type": "code",
   "execution_count": 65,
   "metadata": {},
   "outputs": [],
   "source": [
    "class1 = train_data[0, :]\n",
    "class2 = train_data[2277+100, :]\n",
    "class3 = train_data[2*2277+100, :]\n",
    "class4 = train_data[3*2277+100, :]\n",
    "class5 = train_data[4*2277+100, :]"
   ]
  },
  {
   "cell_type": "code",
   "execution_count": 82,
   "metadata": {},
   "outputs": [
    {
     "name": "stdout",
     "output_type": "stream",
     "text": [
      "Model: \"Autoencoder32\"\n",
      "_________________________________________________________________\n",
      " Layer (type)                Output Shape              Param #   \n",
      "=================================================================\n",
      " Encoder-input (InputLayer)  [(None, 784)]             0         \n",
      "                                                                 \n",
      " Bottleneck-layer (Dense)    (None, 32)                25120     \n",
      "                                                                 \n",
      " Decoder-output (Dense)      (None, 784)               25872     \n",
      "                                                                 \n",
      "=================================================================\n",
      "Total params: 50,992\n",
      "Trainable params: 50,992\n",
      "Non-trainable params: 0\n",
      "_________________________________________________________________\n",
      "1/1 [==============================] - 0s 19ms/step\n",
      "1/1 [==============================] - 0s 10ms/step\n",
      "1/1 [==============================] - 0s 10ms/step\n",
      "1/1 [==============================] - 0s 9ms/step\n",
      "1/1 [==============================] - 0s 8ms/step\n"
     ]
    },
    {
     "data": {
      "text/plain": [
       "(-0.5, 27.5, 27.5, -0.5)"
      ]
     },
     "execution_count": 82,
     "metadata": {},
     "output_type": "execute_result"
    },
    {
     "data": {
      "image/png": "[encoded data removed]",
      "text/plain": [
       "<Figure size 640x480 with 10 Axes>"
      ]
     },
     "metadata": {},
     "output_type": "display_data"
    }
   ],
   "source": [
    "model.summary()\n",
    "\n",
    "plt.figure()\n",
    "plt.subplot(2,5,1)\n",
    "# plt.title(\"Original\")\n",
    "plt.imshow(class1.reshape((28,28)))\n",
    "plt.axis('off')\n",
    "\n",
    "plt.subplot(2,5,2)\n",
    "plt.imshow(class2.reshape((28,28)))\n",
    "plt.axis('off')\n",
    "\n",
    "plt.subplot(2,5,3)\n",
    "plt.imshow(class3.reshape((28,28)))\n",
    "plt.axis('off')\n",
    "\n",
    "plt.subplot(2,5,4)\n",
    "plt.imshow(class4.reshape((28,28)))\n",
    "plt.axis('off')\n",
    "\n",
    "plt.subplot(2,5,5)\n",
    "plt.imshow(class5.reshape((28,28)))\n",
    "plt.axis('off')\n",
    "\n",
    "plt.subplot(2,5,6)\n",
    "# plt.title(\"Original\")\n",
    "recon_class1 = model.predict(class1.reshape((1, -1)))\n",
    "plt.imshow(recon_class1.reshape((28,28)))\n",
    "plt.axis('off')\n",
    "\n",
    "plt.subplot(2,5,7)\n",
    "recon_class2 = model.predict(class2.reshape((1, -1)))\n",
    "plt.imshow(recon_class2.reshape((28,28)))\n",
    "plt.axis('off')\n",
    "\n",
    "plt.subplot(2,5,8)\n",
    "recon_class3 = model.predict(class3.reshape((1, -1)))\n",
    "plt.imshow(recon_class3.reshape((28,28)))\n",
    "plt.axis('off')\n",
    "\n",
    "plt.subplot(2,5,9)\n",
    "recon_class4 = model.predict(class4.reshape((1, -1)))\n",
    "plt.imshow(recon_class4.reshape((28,28)))\n",
    "plt.axis('off')\n",
    "\n",
    "plt.subplot(2,5,10)\n",
    "recon_class5 = model.predict(class5.reshape((1, -1)))\n",
    "plt.imshow(recon_class5.reshape((28,28)))\n",
    "plt.axis('off')"
   ]
  },
  {
   "attachments": {},
   "cell_type": "markdown",
   "metadata": {},
   "source": [
    "## Three layer 32 bottleneck"
   ]
  },
  {
   "cell_type": "code",
   "execution_count": 83,
   "metadata": {},
   "outputs": [],
   "source": [
    "model = load_model(\"./autoencoder_models/autoencoder_3layer_32.h5\")"
   ]
  },
  {
   "cell_type": "code",
   "execution_count": 84,
   "metadata": {},
   "outputs": [
    {
     "name": "stdout",
     "output_type": "stream",
     "text": [
      "Model: \"Autoencoder32\"\n",
      "_________________________________________________________________\n",
      " Layer (type)                Output Shape              Param #   \n",
      "=================================================================\n",
      " Encoder-input (InputLayer)  [(None, 784)]             0         \n",
      "                                                                 \n",
      " Encoder-hidden (Dense)      (None, 400)               314000    \n",
      "                                                                 \n",
      " Bottleneck-layer (Dense)    (None, 32)                12832     \n",
      "                                                                 \n",
      " Decoder-hidden (Dense)      (None, 400)               13200     \n",
      "                                                                 \n",
      " Decoder-output (Dense)      (None, 784)               314384    \n",
      "                                                                 \n",
      "=================================================================\n",
      "Total params: 654,416\n",
      "Trainable params: 654,416\n",
      "Non-trainable params: 0\n",
      "_________________________________________________________________\n",
      "1/1 [==============================] - 0s 24ms/step\n",
      "1/1 [==============================] - 0s 62ms/step\n",
      "1/1 [==============================] - 0s 13ms/step\n",
      "1/1 [==============================] - 0s 9ms/step\n",
      "1/1 [==============================] - 0s 10ms/step\n"
     ]
    },
    {
     "data": {
      "text/plain": [
       "(-0.5, 27.5, 27.5, -0.5)"
      ]
     },
     "execution_count": 84,
     "metadata": {},
     "output_type": "execute_result"
    },
    {
     "data": {
      "image/png": "[encoded data removed]",
      "text/plain": [
       "<Figure size 640x480 with 10 Axes>"
      ]
     },
     "metadata": {},
     "output_type": "display_data"
    }
   ],
   "source": [
    "model.summary()\n",
    "\n",
    "plt.figure()\n",
    "plt.subplot(2,5,1)\n",
    "# plt.title(\"Original\")\n",
    "plt.imshow(class1.reshape((28,28)))\n",
    "plt.axis('off')\n",
    "\n",
    "plt.subplot(2,5,2)\n",
    "plt.imshow(class2.reshape((28,28)))\n",
    "plt.axis('off')\n",
    "\n",
    "plt.subplot(2,5,3)\n",
    "plt.imshow(class3.reshape((28,28)))\n",
    "plt.axis('off')\n",
    "\n",
    "plt.subplot(2,5,4)\n",
    "plt.imshow(class4.reshape((28,28)))\n",
    "plt.axis('off')\n",
    "\n",
    "plt.subplot(2,5,5)\n",
    "plt.imshow(class5.reshape((28,28)))\n",
    "plt.axis('off')\n",
    "\n",
    "plt.subplot(2,5,6)\n",
    "# plt.title(\"Original\")\n",
    "recon_class1 = model.predict(class1.reshape((1, -1)))\n",
    "plt.imshow(recon_class1.reshape((28,28)))\n",
    "plt.axis('off')\n",
    "\n",
    "plt.subplot(2,5,7)\n",
    "recon_class2 = model.predict(class2.reshape((1, -1)))\n",
    "plt.imshow(recon_class2.reshape((28,28)))\n",
    "plt.axis('off')\n",
    "\n",
    "plt.subplot(2,5,8)\n",
    "recon_class3 = model.predict(class3.reshape((1, -1)))\n",
    "plt.imshow(recon_class3.reshape((28,28)))\n",
    "plt.axis('off')\n",
    "\n",
    "plt.subplot(2,5,9)\n",
    "recon_class4 = model.predict(class4.reshape((1, -1)))\n",
    "plt.imshow(recon_class4.reshape((28,28)))\n",
    "plt.axis('off')\n",
    "\n",
    "plt.subplot(2,5,10)\n",
    "recon_class5 = model.predict(class5.reshape((1, -1)))\n",
    "plt.imshow(recon_class5.reshape((28,28)))\n",
    "plt.axis('off')"
   ]
  },
  {
   "attachments": {},
   "cell_type": "markdown",
   "metadata": {},
   "source": [
    "## One layer 64 bottleneck"
   ]
  },
  {
   "cell_type": "code",
   "execution_count": 85,
   "metadata": {},
   "outputs": [],
   "source": [
    "model = load_model(\"./autoencoder_models/autoencoder_1layer_64.h5\")"
   ]
  },
  {
   "cell_type": "code",
   "execution_count": 86,
   "metadata": {},
   "outputs": [
    {
     "name": "stdout",
     "output_type": "stream",
     "text": [
      "Model: \"Autoencoder64\"\n",
      "_________________________________________________________________\n",
      " Layer (type)                Output Shape              Param #   \n",
      "=================================================================\n",
      " Encoder-input (InputLayer)  [(None, 784)]             0         \n",
      "                                                                 \n",
      " Bottleneck-layer (Dense)    (None, 64)                50240     \n",
      "                                                                 \n",
      " Decoder-output (Dense)      (None, 784)               50960     \n",
      "                                                                 \n",
      "=================================================================\n",
      "Total params: 101,200\n",
      "Trainable params: 101,200\n",
      "Non-trainable params: 0\n",
      "_________________________________________________________________\n",
      "1/1 [==============================] - 0s 20ms/step\n",
      "1/1 [==============================] - 0s 8ms/step\n",
      "1/1 [==============================] - 0s 9ms/step\n",
      "1/1 [==============================] - 0s 9ms/step\n",
      "1/1 [==============================] - 0s 8ms/step\n"
     ]
    },
    {
     "data": {
      "text/plain": [
       "(-0.5, 27.5, 27.5, -0.5)"
      ]
     },
     "execution_count": 86,
     "metadata": {},
     "output_type": "execute_result"
    },
    {
     "data": {
      "image/png": "[encoded data removed]",
      "text/plain": [
       "<Figure size 640x480 with 10 Axes>"
      ]
     },
     "metadata": {},
     "output_type": "display_data"
    }
   ],
   "source": [
    "model.summary()\n",
    "\n",
    "plt.figure()\n",
    "plt.subplot(2,5,1)\n",
    "# plt.title(\"Original\")\n",
    "plt.imshow(class1.reshape((28,28)))\n",
    "plt.axis('off')\n",
    "\n",
    "plt.subplot(2,5,2)\n",
    "plt.imshow(class2.reshape((28,28)))\n",
    "plt.axis('off')\n",
    "\n",
    "plt.subplot(2,5,3)\n",
    "plt.imshow(class3.reshape((28,28)))\n",
    "plt.axis('off')\n",
    "\n",
    "plt.subplot(2,5,4)\n",
    "plt.imshow(class4.reshape((28,28)))\n",
    "plt.axis('off')\n",
    "\n",
    "plt.subplot(2,5,5)\n",
    "plt.imshow(class5.reshape((28,28)))\n",
    "plt.axis('off')\n",
    "\n",
    "plt.subplot(2,5,6)\n",
    "# plt.title(\"Original\")\n",
    "recon_class1 = model.predict(class1.reshape((1, -1)))\n",
    "plt.imshow(recon_class1.reshape((28,28)))\n",
    "plt.axis('off')\n",
    "\n",
    "plt.subplot(2,5,7)\n",
    "recon_class2 = model.predict(class2.reshape((1, -1)))\n",
    "plt.imshow(recon_class2.reshape((28,28)))\n",
    "plt.axis('off')\n",
    "\n",
    "plt.subplot(2,5,8)\n",
    "recon_class3 = model.predict(class3.reshape((1, -1)))\n",
    "plt.imshow(recon_class3.reshape((28,28)))\n",
    "plt.axis('off')\n",
    "\n",
    "plt.subplot(2,5,9)\n",
    "recon_class4 = model.predict(class4.reshape((1, -1)))\n",
    "plt.imshow(recon_class4.reshape((28,28)))\n",
    "plt.axis('off')\n",
    "\n",
    "plt.subplot(2,5,10)\n",
    "recon_class5 = model.predict(class5.reshape((1, -1)))\n",
    "plt.imshow(recon_class5.reshape((28,28)))\n",
    "plt.axis('off')"
   ]
  },
  {
   "attachments": {},
   "cell_type": "markdown",
   "metadata": {},
   "source": [
    "## Three layer 64 bottleneck"
   ]
  },
  {
   "cell_type": "code",
   "execution_count": 87,
   "metadata": {},
   "outputs": [],
   "source": [
    "model = load_model(\"./autoencoder_models/autoencoder_3layer_64.h5\")"
   ]
  },
  {
   "cell_type": "code",
   "execution_count": 88,
   "metadata": {},
   "outputs": [
    {
     "name": "stdout",
     "output_type": "stream",
     "text": [
      "Model: \"Autoencoder64\"\n",
      "_________________________________________________________________\n",
      " Layer (type)                Output Shape              Param #   \n",
      "=================================================================\n",
      " Encoder-input (InputLayer)  [(None, 784)]             0         \n",
      "                                                                 \n",
      " Encoder-hidden (Dense)      (None, 400)               314000    \n",
      "                                                                 \n",
      " Bottleneck-layer (Dense)    (None, 64)                25664     \n",
      "                                                                 \n",
      " Decoder-hidden (Dense)      (None, 400)               26000     \n",
      "                                                                 \n",
      " Decoder-output (Dense)      (None, 784)               314384    \n",
      "                                                                 \n",
      "=================================================================\n",
      "Total params: 680,048\n",
      "Trainable params: 680,048\n",
      "Non-trainable params: 0\n",
      "_________________________________________________________________\n",
      "1/1 [==============================] - 0s 23ms/step\n",
      "1/1 [==============================] - 0s 8ms/step\n",
      "1/1 [==============================] - 0s 9ms/step\n",
      "1/1 [==============================] - 0s 8ms/step\n",
      "1/1 [==============================] - 0s 8ms/step\n"
     ]
    },
    {
     "data": {
      "text/plain": [
       "(-0.5, 27.5, 27.5, -0.5)"
      ]
     },
     "execution_count": 88,
     "metadata": {},
     "output_type": "execute_result"
    },
    {
     "data": {
      "image/png": "[encoded data removed]",
      "text/plain": [
       "<Figure size 640x480 with 10 Axes>"
      ]
     },
     "metadata": {},
     "output_type": "display_data"
    }
   ],
   "source": [
    "model.summary()\n",
    "\n",
    "plt.figure()\n",
    "plt.subplot(2,5,1)\n",
    "# plt.title(\"Original\")\n",
    "plt.imshow(class1.reshape((28,28)))\n",
    "plt.axis('off')\n",
    "\n",
    "plt.subplot(2,5,2)\n",
    "plt.imshow(class2.reshape((28,28)))\n",
    "plt.axis('off')\n",
    "\n",
    "plt.subplot(2,5,3)\n",
    "plt.imshow(class3.reshape((28,28)))\n",
    "plt.axis('off')\n",
    "\n",
    "plt.subplot(2,5,4)\n",
    "plt.imshow(class4.reshape((28,28)))\n",
    "plt.axis('off')\n",
    "\n",
    "plt.subplot(2,5,5)\n",
    "plt.imshow(class5.reshape((28,28)))\n",
    "plt.axis('off')\n",
    "\n",
    "plt.subplot(2,5,6)\n",
    "# plt.title(\"Original\")\n",
    "recon_class1 = model.predict(class1.reshape((1, -1)))\n",
    "plt.imshow(recon_class1.reshape((28,28)))\n",
    "plt.axis('off')\n",
    "\n",
    "plt.subplot(2,5,7)\n",
    "recon_class2 = model.predict(class2.reshape((1, -1)))\n",
    "plt.imshow(recon_class2.reshape((28,28)))\n",
    "plt.axis('off')\n",
    "\n",
    "plt.subplot(2,5,8)\n",
    "recon_class3 = model.predict(class3.reshape((1, -1)))\n",
    "plt.imshow(recon_class3.reshape((28,28)))\n",
    "plt.axis('off')\n",
    "\n",
    "plt.subplot(2,5,9)\n",
    "recon_class4 = model.predict(class4.reshape((1, -1)))\n",
    "plt.imshow(recon_class4.reshape((28,28)))\n",
    "plt.axis('off')\n",
    "\n",
    "plt.subplot(2,5,10)\n",
    "recon_class5 = model.predict(class5.reshape((1, -1)))\n",
    "plt.imshow(recon_class5.reshape((28,28)))\n",
    "plt.axis('off')"
   ]
  },
  {
   "attachments": {},
   "cell_type": "markdown",
   "metadata": {},
   "source": [
    "## One layer 128 bottleneck"
   ]
  },
  {
   "cell_type": "code",
   "execution_count": 89,
   "metadata": {},
   "outputs": [],
   "source": [
    "model = load_model(\"./autoencoder_models/autoencoder_1layer_128.h5\")"
   ]
  },
  {
   "cell_type": "code",
   "execution_count": 90,
   "metadata": {},
   "outputs": [
    {
     "name": "stdout",
     "output_type": "stream",
     "text": [
      "Model: \"Autoencoder128\"\n",
      "_________________________________________________________________\n",
      " Layer (type)                Output Shape              Param #   \n",
      "=================================================================\n",
      " Encoder-input (InputLayer)  [(None, 784)]             0         \n",
      "                                                                 \n",
      " Bottleneck-layer (Dense)    (None, 128)               100480    \n",
      "                                                                 \n",
      " Decoder-output (Dense)      (None, 784)               101136    \n",
      "                                                                 \n",
      "=================================================================\n",
      "Total params: 201,616\n",
      "Trainable params: 201,616\n",
      "Non-trainable params: 0\n",
      "_________________________________________________________________\n",
      "1/1 [==============================] - 0s 19ms/step\n",
      "1/1 [==============================] - 0s 8ms/step\n",
      "1/1 [==============================] - 0s 9ms/step\n",
      "1/1 [==============================] - 0s 8ms/step\n",
      "1/1 [==============================] - 0s 8ms/step\n"
     ]
    },
    {
     "data": {
      "text/plain": [
       "(-0.5, 27.5, 27.5, -0.5)"
      ]
     },
     "execution_count": 90,
     "metadata": {},
     "output_type": "execute_result"
    },
    {
     "data": {
      "image/png": "[encoded data removed]",
      "text/plain": [
       "<Figure size 640x480 with 10 Axes>"
      ]
     },
     "metadata": {},
     "output_type": "display_data"
    }
   ],
   "source": [
    "model.summary()\n",
    "\n",
    "plt.figure()\n",
    "plt.subplot(2,5,1)\n",
    "# plt.title(\"Original\")\n",
    "plt.imshow(class1.reshape((28,28)))\n",
    "plt.axis('off')\n",
    "\n",
    "plt.subplot(2,5,2)\n",
    "plt.imshow(class2.reshape((28,28)))\n",
    "plt.axis('off')\n",
    "\n",
    "plt.subplot(2,5,3)\n",
    "plt.imshow(class3.reshape((28,28)))\n",
    "plt.axis('off')\n",
    "\n",
    "plt.subplot(2,5,4)\n",
    "plt.imshow(class4.reshape((28,28)))\n",
    "plt.axis('off')\n",
    "\n",
    "plt.subplot(2,5,5)\n",
    "plt.imshow(class5.reshape((28,28)))\n",
    "plt.axis('off')\n",
    "\n",
    "plt.subplot(2,5,6)\n",
    "# plt.title(\"Original\")\n",
    "recon_class1 = model.predict(class1.reshape((1, -1)))\n",
    "plt.imshow(recon_class1.reshape((28,28)))\n",
    "plt.axis('off')\n",
    "\n",
    "plt.subplot(2,5,7)\n",
    "recon_class2 = model.predict(class2.reshape((1, -1)))\n",
    "plt.imshow(recon_class2.reshape((28,28)))\n",
    "plt.axis('off')\n",
    "\n",
    "plt.subplot(2,5,8)\n",
    "recon_class3 = model.predict(class3.reshape((1, -1)))\n",
    "plt.imshow(recon_class3.reshape((28,28)))\n",
    "plt.axis('off')\n",
    "\n",
    "plt.subplot(2,5,9)\n",
    "recon_class4 = model.predict(class4.reshape((1, -1)))\n",
    "plt.imshow(recon_class4.reshape((28,28)))\n",
    "plt.axis('off')\n",
    "\n",
    "plt.subplot(2,5,10)\n",
    "recon_class5 = model.predict(class5.reshape((1, -1)))\n",
    "plt.imshow(recon_class5.reshape((28,28)))\n",
    "plt.axis('off')"
   ]
  },
  {
   "attachments": {},
   "cell_type": "markdown",
   "metadata": {},
   "source": [
    "## Three layer 128 bottleneck"
   ]
  },
  {
   "cell_type": "code",
   "execution_count": 93,
   "metadata": {},
   "outputs": [],
   "source": [
    "model = load_model(\"./autoencoder_models/autoencoder_3layer_128.h5\")"
   ]
  },
  {
   "cell_type": "code",
   "execution_count": 94,
   "metadata": {},
   "outputs": [
    {
     "name": "stdout",
     "output_type": "stream",
     "text": [
      "Model: \"Autoencoder128\"\n",
      "_________________________________________________________________\n",
      " Layer (type)                Output Shape              Param #   \n",
      "=================================================================\n",
      " Encoder-input (InputLayer)  [(None, 784)]             0         \n",
      "                                                                 \n",
      " Encoder-hidden (Dense)      (None, 400)               314000    \n",
      "                                                                 \n",
      " Bottleneck-layer (Dense)    (None, 128)               51328     \n",
      "                                                                 \n",
      " Decoder-hidden (Dense)      (None, 400)               51600     \n",
      "                                                                 \n",
      " Decoder-output (Dense)      (None, 784)               314384    \n",
      "                                                                 \n",
      "=================================================================\n",
      "Total params: 731,312\n",
      "Trainable params: 731,312\n",
      "Non-trainable params: 0\n",
      "_________________________________________________________________\n",
      "1/1 [==============================] - 0s 25ms/step\n",
      "1/1 [==============================] - 0s 9ms/step\n",
      "1/1 [==============================] - 0s 8ms/step\n",
      "1/1 [==============================] - 0s 9ms/step\n",
      "1/1 [==============================] - 0s 9ms/step\n"
     ]
    },
    {
     "data": {
      "text/plain": [
       "(-0.5, 27.5, 27.5, -0.5)"
      ]
     },
     "execution_count": 94,
     "metadata": {},
     "output_type": "execute_result"
    },
    {
     "data": {
      "image/png": "[encoded data removed]",
      "text/plain": [
       "<Figure size 640x480 with 10 Axes>"
      ]
     },
     "metadata": {},
     "output_type": "display_data"
    }
   ],
   "source": [
    "model.summary()\n",
    "\n",
    "plt.figure()\n",
    "plt.subplot(2,5,1)\n",
    "# plt.title(\"Original\")\n",
    "plt.imshow(class1.reshape((28,28)))\n",
    "plt.axis('off')\n",
    "\n",
    "plt.subplot(2,5,2)\n",
    "plt.imshow(class2.reshape((28,28)))\n",
    "plt.axis('off')\n",
    "\n",
    "plt.subplot(2,5,3)\n",
    "plt.imshow(class3.reshape((28,28)))\n",
    "plt.axis('off')\n",
    "\n",
    "plt.subplot(2,5,4)\n",
    "plt.imshow(class4.reshape((28,28)))\n",
    "plt.axis('off')\n",
    "\n",
    "plt.subplot(2,5,5)\n",
    "plt.imshow(class5.reshape((28,28)))\n",
    "plt.axis('off')\n",
    "\n",
    "plt.subplot(2,5,6)\n",
    "# plt.title(\"Original\")\n",
    "recon_class1 = model.predict(class1.reshape((1, -1)))\n",
    "plt.imshow(recon_class1.reshape((28,28)))\n",
    "plt.axis('off')\n",
    "\n",
    "plt.subplot(2,5,7)\n",
    "recon_class2 = model.predict(class2.reshape((1, -1)))\n",
    "plt.imshow(recon_class2.reshape((28,28)))\n",
    "plt.axis('off')\n",
    "\n",
    "plt.subplot(2,5,8)\n",
    "recon_class3 = model.predict(class3.reshape((1, -1)))\n",
    "plt.imshow(recon_class3.reshape((28,28)))\n",
    "plt.axis('off')\n",
    "\n",
    "plt.subplot(2,5,9)\n",
    "recon_class4 = model.predict(class4.reshape((1, -1)))\n",
    "plt.imshow(recon_class4.reshape((28,28)))\n",
    "plt.axis('off')\n",
    "\n",
    "plt.subplot(2,5,10)\n",
    "recon_class5 = model.predict(class5.reshape((1, -1)))\n",
    "plt.imshow(recon_class5.reshape((28,28)))\n",
    "plt.axis('off')"
   ]
  },
  {
   "attachments": {},
   "cell_type": "markdown",
   "metadata": {},
   "source": [
    "## One layer 256 bottleneck"
   ]
  },
  {
   "cell_type": "code",
   "execution_count": 69,
   "metadata": {},
   "outputs": [
    {
     "name": "stdout",
     "output_type": "stream",
     "text": [
      "Model: \"Autoencoder256\"\n",
      "_________________________________________________________________\n",
      " Layer (type)                Output Shape              Param #   \n",
      "=================================================================\n",
      " Encoder-input (InputLayer)  [(None, 784)]             0         \n",
      "                                                                 \n",
      " Bottleneck-layer (Dense)    (None, 256)               200960    \n",
      "                                                                 \n",
      " Decoder-output (Dense)      (None, 784)               201488    \n",
      "                                                                 \n",
      "=================================================================\n",
      "Total params: 402,448\n",
      "Trainable params: 402,448\n",
      "Non-trainable params: 0\n",
      "_________________________________________________________________\n"
     ]
    }
   ],
   "source": [
    "model = load_model(\"./autoencoder_models/autoencoder_1layer_256.h5\")"
   ]
  },
  {
   "cell_type": "code",
   "execution_count": 91,
   "metadata": {},
   "outputs": [
    {
     "name": "stdout",
     "output_type": "stream",
     "text": [
      "Model: \"Autoencoder128\"\n",
      "_________________________________________________________________\n",
      " Layer (type)                Output Shape              Param #   \n",
      "=================================================================\n",
      " Encoder-input (InputLayer)  [(None, 784)]             0         \n",
      "                                                                 \n",
      " Bottleneck-layer (Dense)    (None, 128)               100480    \n",
      "                                                                 \n",
      " Decoder-output (Dense)      (None, 784)               101136    \n",
      "                                                                 \n",
      "=================================================================\n",
      "Total params: 201,616\n",
      "Trainable params: 201,616\n",
      "Non-trainable params: 0\n",
      "_________________________________________________________________\n",
      "1/1 [==============================] - 0s 9ms/step\n",
      "1/1 [==============================] - 0s 8ms/step\n",
      "1/1 [==============================] - 0s 8ms/step\n",
      "1/1 [==============================] - 0s 9ms/step\n",
      "1/1 [==============================] - 0s 8ms/step\n"
     ]
    },
    {
     "data": {
      "text/plain": [
       "(-0.5, 27.5, 27.5, -0.5)"
      ]
     },
     "execution_count": 91,
     "metadata": {},
     "output_type": "execute_result"
    },
    {
     "data": {
      "image/png": "[encoded data removed]",
      "text/plain": [
       "<Figure size 640x480 with 10 Axes>"
      ]
     },
     "metadata": {},
     "output_type": "display_data"
    }
   ],
   "source": [
    "model.summary()\n",
    "\n",
    "plt.figure()\n",
    "plt.subplot(2,5,1)\n",
    "# plt.title(\"Original\")\n",
    "plt.imshow(class1.reshape((28,28)))\n",
    "plt.axis('off')\n",
    "\n",
    "plt.subplot(2,5,2)\n",
    "plt.imshow(class2.reshape((28,28)))\n",
    "plt.axis('off')\n",
    "\n",
    "plt.subplot(2,5,3)\n",
    "plt.imshow(class3.reshape((28,28)))\n",
    "plt.axis('off')\n",
    "\n",
    "plt.subplot(2,5,4)\n",
    "plt.imshow(class4.reshape((28,28)))\n",
    "plt.axis('off')\n",
    "\n",
    "plt.subplot(2,5,5)\n",
    "plt.imshow(class5.reshape((28,28)))\n",
    "plt.axis('off')\n",
    "\n",
    "plt.subplot(2,5,6)\n",
    "# plt.title(\"Original\")\n",
    "recon_class1 = model.predict(class1.reshape((1, -1)))\n",
    "plt.imshow(recon_class1.reshape((28,28)))\n",
    "plt.axis('off')\n",
    "\n",
    "plt.subplot(2,5,7)\n",
    "recon_class2 = model.predict(class2.reshape((1, -1)))\n",
    "plt.imshow(recon_class2.reshape((28,28)))\n",
    "plt.axis('off')\n",
    "\n",
    "plt.subplot(2,5,8)\n",
    "recon_class3 = model.predict(class3.reshape((1, -1)))\n",
    "plt.imshow(recon_class3.reshape((28,28)))\n",
    "plt.axis('off')\n",
    "\n",
    "plt.subplot(2,5,9)\n",
    "recon_class4 = model.predict(class4.reshape((1, -1)))\n",
    "plt.imshow(recon_class4.reshape((28,28)))\n",
    "plt.axis('off')\n",
    "\n",
    "plt.subplot(2,5,10)\n",
    "recon_class5 = model.predict(class5.reshape((1, -1)))\n",
    "plt.imshow(recon_class5.reshape((28,28)))\n",
    "plt.axis('off')"
   ]
  },
  {
   "attachments": {},
   "cell_type": "markdown",
   "metadata": {},
   "source": [
    "## Three layer 256 bottleneck"
   ]
  },
  {
   "cell_type": "code",
   "execution_count": 95,
   "metadata": {},
   "outputs": [],
   "source": [
    "model = load_model(\"./autoencoder_models/autoencoder_3layer_256.h5\")"
   ]
  },
  {
   "cell_type": "code",
   "execution_count": 96,
   "metadata": {},
   "outputs": [
    {
     "name": "stdout",
     "output_type": "stream",
     "text": [
      "Model: \"Autoencoder256\"\n",
      "_________________________________________________________________\n",
      " Layer (type)                Output Shape              Param #   \n",
      "=================================================================\n",
      " Encoder-input (InputLayer)  [(None, 784)]             0         \n",
      "                                                                 \n",
      " Encoder-hidden (Dense)      (None, 400)               314000    \n",
      "                                                                 \n",
      " Bottleneck-layer (Dense)    (None, 256)               102656    \n",
      "                                                                 \n",
      " Decoder-hidden (Dense)      (None, 400)               102800    \n",
      "                                                                 \n",
      " Decoder-output (Dense)      (None, 784)               314384    \n",
      "                                                                 \n",
      "=================================================================\n",
      "Total params: 833,840\n",
      "Trainable params: 833,840\n",
      "Non-trainable params: 0\n",
      "_________________________________________________________________\n",
      "1/1 [==============================] - 0s 25ms/step\n",
      "1/1 [==============================] - 0s 9ms/step\n",
      "1/1 [==============================] - 0s 9ms/step\n",
      "1/1 [==============================] - 0s 8ms/step\n",
      "1/1 [==============================] - 0s 10ms/step\n"
     ]
    },
    {
     "data": {
      "text/plain": [
       "(-0.5, 27.5, 27.5, -0.5)"
      ]
     },
     "execution_count": 96,
     "metadata": {},
     "output_type": "execute_result"
    },
    {
     "data": {
      "image/png": "[encoded data removed]",
      "text/plain": [
       "<Figure size 640x480 with 10 Axes>"
      ]
     },
     "metadata": {},
     "output_type": "display_data"
    }
   ],
   "source": [
    "model.summary()\n",
    "\n",
    "plt.figure()\n",
    "plt.subplot(2,5,1)\n",
    "# plt.title(\"Original\")\n",
    "plt.imshow(class1.reshape((28,28)))\n",
    "plt.axis('off')\n",
    "\n",
    "plt.subplot(2,5,2)\n",
    "plt.imshow(class2.reshape((28,28)))\n",
    "plt.axis('off')\n",
    "\n",
    "plt.subplot(2,5,3)\n",
    "plt.imshow(class3.reshape((28,28)))\n",
    "plt.axis('off')\n",
    "\n",
    "plt.subplot(2,5,4)\n",
    "plt.imshow(class4.reshape((28,28)))\n",
    "plt.axis('off')\n",
    "\n",
    "plt.subplot(2,5,5)\n",
    "plt.imshow(class5.reshape((28,28)))\n",
    "plt.axis('off')\n",
    "\n",
    "plt.subplot(2,5,6)\n",
    "# plt.title(\"Original\")\n",
    "recon_class1 = model.predict(class1.reshape((1, -1)))\n",
    "plt.imshow(recon_class1.reshape((28,28)))\n",
    "plt.axis('off')\n",
    "\n",
    "plt.subplot(2,5,7)\n",
    "recon_class2 = model.predict(class2.reshape((1, -1)))\n",
    "plt.imshow(recon_class2.reshape((28,28)))\n",
    "plt.axis('off')\n",
    "\n",
    "plt.subplot(2,5,8)\n",
    "recon_class3 = model.predict(class3.reshape((1, -1)))\n",
    "plt.imshow(recon_class3.reshape((28,28)))\n",
    "plt.axis('off')\n",
    "\n",
    "plt.subplot(2,5,9)\n",
    "recon_class4 = model.predict(class4.reshape((1, -1)))\n",
    "plt.imshow(recon_class4.reshape((28,28)))\n",
    "plt.axis('off')\n",
    "\n",
    "plt.subplot(2,5,10)\n",
    "recon_class5 = model.predict(class5.reshape((1, -1)))\n",
    "plt.imshow(recon_class5.reshape((28,28)))\n",
    "plt.axis('off')"
   ]
  },
  {
   "cell_type": "code",
   "execution_count": 109,
   "metadata": {},
   "outputs": [
    {
     "name": "stdout",
     "output_type": "stream",
     "text": [
      "WARNING:tensorflow:No training configuration found in the save file, so the model was *not* compiled. Compile it manually.\n",
      "Model: \"Encoder256\"\n",
      "_________________________________________________________________\n",
      " Layer (type)                Output Shape              Param #   \n",
      "=================================================================\n",
      " Encoder-input (InputLayer)  [(None, 784)]             0         \n",
      "                                                                 \n",
      " Encoder-hidden (Dense)      (None, 400)               314000    \n",
      "                                                                 \n",
      " Bottleneck-layer (Dense)    (None, 256)               102656    \n",
      "                                                                 \n",
      "=================================================================\n",
      "Total params: 416,656\n",
      "Trainable params: 416,656\n",
      "Non-trainable params: 0\n",
      "_________________________________________________________________\n"
     ]
    }
   ],
   "source": [
    "encoder = load_model(\"./autoencoder_models/encoder_3layer_256.h5\")\n",
    "encoder.summary()"
   ]
  },
  {
   "cell_type": "code",
   "execution_count": 98,
   "metadata": {},
   "outputs": [],
   "source": [
    "encoder.compile()"
   ]
  },
  {
   "cell_type": "code",
   "execution_count": 105,
   "metadata": {},
   "outputs": [
    {
     "name": "stdout",
     "output_type": "stream",
     "text": [
      "356/356 [==============================] - 0s 461us/step\n"
     ]
    }
   ],
   "source": [
    "encoded = encoder.predict(train_data)"
   ]
  },
  {
   "cell_type": "code",
   "execution_count": 106,
   "metadata": {},
   "outputs": [],
   "source": [
    "from tensorflow.keras.layers import Input, Dense, Flatten, Reshape\n",
    "from tensorflow.keras.models import Model\n",
    "from tensorflow.keras.optimizers import Adam\n",
    "from tensorflow.keras.callbacks import EarlyStopping"
   ]
  },
  {
   "cell_type": "code",
   "execution_count": 122,
   "metadata": {},
   "outputs": [
    {
     "name": "stdout",
     "output_type": "stream",
     "text": [
      "Model: \"Model-encoder256\"\n",
      "_________________________________________________________________\n",
      " Layer (type)                Output Shape              Param #   \n",
      "=================================================================\n",
      " Input (InputLayer)          [(None, 256)]             0         \n",
      "                                                                 \n",
      " Layer1 (Dense)              (None, 16)                4112      \n",
      "                                                                 \n",
      " Layer2 (Dense)              (None, 8)                 136       \n",
      "                                                                 \n",
      " Output (Dense)              (None, 5)                 45        \n",
      "                                                                 \n",
      "=================================================================\n",
      "Total params: 4,293\n",
      "Trainable params: 4,293\n",
      "Non-trainable params: 0\n",
      "_________________________________________________________________\n"
     ]
    }
   ],
   "source": [
    "inputs = Input(shape=(256,), name=\"Input\")\n",
    "x = Dense(16, activation='tanh', name=\"Layer1\")(inputs)\n",
    "x = Dense(8, activation='tanh', name=\"Layer2\")(x)\n",
    "# x = Dense(128, activation='tanh', name=\"Layer3\")(x)\n",
    "# x = Dense(64, activation='tanh', name=\"Layer4\")(x)\n",
    "outputs = Dense(5, activation='softmax', name=\"Output\")(x)\n",
    "model = Model(inputs=inputs, outputs=outputs, name=f\"Model-encoder{256}\")\n",
    "model.summary()"
   ]
  },
  {
   "cell_type": "code",
   "execution_count": 126,
   "metadata": {},
   "outputs": [
    {
     "name": "stdout",
     "output_type": "stream",
     "text": [
      "Epoch 1/100000\n",
      "356/356 [==============================] - 0s 334us/step - loss: 1.8345 - accuracy: 0.7246\n",
      "Epoch 2/100000\n",
      "356/356 [==============================] - 0s 320us/step - loss: 0.4003 - accuracy: 0.9151\n",
      "Epoch 3/100000\n",
      "356/356 [==============================] - 0s 326us/step - loss: 0.2485 - accuracy: 0.9448\n",
      "Epoch 4/100000\n",
      "356/356 [==============================] - 0s 320us/step - loss: 0.1736 - accuracy: 0.9585\n",
      "Epoch 5/100000\n",
      "356/356 [==============================] - 0s 321us/step - loss: 0.1331 - accuracy: 0.9654\n",
      "Epoch 6/100000\n",
      "356/356 [==============================] - 0s 320us/step - loss: 0.1065 - accuracy: 0.9714\n",
      "Epoch 7/100000\n",
      "356/356 [==============================] - 0s 319us/step - loss: 0.0883 - accuracy: 0.9761\n",
      "Epoch 8/100000\n",
      "356/356 [==============================] - 0s 317us/step - loss: 0.0737 - accuracy: 0.9806\n",
      "Epoch 9/100000\n",
      "356/356 [==============================] - 0s 329us/step - loss: 0.0633 - accuracy: 0.9832\n",
      "Epoch 10/100000\n",
      "356/356 [==============================] - 0s 314us/step - loss: 0.0548 - accuracy: 0.9847\n",
      "Epoch 11/100000\n",
      "356/356 [==============================] - 0s 316us/step - loss: 0.0473 - accuracy: 0.9877\n",
      "Epoch 12/100000\n",
      "356/356 [==============================] - 0s 316us/step - loss: 0.0418 - accuracy: 0.9881\n",
      "Epoch 13/100000\n",
      "356/356 [==============================] - 0s 328us/step - loss: 0.0365 - accuracy: 0.9903\n",
      "Epoch 14/100000\n",
      "356/356 [==============================] - 0s 315us/step - loss: 0.0304 - accuracy: 0.9924\n",
      "Epoch 15/100000\n",
      "356/356 [==============================] - 0s 319us/step - loss: 0.0263 - accuracy: 0.9937\n",
      "Epoch 16/100000\n",
      "356/356 [==============================] - 0s 318us/step - loss: 0.0225 - accuracy: 0.9951\n",
      "Epoch 17/100000\n",
      "356/356 [==============================] - 0s 314us/step - loss: 0.0194 - accuracy: 0.9957\n",
      "Epoch 18/100000\n",
      "356/356 [==============================] - 0s 311us/step - loss: 0.0163 - accuracy: 0.9968\n",
      "Epoch 19/100000\n",
      "356/356 [==============================] - 0s 309us/step - loss: 0.0143 - accuracy: 0.9976\n",
      "Epoch 20/100000\n",
      "356/356 [==============================] - 0s 314us/step - loss: 0.0124 - accuracy: 0.9978\n",
      "Epoch 21/100000\n",
      "356/356 [==============================] - 0s 313us/step - loss: 0.0102 - accuracy: 0.9987\n",
      "Epoch 22/100000\n",
      "356/356 [==============================] - 0s 312us/step - loss: 0.0089 - accuracy: 0.9987\n",
      "Epoch 23/100000\n",
      "356/356 [==============================] - 0s 314us/step - loss: 0.0077 - accuracy: 0.9992\n",
      "Epoch 24/100000\n",
      "356/356 [==============================] - 0s 326us/step - loss: 0.0066 - accuracy: 0.9993\n",
      "Epoch 25/100000\n",
      "356/356 [==============================] - 0s 317us/step - loss: 0.0054 - accuracy: 0.9996\n",
      "Epoch 26/100000\n",
      "356/356 [==============================] - 0s 319us/step - loss: 0.0047 - accuracy: 0.9998\n",
      "Epoch 27/100000\n",
      "356/356 [==============================] - 0s 317us/step - loss: 0.0039 - accuracy: 0.9999\n",
      "Epoch 28/100000\n",
      "356/356 [==============================] - 0s 312us/step - loss: 0.0034 - accuracy: 0.9999\n",
      "Epoch 29/100000\n",
      "356/356 [==============================] - 0s 313us/step - loss: 0.0028 - accuracy: 0.9999\n",
      "Epoch 30/100000\n",
      "356/356 [==============================] - 0s 313us/step - loss: 0.0025 - accuracy: 0.9998\n",
      "Epoch 31/100000\n",
      "356/356 [==============================] - 0s 313us/step - loss: 0.0021 - accuracy: 0.9999\n",
      "Epoch 32/100000\n",
      "356/356 [==============================] - 0s 312us/step - loss: 0.0019 - accuracy: 0.9999\n",
      "Epoch 33/100000\n",
      "356/356 [==============================] - 0s 311us/step - loss: 0.0018 - accuracy: 0.9999\n",
      "Epoch 34/100000\n",
      "356/356 [==============================] - 0s 324us/step - loss: 0.0016 - accuracy: 0.9999\n",
      "Epoch 35/100000\n",
      "356/356 [==============================] - 0s 320us/step - loss: 0.0032 - accuracy: 0.9993\n",
      "Epoch 36/100000\n",
      "356/356 [==============================] - 0s 312us/step - loss: 0.0061 - accuracy: 0.9986\n",
      "Epoch 37/100000\n",
      "356/356 [==============================] - 0s 310us/step - loss: 0.0027 - accuracy: 0.9996\n",
      "Epoch 38/100000\n",
      "356/356 [==============================] - 0s 310us/step - loss: 0.0020 - accuracy: 0.9997\n",
      "Epoch 39/100000\n",
      "356/356 [==============================] - 0s 323us/step - loss: 9.5423e-04 - accuracy: 1.0000\n",
      "Epoch 40/100000\n",
      "356/356 [==============================] - 0s 315us/step - loss: 7.1923e-04 - accuracy: 1.0000\n",
      "Epoch 41/100000\n",
      "356/356 [==============================] - 0s 311us/step - loss: 6.2646e-04 - accuracy: 1.0000\n",
      "Epoch 42/100000\n",
      "356/356 [==============================] - 0s 380us/step - loss: 5.4939e-04 - accuracy: 1.0000\n",
      "Epoch 43/100000\n",
      "356/356 [==============================] - 0s 310us/step - loss: 4.9962e-04 - accuracy: 1.0000\n",
      "Epoch 44/100000\n",
      "356/356 [==============================] - 0s 310us/step - loss: 4.4488e-04 - accuracy: 1.0000\n",
      "Epoch 45/100000\n",
      "356/356 [==============================] - 0s 313us/step - loss: 4.0449e-04 - accuracy: 1.0000\n",
      "Epoch 46/100000\n",
      "356/356 [==============================] - 0s 322us/step - loss: 3.6203e-04 - accuracy: 1.0000\n",
      "Epoch 47/100000\n",
      "356/356 [==============================] - 0s 311us/step - loss: 3.3479e-04 - accuracy: 1.0000\n",
      "Epoch 48/100000\n",
      "356/356 [==============================] - 0s 321us/step - loss: 2.8884e-04 - accuracy: 1.0000\n",
      "Epoch 49/100000\n",
      "356/356 [==============================] - 0s 311us/step - loss: 2.5427e-04 - accuracy: 1.0000\n",
      "Epoch 50/100000\n",
      "356/356 [==============================] - 0s 312us/step - loss: 2.2313e-04 - accuracy: 1.0000\n",
      "Epoch 51/100000\n",
      "356/356 [==============================] - 0s 314us/step - loss: 1.9839e-04 - accuracy: 1.0000\n",
      "Epoch 52/100000\n",
      "356/356 [==============================] - 0s 314us/step - loss: 1.7573e-04 - accuracy: 1.0000\n",
      "Epoch 53/100000\n",
      "356/356 [==============================] - 0s 311us/step - loss: 1.5764e-04 - accuracy: 1.0000\n",
      "Epoch 54/100000\n",
      "356/356 [==============================] - 0s 314us/step - loss: 1.3103e-04 - accuracy: 1.0000\n",
      "Epoch 55/100000\n",
      "356/356 [==============================] - 0s 313us/step - loss: 1.1283e-04 - accuracy: 1.0000\n",
      "Epoch 56/100000\n",
      "356/356 [==============================] - 0s 331us/step - loss: 9.9385e-05 - accuracy: 1.0000\n",
      "Epoch 57/100000\n",
      "356/356 [==============================] - 0s 332us/step - loss: 9.5118e-05 - accuracy: 1.0000\n",
      "Epoch 58/100000\n",
      "356/356 [==============================] - 0s 322us/step - loss: 0.0038 - accuracy: 0.9990\n",
      "Epoch 59/100000\n",
      "356/356 [==============================] - 0s 311us/step - loss: 0.0087 - accuracy: 0.9975\n",
      "Epoch 60/100000\n",
      "356/356 [==============================] - 0s 315us/step - loss: 0.0032 - accuracy: 0.9989\n",
      "Epoch 60: early stopping\n"
     ]
    }
   ],
   "source": [
    "adam_optimizer = Adam(learning_rate = 0.001)\n",
    "\n",
    "model.compile(optimizer=adam_optimizer,\n",
    "                    loss=\"sparse_categorical_crossentropy\",\n",
    "                    metrics=['accuracy'])\n",
    "earlystopping = EarlyStopping(monitor='loss',\n",
    "                                        min_delta=1e-4,\n",
    "                                        patience=5,\n",
    "                                        verbose=1)\n",
    "history1 = model.fit(x=encoded, y=train_labels,\n",
    "                        batch_size=32, epochs=100_000,\n",
    "                        callbacks=[earlystopping],\n",
    "                        verbose=1, shuffle=True,\n",
    "                        validation_split=0.0)"
   ]
  },
  {
   "cell_type": "code",
   "execution_count": 127,
   "metadata": {},
   "outputs": [
    {
     "data": {
      "text/plain": [
       "[<matplotlib.lines.Line2D at 0x2da232b60>]"
      ]
     },
     "execution_count": 127,
     "metadata": {},
     "output_type": "execute_result"
    },
    {
     "data": {
      "image/png": "[encoded data removed]",
      "text/plain": [
       "<Figure size 640x480 with 1 Axes>"
      ]
     },
     "metadata": {},
     "output_type": "display_data"
    }
   ],
   "source": [
    "plt.plot(history1.history['loss'])"
   ]
  },
  {
   "cell_type": "code",
   "execution_count": 130,
   "metadata": {},
   "outputs": [
    {
     "name": "stdout",
     "output_type": "stream",
     "text": [
      "119/119 [==============================] - 0s 452us/step\n",
      "119/119 [==============================] - 0s 265us/step - loss: 0.1339 - accuracy: 0.9765\n"
     ]
    },
    {
     "data": {
      "text/plain": [
       "[0.13393719494342804, 0.9765480756759644]"
      ]
     },
     "execution_count": 130,
     "metadata": {},
     "output_type": "execute_result"
    }
   ],
   "source": [
    "model.evaluate(encoder.predict(val_data), val_labels)"
   ]
  },
  {
   "cell_type": "code",
   "execution_count": null,
   "metadata": {},
   "outputs": [],
   "source": []
  }
 ],
 "metadata": {
  "kernelspec": {
   "display_name": ".env",
   "language": "python",
   "name": "python3"
  },
  "language_info": {
   "codemirror_mode": {
    "name": "ipython",
    "version": 3
   },
   "file_extension": ".py",
   "mimetype": "text/x-python",
   "name": "python",
   "nbconvert_exporter": "python",
   "pygments_lexer": "ipython3",
   "version": "3.10.9"
  },
  "orig_nbformat": 4,
  "vscode": {
   "interpreter": {
    "hash": "c37836adf2e0d57ffa14ecc2a3cc07bddd6153bcbc9f933f0cdf6f9a2a018173"
   }
  }
 },
 "nbformat": 4,
 "nbformat_minor": 2
}
