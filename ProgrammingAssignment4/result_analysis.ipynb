{
 "cells": [
  {
   "cell_type": "code",
   "execution_count": 1,
   "metadata": {},
   "outputs": [],
   "source": [
    "import numpy as np\n",
    "from matplotlib import pyplot as plt\n",
    "import pickle\n",
    "from helper_fn import data_import, relabel"
   ]
  },
  {
   "cell_type": "code",
   "execution_count": 2,
   "metadata": {},
   "outputs": [],
   "source": [
    "from tensorflow.keras.models import load_model"
   ]
  },
  {
   "cell_type": "code",
   "execution_count": 3,
   "metadata": {},
   "outputs": [],
   "source": [
    "test_path='./Group_10/test'\n",
    "train_path='./Group_10/train'\n",
    "val_path='./Group_10/val'\n",
    "\n",
    "#import datasets\n",
    "train_data, train_labels = data_import(train_path)\n",
    "test_data, test_labels = data_import(test_path)\n",
    "val_data, val_labels = data_import(val_path)\n",
    "\n",
    "train_data = train_data.reshape(-1, 784)/255.0\n",
    "test_data = test_data.reshape(-1, 784)/255.0\n",
    "val_data = val_data.reshape(-1, 784)/255.0\n",
    "\n",
    "train_labels = relabel(train_labels)\n",
    "test_labels = relabel(test_labels)\n",
    "val_labels = relabel(val_labels)\n",
    "\n",
    "mean_vec = np.mean(train_data, axis=0) # 784 dimentional vector\n",
    "# print(mean_vec.shape) \n",
    "\n",
    "# mean correction\n",
    "train_data = train_data - mean_vec\n",
    "test_data = test_data - mean_vec\n",
    "val_data = val_data - mean_vec"
   ]
  },
  {
   "attachments": {},
   "cell_type": "markdown",
   "metadata": {},
   "source": [
    "# PCA Task1"
   ]
  },
  {
   "cell_type": "code",
   "execution_count": 11,
   "metadata": {},
   "outputs": [],
   "source": [
    "with open(\"./pca_models/pca32.pkl\", mode=\"rb\") as f:\n",
    "    pca32 = pickle.load(f)\n",
    "\n",
    "reduced_train = pca32.transform(train_data)\n",
    "reduced_test = pca32.transform(test_data)\n",
    "reduced_val = pca32.transform(val_data)"
   ]
  },
  {
   "cell_type": "code",
   "execution_count": 18,
   "metadata": {},
   "outputs": [
    {
     "data": {
      "text/plain": [
       "[<matplotlib.lines.Line2D at 0x2bc0d8280>]"
      ]
     },
     "execution_count": 18,
     "metadata": {},
     "output_type": "execute_result"
    },
    {
     "data": {
      "image/png": "[encoded data removed]",
      "text/plain": [
       "<Figure size 640x480 with 1 Axes>"
      ]
     },
     "metadata": {},
     "output_type": "display_data"
    }
   ],
   "source": [
    "with open(\"./pca_models/history1_pca32.pkl\", mode=\"rb\") as f:\n",
    "    history = pickle.load(f)\n",
    "\n",
    "plt.plot(history['loss'])"
   ]
  },
  {
   "cell_type": "code",
   "execution_count": 14,
   "metadata": {},
   "outputs": [
    {
     "name": "stdout",
     "output_type": "stream",
     "text": [
      "Model: \"Model-PCA32\"\n",
      "_________________________________________________________________\n",
      " Layer (type)                Output Shape              Param #   \n",
      "=================================================================\n",
      " Input (InputLayer)          [(None, 32)]              0         \n",
      "                                                                 \n",
      " Layer1 (Dense)              (None, 16)                528       \n",
      "                                                                 \n",
      " Layer2 (Dense)              (None, 8)                 136       \n",
      "                                                                 \n",
      " Output (Dense)              (None, 5)                 45        \n",
      "                                                                 \n",
      "=================================================================\n",
      "Total params: 709\n",
      "Trainable params: 709\n",
      "Non-trainable params: 0\n",
      "_________________________________________________________________\n",
      "Train data eval:\n",
      "356/356 [==============================] - 0s 254us/step - loss: 0.0068 - accuracy: 0.9987\n",
      "[0.006802352145314217, 0.9986824989318848]\n",
      "Test data eval:\n",
      "119/119 [==============================] - 0s 250us/step - loss: 0.1066 - accuracy: 0.9784\n",
      "[0.10661952942609787, 0.9783926010131836]\n",
      "Val data eval:\n",
      "119/119 [==============================] - 0s 267us/step - loss: 0.0852 - accuracy: 0.9816\n",
      "[0.08520220965147018, 0.9815546870231628]\n"
     ]
    }
   ],
   "source": [
    "model = load_model(\"./pca_models/pcamodel1_32.h5\")\n",
    "model.summary()\n",
    "print(\"Train data eval:\")\n",
    "print(model.evaluate(reduced_train, train_labels))\n",
    "\n",
    "print(\"Test data eval:\")\n",
    "print(model.evaluate(reduced_test, test_labels))\n",
    "\n",
    "print(\"Val data eval:\")\n",
    "print(model.evaluate(reduced_val, val_labels))\n",
    "\n"
   ]
  },
  {
   "cell_type": "code",
   "execution_count": 15,
   "metadata": {},
   "outputs": [
    {
     "name": "stdout",
     "output_type": "stream",
     "text": [
      "Model: \"Model-PCA32\"\n",
      "_________________________________________________________________\n",
      " Layer (type)                Output Shape              Param #   \n",
      "=================================================================\n",
      " Input (InputLayer)          [(None, 32)]              0         \n",
      "                                                                 \n",
      " Layer1 (Dense)              (None, 256)               8448      \n",
      "                                                                 \n",
      " Layer2 (Dense)              (None, 128)               32896     \n",
      "                                                                 \n",
      " Layer3 (Dense)              (None, 64)                8256      \n",
      "                                                                 \n",
      " Layer4 (Dense)              (None, 32)                2080      \n",
      "                                                                 \n",
      " Output (Dense)              (None, 5)                 165       \n",
      "                                                                 \n",
      "=================================================================\n",
      "Total params: 51,845\n",
      "Trainable params: 51,845\n",
      "Non-trainable params: 0\n",
      "_________________________________________________________________\n",
      "Train data eval:\n",
      "356/356 [==============================] - 0s 333us/step - loss: 0.0170 - accuracy: 0.9959\n",
      "[0.016996508464217186, 0.9958717823028564]\n",
      "Test data eval:\n",
      "119/119 [==============================] - 0s 351us/step - loss: 0.0667 - accuracy: 0.9823\n",
      "[0.06674440950155258, 0.9823451638221741]\n",
      "Val data eval:\n",
      "119/119 [==============================] - 0s 331us/step - loss: 0.0562 - accuracy: 0.9823\n",
      "[0.05622228607535362, 0.9823451638221741]\n"
     ]
    }
   ],
   "source": [
    "model = load_model(\"./pca_models/pcamodel2_32.h5\")\n",
    "model.summary()\n",
    "print(\"Train data eval:\")\n",
    "print(model.evaluate(reduced_train, train_labels))\n",
    "\n",
    "print(\"Test data eval:\")\n",
    "print(model.evaluate(reduced_test, test_labels))\n",
    "\n",
    "print(\"Val data eval:\")\n",
    "print(model.evaluate(reduced_val, val_labels))\n"
   ]
  },
  {
   "attachments": {},
   "cell_type": "markdown",
   "metadata": {},
   "source": [
    "## 64 PCA"
   ]
  },
  {
   "cell_type": "code",
   "execution_count": 6,
   "metadata": {},
   "outputs": [],
   "source": [
    "with open(\"./pca_models/pca64.pkl\", mode=\"rb\") as f:\n",
    "    pca64 = pickle.load(f)\n",
    "\n",
    "reduced_train = pca64.transform(train_data)\n",
    "reduced_test = pca64.transform(test_data)\n",
    "reduced_val = pca64.transform(val_data)"
   ]
  },
  {
   "cell_type": "code",
   "execution_count": 7,
   "metadata": {},
   "outputs": [
    {
     "name": "stdout",
     "output_type": "stream",
     "text": [
      "Model: \"Model-PCA64\"\n",
      "_________________________________________________________________\n",
      " Layer (type)                Output Shape              Param #   \n",
      "=================================================================\n",
      " Input (InputLayer)          [(None, 64)]              0         \n",
      "                                                                 \n",
      " Layer1 (Dense)              (None, 16)                1040      \n",
      "                                                                 \n",
      " Layer2 (Dense)              (None, 8)                 136       \n",
      "                                                                 \n",
      " Output (Dense)              (None, 5)                 45        \n",
      "                                                                 \n",
      "=================================================================\n",
      "Total params: 1,221\n",
      "Trainable params: 1,221\n",
      "Non-trainable params: 0\n",
      "_________________________________________________________________\n",
      "Train data eval:\n",
      "356/356 [==============================] - 0s 255us/step - loss: 0.0059 - accuracy: 0.9989\n",
      "[0.005892763379961252, 0.9989460110664368]\n",
      "Test data eval:\n",
      "119/119 [==============================] - 0s 252us/step - loss: 0.1147 - accuracy: 0.9758\n",
      "[0.11474204063415527, 0.9757575988769531]\n",
      "Val data eval:\n",
      "119/119 [==============================] - 0s 243us/step - loss: 0.0788 - accuracy: 0.9821\n",
      "[0.07881473749876022, 0.9820817112922668]\n"
     ]
    }
   ],
   "source": [
    "model = load_model(\"./pca_models/pcamodel1_64.h5\")\n",
    "model.summary()\n",
    "print(\"Train data eval:\")\n",
    "print(model.evaluate(reduced_train, train_labels))\n",
    "\n",
    "print(\"Test data eval:\")\n",
    "print(model.evaluate(reduced_test, test_labels))\n",
    "\n",
    "print(\"Val data eval:\")\n",
    "print(model.evaluate(reduced_val, val_labels))\n",
    "\n"
   ]
  },
  {
   "attachments": {},
   "cell_type": "markdown",
   "metadata": {},
   "source": [
    "## 128 PCA"
   ]
  },
  {
   "cell_type": "code",
   "execution_count": 8,
   "metadata": {},
   "outputs": [],
   "source": [
    "with open(\"./pca_models/pca128.pkl\", mode=\"rb\") as f:\n",
    "    pca128 = pickle.load(f)\n",
    "\n",
    "reduced_train = pca128.transform(train_data)\n",
    "reduced_test = pca128.transform(test_data)\n",
    "reduced_val = pca128.transform(val_data)"
   ]
  },
  {
   "cell_type": "code",
   "execution_count": 9,
   "metadata": {},
   "outputs": [
    {
     "name": "stdout",
     "output_type": "stream",
     "text": [
      "Model: \"Model-PCA128\"\n",
      "_________________________________________________________________\n",
      " Layer (type)                Output Shape              Param #   \n",
      "=================================================================\n",
      " Input (InputLayer)          [(None, 128)]             0         \n",
      "                                                                 \n",
      " Layer1 (Dense)              (None, 16)                2064      \n",
      "                                                                 \n",
      " Layer2 (Dense)              (None, 8)                 136       \n",
      "                                                                 \n",
      " Output (Dense)              (None, 5)                 45        \n",
      "                                                                 \n",
      "=================================================================\n",
      "Total params: 2,245\n",
      "Trainable params: 2,245\n",
      "Non-trainable params: 0\n",
      "_________________________________________________________________\n",
      "Train data eval:\n",
      "356/356 [==============================] - 0s 418us/step - loss: 0.0014 - accuracy: 0.9998\n",
      "[0.0014380599604919553, 0.9998243451118469]\n",
      "Test data eval:\n",
      "119/119 [==============================] - 0s 265us/step - loss: 0.1083 - accuracy: 0.9760\n",
      "[0.10833027213811874, 0.9760210514068604]\n",
      "Val data eval:\n",
      "119/119 [==============================] - 0s 261us/step - loss: 0.0722 - accuracy: 0.9829\n",
      "[0.07215145230293274, 0.9828721880912781]\n"
     ]
    }
   ],
   "source": [
    "model = load_model(\"./pca_models/pcamodel1_128.h5\")\n",
    "model.summary()\n",
    "\n",
    "print(\"Train data eval:\")\n",
    "print(model.evaluate(reduced_train, train_labels))\n",
    "\n",
    "print(\"Test data eval:\")\n",
    "print(model.evaluate(reduced_test, test_labels))\n",
    "\n",
    "print(\"Val data eval:\")\n",
    "print(model.evaluate(reduced_val, val_labels))\n"
   ]
  },
  {
   "attachments": {},
   "cell_type": "markdown",
   "metadata": {},
   "source": [
    "# Autoencoders"
   ]
  },
  {
   "attachments": {},
   "cell_type": "markdown",
   "metadata": {},
   "source": [
    "## One layer 32 bottleneck"
   ]
  },
  {
   "cell_type": "code",
   "execution_count": 19,
   "metadata": {},
   "outputs": [
    {
     "name": "stdout",
     "output_type": "stream",
     "text": [
      "Model: \"Autoencoder32\"\n",
      "_________________________________________________________________\n",
      " Layer (type)                Output Shape              Param #   \n",
      "=================================================================\n",
      " Encoder-input (InputLayer)  [(None, 784)]             0         \n",
      "                                                                 \n",
      " Bottleneck-layer (Dense)    (None, 32)                25120     \n",
      "                                                                 \n",
      " Decoder-output (Dense)      (None, 784)               25872     \n",
      "                                                                 \n",
      "=================================================================\n",
      "Total params: 50,992\n",
      "Trainable params: 50,992\n",
      "Non-trainable params: 0\n",
      "_________________________________________________________________\n"
     ]
    }
   ],
   "source": [
    "model = load_model(\"./autoencoder_models/autoencoder_1layer_32.h5\")\n",
    "model.summary()"
   ]
  },
  {
   "cell_type": "code",
   "execution_count": 22,
   "metadata": {},
   "outputs": [],
   "source": [
    "class1 = train_data[0, :]\n",
    "class2 = train_data[2277, :]\n",
    "class3 = train_data[2*2277, :]\n",
    "class4 = train_data[3*2277, :]\n",
    "class5 = train_data[4*2277, :]"
   ]
  },
  {
   "cell_type": "code",
   "execution_count": 29,
   "metadata": {},
   "outputs": [
    {
     "name": "stdout",
     "output_type": "stream",
     "text": [
      "1/1 [==============================] - 0s 8ms/step\n",
      "1/1 [==============================] - 0s 8ms/step\n",
      "1/1 [==============================] - 0s 8ms/step\n",
      "1/1 [==============================] - 0s 9ms/step\n",
      "1/1 [==============================] - 0s 10ms/step\n"
     ]
    },
    {
     "data": {
      "text/plain": [
       "(-0.5, 27.5, 27.5, -0.5)"
      ]
     },
     "execution_count": 29,
     "metadata": {},
     "output_type": "execute_result"
    },
    {
     "data": {
      "image/png": "[encoded data removed]",
      "text/plain": [
       "<Figure size 640x480 with 10 Axes>"
      ]
     },
     "metadata": {},
     "output_type": "display_data"
    }
   ],
   "source": [
    "plt.figure()\n",
    "plt.subplot(2,5,1)\n",
    "# plt.title(\"Original\")\n",
    "plt.imshow(class1.reshape((28,28)))\n",
    "plt.axis('off')\n",
    "\n",
    "plt.subplot(2,5,2)\n",
    "plt.imshow(class2.reshape((28,28)))\n",
    "plt.axis('off')\n",
    "\n",
    "plt.subplot(2,5,3)\n",
    "plt.imshow(class3.reshape((28,28)))\n",
    "plt.axis('off')\n",
    "\n",
    "plt.subplot(2,5,4)\n",
    "plt.imshow(class4.reshape((28,28)))\n",
    "plt.axis('off')\n",
    "\n",
    "plt.subplot(2,5,5)\n",
    "plt.imshow(class5.reshape((28,28)))\n",
    "plt.axis('off')\n",
    "\n",
    "plt.subplot(2,5,6)\n",
    "# plt.title(\"Original\")\n",
    "recon_class1 = model.predict(class1.reshape((1, -1)))\n",
    "plt.imshow(recon_class1.reshape((28,28)))\n",
    "plt.axis('off')\n",
    "\n",
    "plt.subplot(2,5,7)\n",
    "recon_class2 = model.predict(class2.reshape((1, -1)))\n",
    "plt.imshow(recon_class2.reshape((28,28)))\n",
    "plt.axis('off')\n",
    "\n",
    "plt.subplot(2,5,8)\n",
    "recon_class3 = model.predict(class3.reshape((1, -1)))\n",
    "plt.imshow(recon_class3.reshape((28,28)))\n",
    "plt.axis('off')\n",
    "\n",
    "plt.subplot(2,5,9)\n",
    "recon_class4 = model.predict(class4.reshape((1, -1)))\n",
    "plt.imshow(recon_class4.reshape((28,28)))\n",
    "plt.axis('off')\n",
    "\n",
    "plt.subplot(2,5,10)\n",
    "recon_class5 = model.predict(class5.reshape((1, -1)))\n",
    "plt.imshow(recon_class5.reshape((28,28)), cmap='gray')\n",
    "plt.axis('off')"
   ]
  },
  {
   "cell_type": "code",
   "execution_count": null,
   "metadata": {},
   "outputs": [],
   "source": []
  }
 ],
 "metadata": {
  "kernelspec": {
   "display_name": ".env",
   "language": "python",
   "name": "python3"
  },
  "language_info": {
   "codemirror_mode": {
    "name": "ipython",
    "version": 3
   },
   "file_extension": ".py",
   "mimetype": "text/x-python",
   "name": "python",
   "nbconvert_exporter": "python",
   "pygments_lexer": "ipython3",
   "version": "3.10.9"
  },
  "orig_nbformat": 4,
  "vscode": {
   "interpreter": {
    "hash": "c37836adf2e0d57ffa14ecc2a3cc07bddd6153bcbc9f933f0cdf6f9a2a018173"
   }
  }
 },
 "nbformat": 4,
 "nbformat_minor": 2
}
