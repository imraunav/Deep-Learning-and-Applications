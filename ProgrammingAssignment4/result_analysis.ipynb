{
 "cells": [
  {
   "cell_type": "code",
   "execution_count": 133,
   "metadata": {},
   "outputs": [],
   "source": [
    "import numpy as np\n",
    "from matplotlib import pyplot as plt\n",
    "import pickle\n",
    "from helper_fn import data_import, relabel"
   ]
  },
  {
   "cell_type": "code",
   "execution_count": 134,
   "metadata": {},
   "outputs": [],
   "source": [
    "from tensorflow.keras.layers import Input, Dense, Flatten, Reshape\n",
    "from tensorflow.keras.models import Model\n",
    "from tensorflow.keras.optimizers import Adam\n",
    "from tensorflow.keras.callbacks import EarlyStopping"
   ]
  },
  {
   "cell_type": "code",
   "execution_count": 135,
   "metadata": {},
   "outputs": [],
   "source": [
    "from tensorflow.keras.models import load_model"
   ]
  },
  {
   "cell_type": "code",
   "execution_count": 136,
   "metadata": {},
   "outputs": [],
   "source": [
    "test_path='./Group_10/test'\n",
    "train_path='./Group_10/train'\n",
    "val_path='./Group_10/val'\n",
    "\n",
    "#import datasets\n",
    "train_data, train_labels = data_import(train_path)\n",
    "test_data, test_labels = data_import(test_path)\n",
    "val_data, val_labels = data_import(val_path)\n",
    "\n",
    "train_data = train_data.reshape(-1, 784)/255.0\n",
    "test_data = test_data.reshape(-1, 784)/255.0\n",
    "val_data = val_data.reshape(-1, 784)/255.0\n",
    "\n",
    "train_labels = relabel(train_labels)\n",
    "test_labels = relabel(test_labels)\n",
    "val_labels = relabel(val_labels)\n",
    "\n",
    "mean_vec = np.mean(train_data, axis=0) # 784 dimentional vector\n",
    "# print(mean_vec.shape) \n",
    "\n",
    "# mean correction\n",
    "train_data = train_data - mean_vec\n",
    "test_data = test_data - mean_vec\n",
    "val_data = val_data - mean_vec"
   ]
  },
  {
   "attachments": {},
   "cell_type": "markdown",
   "metadata": {},
   "source": [
    "# PCA Task1"
   ]
  },
  {
   "attachments": {},
   "cell_type": "markdown",
   "metadata": {},
   "source": [
    "## 32 PCA"
   ]
  },
  {
   "cell_type": "code",
   "execution_count": 137,
   "metadata": {},
   "outputs": [],
   "source": [
    "with open(\"./pca_models/pca32.pkl\", mode=\"rb\") as f:\n",
    "    pca32 = pickle.load(f)\n",
    "\n",
    "reduced_train = pca32.transform(train_data)\n",
    "reduced_test = pca32.transform(test_data)\n",
    "reduced_val = pca32.transform(val_data)"
   ]
  },
  {
   "cell_type": "code",
   "execution_count": 138,
   "metadata": {},
   "outputs": [
    {
     "name": "stdout",
     "output_type": "stream",
     "text": [
      "Model: \"Model-PCA32\"\n",
      "_________________________________________________________________\n",
      " Layer (type)                Output Shape              Param #   \n",
      "=================================================================\n",
      " Input (InputLayer)          [(None, 32)]              0         \n",
      "                                                                 \n",
      " Layer1 (Dense)              (None, 16)                528       \n",
      "                                                                 \n",
      " Layer2 (Dense)              (None, 8)                 136       \n",
      "                                                                 \n",
      " Output (Dense)              (None, 5)                 45        \n",
      "                                                                 \n",
      "=================================================================\n",
      "Total params: 709\n",
      "Trainable params: 709\n",
      "Non-trainable params: 0\n",
      "_________________________________________________________________\n",
      "Train data eval:\n",
      "356/356 [==============================] - 0s 272us/step - loss: 0.0068 - accuracy: 0.9987\n",
      "[0.006802352145314217, 0.9986824989318848]\n",
      "Test data eval:\n",
      "119/119 [==============================] - 0s 240us/step - loss: 0.1066 - accuracy: 0.9784\n",
      "[0.10661952942609787, 0.9783926010131836]\n",
      "Val data eval:\n",
      "119/119 [==============================] - 0s 242us/step - loss: 0.0852 - accuracy: 0.9816\n",
      "[0.08520220965147018, 0.9815546870231628]\n"
     ]
    }
   ],
   "source": [
    "model = load_model(\"./pca_models/pcamodel1_32.h5\")\n",
    "model.summary()\n",
    "print(\"Train data eval:\")\n",
    "print(model.evaluate(reduced_train, train_labels))\n",
    "\n",
    "print(\"Test data eval:\")\n",
    "print(model.evaluate(reduced_test, test_labels))\n",
    "\n",
    "print(\"Val data eval:\")\n",
    "print(model.evaluate(reduced_val, val_labels))\n",
    "\n"
   ]
  },
  {
   "cell_type": "code",
   "execution_count": 139,
   "metadata": {},
   "outputs": [
    {
     "name": "stdout",
     "output_type": "stream",
     "text": [
      "Model: \"Model-PCA32\"\n",
      "_________________________________________________________________\n",
      " Layer (type)                Output Shape              Param #   \n",
      "=================================================================\n",
      " Input (InputLayer)          [(None, 32)]              0         \n",
      "                                                                 \n",
      " Layer1 (Dense)              (None, 256)               8448      \n",
      "                                                                 \n",
      " Layer2 (Dense)              (None, 128)               32896     \n",
      "                                                                 \n",
      " Layer3 (Dense)              (None, 64)                8256      \n",
      "                                                                 \n",
      " Layer4 (Dense)              (None, 32)                2080      \n",
      "                                                                 \n",
      " Output (Dense)              (None, 5)                 165       \n",
      "                                                                 \n",
      "=================================================================\n",
      "Total params: 51,845\n",
      "Trainable params: 51,845\n",
      "Non-trainable params: 0\n",
      "_________________________________________________________________\n",
      "Train data eval:\n",
      "356/356 [==============================] - 0s 325us/step - loss: 0.0170 - accuracy: 0.9959\n",
      "[0.016996508464217186, 0.9958717823028564]\n",
      "Test data eval:\n",
      "119/119 [==============================] - 0s 311us/step - loss: 0.0667 - accuracy: 0.9823\n",
      "[0.06674440950155258, 0.9823451638221741]\n",
      "Val data eval:\n",
      "119/119 [==============================] - 0s 308us/step - loss: 0.0562 - accuracy: 0.9823\n",
      "[0.05622228607535362, 0.9823451638221741]\n"
     ]
    }
   ],
   "source": [
    "model = load_model(\"./pca_models/pcamodel2_32.h5\")\n",
    "model.summary()\n",
    "print(\"Train data eval:\")\n",
    "print(model.evaluate(reduced_train, train_labels))\n",
    "\n",
    "print(\"Test data eval:\")\n",
    "print(model.evaluate(reduced_test, test_labels))\n",
    "\n",
    "print(\"Val data eval:\")\n",
    "print(model.evaluate(reduced_val, val_labels))\n"
   ]
  },
  {
   "attachments": {},
   "cell_type": "markdown",
   "metadata": {},
   "source": [
    "## 64 PCA"
   ]
  },
  {
   "cell_type": "code",
   "execution_count": 140,
   "metadata": {},
   "outputs": [],
   "source": [
    "with open(\"./pca_models/pca64.pkl\", mode=\"rb\") as f:\n",
    "    pca64 = pickle.load(f)\n",
    "\n",
    "reduced_train = pca64.transform(train_data)\n",
    "reduced_test = pca64.transform(test_data)\n",
    "reduced_val = pca64.transform(val_data)"
   ]
  },
  {
   "cell_type": "code",
   "execution_count": 141,
   "metadata": {},
   "outputs": [
    {
     "name": "stdout",
     "output_type": "stream",
     "text": [
      "Model: \"Model-PCA64\"\n",
      "_________________________________________________________________\n",
      " Layer (type)                Output Shape              Param #   \n",
      "=================================================================\n",
      " Input (InputLayer)          [(None, 64)]              0         \n",
      "                                                                 \n",
      " Layer1 (Dense)              (None, 16)                1040      \n",
      "                                                                 \n",
      " Layer2 (Dense)              (None, 8)                 136       \n",
      "                                                                 \n",
      " Output (Dense)              (None, 5)                 45        \n",
      "                                                                 \n",
      "=================================================================\n",
      "Total params: 1,221\n",
      "Trainable params: 1,221\n",
      "Non-trainable params: 0\n",
      "_________________________________________________________________\n",
      "Train data eval:\n",
      "356/356 [==============================] - 0s 396us/step - loss: 0.0059 - accuracy: 0.9989\n",
      "[0.005892763379961252, 0.9989460110664368]\n",
      "Test data eval:\n",
      "119/119 [==============================] - 0s 251us/step - loss: 0.1147 - accuracy: 0.9758\n",
      "[0.11474204063415527, 0.9757575988769531]\n",
      "Val data eval:\n",
      "119/119 [==============================] - 0s 244us/step - loss: 0.0788 - accuracy: 0.9821\n",
      "[0.07881473749876022, 0.9820817112922668]\n"
     ]
    }
   ],
   "source": [
    "model = load_model(\"./pca_models/pcamodel1_64.h5\")\n",
    "model.summary()\n",
    "print(\"Train data eval:\")\n",
    "print(model.evaluate(reduced_train, train_labels))\n",
    "\n",
    "print(\"Test data eval:\")\n",
    "print(model.evaluate(reduced_test, test_labels))\n",
    "\n",
    "print(\"Val data eval:\")\n",
    "print(model.evaluate(reduced_val, val_labels))\n",
    "\n"
   ]
  },
  {
   "cell_type": "code",
   "execution_count": 142,
   "metadata": {},
   "outputs": [
    {
     "name": "stdout",
     "output_type": "stream",
     "text": [
      "Model: \"Model-PCA64\"\n",
      "_________________________________________________________________\n",
      " Layer (type)                Output Shape              Param #   \n",
      "=================================================================\n",
      " Input (InputLayer)          [(None, 64)]              0         \n",
      "                                                                 \n",
      " Layer1 (Dense)              (None, 256)               16640     \n",
      "                                                                 \n",
      " Layer2 (Dense)              (None, 128)               32896     \n",
      "                                                                 \n",
      " Layer3 (Dense)              (None, 64)                8256      \n",
      "                                                                 \n",
      " Layer4 (Dense)              (None, 32)                2080      \n",
      "                                                                 \n",
      " Output (Dense)              (None, 5)                 165       \n",
      "                                                                 \n",
      "=================================================================\n",
      "Total params: 60,037\n",
      "Trainable params: 60,037\n",
      "Non-trainable params: 0\n",
      "_________________________________________________________________\n",
      "Train data eval:\n",
      "356/356 [==============================] - 0s 321us/step - loss: 0.0035 - accuracy: 0.9994\n",
      "[0.003474825993180275, 0.9993851780891418]\n",
      "Test data eval:\n",
      "119/119 [==============================] - 0s 314us/step - loss: 0.0658 - accuracy: 0.9858\n",
      "[0.0657767578959465, 0.9857707619667053]\n",
      "Val data eval:\n",
      "119/119 [==============================] - 0s 315us/step - loss: 0.0462 - accuracy: 0.9887\n",
      "[0.04623997583985329, 0.9886692762374878]\n"
     ]
    }
   ],
   "source": [
    "model = load_model(\"./pca_models/pcamodel2_64.h5\")\n",
    "model.summary()\n",
    "print(\"Train data eval:\")\n",
    "print(model.evaluate(reduced_train, train_labels))\n",
    "\n",
    "print(\"Test data eval:\")\n",
    "print(model.evaluate(reduced_test, test_labels))\n",
    "\n",
    "print(\"Val data eval:\")\n",
    "print(model.evaluate(reduced_val, val_labels))"
   ]
  },
  {
   "attachments": {},
   "cell_type": "markdown",
   "metadata": {},
   "source": [
    "## 128 PCA"
   ]
  },
  {
   "cell_type": "code",
   "execution_count": 143,
   "metadata": {},
   "outputs": [],
   "source": [
    "with open(\"./pca_models/pca128.pkl\", mode=\"rb\") as f:\n",
    "    pca128 = pickle.load(f)\n",
    "\n",
    "reduced_train = pca128.transform(train_data)\n",
    "reduced_test = pca128.transform(test_data)\n",
    "reduced_val = pca128.transform(val_data)"
   ]
  },
  {
   "cell_type": "code",
   "execution_count": 144,
   "metadata": {},
   "outputs": [
    {
     "name": "stdout",
     "output_type": "stream",
     "text": [
      "Model: \"Model-PCA128\"\n",
      "_________________________________________________________________\n",
      " Layer (type)                Output Shape              Param #   \n",
      "=================================================================\n",
      " Input (InputLayer)          [(None, 128)]             0         \n",
      "                                                                 \n",
      " Layer1 (Dense)              (None, 16)                2064      \n",
      "                                                                 \n",
      " Layer2 (Dense)              (None, 8)                 136       \n",
      "                                                                 \n",
      " Output (Dense)              (None, 5)                 45        \n",
      "                                                                 \n",
      "=================================================================\n",
      "Total params: 2,245\n",
      "Trainable params: 2,245\n",
      "Non-trainable params: 0\n",
      "_________________________________________________________________\n",
      "Train data eval:\n",
      "356/356 [==============================] - 0s 389us/step - loss: 0.0014 - accuracy: 0.9998\n",
      "[0.0014380599604919553, 0.9998243451118469]\n",
      "Test data eval:\n",
      "119/119 [==============================] - 0s 242us/step - loss: 0.1083 - accuracy: 0.9760\n",
      "[0.10833027213811874, 0.9760210514068604]\n",
      "Val data eval:\n",
      "119/119 [==============================] - 0s 242us/step - loss: 0.0722 - accuracy: 0.9829\n",
      "[0.07215145230293274, 0.9828721880912781]\n"
     ]
    }
   ],
   "source": [
    "model = load_model(\"./pca_models/pcamodel1_128.h5\")\n",
    "model.summary()\n",
    "\n",
    "print(\"Train data eval:\")\n",
    "print(model.evaluate(reduced_train, train_labels))\n",
    "\n",
    "print(\"Test data eval:\")\n",
    "print(model.evaluate(reduced_test, test_labels))\n",
    "\n",
    "print(\"Val data eval:\")\n",
    "print(model.evaluate(reduced_val, val_labels))\n"
   ]
  },
  {
   "cell_type": "code",
   "execution_count": 145,
   "metadata": {},
   "outputs": [
    {
     "name": "stdout",
     "output_type": "stream",
     "text": [
      "Model: \"Model-PCA128\"\n",
      "_________________________________________________________________\n",
      " Layer (type)                Output Shape              Param #   \n",
      "=================================================================\n",
      " Input (InputLayer)          [(None, 128)]             0         \n",
      "                                                                 \n",
      " Layer1 (Dense)              (None, 256)               33024     \n",
      "                                                                 \n",
      " Layer2 (Dense)              (None, 128)               32896     \n",
      "                                                                 \n",
      " Layer3 (Dense)              (None, 64)                8256      \n",
      "                                                                 \n",
      " Layer4 (Dense)              (None, 32)                2080      \n",
      "                                                                 \n",
      " Output (Dense)              (None, 5)                 165       \n",
      "                                                                 \n",
      "=================================================================\n",
      "Total params: 76,421\n",
      "Trainable params: 76,421\n",
      "Non-trainable params: 0\n",
      "_________________________________________________________________\n",
      "Train data eval:\n",
      "356/356 [==============================] - 0s 344us/step - loss: 0.0113 - accuracy: 0.9971\n",
      "[0.011282951571047306, 0.9971014261245728]\n",
      "Test data eval:\n",
      "119/119 [==============================] - 0s 339us/step - loss: 0.0796 - accuracy: 0.9813\n",
      "[0.07962889969348907, 0.9812911748886108]\n",
      "Val data eval:\n",
      "119/119 [==============================] - 0s 346us/step - loss: 0.0681 - accuracy: 0.9826\n",
      "[0.06808000802993774, 0.9826086759567261]\n"
     ]
    }
   ],
   "source": [
    "model = load_model(\"./pca_models/pcamodel2_128.h5\")\n",
    "model.summary()\n",
    "\n",
    "print(\"Train data eval:\")\n",
    "print(model.evaluate(reduced_train, train_labels))\n",
    "\n",
    "print(\"Test data eval:\")\n",
    "print(model.evaluate(reduced_test, test_labels))\n",
    "\n",
    "print(\"Val data eval:\")\n",
    "print(model.evaluate(reduced_val, val_labels))\n"
   ]
  },
  {
   "attachments": {},
   "cell_type": "markdown",
   "metadata": {},
   "source": [
    "## 256 PCA"
   ]
  },
  {
   "cell_type": "code",
   "execution_count": 146,
   "metadata": {},
   "outputs": [],
   "source": [
    "with open(\"./pca_models/pca256.pkl\", mode=\"rb\") as f:\n",
    "    pca256 = pickle.load(f)\n",
    "\n",
    "reduced_train = pca256.transform(train_data)\n",
    "reduced_test = pca256.transform(test_data)\n",
    "reduced_val = pca256.transform(val_data)"
   ]
  },
  {
   "cell_type": "code",
   "execution_count": 147,
   "metadata": {},
   "outputs": [
    {
     "name": "stdout",
     "output_type": "stream",
     "text": [
      "Model: \"Model-PCA256\"\n",
      "_________________________________________________________________\n",
      " Layer (type)                Output Shape              Param #   \n",
      "=================================================================\n",
      " Input (InputLayer)          [(None, 256)]             0         \n",
      "                                                                 \n",
      " Layer1 (Dense)              (None, 16)                4112      \n",
      "                                                                 \n",
      " Layer2 (Dense)              (None, 8)                 136       \n",
      "                                                                 \n",
      " Output (Dense)              (None, 5)                 45        \n",
      "                                                                 \n",
      "=================================================================\n",
      "Total params: 4,293\n",
      "Trainable params: 4,293\n",
      "Non-trainable params: 0\n",
      "_________________________________________________________________\n",
      "Train data eval:\n",
      "356/356 [==============================] - 0s 409us/step - loss: 0.0025 - accuracy: 0.9996\n",
      "[0.0024928180500864983, 0.9996486902236938]\n",
      "Test data eval:\n",
      "119/119 [==============================] - 0s 246us/step - loss: 0.1166 - accuracy: 0.9755\n",
      "[0.11656564474105835, 0.9754940867424011]\n",
      "Val data eval:\n",
      "119/119 [==============================] - 0s 244us/step - loss: 0.0915 - accuracy: 0.9771\n",
      "[0.09147651493549347, 0.9770750999450684]\n"
     ]
    }
   ],
   "source": [
    "model = load_model(\"./pca_models/pcamodel1_256.h5\")\n",
    "model.summary()\n",
    "\n",
    "print(\"Train data eval:\")\n",
    "print(model.evaluate(reduced_train, train_labels))\n",
    "\n",
    "print(\"Test data eval:\")\n",
    "print(model.evaluate(reduced_test, test_labels))\n",
    "\n",
    "print(\"Val data eval:\")\n",
    "print(model.evaluate(reduced_val, val_labels))\n"
   ]
  },
  {
   "cell_type": "code",
   "execution_count": 148,
   "metadata": {},
   "outputs": [
    {
     "name": "stdout",
     "output_type": "stream",
     "text": [
      "Model: \"Model-PCA256\"\n",
      "_________________________________________________________________\n",
      " Layer (type)                Output Shape              Param #   \n",
      "=================================================================\n",
      " Input (InputLayer)          [(None, 256)]             0         \n",
      "                                                                 \n",
      " Layer1 (Dense)              (None, 256)               65792     \n",
      "                                                                 \n",
      " Layer2 (Dense)              (None, 128)               32896     \n",
      "                                                                 \n",
      " Layer3 (Dense)              (None, 64)                8256      \n",
      "                                                                 \n",
      " Layer4 (Dense)              (None, 32)                2080      \n",
      "                                                                 \n",
      " Output (Dense)              (None, 5)                 165       \n",
      "                                                                 \n",
      "=================================================================\n",
      "Total params: 109,189\n",
      "Trainable params: 109,189\n",
      "Non-trainable params: 0\n",
      "_________________________________________________________________\n",
      "Train data eval:\n",
      "356/356 [==============================] - 0s 361us/step - loss: 0.0076 - accuracy: 0.9976\n",
      "[0.007569477893412113, 0.9976284503936768]\n",
      "Test data eval:\n",
      "119/119 [==============================] - 0s 369us/step - loss: 0.0852 - accuracy: 0.9805\n",
      "[0.08521614223718643, 0.9805006384849548]\n",
      "Val data eval:\n",
      "119/119 [==============================] - 0s 366us/step - loss: 0.0635 - accuracy: 0.9831\n",
      "[0.06346264481544495, 0.9831357002258301]\n"
     ]
    }
   ],
   "source": [
    "model = load_model(\"./pca_models/pcamodel2_256.h5\")\n",
    "model.summary()\n",
    "\n",
    "print(\"Train data eval:\")\n",
    "print(model.evaluate(reduced_train, train_labels))\n",
    "\n",
    "print(\"Test data eval:\")\n",
    "print(model.evaluate(reduced_test, test_labels))\n",
    "\n",
    "print(\"Val data eval:\")\n",
    "print(model.evaluate(reduced_val, val_labels))\n"
   ]
  },
  {
   "attachments": {},
   "cell_type": "markdown",
   "metadata": {},
   "source": [
    "# Autoencoders"
   ]
  },
  {
   "cell_type": "code",
   "execution_count": 149,
   "metadata": {},
   "outputs": [],
   "source": [
    "test_path='./Group_10/test'\n",
    "train_path='./Group_10/train'\n",
    "val_path='./Group_10/val'\n",
    "\n",
    "#import datasets\n",
    "train_data, train_labels = data_import(train_path)\n",
    "test_data, test_labels = data_import(test_path)\n",
    "val_data, val_labels = data_import(val_path)\n",
    "\n",
    "train_data = train_data.reshape(-1, 784)/255.0\n",
    "test_data = test_data.reshape(-1, 784)/255.0\n",
    "val_data = val_data.reshape(-1, 784)/255.0\n",
    "\n",
    "train_labels = relabel(train_labels)\n",
    "test_labels = relabel(test_labels)\n",
    "val_labels = relabel(val_labels)\n",
    "\n",
    "# mean_vec = np.mean(train_data, axis=0) # 784 dimentional vector\n",
    "# print(mean_vec.shape) "
   ]
  },
  {
   "attachments": {},
   "cell_type": "markdown",
   "metadata": {},
   "source": [
    "## One layer 32 bottleneck"
   ]
  },
  {
   "cell_type": "code",
   "execution_count": 208,
   "metadata": {},
   "outputs": [],
   "source": [
    "model = load_model(\"./autoencoder_models/autoencoder_1layer_32.h5\")"
   ]
  },
  {
   "cell_type": "code",
   "execution_count": 209,
   "metadata": {},
   "outputs": [],
   "source": [
    "class1 = train_data[0+100, :]\n",
    "class2 = train_data[2277+100, :]\n",
    "class3 = train_data[2*2277+100, :]\n",
    "class4 = train_data[3*2277+100, :]\n",
    "class5 = train_data[4*2277+100, :]"
   ]
  },
  {
   "cell_type": "code",
   "execution_count": 210,
   "metadata": {},
   "outputs": [
    {
     "name": "stdout",
     "output_type": "stream",
     "text": [
      "Model: \"Autoencoder32\"\n",
      "_________________________________________________________________\n",
      " Layer (type)                Output Shape              Param #   \n",
      "=================================================================\n",
      " Encoder-input (InputLayer)  [(None, 784)]             0         \n",
      "                                                                 \n",
      " Bottleneck-layer (Dense)    (None, 32)                25120     \n",
      "                                                                 \n",
      " Decoder-output (Dense)      (None, 784)               25872     \n",
      "                                                                 \n",
      "=================================================================\n",
      "Total params: 50,992\n",
      "Trainable params: 50,992\n",
      "Non-trainable params: 0\n",
      "_________________________________________________________________\n",
      "1/1 [==============================] - 0s 30ms/step\n",
      "1/1 [==============================] - 0s 8ms/step\n",
      "1/1 [==============================] - 0s 10ms/step\n",
      "1/1 [==============================] - 0s 8ms/step\n",
      "1/1 [==============================] - 0s 10ms/step\n"
     ]
    },
    {
     "data": {
      "text/plain": [
       "(-0.5, 27.5, 27.5, -0.5)"
      ]
     },
     "execution_count": 210,
     "metadata": {},
     "output_type": "execute_result"
    },
    {
     "data": {
      "image/png": "[encoded data removed]",
      "text/plain": [
       "<Figure size 640x480 with 10 Axes>"
      ]
     },
     "metadata": {},
     "output_type": "display_data"
    }
   ],
   "source": [
    "model.summary()\n",
    "\n",
    "plt.figure()\n",
    "plt.subplot(2,5,1)\n",
    "# plt.title(\"Original\")\n",
    "plt.imshow(class1.reshape((28,28)))\n",
    "plt.axis('off')\n",
    "\n",
    "plt.subplot(2,5,2)\n",
    "plt.imshow(class2.reshape((28,28)))\n",
    "plt.axis('off')\n",
    "\n",
    "plt.subplot(2,5,3)\n",
    "plt.imshow(class3.reshape((28,28)))\n",
    "plt.axis('off')\n",
    "\n",
    "plt.subplot(2,5,4)\n",
    "plt.imshow(class4.reshape((28,28)))\n",
    "plt.axis('off')\n",
    "\n",
    "plt.subplot(2,5,5)\n",
    "plt.imshow(class5.reshape((28,28)))\n",
    "plt.axis('off')\n",
    "\n",
    "plt.subplot(2,5,6)\n",
    "# plt.title(\"Original\")\n",
    "recon_class1 = model.predict(class1.reshape((1, -1)))\n",
    "plt.imshow(recon_class1.reshape((28,28)))\n",
    "plt.axis('off')\n",
    "\n",
    "plt.subplot(2,5,7)\n",
    "recon_class2 = model.predict(class2.reshape((1, -1)))\n",
    "plt.imshow(recon_class2.reshape((28,28)))\n",
    "plt.axis('off')\n",
    "\n",
    "plt.subplot(2,5,8)\n",
    "recon_class3 = model.predict(class3.reshape((1, -1)))\n",
    "plt.imshow(recon_class3.reshape((28,28)))\n",
    "plt.axis('off')\n",
    "\n",
    "plt.subplot(2,5,9)\n",
    "recon_class4 = model.predict(class4.reshape((1, -1)))\n",
    "plt.imshow(recon_class4.reshape((28,28)))\n",
    "plt.axis('off')\n",
    "\n",
    "plt.subplot(2,5,10)\n",
    "recon_class5 = model.predict(class5.reshape((1, -1)))\n",
    "plt.imshow(recon_class5.reshape((28,28)))\n",
    "plt.axis('off')"
   ]
  },
  {
   "attachments": {},
   "cell_type": "markdown",
   "metadata": {},
   "source": [
    "### Model 1"
   ]
  },
  {
   "cell_type": "code",
   "execution_count": 211,
   "metadata": {},
   "outputs": [
    {
     "name": "stdout",
     "output_type": "stream",
     "text": [
      "WARNING:tensorflow:No training configuration found in the save file, so the model was *not* compiled. Compile it manually.\n",
      "356/356 [==============================] - 0s 276us/step\n",
      "119/119 [==============================] - 0s 253us/step\n",
      "119/119 [==============================] - 0s 240us/step\n"
     ]
    }
   ],
   "source": [
    "encoder = load_model(\"./autoencoder_models/encoder_1layer_32.h5\")\n",
    "encoded_train = encoder.predict(train_data)\n",
    "encoded_test = encoder.predict(test_data)\n",
    "encoded_val = encoder.predict(val_data)"
   ]
  },
  {
   "cell_type": "code",
   "execution_count": 212,
   "metadata": {},
   "outputs": [
    {
     "name": "stdout",
     "output_type": "stream",
     "text": [
      "Model: \"Model-encoder32\"\n",
      "_________________________________________________________________\n",
      " Layer (type)                Output Shape              Param #   \n",
      "=================================================================\n",
      " Input (InputLayer)          [(None, 32)]              0         \n",
      "                                                                 \n",
      " Layer1 (Dense)              (None, 16)                528       \n",
      "                                                                 \n",
      " Layer2 (Dense)              (None, 8)                 136       \n",
      "                                                                 \n",
      " Output (Dense)              (None, 5)                 45        \n",
      "                                                                 \n",
      "=================================================================\n",
      "Total params: 709\n",
      "Trainable params: 709\n",
      "Non-trainable params: 0\n",
      "_________________________________________________________________\n",
      "Epoch 142: early stopping\n"
     ]
    }
   ],
   "source": [
    "inputs = Input(shape=(32,), name=\"Input\")\n",
    "x = Dense(16, activation='tanh', name=\"Layer1\")(inputs)\n",
    "x = Dense(8, activation='tanh', name=\"Layer2\")(x)\n",
    "# x = Dense(128, activation='tanh', name=\"Layer3\")(x)\n",
    "# x = Dense(64, activation='tanh', name=\"Layer4\")(x)\n",
    "outputs = Dense(5, activation='softmax', name=\"Output\")(x)\n",
    "model = Model(inputs=inputs, outputs=outputs, name=f\"Model-encoder{32}\")\n",
    "model.summary()\n",
    "\n",
    "adam_optimizer = Adam(learning_rate = 0.001)\n",
    "\n",
    "model.compile(optimizer=adam_optimizer,\n",
    "                loss=\"sparse_categorical_crossentropy\",\n",
    "                metrics=['accuracy'])\n",
    "earlystopping = EarlyStopping(monitor='loss',\n",
    "                                min_delta=1e-4,\n",
    "                                patience=5,\n",
    "                                verbose=1)\n",
    "history1 = model.fit(x=encoded_train, y=train_labels,\n",
    "                        batch_size=32, epochs=100_000,\n",
    "                        callbacks=[earlystopping],\n",
    "                        verbose=0, shuffle=True,\n",
    "                        validation_split=0.0)"
   ]
  },
  {
   "cell_type": "code",
   "execution_count": 213,
   "metadata": {},
   "outputs": [
    {
     "name": "stdout",
     "output_type": "stream",
     "text": [
      "Training data evaluation\n",
      "356/356 [==============================] - 0s 242us/step - loss: 0.0055 - accuracy: 0.9993\n",
      "Testing data evaluation\n",
      "119/119 [==============================] - 0s 235us/step - loss: 0.1055 - accuracy: 0.9808\n",
      "Validation data evaluation\n",
      "119/119 [==============================] - 0s 236us/step - loss: 0.0799 - accuracy: 0.9831\n",
      "\n"
     ]
    }
   ],
   "source": [
    "print(\"Training data evaluation\")\n",
    "model.evaluate(encoded_train, train_labels)\n",
    "print(\"Testing data evaluation\")\n",
    "model.evaluate(encoded_test, test_labels)\n",
    "print(\"Validation data evaluation\")\n",
    "model.evaluate(encoded_val, val_labels)\n",
    "print()"
   ]
  },
  {
   "attachments": {},
   "cell_type": "markdown",
   "metadata": {},
   "source": [
    "### Model 2"
   ]
  },
  {
   "cell_type": "code",
   "execution_count": 214,
   "metadata": {},
   "outputs": [
    {
     "name": "stdout",
     "output_type": "stream",
     "text": [
      "Model: \"Model-encoder32\"\n",
      "_________________________________________________________________\n",
      " Layer (type)                Output Shape              Param #   \n",
      "=================================================================\n",
      " Input (InputLayer)          [(None, 32)]              0         \n",
      "                                                                 \n",
      " Layer1 (Dense)              (None, 256)               8448      \n",
      "                                                                 \n",
      " Layer2 (Dense)              (None, 128)               32896     \n",
      "                                                                 \n",
      " Layer3 (Dense)              (None, 64)                8256      \n",
      "                                                                 \n",
      " Layer4 (Dense)              (None, 32)                2080      \n",
      "                                                                 \n",
      " Output (Dense)              (None, 5)                 165       \n",
      "                                                                 \n",
      "=================================================================\n",
      "Total params: 51,845\n",
      "Trainable params: 51,845\n",
      "Non-trainable params: 0\n",
      "_________________________________________________________________\n",
      "Epoch 36: early stopping\n"
     ]
    }
   ],
   "source": [
    "inputs = Input(shape=(32,), name=\"Input\")\n",
    "x = Dense(256, activation='tanh', name=\"Layer1\")(inputs)\n",
    "x = Dense(128, activation='tanh', name=\"Layer2\")(x)\n",
    "x = Dense(64, activation='tanh', name=\"Layer3\")(x)\n",
    "x = Dense(32, activation='tanh', name=\"Layer4\")(x)\n",
    "outputs = Dense(5, activation='softmax', name=\"Output\")(x)\n",
    "model = Model(inputs=inputs, outputs=outputs, name=f\"Model-encoder{32}\")\n",
    "model.summary()\n",
    "\n",
    "adam_optimizer = Adam(learning_rate = 0.001)\n",
    "\n",
    "model.compile(optimizer=adam_optimizer,\n",
    "                    loss=\"sparse_categorical_crossentropy\",\n",
    "                    metrics=['accuracy'])\n",
    "earlystopping = EarlyStopping(monitor='loss',\n",
    "                                        min_delta=1e-4,\n",
    "                                        patience=5,\n",
    "                                        verbose=1)\n",
    "history1 = model.fit(x=encoded_train, y=train_labels,\n",
    "                        batch_size=32, epochs=100_000,\n",
    "                        callbacks=[earlystopping],\n",
    "                        verbose=0, shuffle=True,\n",
    "                        validation_split=0.0)"
   ]
  },
  {
   "cell_type": "code",
   "execution_count": 215,
   "metadata": {},
   "outputs": [
    {
     "name": "stdout",
     "output_type": "stream",
     "text": [
      "Training data evaluation\n",
      "356/356 [==============================] - 0s 317us/step - loss: 0.0018 - accuracy: 0.9997\n",
      "Testing data evaluation\n",
      "119/119 [==============================] - 0s 306us/step - loss: 0.0729 - accuracy: 0.9845\n",
      "Validation data evaluation\n",
      "119/119 [==============================] - 0s 304us/step - loss: 0.0530 - accuracy: 0.9868\n",
      "\n"
     ]
    }
   ],
   "source": [
    "print(\"Training data evaluation\")\n",
    "model.evaluate(encoded_train, train_labels)\n",
    "print(\"Testing data evaluation\")\n",
    "model.evaluate(encoded_test, test_labels)\n",
    "print(\"Validation data evaluation\")\n",
    "model.evaluate(encoded_val, val_labels)\n",
    "print()"
   ]
  },
  {
   "attachments": {},
   "cell_type": "markdown",
   "metadata": {},
   "source": [
    "## Three layer 32 bottleneck"
   ]
  },
  {
   "cell_type": "code",
   "execution_count": 216,
   "metadata": {},
   "outputs": [],
   "source": [
    "model = load_model(\"./autoencoder_models/autoencoder_3layer_32.h5\")"
   ]
  },
  {
   "cell_type": "code",
   "execution_count": 217,
   "metadata": {},
   "outputs": [
    {
     "name": "stdout",
     "output_type": "stream",
     "text": [
      "Model: \"Autoencoder32\"\n",
      "_________________________________________________________________\n",
      " Layer (type)                Output Shape              Param #   \n",
      "=================================================================\n",
      " Encoder-input (InputLayer)  [(None, 784)]             0         \n",
      "                                                                 \n",
      " Encoder-hidden (Dense)      (None, 400)               314000    \n",
      "                                                                 \n",
      " Bottleneck-layer (Dense)    (None, 32)                12832     \n",
      "                                                                 \n",
      " Decoder-hidden (Dense)      (None, 400)               13200     \n",
      "                                                                 \n",
      " Decoder-output (Dense)      (None, 784)               314384    \n",
      "                                                                 \n",
      "=================================================================\n",
      "Total params: 654,416\n",
      "Trainable params: 654,416\n",
      "Non-trainable params: 0\n",
      "_________________________________________________________________\n",
      "1/1 [==============================] - 0s 22ms/step\n",
      "1/1 [==============================] - 0s 7ms/step\n",
      "1/1 [==============================] - 0s 7ms/step\n",
      "1/1 [==============================] - 0s 7ms/step\n",
      "1/1 [==============================] - 0s 7ms/step\n"
     ]
    },
    {
     "data": {
      "text/plain": [
       "(-0.5, 27.5, 27.5, -0.5)"
      ]
     },
     "execution_count": 217,
     "metadata": {},
     "output_type": "execute_result"
    },
    {
     "data": {
      "image/png": "[encoded data removed]",
      "text/plain": [
       "<Figure size 640x480 with 10 Axes>"
      ]
     },
     "metadata": {},
     "output_type": "display_data"
    }
   ],
   "source": [
    "model.summary()\n",
    "\n",
    "plt.figure()\n",
    "plt.subplot(2,5,1)\n",
    "# plt.title(\"Original\")\n",
    "plt.imshow(class1.reshape((28,28)))\n",
    "plt.axis('off')\n",
    "\n",
    "plt.subplot(2,5,2)\n",
    "plt.imshow(class2.reshape((28,28)))\n",
    "plt.axis('off')\n",
    "\n",
    "plt.subplot(2,5,3)\n",
    "plt.imshow(class3.reshape((28,28)))\n",
    "plt.axis('off')\n",
    "\n",
    "plt.subplot(2,5,4)\n",
    "plt.imshow(class4.reshape((28,28)))\n",
    "plt.axis('off')\n",
    "\n",
    "plt.subplot(2,5,5)\n",
    "plt.imshow(class5.reshape((28,28)))\n",
    "plt.axis('off')\n",
    "\n",
    "plt.subplot(2,5,6)\n",
    "# plt.title(\"Original\")\n",
    "recon_class1 = model.predict(class1.reshape((1, -1)))\n",
    "plt.imshow(recon_class1.reshape((28,28)))\n",
    "plt.axis('off')\n",
    "\n",
    "plt.subplot(2,5,7)\n",
    "recon_class2 = model.predict(class2.reshape((1, -1)))\n",
    "plt.imshow(recon_class2.reshape((28,28)))\n",
    "plt.axis('off')\n",
    "\n",
    "plt.subplot(2,5,8)\n",
    "recon_class3 = model.predict(class3.reshape((1, -1)))\n",
    "plt.imshow(recon_class3.reshape((28,28)))\n",
    "plt.axis('off')\n",
    "\n",
    "plt.subplot(2,5,9)\n",
    "recon_class4 = model.predict(class4.reshape((1, -1)))\n",
    "plt.imshow(recon_class4.reshape((28,28)))\n",
    "plt.axis('off')\n",
    "\n",
    "plt.subplot(2,5,10)\n",
    "recon_class5 = model.predict(class5.reshape((1, -1)))\n",
    "plt.imshow(recon_class5.reshape((28,28)))\n",
    "plt.axis('off')"
   ]
  },
  {
   "attachments": {},
   "cell_type": "markdown",
   "metadata": {},
   "source": [
    "### Model 1"
   ]
  },
  {
   "cell_type": "code",
   "execution_count": 218,
   "metadata": {},
   "outputs": [
    {
     "name": "stdout",
     "output_type": "stream",
     "text": [
      "WARNING:tensorflow:No training configuration found in the save file, so the model was *not* compiled. Compile it manually.\n",
      "356/356 [==============================] - 0s 412us/step\n",
      "119/119 [==============================] - 0s 373us/step\n",
      "119/119 [==============================] - 0s 365us/step\n"
     ]
    }
   ],
   "source": [
    "encoder = load_model(\"./autoencoder_models/encoder_3layer_32.h5\")\n",
    "encoded_train = encoder.predict(train_data)\n",
    "encoded_test = encoder.predict(test_data)\n",
    "encoded_val = encoder.predict(val_data)"
   ]
  },
  {
   "cell_type": "code",
   "execution_count": 219,
   "metadata": {},
   "outputs": [
    {
     "name": "stdout",
     "output_type": "stream",
     "text": [
      "Model: \"Model-encoder32\"\n",
      "_________________________________________________________________\n",
      " Layer (type)                Output Shape              Param #   \n",
      "=================================================================\n",
      " Input (InputLayer)          [(None, 32)]              0         \n",
      "                                                                 \n",
      " Layer1 (Dense)              (None, 16)                528       \n",
      "                                                                 \n",
      " Layer2 (Dense)              (None, 8)                 136       \n",
      "                                                                 \n",
      " Output (Dense)              (None, 5)                 45        \n",
      "                                                                 \n",
      "=================================================================\n",
      "Total params: 709\n",
      "Trainable params: 709\n",
      "Non-trainable params: 0\n",
      "_________________________________________________________________\n",
      "Epoch 161: early stopping\n"
     ]
    }
   ],
   "source": [
    "inputs = Input(shape=(32,), name=\"Input\")\n",
    "x = Dense(16, activation='tanh', name=\"Layer1\")(inputs)\n",
    "x = Dense(8, activation='tanh', name=\"Layer2\")(x)\n",
    "# x = Dense(128, activation='tanh', name=\"Layer3\")(x)\n",
    "# x = Dense(64, activation='tanh', name=\"Layer4\")(x)\n",
    "outputs = Dense(5, activation='softmax', name=\"Output\")(x)\n",
    "model = Model(inputs=inputs, outputs=outputs, name=f\"Model-encoder{32}\")\n",
    "model.summary()\n",
    "\n",
    "adam_optimizer = Adam(learning_rate = 0.001)\n",
    "\n",
    "model.compile(optimizer=adam_optimizer,\n",
    "                    loss=\"sparse_categorical_crossentropy\",\n",
    "                    metrics=['accuracy'])\n",
    "earlystopping = EarlyStopping(monitor='loss',\n",
    "                                        min_delta=1e-4,\n",
    "                                        patience=5,\n",
    "                                        verbose=1)\n",
    "history1 = model.fit(x=encoded_train, y=train_labels,\n",
    "                        batch_size=32, epochs=100_000,\n",
    "                        callbacks=[earlystopping],\n",
    "                        verbose=0, shuffle=True,\n",
    "                        validation_split=0.0)"
   ]
  },
  {
   "cell_type": "code",
   "execution_count": 220,
   "metadata": {},
   "outputs": [
    {
     "name": "stdout",
     "output_type": "stream",
     "text": [
      "Training data evaluation\n",
      "356/356 [==============================] - 0s 240us/step - loss: 0.0033 - accuracy: 0.9997\n",
      "Testing data evaluation\n",
      "119/119 [==============================] - 0s 236us/step - loss: 0.1137 - accuracy: 0.9779\n",
      "Validation data evaluation\n",
      "119/119 [==============================] - 0s 238us/step - loss: 0.1138 - accuracy: 0.9818\n",
      "\n"
     ]
    }
   ],
   "source": [
    "print(\"Training data evaluation\")\n",
    "model.evaluate(encoded_train, train_labels)\n",
    "print(\"Testing data evaluation\")\n",
    "model.evaluate(encoded_test, test_labels)\n",
    "print(\"Validation data evaluation\")\n",
    "model.evaluate(encoded_val, val_labels)\n",
    "print()"
   ]
  },
  {
   "cell_type": "markdown",
   "metadata": {},
   "source": [
    "### Model 2"
   ]
  },
  {
   "cell_type": "code",
   "execution_count": 221,
   "metadata": {},
   "outputs": [
    {
     "name": "stdout",
     "output_type": "stream",
     "text": [
      "Model: \"Model-encoder32\"\n",
      "_________________________________________________________________\n",
      " Layer (type)                Output Shape              Param #   \n",
      "=================================================================\n",
      " Input (InputLayer)          [(None, 32)]              0         \n",
      "                                                                 \n",
      " Layer1 (Dense)              (None, 256)               8448      \n",
      "                                                                 \n",
      " Layer2 (Dense)              (None, 128)               32896     \n",
      "                                                                 \n",
      " Layer3 (Dense)              (None, 64)                8256      \n",
      "                                                                 \n",
      " Layer4 (Dense)              (None, 32)                2080      \n",
      "                                                                 \n",
      " Output (Dense)              (None, 5)                 165       \n",
      "                                                                 \n",
      "=================================================================\n",
      "Total params: 51,845\n",
      "Trainable params: 51,845\n",
      "Non-trainable params: 0\n",
      "_________________________________________________________________\n",
      "Epoch 26: early stopping\n"
     ]
    }
   ],
   "source": [
    "inputs = Input(shape=(32,), name=\"Input\")\n",
    "x = Dense(256, activation='tanh', name=\"Layer1\")(inputs)\n",
    "x = Dense(128, activation='tanh', name=\"Layer2\")(x)\n",
    "x = Dense(64, activation='tanh', name=\"Layer3\")(x)\n",
    "x = Dense(32, activation='tanh', name=\"Layer4\")(x)\n",
    "outputs = Dense(5, activation='softmax', name=\"Output\")(x)\n",
    "model = Model(inputs=inputs, outputs=outputs, name=f\"Model-encoder{32}\")\n",
    "model.summary()\n",
    "\n",
    "adam_optimizer = Adam(learning_rate = 0.001)\n",
    "\n",
    "model.compile(optimizer=adam_optimizer,\n",
    "                    loss=\"sparse_categorical_crossentropy\",\n",
    "                    metrics=['accuracy'])\n",
    "earlystopping = EarlyStopping(monitor='loss',\n",
    "                                        min_delta=1e-4,\n",
    "                                        patience=5,\n",
    "                                        verbose=1)\n",
    "history1 = model.fit(x=encoded_train, y=train_labels,\n",
    "                        batch_size=32, epochs=100_000,\n",
    "                        callbacks=[earlystopping],\n",
    "                        verbose=0, shuffle=True,\n",
    "                        validation_split=0.0)"
   ]
  },
  {
   "cell_type": "code",
   "execution_count": 222,
   "metadata": {},
   "outputs": [
    {
     "name": "stdout",
     "output_type": "stream",
     "text": [
      "Training data evaluation\n",
      "356/356 [==============================] - 0s 307us/step - loss: 0.0028 - accuracy: 0.9992\n",
      "Testing data evaluation\n",
      "119/119 [==============================] - 0s 301us/step - loss: 0.0751 - accuracy: 0.9866\n",
      "Validation data evaluation\n",
      "119/119 [==============================] - 0s 304us/step - loss: 0.0538 - accuracy: 0.9850\n",
      "\n"
     ]
    }
   ],
   "source": [
    "print(\"Training data evaluation\")\n",
    "model.evaluate(encoded_train, train_labels)\n",
    "print(\"Testing data evaluation\")\n",
    "model.evaluate(encoded_test, test_labels)\n",
    "print(\"Validation data evaluation\")\n",
    "model.evaluate(encoded_val, val_labels)\n",
    "print()"
   ]
  },
  {
   "attachments": {},
   "cell_type": "markdown",
   "metadata": {},
   "source": [
    "## One layer 64 bottleneck"
   ]
  },
  {
   "cell_type": "code",
   "execution_count": 223,
   "metadata": {},
   "outputs": [],
   "source": [
    "model = load_model(\"./autoencoder_models/autoencoder_1layer_64.h5\")"
   ]
  },
  {
   "cell_type": "code",
   "execution_count": 224,
   "metadata": {},
   "outputs": [
    {
     "name": "stdout",
     "output_type": "stream",
     "text": [
      "Model: \"Autoencoder64\"\n",
      "_________________________________________________________________\n",
      " Layer (type)                Output Shape              Param #   \n",
      "=================================================================\n",
      " Encoder-input (InputLayer)  [(None, 784)]             0         \n",
      "                                                                 \n",
      " Bottleneck-layer (Dense)    (None, 64)                50240     \n",
      "                                                                 \n",
      " Decoder-output (Dense)      (None, 784)               50960     \n",
      "                                                                 \n",
      "=================================================================\n",
      "Total params: 101,200\n",
      "Trainable params: 101,200\n",
      "Non-trainable params: 0\n",
      "_________________________________________________________________\n",
      "1/1 [==============================] - 0s 18ms/step\n",
      "1/1 [==============================] - 0s 7ms/step\n",
      "1/1 [==============================] - 0s 7ms/step\n",
      "1/1 [==============================] - 0s 7ms/step\n",
      "1/1 [==============================] - 0s 7ms/step\n"
     ]
    },
    {
     "data": {
      "text/plain": [
       "(-0.5, 27.5, 27.5, -0.5)"
      ]
     },
     "execution_count": 224,
     "metadata": {},
     "output_type": "execute_result"
    },
    {
     "data": {
      "image/png": "[encoded data removed]",
      "text/plain": [
       "<Figure size 640x480 with 10 Axes>"
      ]
     },
     "metadata": {},
     "output_type": "display_data"
    }
   ],
   "source": [
    "model.summary()\n",
    "\n",
    "plt.figure()\n",
    "plt.subplot(2,5,1)\n",
    "# plt.title(\"Original\")\n",
    "plt.imshow(class1.reshape((28,28)))\n",
    "plt.axis('off')\n",
    "\n",
    "plt.subplot(2,5,2)\n",
    "plt.imshow(class2.reshape((28,28)))\n",
    "plt.axis('off')\n",
    "\n",
    "plt.subplot(2,5,3)\n",
    "plt.imshow(class3.reshape((28,28)))\n",
    "plt.axis('off')\n",
    "\n",
    "plt.subplot(2,5,4)\n",
    "plt.imshow(class4.reshape((28,28)))\n",
    "plt.axis('off')\n",
    "\n",
    "plt.subplot(2,5,5)\n",
    "plt.imshow(class5.reshape((28,28)))\n",
    "plt.axis('off')\n",
    "\n",
    "plt.subplot(2,5,6)\n",
    "# plt.title(\"Original\")\n",
    "recon_class1 = model.predict(class1.reshape((1, -1)))\n",
    "plt.imshow(recon_class1.reshape((28,28)))\n",
    "plt.axis('off')\n",
    "\n",
    "plt.subplot(2,5,7)\n",
    "recon_class2 = model.predict(class2.reshape((1, -1)))\n",
    "plt.imshow(recon_class2.reshape((28,28)))\n",
    "plt.axis('off')\n",
    "\n",
    "plt.subplot(2,5,8)\n",
    "recon_class3 = model.predict(class3.reshape((1, -1)))\n",
    "plt.imshow(recon_class3.reshape((28,28)))\n",
    "plt.axis('off')\n",
    "\n",
    "plt.subplot(2,5,9)\n",
    "recon_class4 = model.predict(class4.reshape((1, -1)))\n",
    "plt.imshow(recon_class4.reshape((28,28)))\n",
    "plt.axis('off')\n",
    "\n",
    "plt.subplot(2,5,10)\n",
    "recon_class5 = model.predict(class5.reshape((1, -1)))\n",
    "plt.imshow(recon_class5.reshape((28,28)))\n",
    "plt.axis('off')"
   ]
  },
  {
   "cell_type": "markdown",
   "metadata": {},
   "source": [
    "### Model 1"
   ]
  },
  {
   "cell_type": "code",
   "execution_count": 225,
   "metadata": {},
   "outputs": [
    {
     "name": "stdout",
     "output_type": "stream",
     "text": [
      "WARNING:tensorflow:No training configuration found in the save file, so the model was *not* compiled. Compile it manually.\n",
      "356/356 [==============================] - 0s 275us/step\n",
      "119/119 [==============================] - 0s 286us/step\n",
      "119/119 [==============================] - 0s 254us/step\n"
     ]
    }
   ],
   "source": [
    "encoder = load_model(\"./autoencoder_models/encoder_1layer_64.h5\")\n",
    "encoded_train = encoder.predict(train_data)\n",
    "encoded_test = encoder.predict(test_data)\n",
    "encoded_val = encoder.predict(val_data)"
   ]
  },
  {
   "cell_type": "code",
   "execution_count": 226,
   "metadata": {},
   "outputs": [
    {
     "name": "stdout",
     "output_type": "stream",
     "text": [
      "Model: \"Model-encoder64\"\n",
      "_________________________________________________________________\n",
      " Layer (type)                Output Shape              Param #   \n",
      "=================================================================\n",
      " Input (InputLayer)          [(None, 64)]              0         \n",
      "                                                                 \n",
      " Layer1 (Dense)              (None, 16)                1040      \n",
      "                                                                 \n",
      " Layer2 (Dense)              (None, 8)                 136       \n",
      "                                                                 \n",
      " Output (Dense)              (None, 5)                 45        \n",
      "                                                                 \n",
      "=================================================================\n",
      "Total params: 1,221\n",
      "Trainable params: 1,221\n",
      "Non-trainable params: 0\n",
      "_________________________________________________________________\n",
      "Epoch 108: early stopping\n"
     ]
    }
   ],
   "source": [
    "inputs = Input(shape=(64,), name=\"Input\")\n",
    "x = Dense(16, activation='tanh', name=\"Layer1\")(inputs)\n",
    "x = Dense(8, activation='tanh', name=\"Layer2\")(x)\n",
    "# x = Dense(128, activation='tanh', name=\"Layer3\")(x)\n",
    "# x = Dense(64, activation='tanh', name=\"Layer4\")(x)\n",
    "outputs = Dense(5, activation='softmax', name=\"Output\")(x)\n",
    "model = Model(inputs=inputs, outputs=outputs, name=f\"Model-encoder{64}\")\n",
    "model.summary()\n",
    "\n",
    "adam_optimizer = Adam(learning_rate = 0.001)\n",
    "\n",
    "model.compile(optimizer=adam_optimizer,\n",
    "                loss=\"sparse_categorical_crossentropy\",\n",
    "                metrics=['accuracy'])\n",
    "earlystopping = EarlyStopping(monitor='loss',\n",
    "                                min_delta=1e-4,\n",
    "                                patience=5,\n",
    "                                verbose=1)\n",
    "history1 = model.fit(x=encoded_train, y=train_labels,\n",
    "                        batch_size=32, epochs=100_000,\n",
    "                        callbacks=[earlystopping],\n",
    "                        verbose=0, shuffle=True,\n",
    "                        validation_split=0.0)"
   ]
  },
  {
   "cell_type": "code",
   "execution_count": 227,
   "metadata": {},
   "outputs": [
    {
     "name": "stdout",
     "output_type": "stream",
     "text": [
      "Training data evaluation\n",
      "356/356 [==============================] - 0s 243us/step - loss: 8.0464e-04 - accuracy: 0.9999\n",
      "Testing data evaluation\n",
      "119/119 [==============================] - 0s 240us/step - loss: 0.1366 - accuracy: 0.9784\n",
      "Validation data evaluation\n",
      "119/119 [==============================] - 0s 235us/step - loss: 0.0976 - accuracy: 0.9792\n",
      "\n"
     ]
    }
   ],
   "source": [
    "print(\"Training data evaluation\")\n",
    "model.evaluate(encoded_train, train_labels)\n",
    "print(\"Testing data evaluation\")\n",
    "model.evaluate(encoded_test, test_labels)\n",
    "print(\"Validation data evaluation\")\n",
    "model.evaluate(encoded_val, val_labels)\n",
    "print()"
   ]
  },
  {
   "cell_type": "markdown",
   "metadata": {},
   "source": [
    "### Model 2"
   ]
  },
  {
   "cell_type": "code",
   "execution_count": 228,
   "metadata": {},
   "outputs": [
    {
     "name": "stdout",
     "output_type": "stream",
     "text": [
      "Model: \"Model-encoder64\"\n",
      "_________________________________________________________________\n",
      " Layer (type)                Output Shape              Param #   \n",
      "=================================================================\n",
      " Input (InputLayer)          [(None, 64)]              0         \n",
      "                                                                 \n",
      " Layer1 (Dense)              (None, 256)               16640     \n",
      "                                                                 \n",
      " Layer2 (Dense)              (None, 128)               32896     \n",
      "                                                                 \n",
      " Layer3 (Dense)              (None, 64)                8256      \n",
      "                                                                 \n",
      " Layer4 (Dense)              (None, 32)                2080      \n",
      "                                                                 \n",
      " Output (Dense)              (None, 5)                 165       \n",
      "                                                                 \n",
      "=================================================================\n",
      "Total params: 60,037\n",
      "Trainable params: 60,037\n",
      "Non-trainable params: 0\n",
      "_________________________________________________________________\n",
      "Epoch 41: early stopping\n"
     ]
    }
   ],
   "source": [
    "inputs = Input(shape=(64,), name=\"Input\")\n",
    "x = Dense(256, activation='tanh', name=\"Layer1\")(inputs)\n",
    "x = Dense(128, activation='tanh', name=\"Layer2\")(x)\n",
    "x = Dense(64, activation='tanh', name=\"Layer3\")(x)\n",
    "x = Dense(32, activation='tanh', name=\"Layer4\")(x)\n",
    "outputs = Dense(5, activation='softmax', name=\"Output\")(x)\n",
    "model = Model(inputs=inputs, outputs=outputs, name=f\"Model-encoder{64}\")\n",
    "model.summary()\n",
    "\n",
    "adam_optimizer = Adam(learning_rate = 0.001)\n",
    "\n",
    "model.compile(optimizer=adam_optimizer,\n",
    "                    loss=\"sparse_categorical_crossentropy\",\n",
    "                    metrics=['accuracy'])\n",
    "earlystopping = EarlyStopping(monitor='loss',\n",
    "                                        min_delta=1e-4,\n",
    "                                        patience=5,\n",
    "                                        verbose=1)\n",
    "history1 = model.fit(x=encoded_train, y=train_labels,\n",
    "                        batch_size=32, epochs=100_000,\n",
    "                        callbacks=[earlystopping],\n",
    "                        verbose=0, shuffle=True,\n",
    "                        validation_split=0.0)"
   ]
  },
  {
   "cell_type": "code",
   "execution_count": 229,
   "metadata": {},
   "outputs": [
    {
     "name": "stdout",
     "output_type": "stream",
     "text": [
      "Training data evaluation\n",
      "356/356 [==============================] - 0s 329us/step - loss: 3.1206e-05 - accuracy: 1.0000\n",
      "Testing data evaluation\n",
      "119/119 [==============================] - 0s 326us/step - loss: 0.0827 - accuracy: 0.9855\n",
      "Validation data evaluation\n",
      "119/119 [==============================] - 0s 323us/step - loss: 0.0633 - accuracy: 0.9892\n",
      "\n"
     ]
    }
   ],
   "source": [
    "print(\"Training data evaluation\")\n",
    "model.evaluate(encoded_train, train_labels)\n",
    "print(\"Testing data evaluation\")\n",
    "model.evaluate(encoded_test, test_labels)\n",
    "print(\"Validation data evaluation\")\n",
    "model.evaluate(encoded_val, val_labels)\n",
    "print()"
   ]
  },
  {
   "attachments": {},
   "cell_type": "markdown",
   "metadata": {},
   "source": [
    "## Three layer 64 bottleneck"
   ]
  },
  {
   "cell_type": "code",
   "execution_count": 230,
   "metadata": {},
   "outputs": [],
   "source": [
    "model = load_model(\"./autoencoder_models/autoencoder_3layer_64.h5\")"
   ]
  },
  {
   "cell_type": "code",
   "execution_count": 231,
   "metadata": {},
   "outputs": [
    {
     "name": "stdout",
     "output_type": "stream",
     "text": [
      "Model: \"Autoencoder64\"\n",
      "_________________________________________________________________\n",
      " Layer (type)                Output Shape              Param #   \n",
      "=================================================================\n",
      " Encoder-input (InputLayer)  [(None, 784)]             0         \n",
      "                                                                 \n",
      " Encoder-hidden (Dense)      (None, 400)               314000    \n",
      "                                                                 \n",
      " Bottleneck-layer (Dense)    (None, 64)                25664     \n",
      "                                                                 \n",
      " Decoder-hidden (Dense)      (None, 400)               26000     \n",
      "                                                                 \n",
      " Decoder-output (Dense)      (None, 784)               314384    \n",
      "                                                                 \n",
      "=================================================================\n",
      "Total params: 680,048\n",
      "Trainable params: 680,048\n",
      "Non-trainable params: 0\n",
      "_________________________________________________________________\n",
      "1/1 [==============================] - 0s 22ms/step\n",
      "1/1 [==============================] - 0s 7ms/step\n",
      "1/1 [==============================] - 0s 7ms/step\n",
      "1/1 [==============================] - 0s 7ms/step\n",
      "1/1 [==============================] - 0s 7ms/step\n"
     ]
    },
    {
     "data": {
      "text/plain": [
       "(-0.5, 27.5, 27.5, -0.5)"
      ]
     },
     "execution_count": 231,
     "metadata": {},
     "output_type": "execute_result"
    },
    {
     "data": {
      "image/png": "[encoded data removed]",
      "text/plain": [
       "<Figure size 640x480 with 10 Axes>"
      ]
     },
     "metadata": {},
     "output_type": "display_data"
    }
   ],
   "source": [
    "model.summary()\n",
    "\n",
    "plt.figure()\n",
    "plt.subplot(2,5,1)\n",
    "# plt.title(\"Original\")\n",
    "plt.imshow(class1.reshape((28,28)))\n",
    "plt.axis('off')\n",
    "\n",
    "plt.subplot(2,5,2)\n",
    "plt.imshow(class2.reshape((28,28)))\n",
    "plt.axis('off')\n",
    "\n",
    "plt.subplot(2,5,3)\n",
    "plt.imshow(class3.reshape((28,28)))\n",
    "plt.axis('off')\n",
    "\n",
    "plt.subplot(2,5,4)\n",
    "plt.imshow(class4.reshape((28,28)))\n",
    "plt.axis('off')\n",
    "\n",
    "plt.subplot(2,5,5)\n",
    "plt.imshow(class5.reshape((28,28)))\n",
    "plt.axis('off')\n",
    "\n",
    "plt.subplot(2,5,6)\n",
    "# plt.title(\"Original\")\n",
    "recon_class1 = model.predict(class1.reshape((1, -1)))\n",
    "plt.imshow(recon_class1.reshape((28,28)))\n",
    "plt.axis('off')\n",
    "\n",
    "plt.subplot(2,5,7)\n",
    "recon_class2 = model.predict(class2.reshape((1, -1)))\n",
    "plt.imshow(recon_class2.reshape((28,28)))\n",
    "plt.axis('off')\n",
    "\n",
    "plt.subplot(2,5,8)\n",
    "recon_class3 = model.predict(class3.reshape((1, -1)))\n",
    "plt.imshow(recon_class3.reshape((28,28)))\n",
    "plt.axis('off')\n",
    "\n",
    "plt.subplot(2,5,9)\n",
    "recon_class4 = model.predict(class4.reshape((1, -1)))\n",
    "plt.imshow(recon_class4.reshape((28,28)))\n",
    "plt.axis('off')\n",
    "\n",
    "plt.subplot(2,5,10)\n",
    "recon_class5 = model.predict(class5.reshape((1, -1)))\n",
    "plt.imshow(recon_class5.reshape((28,28)))\n",
    "plt.axis('off')"
   ]
  },
  {
   "attachments": {},
   "cell_type": "markdown",
   "metadata": {},
   "source": [
    "### Model 1"
   ]
  },
  {
   "cell_type": "code",
   "execution_count": 232,
   "metadata": {},
   "outputs": [
    {
     "name": "stdout",
     "output_type": "stream",
     "text": [
      "WARNING:tensorflow:No training configuration found in the save file, so the model was *not* compiled. Compile it manually.\n",
      "356/356 [==============================] - 0s 438us/step\n",
      "119/119 [==============================] - 0s 370us/step\n",
      "119/119 [==============================] - 0s 374us/step\n"
     ]
    }
   ],
   "source": [
    "encoder = load_model(\"./autoencoder_models/encoder_3layer_64.h5\")\n",
    "encoded_train = encoder.predict(train_data)\n",
    "encoded_test = encoder.predict(test_data)\n",
    "encoded_val = encoder.predict(val_data)"
   ]
  },
  {
   "cell_type": "code",
   "execution_count": 233,
   "metadata": {},
   "outputs": [
    {
     "name": "stdout",
     "output_type": "stream",
     "text": [
      "Model: \"Model-encoder64\"\n",
      "_________________________________________________________________\n",
      " Layer (type)                Output Shape              Param #   \n",
      "=================================================================\n",
      " Input (InputLayer)          [(None, 64)]              0         \n",
      "                                                                 \n",
      " Layer1 (Dense)              (None, 16)                1040      \n",
      "                                                                 \n",
      " Layer2 (Dense)              (None, 8)                 136       \n",
      "                                                                 \n",
      " Output (Dense)              (None, 5)                 45        \n",
      "                                                                 \n",
      "=================================================================\n",
      "Total params: 1,221\n",
      "Trainable params: 1,221\n",
      "Non-trainable params: 0\n",
      "_________________________________________________________________\n",
      "Epoch 128: early stopping\n"
     ]
    }
   ],
   "source": [
    "inputs = Input(shape=(64,), name=\"Input\")\n",
    "x = Dense(16, activation='tanh', name=\"Layer1\")(inputs)\n",
    "x = Dense(8, activation='tanh', name=\"Layer2\")(x)\n",
    "# x = Dense(128, activation='tanh', name=\"Layer3\")(x)\n",
    "# x = Dense(64, activation='tanh', name=\"Layer4\")(x)\n",
    "outputs = Dense(5, activation='softmax', name=\"Output\")(x)\n",
    "model = Model(inputs=inputs, outputs=outputs, name=f\"Model-encoder{64}\")\n",
    "model.summary()\n",
    "\n",
    "adam_optimizer = Adam(learning_rate = 0.001)\n",
    "\n",
    "model.compile(optimizer=adam_optimizer,\n",
    "                loss=\"sparse_categorical_crossentropy\",\n",
    "                metrics=['accuracy'])\n",
    "earlystopping = EarlyStopping(monitor='loss',\n",
    "                                min_delta=1e-4,\n",
    "                                patience=5,\n",
    "                                verbose=1)\n",
    "history1 = model.fit(x=encoded_train, y=train_labels,\n",
    "                        batch_size=32, epochs=100_000,\n",
    "                        callbacks=[earlystopping],\n",
    "                        verbose=0, shuffle=True,\n",
    "                        validation_split=0.0)"
   ]
  },
  {
   "cell_type": "code",
   "execution_count": 234,
   "metadata": {},
   "outputs": [
    {
     "name": "stdout",
     "output_type": "stream",
     "text": [
      "Training data evaluation\n",
      "356/356 [==============================] - 0s 241us/step - loss: 0.0013 - accuracy: 0.9999\n",
      "Testing data evaluation\n",
      "119/119 [==============================] - 0s 239us/step - loss: 0.1329 - accuracy: 0.9784\n",
      "Validation data evaluation\n",
      "119/119 [==============================] - 0s 239us/step - loss: 0.1113 - accuracy: 0.9802\n",
      "\n"
     ]
    }
   ],
   "source": [
    "print(\"Training data evaluation\")\n",
    "model.evaluate(encoded_train, train_labels)\n",
    "print(\"Testing data evaluation\")\n",
    "model.evaluate(encoded_test, test_labels)\n",
    "print(\"Validation data evaluation\")\n",
    "model.evaluate(encoded_val, val_labels)\n",
    "print()"
   ]
  },
  {
   "attachments": {},
   "cell_type": "markdown",
   "metadata": {},
   "source": [
    "### Model 2"
   ]
  },
  {
   "cell_type": "code",
   "execution_count": 235,
   "metadata": {},
   "outputs": [
    {
     "name": "stdout",
     "output_type": "stream",
     "text": [
      "Model: \"Model-encoder64\"\n",
      "_________________________________________________________________\n",
      " Layer (type)                Output Shape              Param #   \n",
      "=================================================================\n",
      " Input (InputLayer)          [(None, 64)]              0         \n",
      "                                                                 \n",
      " Layer1 (Dense)              (None, 256)               16640     \n",
      "                                                                 \n",
      " Layer2 (Dense)              (None, 128)               32896     \n",
      "                                                                 \n",
      " Layer3 (Dense)              (None, 64)                8256      \n",
      "                                                                 \n",
      " Layer4 (Dense)              (None, 32)                2080      \n",
      "                                                                 \n",
      " Output (Dense)              (None, 5)                 165       \n",
      "                                                                 \n",
      "=================================================================\n",
      "Total params: 60,037\n",
      "Trainable params: 60,037\n",
      "Non-trainable params: 0\n",
      "_________________________________________________________________\n",
      "Epoch 29: early stopping\n"
     ]
    }
   ],
   "source": [
    "inputs = Input(shape=(64,), name=\"Input\")\n",
    "x = Dense(256, activation='tanh', name=\"Layer1\")(inputs)\n",
    "x = Dense(128, activation='tanh', name=\"Layer2\")(x)\n",
    "x = Dense(64, activation='tanh', name=\"Layer3\")(x)\n",
    "x = Dense(32, activation='tanh', name=\"Layer4\")(x)\n",
    "outputs = Dense(5, activation='softmax', name=\"Output\")(x)\n",
    "model = Model(inputs=inputs, outputs=outputs, name=f\"Model-encoder{64}\")\n",
    "model.summary()\n",
    "\n",
    "adam_optimizer = Adam(learning_rate = 0.001)\n",
    "\n",
    "model.compile(optimizer=adam_optimizer,\n",
    "                    loss=\"sparse_categorical_crossentropy\",\n",
    "                    metrics=['accuracy'])\n",
    "earlystopping = EarlyStopping(monitor='loss',\n",
    "                                        min_delta=1e-4,\n",
    "                                        patience=5,\n",
    "                                        verbose=1)\n",
    "history1 = model.fit(x=encoded_train, y=train_labels,\n",
    "                        batch_size=32, epochs=100_000,\n",
    "                        callbacks=[earlystopping],\n",
    "                        verbose=0, shuffle=True,\n",
    "                        validation_split=0.0)"
   ]
  },
  {
   "cell_type": "code",
   "execution_count": 236,
   "metadata": {},
   "outputs": [
    {
     "name": "stdout",
     "output_type": "stream",
     "text": [
      "Training data evaluation\n",
      "356/356 [==============================] - 0s 323us/step - loss: 0.0022 - accuracy: 0.9994\n",
      "Testing data evaluation\n",
      "119/119 [==============================] - 0s 325us/step - loss: 0.0818 - accuracy: 0.9831\n",
      "Validation data evaluation\n",
      "119/119 [==============================] - 0s 317us/step - loss: 0.0772 - accuracy: 0.9842\n",
      "\n"
     ]
    }
   ],
   "source": [
    "print(\"Training data evaluation\")\n",
    "model.evaluate(encoded_train, train_labels)\n",
    "print(\"Testing data evaluation\")\n",
    "model.evaluate(encoded_test, test_labels)\n",
    "print(\"Validation data evaluation\")\n",
    "model.evaluate(encoded_val, val_labels)\n",
    "print()"
   ]
  },
  {
   "attachments": {},
   "cell_type": "markdown",
   "metadata": {},
   "source": [
    "## One layer 128 bottleneck"
   ]
  },
  {
   "cell_type": "code",
   "execution_count": 237,
   "metadata": {},
   "outputs": [],
   "source": [
    "model = load_model(\"./autoencoder_models/autoencoder_1layer_128.h5\")"
   ]
  },
  {
   "cell_type": "code",
   "execution_count": 238,
   "metadata": {},
   "outputs": [
    {
     "name": "stdout",
     "output_type": "stream",
     "text": [
      "Model: \"Autoencoder128\"\n",
      "_________________________________________________________________\n",
      " Layer (type)                Output Shape              Param #   \n",
      "=================================================================\n",
      " Encoder-input (InputLayer)  [(None, 784)]             0         \n",
      "                                                                 \n",
      " Bottleneck-layer (Dense)    (None, 128)               100480    \n",
      "                                                                 \n",
      " Decoder-output (Dense)      (None, 784)               101136    \n",
      "                                                                 \n",
      "=================================================================\n",
      "Total params: 201,616\n",
      "Trainable params: 201,616\n",
      "Non-trainable params: 0\n",
      "_________________________________________________________________\n",
      "1/1 [==============================] - 0s 18ms/step\n",
      "1/1 [==============================] - 0s 8ms/step\n",
      "1/1 [==============================] - 0s 8ms/step\n",
      "1/1 [==============================] - 0s 7ms/step\n",
      "1/1 [==============================] - 0s 7ms/step\n"
     ]
    },
    {
     "data": {
      "text/plain": [
       "(-0.5, 27.5, 27.5, -0.5)"
      ]
     },
     "execution_count": 238,
     "metadata": {},
     "output_type": "execute_result"
    },
    {
     "data": {
      "image/png": "[encoded data removed]",
      "text/plain": [
       "<Figure size 640x480 with 10 Axes>"
      ]
     },
     "metadata": {},
     "output_type": "display_data"
    }
   ],
   "source": [
    "model.summary()\n",
    "\n",
    "plt.figure()\n",
    "plt.subplot(2,5,1)\n",
    "# plt.title(\"Original\")\n",
    "plt.imshow(class1.reshape((28,28)))\n",
    "plt.axis('off')\n",
    "\n",
    "plt.subplot(2,5,2)\n",
    "plt.imshow(class2.reshape((28,28)))\n",
    "plt.axis('off')\n",
    "\n",
    "plt.subplot(2,5,3)\n",
    "plt.imshow(class3.reshape((28,28)))\n",
    "plt.axis('off')\n",
    "\n",
    "plt.subplot(2,5,4)\n",
    "plt.imshow(class4.reshape((28,28)))\n",
    "plt.axis('off')\n",
    "\n",
    "plt.subplot(2,5,5)\n",
    "plt.imshow(class5.reshape((28,28)))\n",
    "plt.axis('off')\n",
    "\n",
    "plt.subplot(2,5,6)\n",
    "# plt.title(\"Original\")\n",
    "recon_class1 = model.predict(class1.reshape((1, -1)))\n",
    "plt.imshow(recon_class1.reshape((28,28)))\n",
    "plt.axis('off')\n",
    "\n",
    "plt.subplot(2,5,7)\n",
    "recon_class2 = model.predict(class2.reshape((1, -1)))\n",
    "plt.imshow(recon_class2.reshape((28,28)))\n",
    "plt.axis('off')\n",
    "\n",
    "plt.subplot(2,5,8)\n",
    "recon_class3 = model.predict(class3.reshape((1, -1)))\n",
    "plt.imshow(recon_class3.reshape((28,28)))\n",
    "plt.axis('off')\n",
    "\n",
    "plt.subplot(2,5,9)\n",
    "recon_class4 = model.predict(class4.reshape((1, -1)))\n",
    "plt.imshow(recon_class4.reshape((28,28)))\n",
    "plt.axis('off')\n",
    "\n",
    "plt.subplot(2,5,10)\n",
    "recon_class5 = model.predict(class5.reshape((1, -1)))\n",
    "plt.imshow(recon_class5.reshape((28,28)))\n",
    "plt.axis('off')"
   ]
  },
  {
   "cell_type": "markdown",
   "metadata": {},
   "source": [
    "### Model 1"
   ]
  },
  {
   "cell_type": "code",
   "execution_count": 239,
   "metadata": {},
   "outputs": [
    {
     "name": "stdout",
     "output_type": "stream",
     "text": [
      "WARNING:tensorflow:No training configuration found in the save file, so the model was *not* compiled. Compile it manually.\n",
      "356/356 [==============================] - 0s 295us/step\n",
      "119/119 [==============================] - 0s 298us/step\n",
      "119/119 [==============================] - 0s 270us/step\n"
     ]
    }
   ],
   "source": [
    "encoder = load_model(\"./autoencoder_models/encoder_1layer_128.h5\")\n",
    "encoded_train = encoder.predict(train_data)\n",
    "encoded_test = encoder.predict(test_data)\n",
    "encoded_val = encoder.predict(val_data)"
   ]
  },
  {
   "cell_type": "code",
   "execution_count": 240,
   "metadata": {},
   "outputs": [
    {
     "name": "stdout",
     "output_type": "stream",
     "text": [
      "Model: \"Model-encoder128\"\n",
      "_________________________________________________________________\n",
      " Layer (type)                Output Shape              Param #   \n",
      "=================================================================\n",
      " Input (InputLayer)          [(None, 128)]             0         \n",
      "                                                                 \n",
      " Layer1 (Dense)              (None, 16)                2064      \n",
      "                                                                 \n",
      " Layer2 (Dense)              (None, 8)                 136       \n",
      "                                                                 \n",
      " Output (Dense)              (None, 5)                 45        \n",
      "                                                                 \n",
      "=================================================================\n",
      "Total params: 2,245\n",
      "Trainable params: 2,245\n",
      "Non-trainable params: 0\n",
      "_________________________________________________________________\n",
      "Epoch 82: early stopping\n"
     ]
    }
   ],
   "source": [
    "inputs = Input(shape=(128,), name=\"Input\")\n",
    "x = Dense(16, activation='tanh', name=\"Layer1\")(inputs)\n",
    "x = Dense(8, activation='tanh', name=\"Layer2\")(x)\n",
    "# x = Dense(128, activation='tanh', name=\"Layer3\")(x)\n",
    "# x = Dense(64, activation='tanh', name=\"Layer4\")(x)\n",
    "outputs = Dense(5, activation='softmax', name=\"Output\")(x)\n",
    "model = Model(inputs=inputs, outputs=outputs, name=f\"Model-encoder{128}\")\n",
    "model.summary()\n",
    "\n",
    "adam_optimizer = Adam(learning_rate = 0.001)\n",
    "\n",
    "model.compile(optimizer=adam_optimizer,\n",
    "                loss=\"sparse_categorical_crossentropy\",\n",
    "                metrics=['accuracy'])\n",
    "earlystopping = EarlyStopping(monitor='loss',\n",
    "                                min_delta=1e-4,\n",
    "                                patience=5,\n",
    "                                verbose=1)\n",
    "history1 = model.fit(x=encoded_train, y=train_labels,\n",
    "                        batch_size=32, epochs=100_000,\n",
    "                        callbacks=[earlystopping],\n",
    "                        verbose=0, shuffle=True,\n",
    "                        validation_split=0.0)"
   ]
  },
  {
   "cell_type": "code",
   "execution_count": 241,
   "metadata": {},
   "outputs": [
    {
     "name": "stdout",
     "output_type": "stream",
     "text": [
      "Training data evaluation\n",
      "356/356 [==============================] - 0s 244us/step - loss: 3.1331e-04 - accuracy: 1.0000\n",
      "Testing data evaluation\n",
      "119/119 [==============================] - 0s 243us/step - loss: 0.1255 - accuracy: 0.9805\n",
      "Validation data evaluation\n",
      "119/119 [==============================] - 0s 241us/step - loss: 0.1119 - accuracy: 0.9797\n",
      "\n"
     ]
    }
   ],
   "source": [
    "print(\"Training data evaluation\")\n",
    "model.evaluate(encoded_train, train_labels)\n",
    "print(\"Testing data evaluation\")\n",
    "model.evaluate(encoded_test, test_labels)\n",
    "print(\"Validation data evaluation\")\n",
    "model.evaluate(encoded_val, val_labels)\n",
    "print()"
   ]
  },
  {
   "attachments": {},
   "cell_type": "markdown",
   "metadata": {},
   "source": [
    "### Model 2"
   ]
  },
  {
   "cell_type": "code",
   "execution_count": 242,
   "metadata": {},
   "outputs": [
    {
     "name": "stdout",
     "output_type": "stream",
     "text": [
      "Model: \"Model-encoder128\"\n",
      "_________________________________________________________________\n",
      " Layer (type)                Output Shape              Param #   \n",
      "=================================================================\n",
      " Input (InputLayer)          [(None, 128)]             0         \n",
      "                                                                 \n",
      " Layer1 (Dense)              (None, 256)               33024     \n",
      "                                                                 \n",
      " Layer2 (Dense)              (None, 128)               32896     \n",
      "                                                                 \n",
      " Layer3 (Dense)              (None, 64)                8256      \n",
      "                                                                 \n",
      " Layer4 (Dense)              (None, 32)                2080      \n",
      "                                                                 \n",
      " Output (Dense)              (None, 5)                 165       \n",
      "                                                                 \n",
      "=================================================================\n",
      "Total params: 76,421\n",
      "Trainable params: 76,421\n",
      "Non-trainable params: 0\n",
      "_________________________________________________________________\n",
      "Epoch 28: early stopping\n"
     ]
    }
   ],
   "source": [
    "inputs = Input(shape=(128,), name=\"Input\")\n",
    "x = Dense(256, activation='tanh', name=\"Layer1\")(inputs)\n",
    "x = Dense(128, activation='tanh', name=\"Layer2\")(x)\n",
    "x = Dense(64, activation='tanh', name=\"Layer3\")(x)\n",
    "x = Dense(32, activation='tanh', name=\"Layer4\")(x)\n",
    "outputs = Dense(5, activation='softmax', name=\"Output\")(x)\n",
    "model = Model(inputs=inputs, outputs=outputs, name=f\"Model-encoder{128}\")\n",
    "model.summary()\n",
    "\n",
    "adam_optimizer = Adam(learning_rate = 0.001)\n",
    "\n",
    "model.compile(optimizer=adam_optimizer,\n",
    "                    loss=\"sparse_categorical_crossentropy\",\n",
    "                    metrics=['accuracy'])\n",
    "earlystopping = EarlyStopping(monitor='loss',\n",
    "                                        min_delta=1e-4,\n",
    "                                        patience=5,\n",
    "                                        verbose=1)\n",
    "history1 = model.fit(x=encoded_train, y=train_labels,\n",
    "                        batch_size=32, epochs=100_000,\n",
    "                        callbacks=[earlystopping],\n",
    "                        verbose=0, shuffle=True,\n",
    "                        validation_split=0.0)"
   ]
  },
  {
   "cell_type": "code",
   "execution_count": 243,
   "metadata": {},
   "outputs": [
    {
     "name": "stdout",
     "output_type": "stream",
     "text": [
      "Training data evaluation\n",
      "356/356 [==============================] - 0s 351us/step - loss: 4.4660e-05 - accuracy: 1.0000\n",
      "Testing data evaluation\n",
      "119/119 [==============================] - 0s 346us/step - loss: 0.0941 - accuracy: 0.9826\n",
      "Validation data evaluation\n",
      "119/119 [==============================] - 0s 348us/step - loss: 0.0704 - accuracy: 0.9876\n",
      "\n"
     ]
    }
   ],
   "source": [
    "print(\"Training data evaluation\")\n",
    "model.evaluate(encoded_train, train_labels)\n",
    "print(\"Testing data evaluation\")\n",
    "model.evaluate(encoded_test, test_labels)\n",
    "print(\"Validation data evaluation\")\n",
    "model.evaluate(encoded_val, val_labels)\n",
    "print()"
   ]
  },
  {
   "attachments": {},
   "cell_type": "markdown",
   "metadata": {},
   "source": [
    "## Three layer 128 bottleneck"
   ]
  },
  {
   "cell_type": "code",
   "execution_count": 244,
   "metadata": {},
   "outputs": [],
   "source": [
    "model = load_model(\"./autoencoder_models/autoencoder_3layer_128.h5\")"
   ]
  },
  {
   "cell_type": "code",
   "execution_count": 245,
   "metadata": {},
   "outputs": [
    {
     "name": "stdout",
     "output_type": "stream",
     "text": [
      "Model: \"Autoencoder128\"\n",
      "_________________________________________________________________\n",
      " Layer (type)                Output Shape              Param #   \n",
      "=================================================================\n",
      " Encoder-input (InputLayer)  [(None, 784)]             0         \n",
      "                                                                 \n",
      " Encoder-hidden (Dense)      (None, 400)               314000    \n",
      "                                                                 \n",
      " Bottleneck-layer (Dense)    (None, 128)               51328     \n",
      "                                                                 \n",
      " Decoder-hidden (Dense)      (None, 400)               51600     \n",
      "                                                                 \n",
      " Decoder-output (Dense)      (None, 784)               314384    \n",
      "                                                                 \n",
      "=================================================================\n",
      "Total params: 731,312\n",
      "Trainable params: 731,312\n",
      "Non-trainable params: 0\n",
      "_________________________________________________________________\n",
      "1/1 [==============================] - 0s 23ms/step\n",
      "1/1 [==============================] - 0s 7ms/step\n",
      "1/1 [==============================] - 0s 7ms/step\n",
      "1/1 [==============================] - 0s 7ms/step\n",
      "1/1 [==============================] - 0s 7ms/step\n"
     ]
    },
    {
     "data": {
      "text/plain": [
       "(-0.5, 27.5, 27.5, -0.5)"
      ]
     },
     "execution_count": 245,
     "metadata": {},
     "output_type": "execute_result"
    },
    {
     "data": {
      "image/png": "[encoded data removed]",
      "text/plain": [
       "<Figure size 640x480 with 10 Axes>"
      ]
     },
     "metadata": {},
     "output_type": "display_data"
    }
   ],
   "source": [
    "model.summary()\n",
    "\n",
    "plt.figure()\n",
    "plt.subplot(2,5,1)\n",
    "# plt.title(\"Original\")\n",
    "plt.imshow(class1.reshape((28,28)))\n",
    "plt.axis('off')\n",
    "\n",
    "plt.subplot(2,5,2)\n",
    "plt.imshow(class2.reshape((28,28)))\n",
    "plt.axis('off')\n",
    "\n",
    "plt.subplot(2,5,3)\n",
    "plt.imshow(class3.reshape((28,28)))\n",
    "plt.axis('off')\n",
    "\n",
    "plt.subplot(2,5,4)\n",
    "plt.imshow(class4.reshape((28,28)))\n",
    "plt.axis('off')\n",
    "\n",
    "plt.subplot(2,5,5)\n",
    "plt.imshow(class5.reshape((28,28)))\n",
    "plt.axis('off')\n",
    "\n",
    "plt.subplot(2,5,6)\n",
    "# plt.title(\"Original\")\n",
    "recon_class1 = model.predict(class1.reshape((1, -1)))\n",
    "plt.imshow(recon_class1.reshape((28,28)))\n",
    "plt.axis('off')\n",
    "\n",
    "plt.subplot(2,5,7)\n",
    "recon_class2 = model.predict(class2.reshape((1, -1)))\n",
    "plt.imshow(recon_class2.reshape((28,28)))\n",
    "plt.axis('off')\n",
    "\n",
    "plt.subplot(2,5,8)\n",
    "recon_class3 = model.predict(class3.reshape((1, -1)))\n",
    "plt.imshow(recon_class3.reshape((28,28)))\n",
    "plt.axis('off')\n",
    "\n",
    "plt.subplot(2,5,9)\n",
    "recon_class4 = model.predict(class4.reshape((1, -1)))\n",
    "plt.imshow(recon_class4.reshape((28,28)))\n",
    "plt.axis('off')\n",
    "\n",
    "plt.subplot(2,5,10)\n",
    "recon_class5 = model.predict(class5.reshape((1, -1)))\n",
    "plt.imshow(recon_class5.reshape((28,28)))\n",
    "plt.axis('off')"
   ]
  },
  {
   "attachments": {},
   "cell_type": "markdown",
   "metadata": {},
   "source": [
    "### Model 1"
   ]
  },
  {
   "cell_type": "code",
   "execution_count": 246,
   "metadata": {},
   "outputs": [
    {
     "name": "stdout",
     "output_type": "stream",
     "text": [
      "WARNING:tensorflow:No training configuration found in the save file, so the model was *not* compiled. Compile it manually.\n",
      "356/356 [==============================] - 0s 475us/step\n",
      "119/119 [==============================] - 0s 395us/step\n",
      "119/119 [==============================] - 0s 389us/step\n"
     ]
    }
   ],
   "source": [
    "encoder = load_model(\"./autoencoder_models/encoder_3layer_128.h5\")\n",
    "encoded_train = encoder.predict(train_data)\n",
    "encoded_test = encoder.predict(test_data)\n",
    "encoded_val = encoder.predict(val_data)"
   ]
  },
  {
   "cell_type": "code",
   "execution_count": 247,
   "metadata": {},
   "outputs": [
    {
     "name": "stdout",
     "output_type": "stream",
     "text": [
      "Model: \"Model-encoder128\"\n",
      "_________________________________________________________________\n",
      " Layer (type)                Output Shape              Param #   \n",
      "=================================================================\n",
      " Input (InputLayer)          [(None, 128)]             0         \n",
      "                                                                 \n",
      " Layer1 (Dense)              (None, 16)                2064      \n",
      "                                                                 \n",
      " Layer2 (Dense)              (None, 8)                 136       \n",
      "                                                                 \n",
      " Output (Dense)              (None, 5)                 45        \n",
      "                                                                 \n",
      "=================================================================\n",
      "Total params: 2,245\n",
      "Trainable params: 2,245\n",
      "Non-trainable params: 0\n",
      "_________________________________________________________________\n",
      "Epoch 92: early stopping\n"
     ]
    }
   ],
   "source": [
    "inputs = Input(shape=(128,), name=\"Input\")\n",
    "x = Dense(16, activation='tanh', name=\"Layer1\")(inputs)\n",
    "x = Dense(8, activation='tanh', name=\"Layer2\")(x)\n",
    "# x = Dense(128, activation='tanh', name=\"Layer3\")(x)\n",
    "# x = Dense(64, activation='tanh', name=\"Layer4\")(x)\n",
    "outputs = Dense(5, activation='softmax', name=\"Output\")(x)\n",
    "model = Model(inputs=inputs, outputs=outputs, name=f\"Model-encoder{128}\")\n",
    "model.summary()\n",
    "\n",
    "adam_optimizer = Adam(learning_rate = 0.001)\n",
    "\n",
    "model.compile(optimizer=adam_optimizer,\n",
    "                loss=\"sparse_categorical_crossentropy\",\n",
    "                metrics=['accuracy'])\n",
    "earlystopping = EarlyStopping(monitor='loss',\n",
    "                                min_delta=1e-4,\n",
    "                                patience=5,\n",
    "                                verbose=1)\n",
    "history1 = model.fit(x=encoded_train, y=train_labels,\n",
    "                        batch_size=32, epochs=100_000,\n",
    "                        callbacks=[earlystopping],\n",
    "                        verbose=0, shuffle=True,\n",
    "                        validation_split=0.0)"
   ]
  },
  {
   "cell_type": "code",
   "execution_count": 248,
   "metadata": {},
   "outputs": [
    {
     "name": "stdout",
     "output_type": "stream",
     "text": [
      "Training data evaluation\n",
      "356/356 [==============================] - 0s 251us/step - loss: 2.8347e-04 - accuracy: 1.0000\n",
      "Testing data evaluation\n",
      "119/119 [==============================] - 0s 251us/step - loss: 0.1284 - accuracy: 0.9779\n",
      "Validation data evaluation\n",
      "119/119 [==============================] - 0s 251us/step - loss: 0.1001 - accuracy: 0.9816\n",
      "\n"
     ]
    }
   ],
   "source": [
    "print(\"Training data evaluation\")\n",
    "model.evaluate(encoded_train, train_labels)\n",
    "print(\"Testing data evaluation\")\n",
    "model.evaluate(encoded_test, test_labels)\n",
    "print(\"Validation data evaluation\")\n",
    "model.evaluate(encoded_val, val_labels)\n",
    "print()"
   ]
  },
  {
   "attachments": {},
   "cell_type": "markdown",
   "metadata": {},
   "source": [
    "### Model 2"
   ]
  },
  {
   "cell_type": "code",
   "execution_count": 249,
   "metadata": {},
   "outputs": [
    {
     "name": "stdout",
     "output_type": "stream",
     "text": [
      "Model: \"Model-encoder128\"\n",
      "_________________________________________________________________\n",
      " Layer (type)                Output Shape              Param #   \n",
      "=================================================================\n",
      " Input (InputLayer)          [(None, 128)]             0         \n",
      "                                                                 \n",
      " Layer1 (Dense)              (None, 256)               33024     \n",
      "                                                                 \n",
      " Layer2 (Dense)              (None, 128)               32896     \n",
      "                                                                 \n",
      " Layer3 (Dense)              (None, 64)                8256      \n",
      "                                                                 \n",
      " Layer4 (Dense)              (None, 32)                2080      \n",
      "                                                                 \n",
      " Output (Dense)              (None, 5)                 165       \n",
      "                                                                 \n",
      "=================================================================\n",
      "Total params: 76,421\n",
      "Trainable params: 76,421\n",
      "Non-trainable params: 0\n",
      "_________________________________________________________________\n",
      "Epoch 22: early stopping\n"
     ]
    }
   ],
   "source": [
    "inputs = Input(shape=(128,), name=\"Input\")\n",
    "x = Dense(256, activation='tanh', name=\"Layer1\")(inputs)\n",
    "x = Dense(128, activation='tanh', name=\"Layer2\")(x)\n",
    "x = Dense(64, activation='tanh', name=\"Layer3\")(x)\n",
    "x = Dense(32, activation='tanh', name=\"Layer4\")(x)\n",
    "outputs = Dense(5, activation='softmax', name=\"Output\")(x)\n",
    "model = Model(inputs=inputs, outputs=outputs, name=f\"Model-encoder{128}\")\n",
    "model.summary()\n",
    "\n",
    "adam_optimizer = Adam(learning_rate = 0.001)\n",
    "\n",
    "model.compile(optimizer=adam_optimizer,\n",
    "                    loss=\"sparse_categorical_crossentropy\",\n",
    "                    metrics=['accuracy'])\n",
    "earlystopping = EarlyStopping(monitor='loss',\n",
    "                                        min_delta=1e-4,\n",
    "                                        patience=5,\n",
    "                                        verbose=1)\n",
    "history1 = model.fit(x=encoded_train, y=train_labels,\n",
    "                        batch_size=32, epochs=100_000,\n",
    "                        callbacks=[earlystopping],\n",
    "                        verbose=0, shuffle=True,\n",
    "                        validation_split=0.0)"
   ]
  },
  {
   "cell_type": "code",
   "execution_count": 250,
   "metadata": {},
   "outputs": [
    {
     "name": "stdout",
     "output_type": "stream",
     "text": [
      "Training data evaluation\n",
      "356/356 [==============================] - 0s 348us/step - loss: 7.9402e-04 - accuracy: 0.9999\n",
      "Testing data evaluation\n",
      "119/119 [==============================] - 0s 347us/step - loss: 0.0800 - accuracy: 0.9831\n",
      "Validation data evaluation\n",
      "119/119 [==============================] - 0s 350us/step - loss: 0.0495 - accuracy: 0.9876\n",
      "\n"
     ]
    }
   ],
   "source": [
    "print(\"Training data evaluation\")\n",
    "model.evaluate(encoded_train, train_labels)\n",
    "print(\"Testing data evaluation\")\n",
    "model.evaluate(encoded_test, test_labels)\n",
    "print(\"Validation data evaluation\")\n",
    "model.evaluate(encoded_val, val_labels)\n",
    "print()"
   ]
  },
  {
   "attachments": {},
   "cell_type": "markdown",
   "metadata": {},
   "source": [
    "## One layer 256 bottleneck"
   ]
  },
  {
   "cell_type": "code",
   "execution_count": 251,
   "metadata": {},
   "outputs": [],
   "source": [
    "model = load_model(\"./autoencoder_models/autoencoder_1layer_256.h5\")"
   ]
  },
  {
   "cell_type": "code",
   "execution_count": 252,
   "metadata": {},
   "outputs": [
    {
     "name": "stdout",
     "output_type": "stream",
     "text": [
      "Model: \"Autoencoder256\"\n",
      "_________________________________________________________________\n",
      " Layer (type)                Output Shape              Param #   \n",
      "=================================================================\n",
      " Encoder-input (InputLayer)  [(None, 784)]             0         \n",
      "                                                                 \n",
      " Bottleneck-layer (Dense)    (None, 256)               200960    \n",
      "                                                                 \n",
      " Decoder-output (Dense)      (None, 784)               201488    \n",
      "                                                                 \n",
      "=================================================================\n",
      "Total params: 402,448\n",
      "Trainable params: 402,448\n",
      "Non-trainable params: 0\n",
      "_________________________________________________________________\n",
      "1/1 [==============================] - 0s 18ms/step\n",
      "1/1 [==============================] - 0s 7ms/step\n",
      "1/1 [==============================] - 0s 8ms/step\n",
      "1/1 [==============================] - 0s 7ms/step\n",
      "1/1 [==============================] - 0s 7ms/step\n"
     ]
    },
    {
     "data": {
      "text/plain": [
       "(-0.5, 27.5, 27.5, -0.5)"
      ]
     },
     "execution_count": 252,
     "metadata": {},
     "output_type": "execute_result"
    },
    {
     "data": {
      "image/png": "[encoded data removed]",
      "text/plain": [
       "<Figure size 640x480 with 10 Axes>"
      ]
     },
     "metadata": {},
     "output_type": "display_data"
    }
   ],
   "source": [
    "model.summary()\n",
    "\n",
    "plt.figure()\n",
    "plt.subplot(2,5,1)\n",
    "# plt.title(\"Original\")\n",
    "plt.imshow(class1.reshape((28,28)))\n",
    "plt.axis('off')\n",
    "\n",
    "plt.subplot(2,5,2)\n",
    "plt.imshow(class2.reshape((28,28)))\n",
    "plt.axis('off')\n",
    "\n",
    "plt.subplot(2,5,3)\n",
    "plt.imshow(class3.reshape((28,28)))\n",
    "plt.axis('off')\n",
    "\n",
    "plt.subplot(2,5,4)\n",
    "plt.imshow(class4.reshape((28,28)))\n",
    "plt.axis('off')\n",
    "\n",
    "plt.subplot(2,5,5)\n",
    "plt.imshow(class5.reshape((28,28)))\n",
    "plt.axis('off')\n",
    "\n",
    "plt.subplot(2,5,6)\n",
    "# plt.title(\"Original\")\n",
    "recon_class1 = model.predict(class1.reshape((1, -1)))\n",
    "plt.imshow(recon_class1.reshape((28,28)))\n",
    "plt.axis('off')\n",
    "\n",
    "plt.subplot(2,5,7)\n",
    "recon_class2 = model.predict(class2.reshape((1, -1)))\n",
    "plt.imshow(recon_class2.reshape((28,28)))\n",
    "plt.axis('off')\n",
    "\n",
    "plt.subplot(2,5,8)\n",
    "recon_class3 = model.predict(class3.reshape((1, -1)))\n",
    "plt.imshow(recon_class3.reshape((28,28)))\n",
    "plt.axis('off')\n",
    "\n",
    "plt.subplot(2,5,9)\n",
    "recon_class4 = model.predict(class4.reshape((1, -1)))\n",
    "plt.imshow(recon_class4.reshape((28,28)))\n",
    "plt.axis('off')\n",
    "\n",
    "plt.subplot(2,5,10)\n",
    "recon_class5 = model.predict(class5.reshape((1, -1)))\n",
    "plt.imshow(recon_class5.reshape((28,28)))\n",
    "plt.axis('off')"
   ]
  },
  {
   "cell_type": "markdown",
   "metadata": {},
   "source": [
    "### Model 1"
   ]
  },
  {
   "cell_type": "code",
   "execution_count": 253,
   "metadata": {},
   "outputs": [
    {
     "name": "stdout",
     "output_type": "stream",
     "text": [
      "WARNING:tensorflow:No training configuration found in the save file, so the model was *not* compiled. Compile it manually.\n",
      "356/356 [==============================] - 0s 347us/step\n",
      "119/119 [==============================] - 0s 300us/step\n",
      "119/119 [==============================] - 0s 305us/step\n"
     ]
    }
   ],
   "source": [
    "encoder = load_model(\"./autoencoder_models/encoder_1layer_256.h5\")\n",
    "encoded_train = encoder.predict(train_data)\n",
    "encoded_test = encoder.predict(test_data)\n",
    "encoded_val = encoder.predict(val_data)"
   ]
  },
  {
   "cell_type": "code",
   "execution_count": 254,
   "metadata": {},
   "outputs": [
    {
     "name": "stdout",
     "output_type": "stream",
     "text": [
      "Model: \"Model-encoder256\"\n",
      "_________________________________________________________________\n",
      " Layer (type)                Output Shape              Param #   \n",
      "=================================================================\n",
      " Input (InputLayer)          [(None, 256)]             0         \n",
      "                                                                 \n",
      " Layer1 (Dense)              (None, 16)                4112      \n",
      "                                                                 \n",
      " Layer2 (Dense)              (None, 8)                 136       \n",
      "                                                                 \n",
      " Output (Dense)              (None, 5)                 45        \n",
      "                                                                 \n",
      "=================================================================\n",
      "Total params: 4,293\n",
      "Trainable params: 4,293\n",
      "Non-trainable params: 0\n",
      "_________________________________________________________________\n",
      "Epoch 41: early stopping\n"
     ]
    }
   ],
   "source": [
    "inputs = Input(shape=(256,), name=\"Input\")\n",
    "x = Dense(16, activation='tanh', name=\"Layer1\")(inputs)\n",
    "x = Dense(8, activation='tanh', name=\"Layer2\")(x)\n",
    "# x = Dense(128, activation='tanh', name=\"Layer3\")(x)\n",
    "# x = Dense(64, activation='tanh', name=\"Layer4\")(x)\n",
    "outputs = Dense(5, activation='softmax', name=\"Output\")(x)\n",
    "model = Model(inputs=inputs, outputs=outputs, name=f\"Model-encoder{256}\")\n",
    "model.summary()\n",
    "\n",
    "adam_optimizer = Adam(learning_rate = 0.001)\n",
    "\n",
    "model.compile(optimizer=adam_optimizer,\n",
    "                loss=\"sparse_categorical_crossentropy\",\n",
    "                metrics=['accuracy'])\n",
    "earlystopping = EarlyStopping(monitor='loss',\n",
    "                                min_delta=1e-4,\n",
    "                                patience=5,\n",
    "                                verbose=1)\n",
    "history1 = model.fit(x=encoded_train, y=train_labels,\n",
    "                        batch_size=32, epochs=100_000,\n",
    "                        callbacks=[earlystopping],\n",
    "                        verbose=0, shuffle=True,\n",
    "                        validation_split=0.0)"
   ]
  },
  {
   "cell_type": "code",
   "execution_count": 255,
   "metadata": {},
   "outputs": [
    {
     "name": "stdout",
     "output_type": "stream",
     "text": [
      "Training data evaluation\n",
      "356/356 [==============================] - 0s 248us/step - loss: 7.4062e-04 - accuracy: 0.9999\n",
      "Testing data evaluation\n",
      "119/119 [==============================] - 0s 249us/step - loss: 0.1217 - accuracy: 0.9771\n",
      "Validation data evaluation\n",
      "119/119 [==============================] - 0s 249us/step - loss: 0.1045 - accuracy: 0.9771\n",
      "\n"
     ]
    }
   ],
   "source": [
    "print(\"Training data evaluation\")\n",
    "model.evaluate(encoded_train, train_labels)\n",
    "print(\"Testing data evaluation\")\n",
    "model.evaluate(encoded_test, test_labels)\n",
    "print(\"Validation data evaluation\")\n",
    "model.evaluate(encoded_val, val_labels)\n",
    "print()"
   ]
  },
  {
   "cell_type": "markdown",
   "metadata": {},
   "source": [
    "### Model 2"
   ]
  },
  {
   "cell_type": "code",
   "execution_count": 256,
   "metadata": {},
   "outputs": [
    {
     "name": "stdout",
     "output_type": "stream",
     "text": [
      "Model: \"Model-encoder256\"\n",
      "_________________________________________________________________\n",
      " Layer (type)                Output Shape              Param #   \n",
      "=================================================================\n",
      " Input (InputLayer)          [(None, 256)]             0         \n",
      "                                                                 \n",
      " Layer1 (Dense)              (None, 256)               65792     \n",
      "                                                                 \n",
      " Layer2 (Dense)              (None, 128)               32896     \n",
      "                                                                 \n",
      " Layer3 (Dense)              (None, 64)                8256      \n",
      "                                                                 \n",
      " Layer4 (Dense)              (None, 32)                2080      \n",
      "                                                                 \n",
      " Output (Dense)              (None, 5)                 165       \n",
      "                                                                 \n",
      "=================================================================\n",
      "Total params: 109,189\n",
      "Trainable params: 109,189\n",
      "Non-trainable params: 0\n",
      "_________________________________________________________________\n",
      "Epoch 31: early stopping\n"
     ]
    }
   ],
   "source": [
    "inputs = Input(shape=(256,), name=\"Input\")\n",
    "x = Dense(256, activation='tanh', name=\"Layer1\")(inputs)\n",
    "x = Dense(128, activation='tanh', name=\"Layer2\")(x)\n",
    "x = Dense(64, activation='tanh', name=\"Layer3\")(x)\n",
    "x = Dense(32, activation='tanh', name=\"Layer4\")(x)\n",
    "outputs = Dense(5, activation='softmax', name=\"Output\")(x)\n",
    "model = Model(inputs=inputs, outputs=outputs, name=f\"Model-encoder{256}\")\n",
    "model.summary()\n",
    "\n",
    "adam_optimizer = Adam(learning_rate = 0.001)\n",
    "\n",
    "model.compile(optimizer=adam_optimizer,\n",
    "                    loss=\"sparse_categorical_crossentropy\",\n",
    "                    metrics=['accuracy'])\n",
    "earlystopping = EarlyStopping(monitor='loss',\n",
    "                                        min_delta=1e-4,\n",
    "                                        patience=5,\n",
    "                                        verbose=1)\n",
    "history1 = model.fit(x=encoded_train, y=train_labels,\n",
    "                        batch_size=32, epochs=100_000,\n",
    "                        callbacks=[earlystopping],\n",
    "                        verbose=0, shuffle=True,\n",
    "                        validation_split=0.0)"
   ]
  },
  {
   "cell_type": "code",
   "execution_count": 257,
   "metadata": {},
   "outputs": [
    {
     "name": "stdout",
     "output_type": "stream",
     "text": [
      "Training data evaluation\n",
      "356/356 [==============================] - 0s 375us/step - loss: 2.7599e-05 - accuracy: 1.0000\n",
      "Testing data evaluation\n",
      "119/119 [==============================] - 0s 375us/step - loss: 0.0843 - accuracy: 0.9866\n",
      "Validation data evaluation\n",
      "119/119 [==============================] - 0s 375us/step - loss: 0.0870 - accuracy: 0.9852\n",
      "\n"
     ]
    }
   ],
   "source": [
    "print(\"Training data evaluation\")\n",
    "model.evaluate(encoded_train, train_labels)\n",
    "print(\"Testing data evaluation\")\n",
    "model.evaluate(encoded_test, test_labels)\n",
    "print(\"Validation data evaluation\")\n",
    "model.evaluate(encoded_val, val_labels)\n",
    "print()"
   ]
  },
  {
   "attachments": {},
   "cell_type": "markdown",
   "metadata": {},
   "source": [
    "## Three layer 256 bottleneck"
   ]
  },
  {
   "cell_type": "code",
   "execution_count": 258,
   "metadata": {},
   "outputs": [],
   "source": [
    "model = load_model(\"./autoencoder_models/autoencoder_3layer_256.h5\")"
   ]
  },
  {
   "cell_type": "code",
   "execution_count": 259,
   "metadata": {},
   "outputs": [
    {
     "name": "stdout",
     "output_type": "stream",
     "text": [
      "Model: \"Autoencoder256\"\n",
      "_________________________________________________________________\n",
      " Layer (type)                Output Shape              Param #   \n",
      "=================================================================\n",
      " Encoder-input (InputLayer)  [(None, 784)]             0         \n",
      "                                                                 \n",
      " Encoder-hidden (Dense)      (None, 400)               314000    \n",
      "                                                                 \n",
      " Bottleneck-layer (Dense)    (None, 256)               102656    \n",
      "                                                                 \n",
      " Decoder-hidden (Dense)      (None, 400)               102800    \n",
      "                                                                 \n",
      " Decoder-output (Dense)      (None, 784)               314384    \n",
      "                                                                 \n",
      "=================================================================\n",
      "Total params: 833,840\n",
      "Trainable params: 833,840\n",
      "Non-trainable params: 0\n",
      "_________________________________________________________________\n",
      "1/1 [==============================] - 0s 23ms/step\n",
      "1/1 [==============================] - 0s 8ms/step\n",
      "1/1 [==============================] - 0s 7ms/step\n",
      "1/1 [==============================] - 0s 7ms/step\n",
      "1/1 [==============================] - 0s 7ms/step\n"
     ]
    },
    {
     "data": {
      "text/plain": [
       "(-0.5, 27.5, 27.5, -0.5)"
      ]
     },
     "execution_count": 259,
     "metadata": {},
     "output_type": "execute_result"
    },
    {
     "data": {
      "image/png": "[encoded data removed]",
      "text/plain": [
       "<Figure size 640x480 with 10 Axes>"
      ]
     },
     "metadata": {},
     "output_type": "display_data"
    }
   ],
   "source": [
    "model.summary()\n",
    "\n",
    "plt.figure()\n",
    "plt.subplot(2,5,1)\n",
    "# plt.title(\"Original\")\n",
    "plt.imshow(class1.reshape((28,28)))\n",
    "plt.axis('off')\n",
    "\n",
    "plt.subplot(2,5,2)\n",
    "plt.imshow(class2.reshape((28,28)))\n",
    "plt.axis('off')\n",
    "\n",
    "plt.subplot(2,5,3)\n",
    "plt.imshow(class3.reshape((28,28)))\n",
    "plt.axis('off')\n",
    "\n",
    "plt.subplot(2,5,4)\n",
    "plt.imshow(class4.reshape((28,28)))\n",
    "plt.axis('off')\n",
    "\n",
    "plt.subplot(2,5,5)\n",
    "plt.imshow(class5.reshape((28,28)))\n",
    "plt.axis('off')\n",
    "\n",
    "plt.subplot(2,5,6)\n",
    "# plt.title(\"Original\")\n",
    "recon_class1 = model.predict(class1.reshape((1, -1)))\n",
    "plt.imshow(recon_class1.reshape((28,28)))\n",
    "plt.axis('off')\n",
    "\n",
    "plt.subplot(2,5,7)\n",
    "recon_class2 = model.predict(class2.reshape((1, -1)))\n",
    "plt.imshow(recon_class2.reshape((28,28)))\n",
    "plt.axis('off')\n",
    "\n",
    "plt.subplot(2,5,8)\n",
    "recon_class3 = model.predict(class3.reshape((1, -1)))\n",
    "plt.imshow(recon_class3.reshape((28,28)))\n",
    "plt.axis('off')\n",
    "\n",
    "plt.subplot(2,5,9)\n",
    "recon_class4 = model.predict(class4.reshape((1, -1)))\n",
    "plt.imshow(recon_class4.reshape((28,28)))\n",
    "plt.axis('off')\n",
    "\n",
    "plt.subplot(2,5,10)\n",
    "recon_class5 = model.predict(class5.reshape((1, -1)))\n",
    "plt.imshow(recon_class5.reshape((28,28)))\n",
    "plt.axis('off')"
   ]
  },
  {
   "cell_type": "markdown",
   "metadata": {},
   "source": [
    "### Model 1"
   ]
  },
  {
   "cell_type": "code",
   "execution_count": 260,
   "metadata": {},
   "outputs": [
    {
     "name": "stdout",
     "output_type": "stream",
     "text": [
      "WARNING:tensorflow:No training configuration found in the save file, so the model was *not* compiled. Compile it manually.\n",
      "356/356 [==============================] - 0s 500us/step\n",
      "119/119 [==============================] - 0s 418us/step\n",
      "119/119 [==============================] - 0s 411us/step\n"
     ]
    }
   ],
   "source": [
    "encoder = load_model(\"./autoencoder_models/encoder_3layer_256.h5\")\n",
    "encoded_train = encoder.predict(train_data)\n",
    "encoded_test = encoder.predict(test_data)\n",
    "encoded_val = encoder.predict(val_data)"
   ]
  },
  {
   "cell_type": "code",
   "execution_count": 261,
   "metadata": {},
   "outputs": [
    {
     "name": "stdout",
     "output_type": "stream",
     "text": [
      "Model: \"Model-encoder256\"\n",
      "_________________________________________________________________\n",
      " Layer (type)                Output Shape              Param #   \n",
      "=================================================================\n",
      " Input (InputLayer)          [(None, 256)]             0         \n",
      "                                                                 \n",
      " Layer1 (Dense)              (None, 16)                4112      \n",
      "                                                                 \n",
      " Layer2 (Dense)              (None, 8)                 136       \n",
      "                                                                 \n",
      " Output (Dense)              (None, 5)                 45        \n",
      "                                                                 \n",
      "=================================================================\n",
      "Total params: 4,293\n",
      "Trainable params: 4,293\n",
      "Non-trainable params: 0\n",
      "_________________________________________________________________\n",
      "Epoch 48: early stopping\n"
     ]
    }
   ],
   "source": [
    "inputs = Input(shape=(256,), name=\"Input\")\n",
    "x = Dense(16, activation='tanh', name=\"Layer1\")(inputs)\n",
    "x = Dense(8, activation='tanh', name=\"Layer2\")(x)\n",
    "# x = Dense(128, activation='tanh', name=\"Layer3\")(x)\n",
    "# x = Dense(64, activation='tanh', name=\"Layer4\")(x)\n",
    "outputs = Dense(5, activation='softmax', name=\"Output\")(x)\n",
    "model = Model(inputs=inputs, outputs=outputs, name=f\"Model-encoder{256}\")\n",
    "model.summary()\n",
    "\n",
    "adam_optimizer = Adam(learning_rate = 0.001)\n",
    "\n",
    "model.compile(optimizer=adam_optimizer,\n",
    "                loss=\"sparse_categorical_crossentropy\",\n",
    "                metrics=['accuracy'])\n",
    "earlystopping = EarlyStopping(monitor='loss',\n",
    "                                min_delta=1e-4,\n",
    "                                patience=5,\n",
    "                                verbose=1)\n",
    "history1 = model.fit(x=encoded_train, y=train_labels,\n",
    "                        batch_size=32, epochs=100_000,\n",
    "                        callbacks=[earlystopping],\n",
    "                        verbose=0, shuffle=True,\n",
    "                        validation_split=0.0)"
   ]
  },
  {
   "cell_type": "code",
   "execution_count": 262,
   "metadata": {},
   "outputs": [
    {
     "name": "stdout",
     "output_type": "stream",
     "text": [
      "Training data evaluation\n",
      "356/356 [==============================] - 0s 248us/step - loss: 8.5852e-04 - accuracy: 0.9998\n",
      "Testing data evaluation\n",
      "119/119 [==============================] - 0s 247us/step - loss: 0.1109 - accuracy: 0.9758\n",
      "Validation data evaluation\n",
      "119/119 [==============================] - 0s 246us/step - loss: 0.0982 - accuracy: 0.9773\n",
      "\n"
     ]
    }
   ],
   "source": [
    "print(\"Training data evaluation\")\n",
    "model.evaluate(encoded_train, train_labels)\n",
    "print(\"Testing data evaluation\")\n",
    "model.evaluate(encoded_test, test_labels)\n",
    "print(\"Validation data evaluation\")\n",
    "model.evaluate(encoded_val, val_labels)\n",
    "print()"
   ]
  },
  {
   "cell_type": "markdown",
   "metadata": {},
   "source": [
    "### Model 2"
   ]
  },
  {
   "cell_type": "code",
   "execution_count": 263,
   "metadata": {},
   "outputs": [
    {
     "name": "stdout",
     "output_type": "stream",
     "text": [
      "Model: \"Model-encoder256\"\n",
      "_________________________________________________________________\n",
      " Layer (type)                Output Shape              Param #   \n",
      "=================================================================\n",
      " Input (InputLayer)          [(None, 256)]             0         \n",
      "                                                                 \n",
      " Layer1 (Dense)              (None, 256)               65792     \n",
      "                                                                 \n",
      " Layer2 (Dense)              (None, 128)               32896     \n",
      "                                                                 \n",
      " Layer3 (Dense)              (None, 64)                8256      \n",
      "                                                                 \n",
      " Layer4 (Dense)              (None, 32)                2080      \n",
      "                                                                 \n",
      " Output (Dense)              (None, 5)                 165       \n",
      "                                                                 \n",
      "=================================================================\n",
      "Total params: 109,189\n",
      "Trainable params: 109,189\n",
      "Non-trainable params: 0\n",
      "_________________________________________________________________\n",
      "Epoch 17: early stopping\n"
     ]
    }
   ],
   "source": [
    "inputs = Input(shape=(256,), name=\"Input\")\n",
    "x = Dense(256, activation='tanh', name=\"Layer1\")(inputs)\n",
    "x = Dense(128, activation='tanh', name=\"Layer2\")(x)\n",
    "x = Dense(64, activation='tanh', name=\"Layer3\")(x)\n",
    "x = Dense(32, activation='tanh', name=\"Layer4\")(x)\n",
    "outputs = Dense(5, activation='softmax', name=\"Output\")(x)\n",
    "model = Model(inputs=inputs, outputs=outputs, name=f\"Model-encoder{256}\")\n",
    "model.summary()\n",
    "\n",
    "adam_optimizer = Adam(learning_rate = 0.001)\n",
    "\n",
    "model.compile(optimizer=adam_optimizer,\n",
    "                    loss=\"sparse_categorical_crossentropy\",\n",
    "                    metrics=['accuracy'])\n",
    "earlystopping = EarlyStopping(monitor='loss',\n",
    "                                        min_delta=1e-4,\n",
    "                                        patience=5,\n",
    "                                        verbose=1)\n",
    "history1 = model.fit(x=encoded_train, y=train_labels,\n",
    "                        batch_size=32, epochs=100_000,\n",
    "                        callbacks=[earlystopping],\n",
    "                        verbose=0, shuffle=True,\n",
    "                        validation_split=0.0)"
   ]
  },
  {
   "cell_type": "code",
   "execution_count": 264,
   "metadata": {},
   "outputs": [
    {
     "name": "stdout",
     "output_type": "stream",
     "text": [
      "Training data evaluation\n",
      "356/356 [==============================] - 0s 374us/step - loss: 0.0201 - accuracy: 0.9939\n",
      "Testing data evaluation\n",
      "119/119 [==============================] - 0s 378us/step - loss: 0.1212 - accuracy: 0.9723\n",
      "Validation data evaluation\n",
      "119/119 [==============================] - 0s 369us/step - loss: 0.0831 - accuracy: 0.9784\n",
      "\n"
     ]
    }
   ],
   "source": [
    "print(\"Training data evaluation\")\n",
    "model.evaluate(encoded_train, train_labels)\n",
    "print(\"Testing data evaluation\")\n",
    "model.evaluate(encoded_test, test_labels)\n",
    "print(\"Validation data evaluation\")\n",
    "model.evaluate(encoded_val, val_labels)\n",
    "print()"
   ]
  },
  {
   "cell_type": "code",
   "execution_count": null,
   "metadata": {},
   "outputs": [],
   "source": []
  }
 ],
 "metadata": {
  "kernelspec": {
   "display_name": ".env",
   "language": "python",
   "name": "python3"
  },
  "language_info": {
   "codemirror_mode": {
    "name": "ipython",
    "version": 3
   },
   "file_extension": ".py",
   "mimetype": "text/x-python",
   "name": "python",
   "nbconvert_exporter": "python",
   "pygments_lexer": "ipython3",
   "version": "3.10.9"
  },
  "orig_nbformat": 4,
  "vscode": {
   "interpreter": {
    "hash": "c37836adf2e0d57ffa14ecc2a3cc07bddd6153bcbc9f933f0cdf6f9a2a018173"
   }
  }
 },
 "nbformat": 4,
 "nbformat_minor": 2
}
