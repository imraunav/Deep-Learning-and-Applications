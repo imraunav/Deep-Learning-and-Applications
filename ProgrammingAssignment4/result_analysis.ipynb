{
 "cells": [
  {
   "cell_type": "code",
   "execution_count": 1,
   "metadata": {},
   "outputs": [],
   "source": [
    "import numpy as np\n",
    "from matplotlib import pyplot as plt\n",
    "import pickle\n",
    "from helper_fn import data_import, relabel"
   ]
  },
  {
   "cell_type": "code",
   "execution_count": 2,
   "metadata": {},
   "outputs": [],
   "source": [
    "from tensorflow.keras.layers import Input, Dense, Flatten, Reshape\n",
    "from tensorflow.keras.models import Model\n",
    "from tensorflow.keras.optimizers import Adam\n",
    "from tensorflow.keras.callbacks import EarlyStopping"
   ]
  },
  {
   "cell_type": "code",
   "execution_count": 3,
   "metadata": {},
   "outputs": [],
   "source": [
    "from tensorflow.keras.models import load_model"
   ]
  },
  {
   "cell_type": "code",
   "execution_count": 4,
   "metadata": {},
   "outputs": [],
   "source": [
    "test_path='./Group_10/test'\n",
    "train_path='./Group_10/train'\n",
    "val_path='./Group_10/val'\n",
    "\n",
    "#import datasets\n",
    "train_data, train_labels = data_import(train_path)\n",
    "test_data, test_labels = data_import(test_path)\n",
    "val_data, val_labels = data_import(val_path)\n",
    "\n",
    "train_data = train_data.reshape(-1, 784)/255.0\n",
    "test_data = test_data.reshape(-1, 784)/255.0\n",
    "val_data = val_data.reshape(-1, 784)/255.0\n",
    "\n",
    "train_labels = relabel(train_labels)\n",
    "test_labels = relabel(test_labels)\n",
    "val_labels = relabel(val_labels)\n",
    "\n",
    "mean_vec = np.mean(train_data, axis=0) # 784 dimentional vector\n",
    "# print(mean_vec.shape) \n",
    "\n",
    "# mean correction\n",
    "train_data = train_data - mean_vec\n",
    "test_data = test_data - mean_vec\n",
    "val_data = val_data - mean_vec"
   ]
  },
  {
   "attachments": {},
   "cell_type": "markdown",
   "metadata": {},
   "source": [
    "# PCA Task1"
   ]
  },
  {
   "attachments": {},
   "cell_type": "markdown",
   "metadata": {},
   "source": [
    "## 32 PCA"
   ]
  },
  {
   "cell_type": "code",
   "execution_count": 5,
   "metadata": {},
   "outputs": [],
   "source": [
    "with open(\"./pca_models/pca32.pkl\", mode=\"rb\") as f:\n",
    "    pca32 = pickle.load(f)\n",
    "\n",
    "reduced_train = pca32.transform(train_data)\n",
    "reduced_test = pca32.transform(test_data)\n",
    "reduced_val = pca32.transform(val_data)"
   ]
  },
  {
   "cell_type": "code",
   "execution_count": 6,
   "metadata": {},
   "outputs": [
    {
     "name": "stdout",
     "output_type": "stream",
     "text": [
      "Model: \"Model-PCA32\"\n",
      "_________________________________________________________________\n",
      " Layer (type)                Output Shape              Param #   \n",
      "=================================================================\n",
      " Input (InputLayer)          [(None, 32)]              0         \n",
      "                                                                 \n",
      " Layer1 (Dense)              (None, 16)                528       \n",
      "                                                                 \n",
      " Layer2 (Dense)              (None, 8)                 136       \n",
      "                                                                 \n",
      " Output (Dense)              (None, 5)                 45        \n",
      "                                                                 \n",
      "=================================================================\n",
      "Total params: 709\n",
      "Trainable params: 709\n",
      "Non-trainable params: 0\n",
      "_________________________________________________________________\n",
      "Train data eval:\n",
      "220/356 [=================>............] - ETA: 0s - loss: 0.0063 - accuracy: 0.9987"
     ]
    },
    {
     "name": "stderr",
     "output_type": "stream",
     "text": [
      "2023-04-10 15:50:28.206553: W tensorflow/tsl/platform/profile_utils/cpu_utils.cc:128] Failed to get CPU frequency: 0 Hz\n"
     ]
    },
    {
     "name": "stdout",
     "output_type": "stream",
     "text": [
      "356/356 [==============================] - 0s 392us/step - loss: 0.0068 - accuracy: 0.9987\n",
      "[0.006802352145314217, 0.9986824989318848]\n",
      "Test data eval:\n",
      "119/119 [==============================] - 0s 257us/step - loss: 0.1066 - accuracy: 0.9784\n",
      "[0.10661952942609787, 0.9783926010131836]\n",
      "Val data eval:\n",
      "119/119 [==============================] - 0s 253us/step - loss: 0.0852 - accuracy: 0.9816\n",
      "[0.08520220965147018, 0.9815546870231628]\n"
     ]
    }
   ],
   "source": [
    "model = load_model(\"./pca_models/pcamodel1_32.h5\")\n",
    "model.summary()\n",
    "print(\"Train data eval:\")\n",
    "print(model.evaluate(reduced_train, train_labels))\n",
    "\n",
    "print(\"Test data eval:\")\n",
    "print(model.evaluate(reduced_test, test_labels))\n",
    "\n",
    "print(\"Val data eval:\")\n",
    "print(model.evaluate(reduced_val, val_labels))\n",
    "\n"
   ]
  },
  {
   "cell_type": "code",
   "execution_count": 7,
   "metadata": {},
   "outputs": [
    {
     "name": "stdout",
     "output_type": "stream",
     "text": [
      "Model: \"Model-PCA32\"\n",
      "_________________________________________________________________\n",
      " Layer (type)                Output Shape              Param #   \n",
      "=================================================================\n",
      " Input (InputLayer)          [(None, 32)]              0         \n",
      "                                                                 \n",
      " Layer1 (Dense)              (None, 256)               8448      \n",
      "                                                                 \n",
      " Layer2 (Dense)              (None, 128)               32896     \n",
      "                                                                 \n",
      " Layer3 (Dense)              (None, 64)                8256      \n",
      "                                                                 \n",
      " Layer4 (Dense)              (None, 32)                2080      \n",
      "                                                                 \n",
      " Output (Dense)              (None, 5)                 165       \n",
      "                                                                 \n",
      "=================================================================\n",
      "Total params: 51,845\n",
      "Trainable params: 51,845\n",
      "Non-trainable params: 0\n",
      "_________________________________________________________________\n",
      "Train data eval:\n",
      "356/356 [==============================] - 0s 317us/step - loss: 0.0170 - accuracy: 0.9959\n",
      "[0.016996508464217186, 0.9958717823028564]\n",
      "Test data eval:\n",
      "119/119 [==============================] - 0s 324us/step - loss: 0.0667 - accuracy: 0.9823\n",
      "[0.06674440950155258, 0.9823451638221741]\n",
      "Val data eval:\n",
      "119/119 [==============================] - 0s 310us/step - loss: 0.0562 - accuracy: 0.9823\n",
      "[0.05622228607535362, 0.9823451638221741]\n"
     ]
    }
   ],
   "source": [
    "model = load_model(\"./pca_models/pcamodel2_32.h5\")\n",
    "model.summary()\n",
    "print(\"Train data eval:\")\n",
    "print(model.evaluate(reduced_train, train_labels))\n",
    "\n",
    "print(\"Test data eval:\")\n",
    "print(model.evaluate(reduced_test, test_labels))\n",
    "\n",
    "print(\"Val data eval:\")\n",
    "print(model.evaluate(reduced_val, val_labels))\n"
   ]
  },
  {
   "attachments": {},
   "cell_type": "markdown",
   "metadata": {},
   "source": [
    "## 64 PCA"
   ]
  },
  {
   "cell_type": "code",
   "execution_count": 8,
   "metadata": {},
   "outputs": [],
   "source": [
    "with open(\"./pca_models/pca64.pkl\", mode=\"rb\") as f:\n",
    "    pca64 = pickle.load(f)\n",
    "\n",
    "reduced_train = pca64.transform(train_data)\n",
    "reduced_test = pca64.transform(test_data)\n",
    "reduced_val = pca64.transform(val_data)"
   ]
  },
  {
   "cell_type": "code",
   "execution_count": 9,
   "metadata": {},
   "outputs": [
    {
     "name": "stdout",
     "output_type": "stream",
     "text": [
      "Model: \"Model-PCA64\"\n",
      "_________________________________________________________________\n",
      " Layer (type)                Output Shape              Param #   \n",
      "=================================================================\n",
      " Input (InputLayer)          [(None, 64)]              0         \n",
      "                                                                 \n",
      " Layer1 (Dense)              (None, 16)                1040      \n",
      "                                                                 \n",
      " Layer2 (Dense)              (None, 8)                 136       \n",
      "                                                                 \n",
      " Output (Dense)              (None, 5)                 45        \n",
      "                                                                 \n",
      "=================================================================\n",
      "Total params: 1,221\n",
      "Trainable params: 1,221\n",
      "Non-trainable params: 0\n",
      "_________________________________________________________________\n",
      "Train data eval:\n",
      "356/356 [==============================] - 0s 345us/step - loss: 0.0059 - accuracy: 0.9989\n",
      "[0.005892763379961252, 0.9989460110664368]\n",
      "Test data eval:\n",
      "119/119 [==============================] - 0s 241us/step - loss: 0.1147 - accuracy: 0.9758\n",
      "[0.11474204063415527, 0.9757575988769531]\n",
      "Val data eval:\n",
      "119/119 [==============================] - 0s 243us/step - loss: 0.0788 - accuracy: 0.9821\n",
      "[0.07881473749876022, 0.9820817112922668]\n"
     ]
    }
   ],
   "source": [
    "model = load_model(\"./pca_models/pcamodel1_64.h5\")\n",
    "model.summary()\n",
    "print(\"Train data eval:\")\n",
    "print(model.evaluate(reduced_train, train_labels))\n",
    "\n",
    "print(\"Test data eval:\")\n",
    "print(model.evaluate(reduced_test, test_labels))\n",
    "\n",
    "print(\"Val data eval:\")\n",
    "print(model.evaluate(reduced_val, val_labels))\n",
    "\n"
   ]
  },
  {
   "cell_type": "code",
   "execution_count": 10,
   "metadata": {},
   "outputs": [
    {
     "name": "stdout",
     "output_type": "stream",
     "text": [
      "Model: \"Model-PCA64\"\n",
      "_________________________________________________________________\n",
      " Layer (type)                Output Shape              Param #   \n",
      "=================================================================\n",
      " Input (InputLayer)          [(None, 64)]              0         \n",
      "                                                                 \n",
      " Layer1 (Dense)              (None, 256)               16640     \n",
      "                                                                 \n",
      " Layer2 (Dense)              (None, 128)               32896     \n",
      "                                                                 \n",
      " Layer3 (Dense)              (None, 64)                8256      \n",
      "                                                                 \n",
      " Layer4 (Dense)              (None, 32)                2080      \n",
      "                                                                 \n",
      " Output (Dense)              (None, 5)                 165       \n",
      "                                                                 \n",
      "=================================================================\n",
      "Total params: 60,037\n",
      "Trainable params: 60,037\n",
      "Non-trainable params: 0\n",
      "_________________________________________________________________\n",
      "Train data eval:\n",
      "356/356 [==============================] - 0s 334us/step - loss: 0.0035 - accuracy: 0.9994\n",
      "[0.003474825993180275, 0.9993851780891418]\n",
      "Test data eval:\n",
      "119/119 [==============================] - 0s 329us/step - loss: 0.0658 - accuracy: 0.9858\n",
      "[0.0657767578959465, 0.9857707619667053]\n",
      "Val data eval:\n",
      "119/119 [==============================] - 0s 333us/step - loss: 0.0462 - accuracy: 0.9887\n",
      "[0.04623997583985329, 0.9886692762374878]\n"
     ]
    }
   ],
   "source": [
    "model = load_model(\"./pca_models/pcamodel2_64.h5\")\n",
    "model.summary()\n",
    "print(\"Train data eval:\")\n",
    "print(model.evaluate(reduced_train, train_labels))\n",
    "\n",
    "print(\"Test data eval:\")\n",
    "print(model.evaluate(reduced_test, test_labels))\n",
    "\n",
    "print(\"Val data eval:\")\n",
    "print(model.evaluate(reduced_val, val_labels))"
   ]
  },
  {
   "attachments": {},
   "cell_type": "markdown",
   "metadata": {},
   "source": [
    "## 128 PCA"
   ]
  },
  {
   "cell_type": "code",
   "execution_count": 11,
   "metadata": {},
   "outputs": [],
   "source": [
    "with open(\"./pca_models/pca128.pkl\", mode=\"rb\") as f:\n",
    "    pca128 = pickle.load(f)\n",
    "\n",
    "reduced_train = pca128.transform(train_data)\n",
    "reduced_test = pca128.transform(test_data)\n",
    "reduced_val = pca128.transform(val_data)"
   ]
  },
  {
   "cell_type": "code",
   "execution_count": 12,
   "metadata": {},
   "outputs": [
    {
     "name": "stdout",
     "output_type": "stream",
     "text": [
      "Model: \"Model-PCA128\"\n",
      "_________________________________________________________________\n",
      " Layer (type)                Output Shape              Param #   \n",
      "=================================================================\n",
      " Input (InputLayer)          [(None, 128)]             0         \n",
      "                                                                 \n",
      " Layer1 (Dense)              (None, 16)                2064      \n",
      "                                                                 \n",
      " Layer2 (Dense)              (None, 8)                 136       \n",
      "                                                                 \n",
      " Output (Dense)              (None, 5)                 45        \n",
      "                                                                 \n",
      "=================================================================\n",
      "Total params: 2,245\n",
      "Trainable params: 2,245\n",
      "Non-trainable params: 0\n",
      "_________________________________________________________________\n",
      "Train data eval:\n",
      "356/356 [==============================] - 0s 246us/step - loss: 0.0014 - accuracy: 0.9998\n",
      "[0.0014380599604919553, 0.9998243451118469]\n",
      "Test data eval:\n",
      "119/119 [==============================] - 0s 251us/step - loss: 0.1083 - accuracy: 0.9760\n",
      "[0.10833027213811874, 0.9760210514068604]\n",
      "Val data eval:\n",
      "119/119 [==============================] - 0s 246us/step - loss: 0.0722 - accuracy: 0.9829\n",
      "[0.07215145230293274, 0.9828721880912781]\n"
     ]
    }
   ],
   "source": [
    "model = load_model(\"./pca_models/pcamodel1_128.h5\")\n",
    "model.summary()\n",
    "\n",
    "print(\"Train data eval:\")\n",
    "print(model.evaluate(reduced_train, train_labels))\n",
    "\n",
    "print(\"Test data eval:\")\n",
    "print(model.evaluate(reduced_test, test_labels))\n",
    "\n",
    "print(\"Val data eval:\")\n",
    "print(model.evaluate(reduced_val, val_labels))\n"
   ]
  },
  {
   "cell_type": "code",
   "execution_count": 13,
   "metadata": {},
   "outputs": [
    {
     "name": "stdout",
     "output_type": "stream",
     "text": [
      "Model: \"Model-PCA128\"\n",
      "_________________________________________________________________\n",
      " Layer (type)                Output Shape              Param #   \n",
      "=================================================================\n",
      " Input (InputLayer)          [(None, 128)]             0         \n",
      "                                                                 \n",
      " Layer1 (Dense)              (None, 256)               33024     \n",
      "                                                                 \n",
      " Layer2 (Dense)              (None, 128)               32896     \n",
      "                                                                 \n",
      " Layer3 (Dense)              (None, 64)                8256      \n",
      "                                                                 \n",
      " Layer4 (Dense)              (None, 32)                2080      \n",
      "                                                                 \n",
      " Output (Dense)              (None, 5)                 165       \n",
      "                                                                 \n",
      "=================================================================\n",
      "Total params: 76,421\n",
      "Trainable params: 76,421\n",
      "Non-trainable params: 0\n",
      "_________________________________________________________________\n",
      "Train data eval:\n",
      "356/356 [==============================] - 0s 355us/step - loss: 0.0113 - accuracy: 0.9971\n",
      "[0.011282951571047306, 0.9971014261245728]\n",
      "Test data eval:\n",
      "119/119 [==============================] - 0s 351us/step - loss: 0.0796 - accuracy: 0.9813\n",
      "[0.07962889969348907, 0.9812911748886108]\n",
      "Val data eval:\n",
      "119/119 [==============================] - 0s 357us/step - loss: 0.0681 - accuracy: 0.9826\n",
      "[0.06808000802993774, 0.9826086759567261]\n"
     ]
    }
   ],
   "source": [
    "model = load_model(\"./pca_models/pcamodel2_128.h5\")\n",
    "model.summary()\n",
    "\n",
    "print(\"Train data eval:\")\n",
    "print(model.evaluate(reduced_train, train_labels))\n",
    "\n",
    "print(\"Test data eval:\")\n",
    "print(model.evaluate(reduced_test, test_labels))\n",
    "\n",
    "print(\"Val data eval:\")\n",
    "print(model.evaluate(reduced_val, val_labels))\n"
   ]
  },
  {
   "attachments": {},
   "cell_type": "markdown",
   "metadata": {},
   "source": [
    "## 256 PCA"
   ]
  },
  {
   "cell_type": "code",
   "execution_count": 14,
   "metadata": {},
   "outputs": [],
   "source": [
    "with open(\"./pca_models/pca256.pkl\", mode=\"rb\") as f:\n",
    "    pca256 = pickle.load(f)\n",
    "\n",
    "reduced_train = pca256.transform(train_data)\n",
    "reduced_test = pca256.transform(test_data)\n",
    "reduced_val = pca256.transform(val_data)"
   ]
  },
  {
   "cell_type": "code",
   "execution_count": 15,
   "metadata": {},
   "outputs": [
    {
     "name": "stdout",
     "output_type": "stream",
     "text": [
      "Model: \"Model-PCA256\"\n",
      "_________________________________________________________________\n",
      " Layer (type)                Output Shape              Param #   \n",
      "=================================================================\n",
      " Input (InputLayer)          [(None, 256)]             0         \n",
      "                                                                 \n",
      " Layer1 (Dense)              (None, 16)                4112      \n",
      "                                                                 \n",
      " Layer2 (Dense)              (None, 8)                 136       \n",
      "                                                                 \n",
      " Output (Dense)              (None, 5)                 45        \n",
      "                                                                 \n",
      "=================================================================\n",
      "Total params: 4,293\n",
      "Trainable params: 4,293\n",
      "Non-trainable params: 0\n",
      "_________________________________________________________________\n",
      "Train data eval:\n",
      "356/356 [==============================] - 0s 371us/step - loss: 0.0025 - accuracy: 0.9996\n",
      "[0.0024928180500864983, 0.9996486902236938]\n",
      "Test data eval:\n",
      "119/119 [==============================] - 0s 253us/step - loss: 0.1166 - accuracy: 0.9755\n",
      "[0.11656564474105835, 0.9754940867424011]\n",
      "Val data eval:\n",
      "119/119 [==============================] - 0s 252us/step - loss: 0.0915 - accuracy: 0.9771\n",
      "[0.09147651493549347, 0.9770750999450684]\n"
     ]
    }
   ],
   "source": [
    "model = load_model(\"./pca_models/pcamodel1_256.h5\")\n",
    "model.summary()\n",
    "\n",
    "print(\"Train data eval:\")\n",
    "print(model.evaluate(reduced_train, train_labels))\n",
    "\n",
    "print(\"Test data eval:\")\n",
    "print(model.evaluate(reduced_test, test_labels))\n",
    "\n",
    "print(\"Val data eval:\")\n",
    "print(model.evaluate(reduced_val, val_labels))\n"
   ]
  },
  {
   "cell_type": "code",
   "execution_count": 16,
   "metadata": {},
   "outputs": [
    {
     "name": "stdout",
     "output_type": "stream",
     "text": [
      "Model: \"Model-PCA256\"\n",
      "_________________________________________________________________\n",
      " Layer (type)                Output Shape              Param #   \n",
      "=================================================================\n",
      " Input (InputLayer)          [(None, 256)]             0         \n",
      "                                                                 \n",
      " Layer1 (Dense)              (None, 256)               65792     \n",
      "                                                                 \n",
      " Layer2 (Dense)              (None, 128)               32896     \n",
      "                                                                 \n",
      " Layer3 (Dense)              (None, 64)                8256      \n",
      "                                                                 \n",
      " Layer4 (Dense)              (None, 32)                2080      \n",
      "                                                                 \n",
      " Output (Dense)              (None, 5)                 165       \n",
      "                                                                 \n",
      "=================================================================\n",
      "Total params: 109,189\n",
      "Trainable params: 109,189\n",
      "Non-trainable params: 0\n",
      "_________________________________________________________________\n",
      "Train data eval:\n",
      "356/356 [==============================] - 0s 403us/step - loss: 0.0076 - accuracy: 0.9976\n",
      "[0.007569477893412113, 0.9976284503936768]\n",
      "Test data eval:\n",
      "119/119 [==============================] - 0s 404us/step - loss: 0.0852 - accuracy: 0.9805\n",
      "[0.08521614223718643, 0.9805006384849548]\n",
      "Val data eval:\n",
      "119/119 [==============================] - 0s 408us/step - loss: 0.0635 - accuracy: 0.9831\n",
      "[0.06346264481544495, 0.9831357002258301]\n"
     ]
    }
   ],
   "source": [
    "model = load_model(\"./pca_models/pcamodel2_256.h5\")\n",
    "model.summary()\n",
    "\n",
    "print(\"Train data eval:\")\n",
    "print(model.evaluate(reduced_train, train_labels))\n",
    "\n",
    "print(\"Test data eval:\")\n",
    "print(model.evaluate(reduced_test, test_labels))\n",
    "\n",
    "print(\"Val data eval:\")\n",
    "print(model.evaluate(reduced_val, val_labels))\n"
   ]
  },
  {
   "attachments": {},
   "cell_type": "markdown",
   "metadata": {},
   "source": [
    "# Autoencoders"
   ]
  },
  {
   "cell_type": "code",
   "execution_count": 17,
   "metadata": {},
   "outputs": [],
   "source": [
    "test_path='./Group_10/test'\n",
    "train_path='./Group_10/train'\n",
    "val_path='./Group_10/val'\n",
    "\n",
    "#import datasets\n",
    "train_data, train_labels = data_import(train_path)\n",
    "test_data, test_labels = data_import(test_path)\n",
    "val_data, val_labels = data_import(val_path)\n",
    "\n",
    "train_data = train_data.reshape(-1, 784)/255.0\n",
    "test_data = test_data.reshape(-1, 784)/255.0\n",
    "val_data = val_data.reshape(-1, 784)/255.0\n",
    "\n",
    "train_labels = relabel(train_labels)\n",
    "test_labels = relabel(test_labels)\n",
    "val_labels = relabel(val_labels)\n",
    "\n",
    "# mean_vec = np.mean(train_data, axis=0) # 784 dimentional vector\n",
    "# print(mean_vec.shape) "
   ]
  },
  {
   "attachments": {},
   "cell_type": "markdown",
   "metadata": {},
   "source": [
    "## One layer 32 bottleneck"
   ]
  },
  {
   "cell_type": "code",
   "execution_count": 18,
   "metadata": {},
   "outputs": [],
   "source": [
    "model = load_model(\"./autoencoder_models/autoencoder_1layer_32.h5\")"
   ]
  },
  {
   "cell_type": "code",
   "execution_count": 19,
   "metadata": {},
   "outputs": [],
   "source": [
    "class1 = train_data[0+100, :]\n",
    "class2 = train_data[2277+100, :]\n",
    "class3 = train_data[2*2277+100, :]\n",
    "class4 = train_data[3*2277+100, :]\n",
    "class5 = train_data[4*2277+100, :]"
   ]
  },
  {
   "cell_type": "code",
   "execution_count": 20,
   "metadata": {},
   "outputs": [
    {
     "name": "stdout",
     "output_type": "stream",
     "text": [
      "Model: \"Autoencoder32\"\n",
      "_________________________________________________________________\n",
      " Layer (type)                Output Shape              Param #   \n",
      "=================================================================\n",
      " Encoder-input (InputLayer)  [(None, 784)]             0         \n",
      "                                                                 \n",
      " Bottleneck-layer (Dense)    (None, 32)                25120     \n",
      "                                                                 \n",
      " Decoder-output (Dense)      (None, 784)               25872     \n",
      "                                                                 \n",
      "=================================================================\n",
      "Total params: 50,992\n",
      "Trainable params: 50,992\n",
      "Non-trainable params: 0\n",
      "_________________________________________________________________\n",
      "1/1 [==============================] - 0s 30ms/step\n",
      "1/1 [==============================] - 0s 8ms/step\n",
      "1/1 [==============================] - 0s 8ms/step\n",
      "1/1 [==============================] - 0s 7ms/step\n",
      "1/1 [==============================] - 0s 7ms/step\n"
     ]
    },
    {
     "data": {
      "text/plain": [
       "(-0.5, 27.5, 27.5, -0.5)"
      ]
     },
     "execution_count": 20,
     "metadata": {},
     "output_type": "execute_result"
    },
    {
     "data": {
      "image/png": "[encoded data removed]",
      "text/plain": [
       "<Figure size 640x480 with 10 Axes>"
      ]
     },
     "metadata": {},
     "output_type": "display_data"
    }
   ],
   "source": [
    "model.summary()\n",
    "\n",
    "plt.figure()\n",
    "plt.subplot(2,5,1)\n",
    "# plt.title(\"Original\")\n",
    "plt.imshow(class1.reshape((28,28)))\n",
    "plt.axis('off')\n",
    "\n",
    "plt.subplot(2,5,2)\n",
    "plt.imshow(class2.reshape((28,28)))\n",
    "plt.axis('off')\n",
    "\n",
    "plt.subplot(2,5,3)\n",
    "plt.imshow(class3.reshape((28,28)))\n",
    "plt.axis('off')\n",
    "\n",
    "plt.subplot(2,5,4)\n",
    "plt.imshow(class4.reshape((28,28)))\n",
    "plt.axis('off')\n",
    "\n",
    "plt.subplot(2,5,5)\n",
    "plt.imshow(class5.reshape((28,28)))\n",
    "plt.axis('off')\n",
    "\n",
    "plt.subplot(2,5,6)\n",
    "# plt.title(\"Original\")\n",
    "recon_class1 = model.predict(class1.reshape((1, -1)))\n",
    "plt.imshow(recon_class1.reshape((28,28)))\n",
    "plt.axis('off')\n",
    "\n",
    "plt.subplot(2,5,7)\n",
    "recon_class2 = model.predict(class2.reshape((1, -1)))\n",
    "plt.imshow(recon_class2.reshape((28,28)))\n",
    "plt.axis('off')\n",
    "\n",
    "plt.subplot(2,5,8)\n",
    "recon_class3 = model.predict(class3.reshape((1, -1)))\n",
    "plt.imshow(recon_class3.reshape((28,28)))\n",
    "plt.axis('off')\n",
    "\n",
    "plt.subplot(2,5,9)\n",
    "recon_class4 = model.predict(class4.reshape((1, -1)))\n",
    "plt.imshow(recon_class4.reshape((28,28)))\n",
    "plt.axis('off')\n",
    "\n",
    "plt.subplot(2,5,10)\n",
    "recon_class5 = model.predict(class5.reshape((1, -1)))\n",
    "plt.imshow(recon_class5.reshape((28,28)))\n",
    "plt.axis('off')"
   ]
  },
  {
   "attachments": {},
   "cell_type": "markdown",
   "metadata": {},
   "source": [
    "### Model 1"
   ]
  },
  {
   "cell_type": "code",
   "execution_count": 21,
   "metadata": {},
   "outputs": [
    {
     "name": "stdout",
     "output_type": "stream",
     "text": [
      "WARNING:tensorflow:No training configuration found in the save file, so the model was *not* compiled. Compile it manually.\n",
      "356/356 [==============================] - 0s 344us/step\n",
      "119/119 [==============================] - 0s 252us/step\n",
      "119/119 [==============================] - 0s 251us/step\n"
     ]
    }
   ],
   "source": [
    "encoder = load_model(\"./autoencoder_models/encoder_1layer_32.h5\")\n",
    "encoded_train = encoder.predict(train_data)\n",
    "encoded_test = encoder.predict(test_data)\n",
    "encoded_val = encoder.predict(val_data)"
   ]
  },
  {
   "cell_type": "code",
   "execution_count": 22,
   "metadata": {},
   "outputs": [
    {
     "name": "stdout",
     "output_type": "stream",
     "text": [
      "Model: \"Model-encoder32\"\n",
      "_________________________________________________________________\n",
      " Layer (type)                Output Shape              Param #   \n",
      "=================================================================\n",
      " Input (InputLayer)          [(None, 32)]              0         \n",
      "                                                                 \n",
      " Layer1 (Dense)              (None, 16)                528       \n",
      "                                                                 \n",
      " Layer2 (Dense)              (None, 8)                 136       \n",
      "                                                                 \n",
      " Output (Dense)              (None, 5)                 45        \n",
      "                                                                 \n",
      "=================================================================\n",
      "Total params: 709\n",
      "Trainable params: 709\n",
      "Non-trainable params: 0\n",
      "_________________________________________________________________\n",
      "Epoch 166: early stopping\n"
     ]
    }
   ],
   "source": [
    "inputs = Input(shape=(32,), name=\"Input\")\n",
    "x = Dense(16, activation='tanh', name=\"Layer1\")(inputs)\n",
    "x = Dense(8, activation='tanh', name=\"Layer2\")(x)\n",
    "# x = Dense(128, activation='tanh', name=\"Layer3\")(x)\n",
    "# x = Dense(64, activation='tanh', name=\"Layer4\")(x)\n",
    "outputs = Dense(5, activation='softmax', name=\"Output\")(x)\n",
    "model = Model(inputs=inputs, outputs=outputs, name=f\"Model-encoder{32}\")\n",
    "model.summary()\n",
    "\n",
    "adam_optimizer = Adam(learning_rate = 0.001)\n",
    "\n",
    "model.compile(optimizer=adam_optimizer,\n",
    "                loss=\"sparse_categorical_crossentropy\",\n",
    "                metrics=['accuracy'])\n",
    "earlystopping = EarlyStopping(monitor='loss',\n",
    "                                min_delta=1e-4,\n",
    "                                patience=5,\n",
    "                                verbose=1)\n",
    "history1 = model.fit(x=encoded_train, y=train_labels,\n",
    "                        batch_size=32, epochs=100_000,\n",
    "                        callbacks=[earlystopping],\n",
    "                        verbose=0, shuffle=True,\n",
    "                        validation_split=0.0)"
   ]
  },
  {
   "cell_type": "code",
   "execution_count": 23,
   "metadata": {},
   "outputs": [
    {
     "name": "stdout",
     "output_type": "stream",
     "text": [
      "Training data evaluation\n",
      "356/356 [==============================] - 0s 246us/step - loss: 0.0018 - accuracy: 0.9998\n",
      "Testing data evaluation\n",
      "119/119 [==============================] - 0s 244us/step - loss: 0.1522 - accuracy: 0.9763\n",
      "Validation data evaluation\n",
      "119/119 [==============================] - 0s 253us/step - loss: 0.1269 - accuracy: 0.9773\n",
      "\n"
     ]
    }
   ],
   "source": [
    "print(\"Training data evaluation\")\n",
    "model.evaluate(encoded_train, train_labels)\n",
    "print(\"Testing data evaluation\")\n",
    "model.evaluate(encoded_test, test_labels)\n",
    "print(\"Validation data evaluation\")\n",
    "model.evaluate(encoded_val, val_labels)\n",
    "print()"
   ]
  },
  {
   "attachments": {},
   "cell_type": "markdown",
   "metadata": {},
   "source": [
    "### Model 2"
   ]
  },
  {
   "cell_type": "code",
   "execution_count": 24,
   "metadata": {},
   "outputs": [
    {
     "name": "stdout",
     "output_type": "stream",
     "text": [
      "Model: \"Model-encoder32\"\n",
      "_________________________________________________________________\n",
      " Layer (type)                Output Shape              Param #   \n",
      "=================================================================\n",
      " Input (InputLayer)          [(None, 32)]              0         \n",
      "                                                                 \n",
      " Layer1 (Dense)              (None, 256)               8448      \n",
      "                                                                 \n",
      " Layer2 (Dense)              (None, 128)               32896     \n",
      "                                                                 \n",
      " Layer3 (Dense)              (None, 64)                8256      \n",
      "                                                                 \n",
      " Layer4 (Dense)              (None, 32)                2080      \n",
      "                                                                 \n",
      " Output (Dense)              (None, 5)                 165       \n",
      "                                                                 \n",
      "=================================================================\n",
      "Total params: 51,845\n",
      "Trainable params: 51,845\n",
      "Non-trainable params: 0\n",
      "_________________________________________________________________\n",
      "Epoch 32: early stopping\n"
     ]
    }
   ],
   "source": [
    "inputs = Input(shape=(32,), name=\"Input\")\n",
    "x = Dense(256, activation='tanh', name=\"Layer1\")(inputs)\n",
    "x = Dense(128, activation='tanh', name=\"Layer2\")(x)\n",
    "x = Dense(64, activation='tanh', name=\"Layer3\")(x)\n",
    "x = Dense(32, activation='tanh', name=\"Layer4\")(x)\n",
    "outputs = Dense(5, activation='softmax', name=\"Output\")(x)\n",
    "model = Model(inputs=inputs, outputs=outputs, name=f\"Model-encoder{32}\")\n",
    "model.summary()\n",
    "\n",
    "adam_optimizer = Adam(learning_rate = 0.001)\n",
    "\n",
    "model.compile(optimizer=adam_optimizer,\n",
    "                    loss=\"sparse_categorical_crossentropy\",\n",
    "                    metrics=['accuracy'])\n",
    "earlystopping = EarlyStopping(monitor='loss',\n",
    "                                        min_delta=1e-4,\n",
    "                                        patience=5,\n",
    "                                        verbose=1)\n",
    "history1 = model.fit(x=encoded_train, y=train_labels,\n",
    "                        batch_size=32, epochs=100_000,\n",
    "                        callbacks=[earlystopping],\n",
    "                        verbose=0, shuffle=True,\n",
    "                        validation_split=0.0)"
   ]
  },
  {
   "cell_type": "code",
   "execution_count": 25,
   "metadata": {},
   "outputs": [
    {
     "name": "stdout",
     "output_type": "stream",
     "text": [
      "Training data evaluation\n",
      "356/356 [==============================] - 0s 322us/step - loss: 0.0021 - accuracy: 0.9993\n",
      "Testing data evaluation\n",
      "119/119 [==============================] - 0s 322us/step - loss: 0.0728 - accuracy: 0.9845\n",
      "Validation data evaluation\n",
      "119/119 [==============================] - 0s 327us/step - loss: 0.0573 - accuracy: 0.9863\n",
      "\n"
     ]
    }
   ],
   "source": [
    "print(\"Training data evaluation\")\n",
    "model.evaluate(encoded_train, train_labels)\n",
    "print(\"Testing data evaluation\")\n",
    "model.evaluate(encoded_test, test_labels)\n",
    "print(\"Validation data evaluation\")\n",
    "model.evaluate(encoded_val, val_labels)\n",
    "print()"
   ]
  },
  {
   "attachments": {},
   "cell_type": "markdown",
   "metadata": {},
   "source": [
    "## Three layer 32 bottleneck"
   ]
  },
  {
   "cell_type": "code",
   "execution_count": 26,
   "metadata": {},
   "outputs": [],
   "source": [
    "model = load_model(\"./autoencoder_models/autoencoder_3layer_32.h5\")"
   ]
  },
  {
   "cell_type": "code",
   "execution_count": 27,
   "metadata": {},
   "outputs": [
    {
     "name": "stdout",
     "output_type": "stream",
     "text": [
      "Model: \"Autoencoder32\"\n",
      "_________________________________________________________________\n",
      " Layer (type)                Output Shape              Param #   \n",
      "=================================================================\n",
      " Encoder-input (InputLayer)  [(None, 784)]             0         \n",
      "                                                                 \n",
      " Encoder-hidden (Dense)      (None, 400)               314000    \n",
      "                                                                 \n",
      " Bottleneck-layer (Dense)    (None, 32)                12832     \n",
      "                                                                 \n",
      " Decoder-hidden (Dense)      (None, 400)               13200     \n",
      "                                                                 \n",
      " Decoder-output (Dense)      (None, 784)               314384    \n",
      "                                                                 \n",
      "=================================================================\n",
      "Total params: 654,416\n",
      "Trainable params: 654,416\n",
      "Non-trainable params: 0\n",
      "_________________________________________________________________\n",
      "1/1 [==============================] - 0s 23ms/step\n",
      "1/1 [==============================] - 0s 8ms/step\n",
      "1/1 [==============================] - 0s 8ms/step\n",
      "1/1 [==============================] - 0s 7ms/step\n",
      "1/1 [==============================] - 0s 8ms/step\n"
     ]
    },
    {
     "data": {
      "text/plain": [
       "(-0.5, 27.5, 27.5, -0.5)"
      ]
     },
     "execution_count": 27,
     "metadata": {},
     "output_type": "execute_result"
    },
    {
     "data": {
      "image/png": "[encoded data removed]",
      "text/plain": [
       "<Figure size 640x480 with 10 Axes>"
      ]
     },
     "metadata": {},
     "output_type": "display_data"
    }
   ],
   "source": [
    "model.summary()\n",
    "\n",
    "plt.figure()\n",
    "plt.subplot(2,5,1)\n",
    "# plt.title(\"Original\")\n",
    "plt.imshow(class1.reshape((28,28)))\n",
    "plt.axis('off')\n",
    "\n",
    "plt.subplot(2,5,2)\n",
    "plt.imshow(class2.reshape((28,28)))\n",
    "plt.axis('off')\n",
    "\n",
    "plt.subplot(2,5,3)\n",
    "plt.imshow(class3.reshape((28,28)))\n",
    "plt.axis('off')\n",
    "\n",
    "plt.subplot(2,5,4)\n",
    "plt.imshow(class4.reshape((28,28)))\n",
    "plt.axis('off')\n",
    "\n",
    "plt.subplot(2,5,5)\n",
    "plt.imshow(class5.reshape((28,28)))\n",
    "plt.axis('off')\n",
    "\n",
    "plt.subplot(2,5,6)\n",
    "# plt.title(\"Original\")\n",
    "recon_class1 = model.predict(class1.reshape((1, -1)))\n",
    "plt.imshow(recon_class1.reshape((28,28)))\n",
    "plt.axis('off')\n",
    "\n",
    "plt.subplot(2,5,7)\n",
    "recon_class2 = model.predict(class2.reshape((1, -1)))\n",
    "plt.imshow(recon_class2.reshape((28,28)))\n",
    "plt.axis('off')\n",
    "\n",
    "plt.subplot(2,5,8)\n",
    "recon_class3 = model.predict(class3.reshape((1, -1)))\n",
    "plt.imshow(recon_class3.reshape((28,28)))\n",
    "plt.axis('off')\n",
    "\n",
    "plt.subplot(2,5,9)\n",
    "recon_class4 = model.predict(class4.reshape((1, -1)))\n",
    "plt.imshow(recon_class4.reshape((28,28)))\n",
    "plt.axis('off')\n",
    "\n",
    "plt.subplot(2,5,10)\n",
    "recon_class5 = model.predict(class5.reshape((1, -1)))\n",
    "plt.imshow(recon_class5.reshape((28,28)))\n",
    "plt.axis('off')"
   ]
  },
  {
   "attachments": {},
   "cell_type": "markdown",
   "metadata": {},
   "source": [
    "### Model 1"
   ]
  },
  {
   "cell_type": "code",
   "execution_count": 28,
   "metadata": {},
   "outputs": [
    {
     "name": "stdout",
     "output_type": "stream",
     "text": [
      "WARNING:tensorflow:No training configuration found in the save file, so the model was *not* compiled. Compile it manually.\n",
      "356/356 [==============================] - 0s 436us/step\n",
      "119/119 [==============================] - 0s 364us/step\n",
      "119/119 [==============================] - 0s 379us/step\n"
     ]
    }
   ],
   "source": [
    "encoder = load_model(\"./autoencoder_models/encoder_3layer_32.h5\")\n",
    "encoded_train = encoder.predict(train_data)\n",
    "encoded_test = encoder.predict(test_data)\n",
    "encoded_val = encoder.predict(val_data)"
   ]
  },
  {
   "cell_type": "code",
   "execution_count": 29,
   "metadata": {},
   "outputs": [
    {
     "name": "stdout",
     "output_type": "stream",
     "text": [
      "Model: \"Model-encoder32\"\n",
      "_________________________________________________________________\n",
      " Layer (type)                Output Shape              Param #   \n",
      "=================================================================\n",
      " Input (InputLayer)          [(None, 32)]              0         \n",
      "                                                                 \n",
      " Layer1 (Dense)              (None, 16)                528       \n",
      "                                                                 \n",
      " Layer2 (Dense)              (None, 8)                 136       \n",
      "                                                                 \n",
      " Output (Dense)              (None, 5)                 45        \n",
      "                                                                 \n",
      "=================================================================\n",
      "Total params: 709\n",
      "Trainable params: 709\n",
      "Non-trainable params: 0\n",
      "_________________________________________________________________\n",
      "Epoch 220: early stopping\n"
     ]
    }
   ],
   "source": [
    "inputs = Input(shape=(32,), name=\"Input\")\n",
    "x = Dense(16, activation='tanh', name=\"Layer1\")(inputs)\n",
    "x = Dense(8, activation='tanh', name=\"Layer2\")(x)\n",
    "# x = Dense(128, activation='tanh', name=\"Layer3\")(x)\n",
    "# x = Dense(64, activation='tanh', name=\"Layer4\")(x)\n",
    "outputs = Dense(5, activation='softmax', name=\"Output\")(x)\n",
    "model = Model(inputs=inputs, outputs=outputs, name=f\"Model-encoder{32}\")\n",
    "model.summary()\n",
    "\n",
    "adam_optimizer = Adam(learning_rate = 0.001)\n",
    "\n",
    "model.compile(optimizer=adam_optimizer,\n",
    "                    loss=\"sparse_categorical_crossentropy\",\n",
    "                    metrics=['accuracy'])\n",
    "earlystopping = EarlyStopping(monitor='loss',\n",
    "                                        min_delta=1e-4,\n",
    "                                        patience=5,\n",
    "                                        verbose=1)\n",
    "history1 = model.fit(x=encoded_train, y=train_labels,\n",
    "                        batch_size=32, epochs=100_000,\n",
    "                        callbacks=[earlystopping],\n",
    "                        verbose=0, shuffle=True,\n",
    "                        validation_split=0.0)"
   ]
  },
  {
   "cell_type": "code",
   "execution_count": 30,
   "metadata": {},
   "outputs": [
    {
     "name": "stdout",
     "output_type": "stream",
     "text": [
      "Training data evaluation\n",
      "356/356 [==============================] - 0s 251us/step - loss: 0.0020 - accuracy: 0.9998\n",
      "Testing data evaluation\n",
      "119/119 [==============================] - 0s 242us/step - loss: 0.1528 - accuracy: 0.9734\n",
      "Validation data evaluation\n",
      "119/119 [==============================] - 0s 260us/step - loss: 0.1213 - accuracy: 0.9789\n",
      "\n"
     ]
    }
   ],
   "source": [
    "print(\"Training data evaluation\")\n",
    "model.evaluate(encoded_train, train_labels)\n",
    "print(\"Testing data evaluation\")\n",
    "model.evaluate(encoded_test, test_labels)\n",
    "print(\"Validation data evaluation\")\n",
    "model.evaluate(encoded_val, val_labels)\n",
    "print()"
   ]
  },
  {
   "cell_type": "markdown",
   "metadata": {},
   "source": [
    "### Model 2"
   ]
  },
  {
   "cell_type": "code",
   "execution_count": 31,
   "metadata": {},
   "outputs": [
    {
     "name": "stdout",
     "output_type": "stream",
     "text": [
      "Model: \"Model-encoder32\"\n",
      "_________________________________________________________________\n",
      " Layer (type)                Output Shape              Param #   \n",
      "=================================================================\n",
      " Input (InputLayer)          [(None, 32)]              0         \n",
      "                                                                 \n",
      " Layer1 (Dense)              (None, 256)               8448      \n",
      "                                                                 \n",
      " Layer2 (Dense)              (None, 128)               32896     \n",
      "                                                                 \n",
      " Layer3 (Dense)              (None, 64)                8256      \n",
      "                                                                 \n",
      " Layer4 (Dense)              (None, 32)                2080      \n",
      "                                                                 \n",
      " Output (Dense)              (None, 5)                 165       \n",
      "                                                                 \n",
      "=================================================================\n",
      "Total params: 51,845\n",
      "Trainable params: 51,845\n",
      "Non-trainable params: 0\n",
      "_________________________________________________________________\n",
      "Epoch 28: early stopping\n"
     ]
    }
   ],
   "source": [
    "inputs = Input(shape=(32,), name=\"Input\")\n",
    "x = Dense(256, activation='tanh', name=\"Layer1\")(inputs)\n",
    "x = Dense(128, activation='tanh', name=\"Layer2\")(x)\n",
    "x = Dense(64, activation='tanh', name=\"Layer3\")(x)\n",
    "x = Dense(32, activation='tanh', name=\"Layer4\")(x)\n",
    "outputs = Dense(5, activation='softmax', name=\"Output\")(x)\n",
    "model = Model(inputs=inputs, outputs=outputs, name=f\"Model-encoder{32}\")\n",
    "model.summary()\n",
    "\n",
    "adam_optimizer = Adam(learning_rate = 0.001)\n",
    "\n",
    "model.compile(optimizer=adam_optimizer,\n",
    "                    loss=\"sparse_categorical_crossentropy\",\n",
    "                    metrics=['accuracy'])\n",
    "earlystopping = EarlyStopping(monitor='loss',\n",
    "                                        min_delta=1e-4,\n",
    "                                        patience=5,\n",
    "                                        verbose=1)\n",
    "history1 = model.fit(x=encoded_train, y=train_labels,\n",
    "                        batch_size=32, epochs=100_000,\n",
    "                        callbacks=[earlystopping],\n",
    "                        verbose=0, shuffle=True,\n",
    "                        validation_split=0.0)"
   ]
  },
  {
   "cell_type": "code",
   "execution_count": 32,
   "metadata": {},
   "outputs": [
    {
     "name": "stdout",
     "output_type": "stream",
     "text": [
      "Training data evaluation\n",
      "356/356 [==============================] - 0s 321us/step - loss: 0.0030 - accuracy: 0.9993\n",
      "Testing data evaluation\n",
      "119/119 [==============================] - 0s 313us/step - loss: 0.0848 - accuracy: 0.9831\n",
      "Validation data evaluation\n",
      "119/119 [==============================] - 0s 317us/step - loss: 0.0594 - accuracy: 0.9855\n",
      "\n"
     ]
    }
   ],
   "source": [
    "print(\"Training data evaluation\")\n",
    "model.evaluate(encoded_train, train_labels)\n",
    "print(\"Testing data evaluation\")\n",
    "model.evaluate(encoded_test, test_labels)\n",
    "print(\"Validation data evaluation\")\n",
    "model.evaluate(encoded_val, val_labels)\n",
    "print()"
   ]
  },
  {
   "attachments": {},
   "cell_type": "markdown",
   "metadata": {},
   "source": [
    "## One layer 64 bottleneck"
   ]
  },
  {
   "cell_type": "code",
   "execution_count": 33,
   "metadata": {},
   "outputs": [],
   "source": [
    "model = load_model(\"./autoencoder_models/autoencoder_1layer_64.h5\")"
   ]
  },
  {
   "cell_type": "code",
   "execution_count": 34,
   "metadata": {},
   "outputs": [
    {
     "name": "stdout",
     "output_type": "stream",
     "text": [
      "Model: \"Autoencoder64\"\n",
      "_________________________________________________________________\n",
      " Layer (type)                Output Shape              Param #   \n",
      "=================================================================\n",
      " Encoder-input (InputLayer)  [(None, 784)]             0         \n",
      "                                                                 \n",
      " Bottleneck-layer (Dense)    (None, 64)                50240     \n",
      "                                                                 \n",
      " Decoder-output (Dense)      (None, 784)               50960     \n",
      "                                                                 \n",
      "=================================================================\n",
      "Total params: 101,200\n",
      "Trainable params: 101,200\n",
      "Non-trainable params: 0\n",
      "_________________________________________________________________\n",
      "1/1 [==============================] - 0s 18ms/step\n",
      "1/1 [==============================] - 0s 7ms/step\n",
      "1/1 [==============================] - 0s 7ms/step\n",
      "1/1 [==============================] - 0s 7ms/step\n",
      "1/1 [==============================] - 0s 7ms/step\n"
     ]
    },
    {
     "data": {
      "text/plain": [
       "(-0.5, 27.5, 27.5, -0.5)"
      ]
     },
     "execution_count": 34,
     "metadata": {},
     "output_type": "execute_result"
    },
    {
     "data": {
      "image/png": "[encoded data removed]",
      "text/plain": [
       "<Figure size 640x480 with 10 Axes>"
      ]
     },
     "metadata": {},
     "output_type": "display_data"
    }
   ],
   "source": [
    "model.summary()\n",
    "\n",
    "plt.figure()\n",
    "plt.subplot(2,5,1)\n",
    "# plt.title(\"Original\")\n",
    "plt.imshow(class1.reshape((28,28)))\n",
    "plt.axis('off')\n",
    "\n",
    "plt.subplot(2,5,2)\n",
    "plt.imshow(class2.reshape((28,28)))\n",
    "plt.axis('off')\n",
    "\n",
    "plt.subplot(2,5,3)\n",
    "plt.imshow(class3.reshape((28,28)))\n",
    "plt.axis('off')\n",
    "\n",
    "plt.subplot(2,5,4)\n",
    "plt.imshow(class4.reshape((28,28)))\n",
    "plt.axis('off')\n",
    "\n",
    "plt.subplot(2,5,5)\n",
    "plt.imshow(class5.reshape((28,28)))\n",
    "plt.axis('off')\n",
    "\n",
    "plt.subplot(2,5,6)\n",
    "# plt.title(\"Original\")\n",
    "recon_class1 = model.predict(class1.reshape((1, -1)))\n",
    "plt.imshow(recon_class1.reshape((28,28)))\n",
    "plt.axis('off')\n",
    "\n",
    "plt.subplot(2,5,7)\n",
    "recon_class2 = model.predict(class2.reshape((1, -1)))\n",
    "plt.imshow(recon_class2.reshape((28,28)))\n",
    "plt.axis('off')\n",
    "\n",
    "plt.subplot(2,5,8)\n",
    "recon_class3 = model.predict(class3.reshape((1, -1)))\n",
    "plt.imshow(recon_class3.reshape((28,28)))\n",
    "plt.axis('off')\n",
    "\n",
    "plt.subplot(2,5,9)\n",
    "recon_class4 = model.predict(class4.reshape((1, -1)))\n",
    "plt.imshow(recon_class4.reshape((28,28)))\n",
    "plt.axis('off')\n",
    "\n",
    "plt.subplot(2,5,10)\n",
    "recon_class5 = model.predict(class5.reshape((1, -1)))\n",
    "plt.imshow(recon_class5.reshape((28,28)))\n",
    "plt.axis('off')"
   ]
  },
  {
   "cell_type": "markdown",
   "metadata": {},
   "source": [
    "### Model 1"
   ]
  },
  {
   "cell_type": "code",
   "execution_count": 35,
   "metadata": {},
   "outputs": [
    {
     "name": "stdout",
     "output_type": "stream",
     "text": [
      "WARNING:tensorflow:No training configuration found in the save file, so the model was *not* compiled. Compile it manually.\n",
      "356/356 [==============================] - 0s 279us/step\n",
      "119/119 [==============================] - 0s 288us/step\n",
      "119/119 [==============================] - 0s 247us/step\n"
     ]
    }
   ],
   "source": [
    "encoder = load_model(\"./autoencoder_models/encoder_1layer_64.h5\")\n",
    "encoded_train = encoder.predict(train_data)\n",
    "encoded_test = encoder.predict(test_data)\n",
    "encoded_val = encoder.predict(val_data)"
   ]
  },
  {
   "cell_type": "code",
   "execution_count": 36,
   "metadata": {},
   "outputs": [
    {
     "name": "stdout",
     "output_type": "stream",
     "text": [
      "Model: \"Model-encoder64\"\n",
      "_________________________________________________________________\n",
      " Layer (type)                Output Shape              Param #   \n",
      "=================================================================\n",
      " Input (InputLayer)          [(None, 64)]              0         \n",
      "                                                                 \n",
      " Layer1 (Dense)              (None, 16)                1040      \n",
      "                                                                 \n",
      " Layer2 (Dense)              (None, 8)                 136       \n",
      "                                                                 \n",
      " Output (Dense)              (None, 5)                 45        \n",
      "                                                                 \n",
      "=================================================================\n",
      "Total params: 1,221\n",
      "Trainable params: 1,221\n",
      "Non-trainable params: 0\n",
      "_________________________________________________________________\n",
      "Epoch 100: early stopping\n"
     ]
    }
   ],
   "source": [
    "inputs = Input(shape=(64,), name=\"Input\")\n",
    "x = Dense(16, activation='tanh', name=\"Layer1\")(inputs)\n",
    "x = Dense(8, activation='tanh', name=\"Layer2\")(x)\n",
    "# x = Dense(128, activation='tanh', name=\"Layer3\")(x)\n",
    "# x = Dense(64, activation='tanh', name=\"Layer4\")(x)\n",
    "outputs = Dense(5, activation='softmax', name=\"Output\")(x)\n",
    "model = Model(inputs=inputs, outputs=outputs, name=f\"Model-encoder{64}\")\n",
    "model.summary()\n",
    "\n",
    "adam_optimizer = Adam(learning_rate = 0.001)\n",
    "\n",
    "model.compile(optimizer=adam_optimizer,\n",
    "                loss=\"sparse_categorical_crossentropy\",\n",
    "                metrics=['accuracy'])\n",
    "earlystopping = EarlyStopping(monitor='loss',\n",
    "                                min_delta=1e-4,\n",
    "                                patience=5,\n",
    "                                verbose=1)\n",
    "history1 = model.fit(x=encoded_train, y=train_labels,\n",
    "                        batch_size=32, epochs=100_000,\n",
    "                        callbacks=[earlystopping],\n",
    "                        verbose=0, shuffle=True,\n",
    "                        validation_split=0.0)"
   ]
  },
  {
   "cell_type": "code",
   "execution_count": 37,
   "metadata": {},
   "outputs": [
    {
     "name": "stdout",
     "output_type": "stream",
     "text": [
      "Training data evaluation\n",
      "356/356 [==============================] - 0s 248us/step - loss: 7.3506e-04 - accuracy: 0.9999\n",
      "Testing data evaluation\n",
      "119/119 [==============================] - 0s 244us/step - loss: 0.1398 - accuracy: 0.9773\n",
      "Validation data evaluation\n",
      "119/119 [==============================] - 0s 265us/step - loss: 0.1310 - accuracy: 0.9792\n",
      "\n"
     ]
    }
   ],
   "source": [
    "print(\"Training data evaluation\")\n",
    "model.evaluate(encoded_train, train_labels)\n",
    "print(\"Testing data evaluation\")\n",
    "model.evaluate(encoded_test, test_labels)\n",
    "print(\"Validation data evaluation\")\n",
    "model.evaluate(encoded_val, val_labels)\n",
    "print()"
   ]
  },
  {
   "cell_type": "markdown",
   "metadata": {},
   "source": [
    "### Model 2"
   ]
  },
  {
   "cell_type": "code",
   "execution_count": 38,
   "metadata": {},
   "outputs": [
    {
     "name": "stdout",
     "output_type": "stream",
     "text": [
      "Model: \"Model-encoder64\"\n",
      "_________________________________________________________________\n",
      " Layer (type)                Output Shape              Param #   \n",
      "=================================================================\n",
      " Input (InputLayer)          [(None, 64)]              0         \n",
      "                                                                 \n",
      " Layer1 (Dense)              (None, 256)               16640     \n",
      "                                                                 \n",
      " Layer2 (Dense)              (None, 128)               32896     \n",
      "                                                                 \n",
      " Layer3 (Dense)              (None, 64)                8256      \n",
      "                                                                 \n",
      " Layer4 (Dense)              (None, 32)                2080      \n",
      "                                                                 \n",
      " Output (Dense)              (None, 5)                 165       \n",
      "                                                                 \n",
      "=================================================================\n",
      "Total params: 60,037\n",
      "Trainable params: 60,037\n",
      "Non-trainable params: 0\n",
      "_________________________________________________________________\n",
      "Epoch 33: early stopping\n"
     ]
    }
   ],
   "source": [
    "inputs = Input(shape=(64,), name=\"Input\")\n",
    "x = Dense(256, activation='tanh', name=\"Layer1\")(inputs)\n",
    "x = Dense(128, activation='tanh', name=\"Layer2\")(x)\n",
    "x = Dense(64, activation='tanh', name=\"Layer3\")(x)\n",
    "x = Dense(32, activation='tanh', name=\"Layer4\")(x)\n",
    "outputs = Dense(5, activation='softmax', name=\"Output\")(x)\n",
    "model = Model(inputs=inputs, outputs=outputs, name=f\"Model-encoder{64}\")\n",
    "model.summary()\n",
    "\n",
    "adam_optimizer = Adam(learning_rate = 0.001)\n",
    "\n",
    "model.compile(optimizer=adam_optimizer,\n",
    "                    loss=\"sparse_categorical_crossentropy\",\n",
    "                    metrics=['accuracy'])\n",
    "earlystopping = EarlyStopping(monitor='loss',\n",
    "                                        min_delta=1e-4,\n",
    "                                        patience=5,\n",
    "                                        verbose=1)\n",
    "history1 = model.fit(x=encoded_train, y=train_labels,\n",
    "                        batch_size=32, epochs=100_000,\n",
    "                        callbacks=[earlystopping],\n",
    "                        verbose=0, shuffle=True,\n",
    "                        validation_split=0.0)"
   ]
  },
  {
   "cell_type": "code",
   "execution_count": 39,
   "metadata": {},
   "outputs": [
    {
     "name": "stdout",
     "output_type": "stream",
     "text": [
      "Training data evaluation\n",
      "356/356 [==============================] - 0s 334us/step - loss: 0.0351 - accuracy: 0.9890\n",
      "Testing data evaluation\n",
      "119/119 [==============================] - 0s 325us/step - loss: 0.1039 - accuracy: 0.9758\n",
      "Validation data evaluation\n",
      "119/119 [==============================] - 0s 332us/step - loss: 0.0947 - accuracy: 0.9781\n",
      "\n"
     ]
    }
   ],
   "source": [
    "print(\"Training data evaluation\")\n",
    "model.evaluate(encoded_train, train_labels)\n",
    "print(\"Testing data evaluation\")\n",
    "model.evaluate(encoded_test, test_labels)\n",
    "print(\"Validation data evaluation\")\n",
    "model.evaluate(encoded_val, val_labels)\n",
    "print()"
   ]
  },
  {
   "attachments": {},
   "cell_type": "markdown",
   "metadata": {},
   "source": [
    "## Three layer 64 bottleneck"
   ]
  },
  {
   "cell_type": "code",
   "execution_count": 40,
   "metadata": {},
   "outputs": [],
   "source": [
    "model = load_model(\"./autoencoder_models/autoencoder_3layer_64.h5\")"
   ]
  },
  {
   "cell_type": "code",
   "execution_count": 41,
   "metadata": {},
   "outputs": [
    {
     "name": "stdout",
     "output_type": "stream",
     "text": [
      "Model: \"Autoencoder64\"\n",
      "_________________________________________________________________\n",
      " Layer (type)                Output Shape              Param #   \n",
      "=================================================================\n",
      " Encoder-input (InputLayer)  [(None, 784)]             0         \n",
      "                                                                 \n",
      " Encoder-hidden (Dense)      (None, 400)               314000    \n",
      "                                                                 \n",
      " Bottleneck-layer (Dense)    (None, 64)                25664     \n",
      "                                                                 \n",
      " Decoder-hidden (Dense)      (None, 400)               26000     \n",
      "                                                                 \n",
      " Decoder-output (Dense)      (None, 784)               314384    \n",
      "                                                                 \n",
      "=================================================================\n",
      "Total params: 680,048\n",
      "Trainable params: 680,048\n",
      "Non-trainable params: 0\n",
      "_________________________________________________________________\n",
      "1/1 [==============================] - 0s 24ms/step\n",
      "1/1 [==============================] - 0s 8ms/step\n",
      "1/1 [==============================] - 0s 8ms/step\n",
      "1/1 [==============================] - 0s 8ms/step\n",
      "1/1 [==============================] - 0s 8ms/step\n"
     ]
    },
    {
     "data": {
      "text/plain": [
       "(-0.5, 27.5, 27.5, -0.5)"
      ]
     },
     "execution_count": 41,
     "metadata": {},
     "output_type": "execute_result"
    },
    {
     "data": {
      "image/png": "[encoded data removed]",
      "text/plain": [
       "<Figure size 640x480 with 10 Axes>"
      ]
     },
     "metadata": {},
     "output_type": "display_data"
    }
   ],
   "source": [
    "model.summary()\n",
    "\n",
    "plt.figure()\n",
    "plt.subplot(2,5,1)\n",
    "# plt.title(\"Original\")\n",
    "plt.imshow(class1.reshape((28,28)))\n",
    "plt.axis('off')\n",
    "\n",
    "plt.subplot(2,5,2)\n",
    "plt.imshow(class2.reshape((28,28)))\n",
    "plt.axis('off')\n",
    "\n",
    "plt.subplot(2,5,3)\n",
    "plt.imshow(class3.reshape((28,28)))\n",
    "plt.axis('off')\n",
    "\n",
    "plt.subplot(2,5,4)\n",
    "plt.imshow(class4.reshape((28,28)))\n",
    "plt.axis('off')\n",
    "\n",
    "plt.subplot(2,5,5)\n",
    "plt.imshow(class5.reshape((28,28)))\n",
    "plt.axis('off')\n",
    "\n",
    "plt.subplot(2,5,6)\n",
    "# plt.title(\"Original\")\n",
    "recon_class1 = model.predict(class1.reshape((1, -1)))\n",
    "plt.imshow(recon_class1.reshape((28,28)))\n",
    "plt.axis('off')\n",
    "\n",
    "plt.subplot(2,5,7)\n",
    "recon_class2 = model.predict(class2.reshape((1, -1)))\n",
    "plt.imshow(recon_class2.reshape((28,28)))\n",
    "plt.axis('off')\n",
    "\n",
    "plt.subplot(2,5,8)\n",
    "recon_class3 = model.predict(class3.reshape((1, -1)))\n",
    "plt.imshow(recon_class3.reshape((28,28)))\n",
    "plt.axis('off')\n",
    "\n",
    "plt.subplot(2,5,9)\n",
    "recon_class4 = model.predict(class4.reshape((1, -1)))\n",
    "plt.imshow(recon_class4.reshape((28,28)))\n",
    "plt.axis('off')\n",
    "\n",
    "plt.subplot(2,5,10)\n",
    "recon_class5 = model.predict(class5.reshape((1, -1)))\n",
    "plt.imshow(recon_class5.reshape((28,28)))\n",
    "plt.axis('off')"
   ]
  },
  {
   "attachments": {},
   "cell_type": "markdown",
   "metadata": {},
   "source": [
    "### Model 1"
   ]
  },
  {
   "cell_type": "code",
   "execution_count": 42,
   "metadata": {},
   "outputs": [
    {
     "name": "stdout",
     "output_type": "stream",
     "text": [
      "WARNING:tensorflow:No training configuration found in the save file, so the model was *not* compiled. Compile it manually.\n",
      "356/356 [==============================] - 0s 464us/step\n",
      "119/119 [==============================] - 0s 382us/step\n",
      "119/119 [==============================] - 0s 373us/step\n"
     ]
    }
   ],
   "source": [
    "encoder = load_model(\"./autoencoder_models/encoder_3layer_64.h5\")\n",
    "encoded_train = encoder.predict(train_data)\n",
    "encoded_test = encoder.predict(test_data)\n",
    "encoded_val = encoder.predict(val_data)"
   ]
  },
  {
   "cell_type": "code",
   "execution_count": 43,
   "metadata": {},
   "outputs": [
    {
     "name": "stdout",
     "output_type": "stream",
     "text": [
      "Model: \"Model-encoder64\"\n",
      "_________________________________________________________________\n",
      " Layer (type)                Output Shape              Param #   \n",
      "=================================================================\n",
      " Input (InputLayer)          [(None, 64)]              0         \n",
      "                                                                 \n",
      " Layer1 (Dense)              (None, 16)                1040      \n",
      "                                                                 \n",
      " Layer2 (Dense)              (None, 8)                 136       \n",
      "                                                                 \n",
      " Output (Dense)              (None, 5)                 45        \n",
      "                                                                 \n",
      "=================================================================\n",
      "Total params: 1,221\n",
      "Trainable params: 1,221\n",
      "Non-trainable params: 0\n",
      "_________________________________________________________________\n",
      "Epoch 132: early stopping\n"
     ]
    }
   ],
   "source": [
    "inputs = Input(shape=(64,), name=\"Input\")\n",
    "x = Dense(16, activation='tanh', name=\"Layer1\")(inputs)\n",
    "x = Dense(8, activation='tanh', name=\"Layer2\")(x)\n",
    "# x = Dense(128, activation='tanh', name=\"Layer3\")(x)\n",
    "# x = Dense(64, activation='tanh', name=\"Layer4\")(x)\n",
    "outputs = Dense(5, activation='softmax', name=\"Output\")(x)\n",
    "model = Model(inputs=inputs, outputs=outputs, name=f\"Model-encoder{64}\")\n",
    "model.summary()\n",
    "\n",
    "adam_optimizer = Adam(learning_rate = 0.001)\n",
    "\n",
    "model.compile(optimizer=adam_optimizer,\n",
    "                loss=\"sparse_categorical_crossentropy\",\n",
    "                metrics=['accuracy'])\n",
    "earlystopping = EarlyStopping(monitor='loss',\n",
    "                                min_delta=1e-4,\n",
    "                                patience=5,\n",
    "                                verbose=1)\n",
    "history1 = model.fit(x=encoded_train, y=train_labels,\n",
    "                        batch_size=32, epochs=100_000,\n",
    "                        callbacks=[earlystopping],\n",
    "                        verbose=0, shuffle=True,\n",
    "                        validation_split=0.0)"
   ]
  },
  {
   "cell_type": "code",
   "execution_count": 44,
   "metadata": {},
   "outputs": [
    {
     "name": "stdout",
     "output_type": "stream",
     "text": [
      "Training data evaluation\n",
      "356/356 [==============================] - 0s 248us/step - loss: 0.0013 - accuracy: 0.9995\n",
      "Testing data evaluation\n",
      "119/119 [==============================] - 0s 243us/step - loss: 0.1574 - accuracy: 0.9768\n",
      "Validation data evaluation\n",
      "119/119 [==============================] - 0s 268us/step - loss: 0.1295 - accuracy: 0.9792\n",
      "\n"
     ]
    }
   ],
   "source": [
    "print(\"Training data evaluation\")\n",
    "model.evaluate(encoded_train, train_labels)\n",
    "print(\"Testing data evaluation\")\n",
    "model.evaluate(encoded_test, test_labels)\n",
    "print(\"Validation data evaluation\")\n",
    "model.evaluate(encoded_val, val_labels)\n",
    "print()"
   ]
  },
  {
   "attachments": {},
   "cell_type": "markdown",
   "metadata": {},
   "source": [
    "### Model 2"
   ]
  },
  {
   "cell_type": "code",
   "execution_count": 45,
   "metadata": {},
   "outputs": [
    {
     "name": "stdout",
     "output_type": "stream",
     "text": [
      "Model: \"Model-encoder64\"\n",
      "_________________________________________________________________\n",
      " Layer (type)                Output Shape              Param #   \n",
      "=================================================================\n",
      " Input (InputLayer)          [(None, 64)]              0         \n",
      "                                                                 \n",
      " Layer1 (Dense)              (None, 256)               16640     \n",
      "                                                                 \n",
      " Layer2 (Dense)              (None, 128)               32896     \n",
      "                                                                 \n",
      " Layer3 (Dense)              (None, 64)                8256      \n",
      "                                                                 \n",
      " Layer4 (Dense)              (None, 32)                2080      \n",
      "                                                                 \n",
      " Output (Dense)              (None, 5)                 165       \n",
      "                                                                 \n",
      "=================================================================\n",
      "Total params: 60,037\n",
      "Trainable params: 60,037\n",
      "Non-trainable params: 0\n",
      "_________________________________________________________________\n",
      "Epoch 38: early stopping\n"
     ]
    }
   ],
   "source": [
    "inputs = Input(shape=(64,), name=\"Input\")\n",
    "x = Dense(256, activation='tanh', name=\"Layer1\")(inputs)\n",
    "x = Dense(128, activation='tanh', name=\"Layer2\")(x)\n",
    "x = Dense(64, activation='tanh', name=\"Layer3\")(x)\n",
    "x = Dense(32, activation='tanh', name=\"Layer4\")(x)\n",
    "outputs = Dense(5, activation='softmax', name=\"Output\")(x)\n",
    "model = Model(inputs=inputs, outputs=outputs, name=f\"Model-encoder{64}\")\n",
    "model.summary()\n",
    "\n",
    "adam_optimizer = Adam(learning_rate = 0.001)\n",
    "\n",
    "model.compile(optimizer=adam_optimizer,\n",
    "                    loss=\"sparse_categorical_crossentropy\",\n",
    "                    metrics=['accuracy'])\n",
    "earlystopping = EarlyStopping(monitor='loss',\n",
    "                                        min_delta=1e-4,\n",
    "                                        patience=5,\n",
    "                                        verbose=1)\n",
    "history1 = model.fit(x=encoded_train, y=train_labels,\n",
    "                        batch_size=32, epochs=100_000,\n",
    "                        callbacks=[earlystopping],\n",
    "                        verbose=0, shuffle=True,\n",
    "                        validation_split=0.0)"
   ]
  },
  {
   "cell_type": "code",
   "execution_count": 46,
   "metadata": {},
   "outputs": [
    {
     "name": "stdout",
     "output_type": "stream",
     "text": [
      "Training data evaluation\n",
      "356/356 [==============================] - 0s 355us/step - loss: 0.0019 - accuracy: 0.9996\n",
      "Testing data evaluation\n",
      "119/119 [==============================] - 0s 367us/step - loss: 0.0816 - accuracy: 0.9847\n",
      "Validation data evaluation\n",
      "119/119 [==============================] - 0s 360us/step - loss: 0.0555 - accuracy: 0.9887\n",
      "\n"
     ]
    }
   ],
   "source": [
    "print(\"Training data evaluation\")\n",
    "model.evaluate(encoded_train, train_labels)\n",
    "print(\"Testing data evaluation\")\n",
    "model.evaluate(encoded_test, test_labels)\n",
    "print(\"Validation data evaluation\")\n",
    "model.evaluate(encoded_val, val_labels)\n",
    "print()"
   ]
  },
  {
   "attachments": {},
   "cell_type": "markdown",
   "metadata": {},
   "source": [
    "## One layer 128 bottleneck"
   ]
  },
  {
   "cell_type": "code",
   "execution_count": 47,
   "metadata": {},
   "outputs": [],
   "source": [
    "model = load_model(\"./autoencoder_models/autoencoder_1layer_128.h5\")"
   ]
  },
  {
   "cell_type": "code",
   "execution_count": 48,
   "metadata": {},
   "outputs": [
    {
     "name": "stdout",
     "output_type": "stream",
     "text": [
      "Model: \"Autoencoder128\"\n",
      "_________________________________________________________________\n",
      " Layer (type)                Output Shape              Param #   \n",
      "=================================================================\n",
      " Encoder-input (InputLayer)  [(None, 784)]             0         \n",
      "                                                                 \n",
      " Bottleneck-layer (Dense)    (None, 128)               100480    \n",
      "                                                                 \n",
      " Decoder-output (Dense)      (None, 784)               101136    \n",
      "                                                                 \n",
      "=================================================================\n",
      "Total params: 201,616\n",
      "Trainable params: 201,616\n",
      "Non-trainable params: 0\n",
      "_________________________________________________________________\n",
      "1/1 [==============================] - 0s 19ms/step\n",
      "1/1 [==============================] - 0s 8ms/step\n",
      "1/1 [==============================] - 0s 7ms/step\n",
      "1/1 [==============================] - 0s 8ms/step\n",
      "1/1 [==============================] - 0s 8ms/step\n"
     ]
    },
    {
     "data": {
      "text/plain": [
       "(-0.5, 27.5, 27.5, -0.5)"
      ]
     },
     "execution_count": 48,
     "metadata": {},
     "output_type": "execute_result"
    },
    {
     "data": {
      "image/png": "[encoded data removed]",
      "text/plain": [
       "<Figure size 640x480 with 10 Axes>"
      ]
     },
     "metadata": {},
     "output_type": "display_data"
    }
   ],
   "source": [
    "model.summary()\n",
    "\n",
    "plt.figure()\n",
    "plt.subplot(2,5,1)\n",
    "# plt.title(\"Original\")\n",
    "plt.imshow(class1.reshape((28,28)))\n",
    "plt.axis('off')\n",
    "\n",
    "plt.subplot(2,5,2)\n",
    "plt.imshow(class2.reshape((28,28)))\n",
    "plt.axis('off')\n",
    "\n",
    "plt.subplot(2,5,3)\n",
    "plt.imshow(class3.reshape((28,28)))\n",
    "plt.axis('off')\n",
    "\n",
    "plt.subplot(2,5,4)\n",
    "plt.imshow(class4.reshape((28,28)))\n",
    "plt.axis('off')\n",
    "\n",
    "plt.subplot(2,5,5)\n",
    "plt.imshow(class5.reshape((28,28)))\n",
    "plt.axis('off')\n",
    "\n",
    "plt.subplot(2,5,6)\n",
    "# plt.title(\"Original\")\n",
    "recon_class1 = model.predict(class1.reshape((1, -1)))\n",
    "plt.imshow(recon_class1.reshape((28,28)))\n",
    "plt.axis('off')\n",
    "\n",
    "plt.subplot(2,5,7)\n",
    "recon_class2 = model.predict(class2.reshape((1, -1)))\n",
    "plt.imshow(recon_class2.reshape((28,28)))\n",
    "plt.axis('off')\n",
    "\n",
    "plt.subplot(2,5,8)\n",
    "recon_class3 = model.predict(class3.reshape((1, -1)))\n",
    "plt.imshow(recon_class3.reshape((28,28)))\n",
    "plt.axis('off')\n",
    "\n",
    "plt.subplot(2,5,9)\n",
    "recon_class4 = model.predict(class4.reshape((1, -1)))\n",
    "plt.imshow(recon_class4.reshape((28,28)))\n",
    "plt.axis('off')\n",
    "\n",
    "plt.subplot(2,5,10)\n",
    "recon_class5 = model.predict(class5.reshape((1, -1)))\n",
    "plt.imshow(recon_class5.reshape((28,28)))\n",
    "plt.axis('off')"
   ]
  },
  {
   "cell_type": "markdown",
   "metadata": {},
   "source": [
    "### Model 1"
   ]
  },
  {
   "cell_type": "code",
   "execution_count": 49,
   "metadata": {},
   "outputs": [
    {
     "name": "stdout",
     "output_type": "stream",
     "text": [
      "WARNING:tensorflow:No training configuration found in the save file, so the model was *not* compiled. Compile it manually.\n",
      "356/356 [==============================] - 0s 313us/step\n",
      "119/119 [==============================] - 0s 314us/step\n",
      "119/119 [==============================] - 0s 278us/step\n"
     ]
    }
   ],
   "source": [
    "encoder = load_model(\"./autoencoder_models/encoder_1layer_128.h5\")\n",
    "encoded_train = encoder.predict(train_data)\n",
    "encoded_test = encoder.predict(test_data)\n",
    "encoded_val = encoder.predict(val_data)"
   ]
  },
  {
   "cell_type": "code",
   "execution_count": 50,
   "metadata": {},
   "outputs": [
    {
     "name": "stdout",
     "output_type": "stream",
     "text": [
      "Model: \"Model-encoder128\"\n",
      "_________________________________________________________________\n",
      " Layer (type)                Output Shape              Param #   \n",
      "=================================================================\n",
      " Input (InputLayer)          [(None, 128)]             0         \n",
      "                                                                 \n",
      " Layer1 (Dense)              (None, 16)                2064      \n",
      "                                                                 \n",
      " Layer2 (Dense)              (None, 8)                 136       \n",
      "                                                                 \n",
      " Output (Dense)              (None, 5)                 45        \n",
      "                                                                 \n",
      "=================================================================\n",
      "Total params: 2,245\n",
      "Trainable params: 2,245\n",
      "Non-trainable params: 0\n",
      "_________________________________________________________________\n",
      "Epoch 58: early stopping\n"
     ]
    }
   ],
   "source": [
    "inputs = Input(shape=(128,), name=\"Input\")\n",
    "x = Dense(16, activation='tanh', name=\"Layer1\")(inputs)\n",
    "x = Dense(8, activation='tanh', name=\"Layer2\")(x)\n",
    "# x = Dense(128, activation='tanh', name=\"Layer3\")(x)\n",
    "# x = Dense(64, activation='tanh', name=\"Layer4\")(x)\n",
    "outputs = Dense(5, activation='softmax', name=\"Output\")(x)\n",
    "model = Model(inputs=inputs, outputs=outputs, name=f\"Model-encoder{128}\")\n",
    "model.summary()\n",
    "\n",
    "adam_optimizer = Adam(learning_rate = 0.001)\n",
    "\n",
    "model.compile(optimizer=adam_optimizer,\n",
    "                loss=\"sparse_categorical_crossentropy\",\n",
    "                metrics=['accuracy'])\n",
    "earlystopping = EarlyStopping(monitor='loss',\n",
    "                                min_delta=1e-4,\n",
    "                                patience=5,\n",
    "                                verbose=1)\n",
    "history1 = model.fit(x=encoded_train, y=train_labels,\n",
    "                        batch_size=32, epochs=100_000,\n",
    "                        callbacks=[earlystopping],\n",
    "                        verbose=0, shuffle=True,\n",
    "                        validation_split=0.0)"
   ]
  },
  {
   "cell_type": "code",
   "execution_count": 51,
   "metadata": {},
   "outputs": [
    {
     "name": "stdout",
     "output_type": "stream",
     "text": [
      "Training data evaluation\n",
      "356/356 [==============================] - 0s 256us/step - loss: 4.6393e-04 - accuracy: 1.0000\n",
      "Testing data evaluation\n",
      "119/119 [==============================] - 0s 249us/step - loss: 0.1524 - accuracy: 0.9755\n",
      "Validation data evaluation\n",
      "119/119 [==============================] - 0s 254us/step - loss: 0.0873 - accuracy: 0.9821\n",
      "\n"
     ]
    }
   ],
   "source": [
    "print(\"Training data evaluation\")\n",
    "model.evaluate(encoded_train, train_labels)\n",
    "print(\"Testing data evaluation\")\n",
    "model.evaluate(encoded_test, test_labels)\n",
    "print(\"Validation data evaluation\")\n",
    "model.evaluate(encoded_val, val_labels)\n",
    "print()"
   ]
  },
  {
   "attachments": {},
   "cell_type": "markdown",
   "metadata": {},
   "source": [
    "### Model 2"
   ]
  },
  {
   "cell_type": "code",
   "execution_count": 52,
   "metadata": {},
   "outputs": [
    {
     "name": "stdout",
     "output_type": "stream",
     "text": [
      "Model: \"Model-encoder128\"\n",
      "_________________________________________________________________\n",
      " Layer (type)                Output Shape              Param #   \n",
      "=================================================================\n",
      " Input (InputLayer)          [(None, 128)]             0         \n",
      "                                                                 \n",
      " Layer1 (Dense)              (None, 256)               33024     \n",
      "                                                                 \n",
      " Layer2 (Dense)              (None, 128)               32896     \n",
      "                                                                 \n",
      " Layer3 (Dense)              (None, 64)                8256      \n",
      "                                                                 \n",
      " Layer4 (Dense)              (None, 32)                2080      \n",
      "                                                                 \n",
      " Output (Dense)              (None, 5)                 165       \n",
      "                                                                 \n",
      "=================================================================\n",
      "Total params: 76,421\n",
      "Trainable params: 76,421\n",
      "Non-trainable params: 0\n",
      "_________________________________________________________________\n",
      "Epoch 24: early stopping\n"
     ]
    }
   ],
   "source": [
    "inputs = Input(shape=(128,), name=\"Input\")\n",
    "x = Dense(256, activation='tanh', name=\"Layer1\")(inputs)\n",
    "x = Dense(128, activation='tanh', name=\"Layer2\")(x)\n",
    "x = Dense(64, activation='tanh', name=\"Layer3\")(x)\n",
    "x = Dense(32, activation='tanh', name=\"Layer4\")(x)\n",
    "outputs = Dense(5, activation='softmax', name=\"Output\")(x)\n",
    "model = Model(inputs=inputs, outputs=outputs, name=f\"Model-encoder{128}\")\n",
    "model.summary()\n",
    "\n",
    "adam_optimizer = Adam(learning_rate = 0.001)\n",
    "\n",
    "model.compile(optimizer=adam_optimizer,\n",
    "                    loss=\"sparse_categorical_crossentropy\",\n",
    "                    metrics=['accuracy'])\n",
    "earlystopping = EarlyStopping(monitor='loss',\n",
    "                                        min_delta=1e-4,\n",
    "                                        patience=5,\n",
    "                                        verbose=1)\n",
    "history1 = model.fit(x=encoded_train, y=train_labels,\n",
    "                        batch_size=32, epochs=100_000,\n",
    "                        callbacks=[earlystopping],\n",
    "                        verbose=0, shuffle=True,\n",
    "                        validation_split=0.0)"
   ]
  },
  {
   "cell_type": "code",
   "execution_count": 53,
   "metadata": {},
   "outputs": [
    {
     "name": "stdout",
     "output_type": "stream",
     "text": [
      "Training data evaluation\n",
      "356/356 [==============================] - 0s 353us/step - loss: 0.0019 - accuracy: 0.9997\n",
      "Testing data evaluation\n",
      "119/119 [==============================] - 0s 368us/step - loss: 0.0956 - accuracy: 0.9818\n",
      "Validation data evaluation\n",
      "119/119 [==============================] - 0s 355us/step - loss: 0.0619 - accuracy: 0.9845\n",
      "\n"
     ]
    }
   ],
   "source": [
    "print(\"Training data evaluation\")\n",
    "model.evaluate(encoded_train, train_labels)\n",
    "print(\"Testing data evaluation\")\n",
    "model.evaluate(encoded_test, test_labels)\n",
    "print(\"Validation data evaluation\")\n",
    "model.evaluate(encoded_val, val_labels)\n",
    "print()"
   ]
  },
  {
   "attachments": {},
   "cell_type": "markdown",
   "metadata": {},
   "source": [
    "## Three layer 128 bottleneck"
   ]
  },
  {
   "cell_type": "code",
   "execution_count": 54,
   "metadata": {},
   "outputs": [],
   "source": [
    "model = load_model(\"./autoencoder_models/autoencoder_3layer_128.h5\")"
   ]
  },
  {
   "cell_type": "code",
   "execution_count": 55,
   "metadata": {},
   "outputs": [
    {
     "name": "stdout",
     "output_type": "stream",
     "text": [
      "Model: \"Autoencoder128\"\n",
      "_________________________________________________________________\n",
      " Layer (type)                Output Shape              Param #   \n",
      "=================================================================\n",
      " Encoder-input (InputLayer)  [(None, 784)]             0         \n",
      "                                                                 \n",
      " Encoder-hidden (Dense)      (None, 400)               314000    \n",
      "                                                                 \n",
      " Bottleneck-layer (Dense)    (None, 128)               51328     \n",
      "                                                                 \n",
      " Decoder-hidden (Dense)      (None, 400)               51600     \n",
      "                                                                 \n",
      " Decoder-output (Dense)      (None, 784)               314384    \n",
      "                                                                 \n",
      "=================================================================\n",
      "Total params: 731,312\n",
      "Trainable params: 731,312\n",
      "Non-trainable params: 0\n",
      "_________________________________________________________________\n",
      "1/1 [==============================] - 0s 23ms/step\n",
      "1/1 [==============================] - 0s 8ms/step\n",
      "1/1 [==============================] - 0s 8ms/step\n",
      "1/1 [==============================] - 0s 8ms/step\n",
      "1/1 [==============================] - 0s 7ms/step\n"
     ]
    },
    {
     "data": {
      "text/plain": [
       "(-0.5, 27.5, 27.5, -0.5)"
      ]
     },
     "execution_count": 55,
     "metadata": {},
     "output_type": "execute_result"
    },
    {
     "data": {
      "image/png": "[encoded data removed]",
      "text/plain": [
       "<Figure size 640x480 with 10 Axes>"
      ]
     },
     "metadata": {},
     "output_type": "display_data"
    }
   ],
   "source": [
    "model.summary()\n",
    "\n",
    "plt.figure()\n",
    "plt.subplot(2,5,1)\n",
    "# plt.title(\"Original\")\n",
    "plt.imshow(class1.reshape((28,28)))\n",
    "plt.axis('off')\n",
    "\n",
    "plt.subplot(2,5,2)\n",
    "plt.imshow(class2.reshape((28,28)))\n",
    "plt.axis('off')\n",
    "\n",
    "plt.subplot(2,5,3)\n",
    "plt.imshow(class3.reshape((28,28)))\n",
    "plt.axis('off')\n",
    "\n",
    "plt.subplot(2,5,4)\n",
    "plt.imshow(class4.reshape((28,28)))\n",
    "plt.axis('off')\n",
    "\n",
    "plt.subplot(2,5,5)\n",
    "plt.imshow(class5.reshape((28,28)))\n",
    "plt.axis('off')\n",
    "\n",
    "plt.subplot(2,5,6)\n",
    "# plt.title(\"Original\")\n",
    "recon_class1 = model.predict(class1.reshape((1, -1)))\n",
    "plt.imshow(recon_class1.reshape((28,28)))\n",
    "plt.axis('off')\n",
    "\n",
    "plt.subplot(2,5,7)\n",
    "recon_class2 = model.predict(class2.reshape((1, -1)))\n",
    "plt.imshow(recon_class2.reshape((28,28)))\n",
    "plt.axis('off')\n",
    "\n",
    "plt.subplot(2,5,8)\n",
    "recon_class3 = model.predict(class3.reshape((1, -1)))\n",
    "plt.imshow(recon_class3.reshape((28,28)))\n",
    "plt.axis('off')\n",
    "\n",
    "plt.subplot(2,5,9)\n",
    "recon_class4 = model.predict(class4.reshape((1, -1)))\n",
    "plt.imshow(recon_class4.reshape((28,28)))\n",
    "plt.axis('off')\n",
    "\n",
    "plt.subplot(2,5,10)\n",
    "recon_class5 = model.predict(class5.reshape((1, -1)))\n",
    "plt.imshow(recon_class5.reshape((28,28)))\n",
    "plt.axis('off')"
   ]
  },
  {
   "attachments": {},
   "cell_type": "markdown",
   "metadata": {},
   "source": [
    "### Model 1"
   ]
  },
  {
   "cell_type": "code",
   "execution_count": 56,
   "metadata": {},
   "outputs": [
    {
     "name": "stdout",
     "output_type": "stream",
     "text": [
      "WARNING:tensorflow:No training configuration found in the save file, so the model was *not* compiled. Compile it manually.\n",
      "356/356 [==============================] - 0s 415us/step\n",
      "119/119 [==============================] - 0s 394us/step\n",
      "119/119 [==============================] - 0s 402us/step\n"
     ]
    }
   ],
   "source": [
    "encoder = load_model(\"./autoencoder_models/encoder_3layer_128.h5\")\n",
    "encoded_train = encoder.predict(train_data)\n",
    "encoded_test = encoder.predict(test_data)\n",
    "encoded_val = encoder.predict(val_data)"
   ]
  },
  {
   "cell_type": "code",
   "execution_count": 57,
   "metadata": {},
   "outputs": [
    {
     "name": "stdout",
     "output_type": "stream",
     "text": [
      "Model: \"Model-encoder128\"\n",
      "_________________________________________________________________\n",
      " Layer (type)                Output Shape              Param #   \n",
      "=================================================================\n",
      " Input (InputLayer)          [(None, 128)]             0         \n",
      "                                                                 \n",
      " Layer1 (Dense)              (None, 16)                2064      \n",
      "                                                                 \n",
      " Layer2 (Dense)              (None, 8)                 136       \n",
      "                                                                 \n",
      " Output (Dense)              (None, 5)                 45        \n",
      "                                                                 \n",
      "=================================================================\n",
      "Total params: 2,245\n",
      "Trainable params: 2,245\n",
      "Non-trainable params: 0\n",
      "_________________________________________________________________\n",
      "Epoch 86: early stopping\n"
     ]
    }
   ],
   "source": [
    "inputs = Input(shape=(128,), name=\"Input\")\n",
    "x = Dense(16, activation='tanh', name=\"Layer1\")(inputs)\n",
    "x = Dense(8, activation='tanh', name=\"Layer2\")(x)\n",
    "# x = Dense(128, activation='tanh', name=\"Layer3\")(x)\n",
    "# x = Dense(64, activation='tanh', name=\"Layer4\")(x)\n",
    "outputs = Dense(5, activation='softmax', name=\"Output\")(x)\n",
    "model = Model(inputs=inputs, outputs=outputs, name=f\"Model-encoder{128}\")\n",
    "model.summary()\n",
    "\n",
    "adam_optimizer = Adam(learning_rate = 0.001)\n",
    "\n",
    "model.compile(optimizer=adam_optimizer,\n",
    "                loss=\"sparse_categorical_crossentropy\",\n",
    "                metrics=['accuracy'])\n",
    "earlystopping = EarlyStopping(monitor='loss',\n",
    "                                min_delta=1e-4,\n",
    "                                patience=5,\n",
    "                                verbose=1)\n",
    "history1 = model.fit(x=encoded_train, y=train_labels,\n",
    "                        batch_size=32, epochs=100_000,\n",
    "                        callbacks=[earlystopping],\n",
    "                        verbose=0, shuffle=True,\n",
    "                        validation_split=0.0)"
   ]
  },
  {
   "cell_type": "code",
   "execution_count": 58,
   "metadata": {},
   "outputs": [
    {
     "name": "stdout",
     "output_type": "stream",
     "text": [
      "Training data evaluation\n",
      "356/356 [==============================] - 0s 260us/step - loss: 1.0608e-04 - accuracy: 1.0000\n",
      "Testing data evaluation\n",
      "119/119 [==============================] - 0s 253us/step - loss: 0.1447 - accuracy: 0.9792\n",
      "Validation data evaluation\n",
      "119/119 [==============================] - 0s 277us/step - loss: 0.1063 - accuracy: 0.9816\n",
      "\n"
     ]
    }
   ],
   "source": [
    "print(\"Training data evaluation\")\n",
    "model.evaluate(encoded_train, train_labels)\n",
    "print(\"Testing data evaluation\")\n",
    "model.evaluate(encoded_test, test_labels)\n",
    "print(\"Validation data evaluation\")\n",
    "model.evaluate(encoded_val, val_labels)\n",
    "print()"
   ]
  },
  {
   "attachments": {},
   "cell_type": "markdown",
   "metadata": {},
   "source": [
    "### Model 2"
   ]
  },
  {
   "cell_type": "code",
   "execution_count": 59,
   "metadata": {},
   "outputs": [
    {
     "name": "stdout",
     "output_type": "stream",
     "text": [
      "Model: \"Model-encoder128\"\n",
      "_________________________________________________________________\n",
      " Layer (type)                Output Shape              Param #   \n",
      "=================================================================\n",
      " Input (InputLayer)          [(None, 128)]             0         \n",
      "                                                                 \n",
      " Layer1 (Dense)              (None, 256)               33024     \n",
      "                                                                 \n",
      " Layer2 (Dense)              (None, 128)               32896     \n",
      "                                                                 \n",
      " Layer3 (Dense)              (None, 64)                8256      \n",
      "                                                                 \n",
      " Layer4 (Dense)              (None, 32)                2080      \n",
      "                                                                 \n",
      " Output (Dense)              (None, 5)                 165       \n",
      "                                                                 \n",
      "=================================================================\n",
      "Total params: 76,421\n",
      "Trainable params: 76,421\n",
      "Non-trainable params: 0\n",
      "_________________________________________________________________\n",
      "Epoch 19: early stopping\n"
     ]
    }
   ],
   "source": [
    "inputs = Input(shape=(128,), name=\"Input\")\n",
    "x = Dense(256, activation='tanh', name=\"Layer1\")(inputs)\n",
    "x = Dense(128, activation='tanh', name=\"Layer2\")(x)\n",
    "x = Dense(64, activation='tanh', name=\"Layer3\")(x)\n",
    "x = Dense(32, activation='tanh', name=\"Layer4\")(x)\n",
    "outputs = Dense(5, activation='softmax', name=\"Output\")(x)\n",
    "model = Model(inputs=inputs, outputs=outputs, name=f\"Model-encoder{128}\")\n",
    "model.summary()\n",
    "\n",
    "adam_optimizer = Adam(learning_rate = 0.001)\n",
    "\n",
    "model.compile(optimizer=adam_optimizer,\n",
    "                    loss=\"sparse_categorical_crossentropy\",\n",
    "                    metrics=['accuracy'])\n",
    "earlystopping = EarlyStopping(monitor='loss',\n",
    "                                        min_delta=1e-4,\n",
    "                                        patience=5,\n",
    "                                        verbose=1)\n",
    "history1 = model.fit(x=encoded_train, y=train_labels,\n",
    "                        batch_size=32, epochs=100_000,\n",
    "                        callbacks=[earlystopping],\n",
    "                        verbose=0, shuffle=True,\n",
    "                        validation_split=0.0)"
   ]
  },
  {
   "cell_type": "code",
   "execution_count": 60,
   "metadata": {},
   "outputs": [
    {
     "name": "stdout",
     "output_type": "stream",
     "text": [
      "Training data evaluation\n",
      "356/356 [==============================] - 0s 352us/step - loss: 0.0066 - accuracy: 0.9979\n",
      "Testing data evaluation\n",
      "119/119 [==============================] - 0s 375us/step - loss: 0.0985 - accuracy: 0.9781\n",
      "Validation data evaluation\n",
      "119/119 [==============================] - 0s 349us/step - loss: 0.0568 - accuracy: 0.9863\n",
      "\n"
     ]
    }
   ],
   "source": [
    "print(\"Training data evaluation\")\n",
    "model.evaluate(encoded_train, train_labels)\n",
    "print(\"Testing data evaluation\")\n",
    "model.evaluate(encoded_test, test_labels)\n",
    "print(\"Validation data evaluation\")\n",
    "model.evaluate(encoded_val, val_labels)\n",
    "print()"
   ]
  },
  {
   "attachments": {},
   "cell_type": "markdown",
   "metadata": {},
   "source": [
    "## One layer 256 bottleneck"
   ]
  },
  {
   "cell_type": "code",
   "execution_count": 61,
   "metadata": {},
   "outputs": [],
   "source": [
    "model = load_model(\"./autoencoder_models/autoencoder_1layer_256.h5\")"
   ]
  },
  {
   "cell_type": "code",
   "execution_count": 62,
   "metadata": {},
   "outputs": [
    {
     "name": "stdout",
     "output_type": "stream",
     "text": [
      "Model: \"Autoencoder256\"\n",
      "_________________________________________________________________\n",
      " Layer (type)                Output Shape              Param #   \n",
      "=================================================================\n",
      " Encoder-input (InputLayer)  [(None, 784)]             0         \n",
      "                                                                 \n",
      " Bottleneck-layer (Dense)    (None, 256)               200960    \n",
      "                                                                 \n",
      " Decoder-output (Dense)      (None, 784)               201488    \n",
      "                                                                 \n",
      "=================================================================\n",
      "Total params: 402,448\n",
      "Trainable params: 402,448\n",
      "Non-trainable params: 0\n",
      "_________________________________________________________________\n",
      "1/1 [==============================] - 0s 19ms/step\n",
      "1/1 [==============================] - 0s 8ms/step\n",
      "1/1 [==============================] - 0s 8ms/step\n",
      "1/1 [==============================] - 0s 8ms/step\n",
      "1/1 [==============================] - 0s 7ms/step\n"
     ]
    },
    {
     "data": {
      "text/plain": [
       "(-0.5, 27.5, 27.5, -0.5)"
      ]
     },
     "execution_count": 62,
     "metadata": {},
     "output_type": "execute_result"
    },
    {
     "data": {
      "image/png": "[encoded data removed]",
      "text/plain": [
       "<Figure size 640x480 with 10 Axes>"
      ]
     },
     "metadata": {},
     "output_type": "display_data"
    }
   ],
   "source": [
    "model.summary()\n",
    "\n",
    "plt.figure()\n",
    "plt.subplot(2,5,1)\n",
    "# plt.title(\"Original\")\n",
    "plt.imshow(class1.reshape((28,28)))\n",
    "plt.axis('off')\n",
    "\n",
    "plt.subplot(2,5,2)\n",
    "plt.imshow(class2.reshape((28,28)))\n",
    "plt.axis('off')\n",
    "\n",
    "plt.subplot(2,5,3)\n",
    "plt.imshow(class3.reshape((28,28)))\n",
    "plt.axis('off')\n",
    "\n",
    "plt.subplot(2,5,4)\n",
    "plt.imshow(class4.reshape((28,28)))\n",
    "plt.axis('off')\n",
    "\n",
    "plt.subplot(2,5,5)\n",
    "plt.imshow(class5.reshape((28,28)))\n",
    "plt.axis('off')\n",
    "\n",
    "plt.subplot(2,5,6)\n",
    "# plt.title(\"Original\")\n",
    "recon_class1 = model.predict(class1.reshape((1, -1)))\n",
    "plt.imshow(recon_class1.reshape((28,28)))\n",
    "plt.axis('off')\n",
    "\n",
    "plt.subplot(2,5,7)\n",
    "recon_class2 = model.predict(class2.reshape((1, -1)))\n",
    "plt.imshow(recon_class2.reshape((28,28)))\n",
    "plt.axis('off')\n",
    "\n",
    "plt.subplot(2,5,8)\n",
    "recon_class3 = model.predict(class3.reshape((1, -1)))\n",
    "plt.imshow(recon_class3.reshape((28,28)))\n",
    "plt.axis('off')\n",
    "\n",
    "plt.subplot(2,5,9)\n",
    "recon_class4 = model.predict(class4.reshape((1, -1)))\n",
    "plt.imshow(recon_class4.reshape((28,28)))\n",
    "plt.axis('off')\n",
    "\n",
    "plt.subplot(2,5,10)\n",
    "recon_class5 = model.predict(class5.reshape((1, -1)))\n",
    "plt.imshow(recon_class5.reshape((28,28)))\n",
    "plt.axis('off')"
   ]
  },
  {
   "cell_type": "markdown",
   "metadata": {},
   "source": [
    "### Model 1"
   ]
  },
  {
   "cell_type": "code",
   "execution_count": 63,
   "metadata": {},
   "outputs": [
    {
     "name": "stdout",
     "output_type": "stream",
     "text": [
      "WARNING:tensorflow:No training configuration found in the save file, so the model was *not* compiled. Compile it manually.\n",
      "356/356 [==============================] - 0s 359us/step\n",
      "119/119 [==============================] - 0s 324us/step\n",
      "119/119 [==============================] - 0s 314us/step\n"
     ]
    }
   ],
   "source": [
    "encoder = load_model(\"./autoencoder_models/encoder_1layer_256.h5\")\n",
    "encoded_train = encoder.predict(train_data)\n",
    "encoded_test = encoder.predict(test_data)\n",
    "encoded_val = encoder.predict(val_data)"
   ]
  },
  {
   "cell_type": "code",
   "execution_count": 64,
   "metadata": {},
   "outputs": [
    {
     "name": "stdout",
     "output_type": "stream",
     "text": [
      "Model: \"Model-encoder256\"\n",
      "_________________________________________________________________\n",
      " Layer (type)                Output Shape              Param #   \n",
      "=================================================================\n",
      " Input (InputLayer)          [(None, 256)]             0         \n",
      "                                                                 \n",
      " Layer1 (Dense)              (None, 16)                4112      \n",
      "                                                                 \n",
      " Layer2 (Dense)              (None, 8)                 136       \n",
      "                                                                 \n",
      " Output (Dense)              (None, 5)                 45        \n",
      "                                                                 \n",
      "=================================================================\n",
      "Total params: 4,293\n",
      "Trainable params: 4,293\n",
      "Non-trainable params: 0\n",
      "_________________________________________________________________\n",
      "Epoch 47: early stopping\n"
     ]
    }
   ],
   "source": [
    "inputs = Input(shape=(256,), name=\"Input\")\n",
    "x = Dense(16, activation='tanh', name=\"Layer1\")(inputs)\n",
    "x = Dense(8, activation='tanh', name=\"Layer2\")(x)\n",
    "# x = Dense(128, activation='tanh', name=\"Layer3\")(x)\n",
    "# x = Dense(64, activation='tanh', name=\"Layer4\")(x)\n",
    "outputs = Dense(5, activation='softmax', name=\"Output\")(x)\n",
    "model = Model(inputs=inputs, outputs=outputs, name=f\"Model-encoder{256}\")\n",
    "model.summary()\n",
    "\n",
    "adam_optimizer = Adam(learning_rate = 0.001)\n",
    "\n",
    "model.compile(optimizer=adam_optimizer,\n",
    "                loss=\"sparse_categorical_crossentropy\",\n",
    "                metrics=['accuracy'])\n",
    "earlystopping = EarlyStopping(monitor='loss',\n",
    "                                min_delta=1e-4,\n",
    "                                patience=5,\n",
    "                                verbose=1)\n",
    "history1 = model.fit(x=encoded_train, y=train_labels,\n",
    "                        batch_size=32, epochs=100_000,\n",
    "                        callbacks=[earlystopping],\n",
    "                        verbose=0, shuffle=True,\n",
    "                        validation_split=0.0)"
   ]
  },
  {
   "cell_type": "code",
   "execution_count": 65,
   "metadata": {},
   "outputs": [
    {
     "name": "stdout",
     "output_type": "stream",
     "text": [
      "Training data evaluation\n",
      "356/356 [==============================] - 0s 256us/step - loss: 2.9405e-04 - accuracy: 1.0000\n",
      "Testing data evaluation\n",
      "119/119 [==============================] - 0s 258us/step - loss: 0.1298 - accuracy: 0.9768\n",
      "Validation data evaluation\n",
      "119/119 [==============================] - 0s 269us/step - loss: 0.1044 - accuracy: 0.9821\n",
      "\n"
     ]
    }
   ],
   "source": [
    "print(\"Training data evaluation\")\n",
    "model.evaluate(encoded_train, train_labels)\n",
    "print(\"Testing data evaluation\")\n",
    "model.evaluate(encoded_test, test_labels)\n",
    "print(\"Validation data evaluation\")\n",
    "model.evaluate(encoded_val, val_labels)\n",
    "print()"
   ]
  },
  {
   "cell_type": "markdown",
   "metadata": {},
   "source": [
    "### Model 2"
   ]
  },
  {
   "cell_type": "code",
   "execution_count": 66,
   "metadata": {},
   "outputs": [
    {
     "name": "stdout",
     "output_type": "stream",
     "text": [
      "Model: \"Model-encoder256\"\n",
      "_________________________________________________________________\n",
      " Layer (type)                Output Shape              Param #   \n",
      "=================================================================\n",
      " Input (InputLayer)          [(None, 256)]             0         \n",
      "                                                                 \n",
      " Layer1 (Dense)              (None, 256)               65792     \n",
      "                                                                 \n",
      " Layer2 (Dense)              (None, 128)               32896     \n",
      "                                                                 \n",
      " Layer3 (Dense)              (None, 64)                8256      \n",
      "                                                                 \n",
      " Layer4 (Dense)              (None, 32)                2080      \n",
      "                                                                 \n",
      " Output (Dense)              (None, 5)                 165       \n",
      "                                                                 \n",
      "=================================================================\n",
      "Total params: 109,189\n",
      "Trainable params: 109,189\n",
      "Non-trainable params: 0\n",
      "_________________________________________________________________\n",
      "Epoch 26: early stopping\n"
     ]
    }
   ],
   "source": [
    "inputs = Input(shape=(256,), name=\"Input\")\n",
    "x = Dense(256, activation='tanh', name=\"Layer1\")(inputs)\n",
    "x = Dense(128, activation='tanh', name=\"Layer2\")(x)\n",
    "x = Dense(64, activation='tanh', name=\"Layer3\")(x)\n",
    "x = Dense(32, activation='tanh', name=\"Layer4\")(x)\n",
    "outputs = Dense(5, activation='softmax', name=\"Output\")(x)\n",
    "model = Model(inputs=inputs, outputs=outputs, name=f\"Model-encoder{256}\")\n",
    "model.summary()\n",
    "\n",
    "adam_optimizer = Adam(learning_rate = 0.001)\n",
    "\n",
    "model.compile(optimizer=adam_optimizer,\n",
    "                    loss=\"sparse_categorical_crossentropy\",\n",
    "                    metrics=['accuracy'])\n",
    "earlystopping = EarlyStopping(monitor='loss',\n",
    "                                        min_delta=1e-4,\n",
    "                                        patience=5,\n",
    "                                        verbose=1)\n",
    "history1 = model.fit(x=encoded_train, y=train_labels,\n",
    "                        batch_size=32, epochs=100_000,\n",
    "                        callbacks=[earlystopping],\n",
    "                        verbose=0, shuffle=True,\n",
    "                        validation_split=0.0)"
   ]
  },
  {
   "cell_type": "code",
   "execution_count": 67,
   "metadata": {},
   "outputs": [
    {
     "name": "stdout",
     "output_type": "stream",
     "text": [
      "Training data evaluation\n",
      "356/356 [==============================] - 0s 401us/step - loss: 4.6859e-05 - accuracy: 1.0000\n",
      "Testing data evaluation\n",
      "119/119 [==============================] - 0s 406us/step - loss: 0.0919 - accuracy: 0.9829\n",
      "Validation data evaluation\n",
      "119/119 [==============================] - 0s 389us/step - loss: 0.0655 - accuracy: 0.9866\n",
      "\n"
     ]
    }
   ],
   "source": [
    "print(\"Training data evaluation\")\n",
    "model.evaluate(encoded_train, train_labels)\n",
    "print(\"Testing data evaluation\")\n",
    "model.evaluate(encoded_test, test_labels)\n",
    "print(\"Validation data evaluation\")\n",
    "model.evaluate(encoded_val, val_labels)\n",
    "print()"
   ]
  },
  {
   "attachments": {},
   "cell_type": "markdown",
   "metadata": {},
   "source": [
    "## Three layer 256 bottleneck"
   ]
  },
  {
   "cell_type": "code",
   "execution_count": 68,
   "metadata": {},
   "outputs": [],
   "source": [
    "model = load_model(\"./autoencoder_models/autoencoder_3layer_256.h5\")"
   ]
  },
  {
   "cell_type": "code",
   "execution_count": 69,
   "metadata": {},
   "outputs": [
    {
     "name": "stdout",
     "output_type": "stream",
     "text": [
      "Model: \"Autoencoder256\"\n",
      "_________________________________________________________________\n",
      " Layer (type)                Output Shape              Param #   \n",
      "=================================================================\n",
      " Encoder-input (InputLayer)  [(None, 784)]             0         \n",
      "                                                                 \n",
      " Encoder-hidden (Dense)      (None, 400)               314000    \n",
      "                                                                 \n",
      " Bottleneck-layer (Dense)    (None, 256)               102656    \n",
      "                                                                 \n",
      " Decoder-hidden (Dense)      (None, 400)               102800    \n",
      "                                                                 \n",
      " Decoder-output (Dense)      (None, 784)               314384    \n",
      "                                                                 \n",
      "=================================================================\n",
      "Total params: 833,840\n",
      "Trainable params: 833,840\n",
      "Non-trainable params: 0\n",
      "_________________________________________________________________\n",
      "1/1 [==============================] - 0s 23ms/step\n",
      "1/1 [==============================] - 0s 8ms/step\n",
      "1/1 [==============================] - 0s 8ms/step\n",
      "1/1 [==============================] - 0s 8ms/step\n",
      "1/1 [==============================] - 0s 8ms/step\n"
     ]
    },
    {
     "data": {
      "text/plain": [
       "(-0.5, 27.5, 27.5, -0.5)"
      ]
     },
     "execution_count": 69,
     "metadata": {},
     "output_type": "execute_result"
    },
    {
     "data": {
      "image/png": "[encoded data removed]",
      "text/plain": [
       "<Figure size 640x480 with 10 Axes>"
      ]
     },
     "metadata": {},
     "output_type": "display_data"
    }
   ],
   "source": [
    "model.summary()\n",
    "\n",
    "plt.figure()\n",
    "plt.subplot(2,5,1)\n",
    "# plt.title(\"Original\")\n",
    "plt.imshow(class1.reshape((28,28)))\n",
    "plt.axis('off')\n",
    "\n",
    "plt.subplot(2,5,2)\n",
    "plt.imshow(class2.reshape((28,28)))\n",
    "plt.axis('off')\n",
    "\n",
    "plt.subplot(2,5,3)\n",
    "plt.imshow(class3.reshape((28,28)))\n",
    "plt.axis('off')\n",
    "\n",
    "plt.subplot(2,5,4)\n",
    "plt.imshow(class4.reshape((28,28)))\n",
    "plt.axis('off')\n",
    "\n",
    "plt.subplot(2,5,5)\n",
    "plt.imshow(class5.reshape((28,28)))\n",
    "plt.axis('off')\n",
    "\n",
    "plt.subplot(2,5,6)\n",
    "# plt.title(\"Original\")\n",
    "recon_class1 = model.predict(class1.reshape((1, -1)))\n",
    "plt.imshow(recon_class1.reshape((28,28)))\n",
    "plt.axis('off')\n",
    "\n",
    "plt.subplot(2,5,7)\n",
    "recon_class2 = model.predict(class2.reshape((1, -1)))\n",
    "plt.imshow(recon_class2.reshape((28,28)))\n",
    "plt.axis('off')\n",
    "\n",
    "plt.subplot(2,5,8)\n",
    "recon_class3 = model.predict(class3.reshape((1, -1)))\n",
    "plt.imshow(recon_class3.reshape((28,28)))\n",
    "plt.axis('off')\n",
    "\n",
    "plt.subplot(2,5,9)\n",
    "recon_class4 = model.predict(class4.reshape((1, -1)))\n",
    "plt.imshow(recon_class4.reshape((28,28)))\n",
    "plt.axis('off')\n",
    "\n",
    "plt.subplot(2,5,10)\n",
    "recon_class5 = model.predict(class5.reshape((1, -1)))\n",
    "plt.imshow(recon_class5.reshape((28,28)))\n",
    "plt.axis('off')"
   ]
  },
  {
   "cell_type": "markdown",
   "metadata": {},
   "source": [
    "### Model 1"
   ]
  },
  {
   "cell_type": "code",
   "execution_count": 70,
   "metadata": {},
   "outputs": [
    {
     "name": "stdout",
     "output_type": "stream",
     "text": [
      "WARNING:tensorflow:No training configuration found in the save file, so the model was *not* compiled. Compile it manually.\n",
      "356/356 [==============================] - 0s 531us/step\n",
      "119/119 [==============================] - 0s 438us/step\n",
      "119/119 [==============================] - 0s 441us/step\n"
     ]
    }
   ],
   "source": [
    "encoder = load_model(\"./autoencoder_models/encoder_3layer_256.h5\")\n",
    "encoded_train = encoder.predict(train_data)\n",
    "encoded_test = encoder.predict(test_data)\n",
    "encoded_val = encoder.predict(val_data)"
   ]
  },
  {
   "cell_type": "code",
   "execution_count": 71,
   "metadata": {},
   "outputs": [
    {
     "name": "stdout",
     "output_type": "stream",
     "text": [
      "Model: \"Model-encoder256\"\n",
      "_________________________________________________________________\n",
      " Layer (type)                Output Shape              Param #   \n",
      "=================================================================\n",
      " Input (InputLayer)          [(None, 256)]             0         \n",
      "                                                                 \n",
      " Layer1 (Dense)              (None, 16)                4112      \n",
      "                                                                 \n",
      " Layer2 (Dense)              (None, 8)                 136       \n",
      "                                                                 \n",
      " Output (Dense)              (None, 5)                 45        \n",
      "                                                                 \n",
      "=================================================================\n",
      "Total params: 4,293\n",
      "Trainable params: 4,293\n",
      "Non-trainable params: 0\n",
      "_________________________________________________________________\n",
      "Epoch 51: early stopping\n"
     ]
    }
   ],
   "source": [
    "inputs = Input(shape=(256,), name=\"Input\")\n",
    "x = Dense(16, activation='tanh', name=\"Layer1\")(inputs)\n",
    "x = Dense(8, activation='tanh', name=\"Layer2\")(x)\n",
    "# x = Dense(128, activation='tanh', name=\"Layer3\")(x)\n",
    "# x = Dense(64, activation='tanh', name=\"Layer4\")(x)\n",
    "outputs = Dense(5, activation='softmax', name=\"Output\")(x)\n",
    "model = Model(inputs=inputs, outputs=outputs, name=f\"Model-encoder{256}\")\n",
    "model.summary()\n",
    "\n",
    "adam_optimizer = Adam(learning_rate = 0.001)\n",
    "\n",
    "model.compile(optimizer=adam_optimizer,\n",
    "                loss=\"sparse_categorical_crossentropy\",\n",
    "                metrics=['accuracy'])\n",
    "earlystopping = EarlyStopping(monitor='loss',\n",
    "                                min_delta=1e-4,\n",
    "                                patience=5,\n",
    "                                verbose=1)\n",
    "history1 = model.fit(x=encoded_train, y=train_labels,\n",
    "                        batch_size=32, epochs=100_000,\n",
    "                        callbacks=[earlystopping],\n",
    "                        verbose=0, shuffle=True,\n",
    "                        validation_split=0.0)"
   ]
  },
  {
   "cell_type": "code",
   "execution_count": 72,
   "metadata": {},
   "outputs": [
    {
     "name": "stdout",
     "output_type": "stream",
     "text": [
      "Training data evaluation\n",
      "356/356 [==============================] - 0s 255us/step - loss: 3.8837e-04 - accuracy: 1.0000\n",
      "Testing data evaluation\n",
      "119/119 [==============================] - 0s 252us/step - loss: 0.1472 - accuracy: 0.9723\n",
      "Validation data evaluation\n",
      "119/119 [==============================] - 0s 249us/step - loss: 0.1076 - accuracy: 0.9802\n",
      "\n"
     ]
    }
   ],
   "source": [
    "print(\"Training data evaluation\")\n",
    "model.evaluate(encoded_train, train_labels)\n",
    "print(\"Testing data evaluation\")\n",
    "model.evaluate(encoded_test, test_labels)\n",
    "print(\"Validation data evaluation\")\n",
    "model.evaluate(encoded_val, val_labels)\n",
    "print()"
   ]
  },
  {
   "cell_type": "markdown",
   "metadata": {},
   "source": [
    "### Model 2"
   ]
  },
  {
   "cell_type": "code",
   "execution_count": 73,
   "metadata": {},
   "outputs": [
    {
     "name": "stdout",
     "output_type": "stream",
     "text": [
      "Model: \"Model-encoder256\"\n",
      "_________________________________________________________________\n",
      " Layer (type)                Output Shape              Param #   \n",
      "=================================================================\n",
      " Input (InputLayer)          [(None, 256)]             0         \n",
      "                                                                 \n",
      " Layer1 (Dense)              (None, 256)               65792     \n",
      "                                                                 \n",
      " Layer2 (Dense)              (None, 128)               32896     \n",
      "                                                                 \n",
      " Layer3 (Dense)              (None, 64)                8256      \n",
      "                                                                 \n",
      " Layer4 (Dense)              (None, 32)                2080      \n",
      "                                                                 \n",
      " Output (Dense)              (None, 5)                 165       \n",
      "                                                                 \n",
      "=================================================================\n",
      "Total params: 109,189\n",
      "Trainable params: 109,189\n",
      "Non-trainable params: 0\n",
      "_________________________________________________________________\n",
      "Epoch 30: early stopping\n"
     ]
    }
   ],
   "source": [
    "inputs = Input(shape=(256,), name=\"Input\")\n",
    "x = Dense(256, activation='tanh', name=\"Layer1\")(inputs)\n",
    "x = Dense(128, activation='tanh', name=\"Layer2\")(x)\n",
    "x = Dense(64, activation='tanh', name=\"Layer3\")(x)\n",
    "x = Dense(32, activation='tanh', name=\"Layer4\")(x)\n",
    "outputs = Dense(5, activation='softmax', name=\"Output\")(x)\n",
    "model = Model(inputs=inputs, outputs=outputs, name=f\"Model-encoder{256}\")\n",
    "model.summary()\n",
    "\n",
    "adam_optimizer = Adam(learning_rate = 0.001)\n",
    "\n",
    "model.compile(optimizer=adam_optimizer,\n",
    "                    loss=\"sparse_categorical_crossentropy\",\n",
    "                    metrics=['accuracy'])\n",
    "earlystopping = EarlyStopping(monitor='loss',\n",
    "                                        min_delta=1e-4,\n",
    "                                        patience=5,\n",
    "                                        verbose=1)\n",
    "history1 = model.fit(x=encoded_train, y=train_labels,\n",
    "                        batch_size=32, epochs=100_000,\n",
    "                        callbacks=[earlystopping],\n",
    "                        verbose=0, shuffle=True,\n",
    "                        validation_split=0.0)"
   ]
  },
  {
   "cell_type": "code",
   "execution_count": 74,
   "metadata": {},
   "outputs": [
    {
     "name": "stdout",
     "output_type": "stream",
     "text": [
      "Training data evaluation\n",
      "356/356 [==============================] - 0s 391us/step - loss: 4.5155e-05 - accuracy: 1.0000\n",
      "Testing data evaluation\n",
      "119/119 [==============================] - 0s 400us/step - loss: 0.1016 - accuracy: 0.9823\n",
      "Validation data evaluation\n",
      "119/119 [==============================] - 0s 383us/step - loss: 0.0754 - accuracy: 0.9842\n",
      "\n"
     ]
    }
   ],
   "source": [
    "print(\"Training data evaluation\")\n",
    "model.evaluate(encoded_train, train_labels)\n",
    "print(\"Testing data evaluation\")\n",
    "model.evaluate(encoded_test, test_labels)\n",
    "print(\"Validation data evaluation\")\n",
    "model.evaluate(encoded_val, val_labels)\n",
    "print()"
   ]
  },
  {
   "cell_type": "code",
   "execution_count": null,
   "metadata": {},
   "outputs": [],
   "source": []
  }
 ],
 "metadata": {
  "kernelspec": {
   "display_name": ".env",
   "language": "python",
   "name": "python3"
  },
  "language_info": {
   "codemirror_mode": {
    "name": "ipython",
    "version": 3
   },
   "file_extension": ".py",
   "mimetype": "text/x-python",
   "name": "python",
   "nbconvert_exporter": "python",
   "pygments_lexer": "ipython3",
   "version": "3.10.9"
  },
  "orig_nbformat": 4,
  "vscode": {
   "interpreter": {
    "hash": "c37836adf2e0d57ffa14ecc2a3cc07bddd6153bcbc9f933f0cdf6f9a2a018173"
   }
  }
 },
 "nbformat": 4,
 "nbformat_minor": 2
}
