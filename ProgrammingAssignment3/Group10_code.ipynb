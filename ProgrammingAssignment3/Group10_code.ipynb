{
 "cells": [
  {
   "cell_type": "code",
   "execution_count": 1,
   "metadata": {},
   "outputs": [],
   "source": [
    "import numpy as np\n",
    "from matplotlib import pyplot as plt\n",
    "import pandas as pd\n",
    "import os\n",
    "import cv2\n",
    "import tensorflow as tf\n",
    "from tensorflow import keras \n",
    "from tensorflow.keras.models import Model\n",
    "from tensorflow.keras.layers import Input, Dense, Flatten\n",
    "import copy\n",
    "import pickle"
   ]
  },
  {
   "attachments": {},
   "cell_type": "markdown",
   "metadata": {},
   "source": [
    "# Importing data"
   ]
  },
  {
   "attachments": {},
   "cell_type": "markdown",
   "metadata": {},
   "source": [
    "## Test data"
   ]
  },
  {
   "cell_type": "code",
   "execution_count": 2,
   "metadata": {},
   "outputs": [],
   "source": [
    "def data_import(data_path):\n",
    "    class_labels = os.listdir(data_path) # reads directory names as class-labels\n",
    "    data=[]\n",
    "    labels=[]\n",
    "    for class_ in class_labels:\n",
    "        if class_ == '.DS_Store':\n",
    "            continue\n",
    "        class_path = data_path+'/'+class_\n",
    "        imgs = os.listdir(class_path) # reads images names to read\n",
    "        for img in imgs:\n",
    "            if img == '.DS_Store':\n",
    "                continue\n",
    "            data.append(cv2.imread(class_path+'/'+img, cv2.IMREAD_GRAYSCALE))\n",
    "            labels.append(int(class_))\n",
    "\n",
    "    return np.array(data), np.array(labels)"
   ]
  },
  {
   "cell_type": "code",
   "execution_count": 3,
   "metadata": {},
   "outputs": [
    {
     "name": "stdout",
     "output_type": "stream",
     "text": [
      "Summary of data\n",
      "No. of train images: 11385\n",
      "No. of test images: 3795\n",
      "No. of val images: 3795\n"
     ]
    }
   ],
   "source": [
    "test_path='./Group_10/test'\n",
    "train_path='./Group_10/train'\n",
    "val_path='./Group_10/val'\n",
    "# test_data, test_labels = data_import(test_path)\n",
    "# train_data, train_labels = data_import(train_path)\n",
    "# val_data, val_labels = data_import(val_path)\n",
    "\n",
    "# with open('test_data', mode='wb') as f:\n",
    "#     pickle.dump(test_data, f)\n",
    "# with open('train_data', mode='wb') as f:\n",
    "#     pickle.dump(train_data, f)\n",
    "# with open('val_data', mode='wb') as f:\n",
    "#     pickle.dump(val_data, f)\n",
    "\n",
    "# with open('test_labels', mode='wb') as f:\n",
    "#     pickle.dump(test_labels, f)\n",
    "# with open('train_labels', mode='wb') as f:\n",
    "#     pickle.dump(train_labels, f)\n",
    "# with open('val_labels', mode='wb') as f:\n",
    "#     pickle.dump(val_labels, f)\n",
    "\n",
    "with open('test_data', mode='rb') as f:\n",
    "    test_data = pickle.load(f)\n",
    "with open('train_data', mode='rb') as f:\n",
    "    train_data = pickle.load(f)\n",
    "with open('val_data', mode='rb') as f:\n",
    "    val_data = pickle.load(f)\n",
    "\n",
    "with open('test_labels', mode='rb') as f:\n",
    "    test_labels = pickle.load(f)\n",
    "with open('train_labels', mode='rb') as f:\n",
    "    train_labels = pickle.load(f)\n",
    "with open('val_labels', mode='rb') as f:\n",
    "    val_labels = pickle.load(f)\n",
    "\n",
    "print('Summary of data')\n",
    "print(f'No. of train images: {len(train_data)}')\n",
    "print(f'No. of test images: {len(test_data)}')\n",
    "print(f'No. of val images: {len(val_data)}')\n"
   ]
  },
  {
   "attachments": {},
   "cell_type": "markdown",
   "metadata": {},
   "source": [
    "# Model"
   ]
  },
  {
   "cell_type": "code",
   "execution_count": 4,
   "metadata": {},
   "outputs": [],
   "source": [
    "initializer = keras.initializers.RandomNormal(mean=0.0, stddev=0.05, seed=6)"
   ]
  },
  {
   "cell_type": "code",
   "execution_count": 5,
   "metadata": {},
   "outputs": [],
   "source": [
    "# Three layer FCNN\n",
    "model_3 = keras.Sequential([\n",
    "    Flatten(input_shape=(28,28), name='Input_layer'), # image data as input\n",
    "    Dense(250, activation='sigmoid', kernel_initializer=initializer, bias_initializer=keras.initializers.Zeros(), name='Hidden_layer_1'),\n",
    "    Dense(500, activation='sigmoid', kernel_initializer=initializer, bias_initializer=keras.initializers.Zeros(), name='Hidden_layer_2'),\n",
    "    Dense(250, activation='sigmoid', kernel_initializer=initializer, bias_initializer=keras.initializers.Zeros(), name='Hidden_layer_3'),\n",
    "    Dense(10, kernel_initializer=initializer, bias_initializer=keras.initializers.Zeros(), activation='softmax', name='Output')\n",
    "], name='FCNN_3layer')"
   ]
  },
  {
   "cell_type": "code",
   "execution_count": 6,
   "metadata": {},
   "outputs": [
    {
     "name": "stdout",
     "output_type": "stream",
     "text": [
      "Model: \"FCNN_3layer\"\n",
      "_________________________________________________________________\n",
      " Layer (type)                Output Shape              Param #   \n",
      "=================================================================\n",
      " Input_layer (Flatten)       (None, 784)               0         \n",
      "                                                                 \n",
      " Hidden_layer_1 (Dense)      (None, 250)               196250    \n",
      "                                                                 \n",
      " Hidden_layer_2 (Dense)      (None, 500)               125500    \n",
      "                                                                 \n",
      " Hidden_layer_3 (Dense)      (None, 250)               125250    \n",
      "                                                                 \n",
      " Output (Dense)              (None, 10)                2510      \n",
      "                                                                 \n",
      "=================================================================\n",
      "Total params: 449,510\n",
      "Trainable params: 449,510\n",
      "Non-trainable params: 0\n",
      "_________________________________________________________________\n"
     ]
    }
   ],
   "source": [
    "model_3.summary()"
   ]
  },
  {
   "cell_type": "code",
   "execution_count": 7,
   "metadata": {},
   "outputs": [],
   "source": [
    "earlystopping = keras.callbacks.EarlyStopping(monitor='loss', min_delta=1e-4, patience=3)\n",
    "# modelCheckpoints = keras.callbacks.ModelCheckpoint(filepath='model.{epoch:02d}-{val_loss:.2f}.h5')\n",
    "sgd_optimizer = keras.optimizers.SGD(learning_rate=0.001,name='SGD', momentum=0)\n",
    "model_3.compile(optimizer=sgd_optimizer, loss='sparse_categorical_crossentropy', metrics=['accuracy'])"
   ]
  },
  {
   "cell_type": "code",
   "execution_count": 8,
   "metadata": {},
   "outputs": [
    {
     "name": "stdout",
     "output_type": "stream",
     "text": [
      "Epoch 1/1000\n",
      "    1/11385 [..............................] - ETA: 34:54 - loss: 2.3681 - accuracy: 0.0000e+00"
     ]
    },
    {
     "name": "stderr",
     "output_type": "stream",
     "text": [
      "2023-03-15 18:31:12.744376: W tensorflow/tsl/platform/profile_utils/cpu_utils.cc:128] Failed to get CPU frequency: 0 Hz\n"
     ]
    },
    {
     "name": "stdout",
     "output_type": "stream",
     "text": [
      "11385/11385 [==============================] - 8s 686us/step - loss: 1.4967 - accuracy: 0.4263 - val_loss: 1.1734 - val_accuracy: 0.7771\n",
      "Epoch 2/1000\n",
      "11385/11385 [==============================] - 8s 695us/step - loss: 0.7095 - accuracy: 0.8590 - val_loss: 0.3860 - val_accuracy: 0.9378\n",
      "Epoch 3/1000\n",
      "11385/11385 [==============================] - 8s 678us/step - loss: 0.2708 - accuracy: 0.9484 - val_loss: 0.1971 - val_accuracy: 0.9547\n",
      "Epoch 4/1000\n",
      "11385/11385 [==============================] - 8s 674us/step - loss: 0.1630 - accuracy: 0.9606 - val_loss: 0.1421 - val_accuracy: 0.9628\n",
      "Epoch 5/1000\n",
      "11385/11385 [==============================] - 8s 672us/step - loss: 0.1298 - accuracy: 0.9657 - val_loss: 0.1258 - val_accuracy: 0.9639\n",
      "Epoch 6/1000\n",
      "11385/11385 [==============================] - 8s 681us/step - loss: 0.1104 - accuracy: 0.9694 - val_loss: 0.1083 - val_accuracy: 0.9686\n",
      "Epoch 7/1000\n",
      "11385/11385 [==============================] - 8s 681us/step - loss: 0.0992 - accuracy: 0.9715 - val_loss: 0.1003 - val_accuracy: 0.9702\n",
      "Epoch 8/1000\n",
      "11385/11385 [==============================] - 8s 683us/step - loss: 0.0916 - accuracy: 0.9758 - val_loss: 0.0980 - val_accuracy: 0.9686\n",
      "Epoch 9/1000\n",
      "11385/11385 [==============================] - 8s 679us/step - loss: 0.0876 - accuracy: 0.9765 - val_loss: 0.0958 - val_accuracy: 0.9713\n",
      "Epoch 10/1000\n",
      "11385/11385 [==============================] - 18s 2ms/step - loss: 0.0813 - accuracy: 0.9759 - val_loss: 0.0898 - val_accuracy: 0.9721\n",
      "Epoch 11/1000\n",
      "11385/11385 [==============================] - 8s 683us/step - loss: 0.0772 - accuracy: 0.9787 - val_loss: 0.0894 - val_accuracy: 0.9718\n",
      "Epoch 12/1000\n",
      "11385/11385 [==============================] - 8s 681us/step - loss: 0.0720 - accuracy: 0.9801 - val_loss: 0.0846 - val_accuracy: 0.9739\n",
      "Epoch 13/1000\n",
      "11385/11385 [==============================] - 8s 679us/step - loss: 0.0689 - accuracy: 0.9800 - val_loss: 0.0784 - val_accuracy: 0.9731\n",
      "Epoch 14/1000\n",
      "11385/11385 [==============================] - 8s 683us/step - loss: 0.0659 - accuracy: 0.9810 - val_loss: 0.0809 - val_accuracy: 0.9750\n",
      "Epoch 15/1000\n",
      "11385/11385 [==============================] - 8s 692us/step - loss: 0.0629 - accuracy: 0.9822 - val_loss: 0.0797 - val_accuracy: 0.9736\n",
      "Epoch 16/1000\n",
      "11385/11385 [==============================] - 8s 687us/step - loss: 0.0609 - accuracy: 0.9835 - val_loss: 0.0742 - val_accuracy: 0.9776\n",
      "Epoch 17/1000\n",
      "11385/11385 [==============================] - 8s 686us/step - loss: 0.0634 - accuracy: 0.9838 - val_loss: 0.0785 - val_accuracy: 0.9758\n",
      "Epoch 18/1000\n",
      "11385/11385 [==============================] - 8s 696us/step - loss: 0.0622 - accuracy: 0.9820 - val_loss: 0.0796 - val_accuracy: 0.9758\n",
      "Epoch 19/1000\n",
      "11385/11385 [==============================] - 8s 690us/step - loss: 0.0590 - accuracy: 0.9830 - val_loss: 0.0730 - val_accuracy: 0.9755\n",
      "Epoch 20/1000\n",
      "11385/11385 [==============================] - 8s 687us/step - loss: 0.0578 - accuracy: 0.9837 - val_loss: 0.0782 - val_accuracy: 0.9742\n",
      "Epoch 21/1000\n",
      "11385/11385 [==============================] - 8s 687us/step - loss: 0.0589 - accuracy: 0.9844 - val_loss: 0.0823 - val_accuracy: 0.9739\n",
      "Epoch 22/1000\n",
      "11385/11385 [==============================] - 8s 688us/step - loss: 0.0546 - accuracy: 0.9847 - val_loss: 0.0706 - val_accuracy: 0.9784\n",
      "Epoch 23/1000\n",
      "11385/11385 [==============================] - 8s 687us/step - loss: 0.0527 - accuracy: 0.9852 - val_loss: 0.0737 - val_accuracy: 0.9763\n",
      "Epoch 24/1000\n",
      "11385/11385 [==============================] - 8s 681us/step - loss: 0.0540 - accuracy: 0.9845 - val_loss: 0.0697 - val_accuracy: 0.9773\n",
      "Epoch 25/1000\n",
      "11385/11385 [==============================] - 8s 685us/step - loss: 0.0528 - accuracy: 0.9845 - val_loss: 0.0679 - val_accuracy: 0.9760\n",
      "Epoch 26/1000\n",
      "11385/11385 [==============================] - 8s 684us/step - loss: 0.0553 - accuracy: 0.9832 - val_loss: 0.0720 - val_accuracy: 0.9779\n"
     ]
    }
   ],
   "source": [
    "history = model_3.fit(x=train_data, y=train_labels, batch_size=1, epochs=1000,\n",
    "                    callbacks=[earlystopping], shuffle=True,\n",
    "                    verbose=1,\n",
    "                    validation_split=0.0, validation_data=(val_data, val_labels), validation_batch_size=None)"
   ]
  },
  {
   "cell_type": "code",
   "execution_count": 9,
   "metadata": {},
   "outputs": [
    {
     "data": {
      "text/plain": [
       "<matplotlib.legend.Legend at 0x292a45ea0>"
      ]
     },
     "execution_count": 9,
     "metadata": {},
     "output_type": "execute_result"
    },
    {
     "data": {
      "image/png": "[encoded data removed]",
      "text/plain": [
       "<Figure size 640x480 with 1 Axes>"
      ]
     },
     "metadata": {},
     "output_type": "display_data"
    }
   ],
   "source": [
    "plt.figure()\n",
    "plt.title(\"SGD\")\n",
    "plt.xlabel(\"Epochs\")\n",
    "plt.ylabel(\"Loss\")\n",
    "\n",
    "plt.plot(history.history['loss'], label='Training')\n",
    "plt.plot(history.history['val_loss'], label='Validation')\n",
    "plt.legend()"
   ]
  },
  {
   "cell_type": "code",
   "execution_count": 10,
   "metadata": {},
   "outputs": [
    {
     "name": "stdout",
     "output_type": "stream",
     "text": [
      "119/119 [==============================] - 0s 712us/step - loss: 0.0845 - accuracy: 0.9747\n"
     ]
    },
    {
     "data": {
      "text/plain": [
       "[0.08446750044822693, 0.9747035503387451]"
      ]
     },
     "execution_count": 10,
     "metadata": {},
     "output_type": "execute_result"
    }
   ],
   "source": [
    "model_3.evaluate(test_data, test_labels)"
   ]
  },
  {
   "attachments": {},
   "cell_type": "markdown",
   "metadata": {},
   "source": [
    "Test"
   ]
  },
  {
   "cell_type": "code",
   "execution_count": 11,
   "metadata": {},
   "outputs": [
    {
     "name": "stdout",
     "output_type": "stream",
     "text": [
      "119/119 [==============================] - 0s 590us/step\n",
      "[[747   0   6   0   0   0   2   4]\n",
      " [  0 752   5   0   0   0   1   1]\n",
      " [ 11   6 723   0   0   0   5  14]\n",
      " [  0   0   0   0   0   0   0   0]\n",
      " [  0   0   0   0   0   0   0   0]\n",
      " [  0   0   0   0   0   0   0   0]\n",
      " [  8   3   8   0   0   0 739   1]\n",
      " [  3   5  12   0   0   0   1 738]]\n"
     ]
    }
   ],
   "source": [
    "pred_labels = model_3.predict(test_data, verbose=1)\n",
    "pred_labels = np.argmax(pred_labels, axis=1)\n",
    "\n",
    "confusion_matrix = tf.math.confusion_matrix(test_labels, pred_labels)\n",
    "print(confusion_matrix.numpy())"
   ]
  },
  {
   "cell_type": "code",
   "execution_count": null,
   "metadata": {},
   "outputs": [],
   "source": []
  }
 ],
 "metadata": {
  "kernelspec": {
   "display_name": ".env",
   "language": "python",
   "name": "python3"
  },
  "language_info": {
   "codemirror_mode": {
    "name": "ipython",
    "version": 3
   },
   "file_extension": ".py",
   "mimetype": "text/x-python",
   "name": "python",
   "nbconvert_exporter": "python",
   "pygments_lexer": "ipython3",
   "version": "3.10.9"
  },
  "orig_nbformat": 4
 },
 "nbformat": 4,
 "nbformat_minor": 2
}
