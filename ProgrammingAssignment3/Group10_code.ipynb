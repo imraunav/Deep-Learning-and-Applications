{
 "cells": [
  {
   "cell_type": "code",
   "execution_count": 1,
   "metadata": {},
   "outputs": [],
   "source": [
    "import numpy as np\n",
    "from matplotlib import pyplot as plt\n",
    "import pandas as pd\n",
    "import os\n",
    "import cv2\n",
    "import tensorflow as tf\n",
    "from tensorflow import keras \n",
    "from tensorflow.keras.models import Model\n",
    "from tensorflow.keras.layers import Input, Dense, Flatten\n",
    "import copy\n",
    "import pickle"
   ]
  },
  {
   "attachments": {},
   "cell_type": "markdown",
   "metadata": {},
   "source": [
    "# Importing data"
   ]
  },
  {
   "attachments": {},
   "cell_type": "markdown",
   "metadata": {},
   "source": [
    "## Test data"
   ]
  },
  {
   "cell_type": "code",
   "execution_count": 2,
   "metadata": {},
   "outputs": [],
   "source": [
    "def data_import(data_path):\n",
    "    class_labels = os.listdir(data_path) # reads directory names as class-labels\n",
    "    data=[]\n",
    "    labels=[]\n",
    "    for class_ in class_labels:\n",
    "        if class_ == '.DS_Store':\n",
    "            continue\n",
    "        class_path = data_path+'/'+class_\n",
    "        imgs = os.listdir(class_path) # reads images names to read\n",
    "        for img in imgs:\n",
    "            if img == '.DS_Store':\n",
    "                continue\n",
    "            data.append(cv2.imread(class_path+'/'+img, cv2.IMREAD_GRAYSCALE))\n",
    "            labels.append(int(class_))\n",
    "\n",
    "    return np.array(data), np.array(labels)"
   ]
  },
  {
   "cell_type": "code",
   "execution_count": 3,
   "metadata": {},
   "outputs": [
    {
     "name": "stdout",
     "output_type": "stream",
     "text": [
      "Summary of data\n",
      "No. of train images: 11385\n",
      "No. of test images: 3795\n",
      "No. of val images: 3795\n"
     ]
    }
   ],
   "source": [
    "test_path='./Group_10/test'\n",
    "train_path='./Group_10/train'\n",
    "val_path='./Group_10/val'\n",
    "# test_data, test_labels = data_import(test_path)\n",
    "# train_data, train_labels = data_import(train_path)\n",
    "# val_data, val_labels = data_import(val_path)\n",
    "\n",
    "# with open('test_data', mode='wb') as f:\n",
    "#     pickle.dump(test_data, f)\n",
    "# with open('train_data', mode='wb') as f:\n",
    "#     pickle.dump(train_data, f)\n",
    "# with open('val_data', mode='wb') as f:\n",
    "#     pickle.dump(val_data, f)\n",
    "\n",
    "# with open('test_labels', mode='wb') as f:\n",
    "#     pickle.dump(test_labels, f)\n",
    "# with open('train_labels', mode='wb') as f:\n",
    "#     pickle.dump(train_labels, f)\n",
    "# with open('val_labels', mode='wb') as f:\n",
    "#     pickle.dump(val_labels, f)\n",
    "\n",
    "with open('test_data', mode='rb') as f:\n",
    "    test_data = pickle.load(f)\n",
    "with open('train_data', mode='rb') as f:\n",
    "    train_data = pickle.load(f)\n",
    "with open('val_data', mode='rb') as f:\n",
    "    val_data = pickle.load(f)\n",
    "\n",
    "with open('test_labels', mode='rb') as f:\n",
    "    test_labels = pickle.load(f)\n",
    "with open('train_labels', mode='rb') as f:\n",
    "    train_labels = pickle.load(f)\n",
    "with open('val_labels', mode='rb') as f:\n",
    "    val_labels = pickle.load(f)\n",
    "\n",
    "print('Summary of data')\n",
    "print(f'No. of train images: {len(train_data)}')\n",
    "print(f'No. of test images: {len(test_data)}')\n",
    "print(f'No. of val images: {len(val_data)}')\n"
   ]
  },
  {
   "attachments": {},
   "cell_type": "markdown",
   "metadata": {},
   "source": [
    "# Model"
   ]
  },
  {
   "cell_type": "code",
   "execution_count": 4,
   "metadata": {},
   "outputs": [],
   "source": [
    "initializer = keras.initializers.RandomNormal(mean=0.0, stddev=0.05, seed=6)"
   ]
  },
  {
   "cell_type": "code",
   "execution_count": 5,
   "metadata": {},
   "outputs": [],
   "source": [
    "# Three layer FCNN\n",
    "model_3 = keras.Sequential([\n",
    "    Flatten(input_shape=(28,28), name='Input_layer'), # image data as input\n",
    "    Dense(250, activation='sigmoid', kernel_initializer=initializer, bias_initializer=keras.initializers.Zeros(), name='Hidden_layer_1'),\n",
    "    Dense(500, activation='sigmoid', kernel_initializer=initializer, bias_initializer=keras.initializers.Zeros(), name='Hidden_layer_2'),\n",
    "    Dense(250, activation='sigmoid', kernel_initializer=initializer, bias_initializer=keras.initializers.Zeros(), name='Hidden_layer_3'),\n",
    "    Dense(10, kernel_initializer=initializer, bias_initializer=keras.initializers.Zeros(), activation='softmax', name='Output')\n",
    "], name='FCNN_3layer')"
   ]
  },
  {
   "cell_type": "code",
   "execution_count": 6,
   "metadata": {},
   "outputs": [
    {
     "name": "stdout",
     "output_type": "stream",
     "text": [
      "Model: \"FCNN_3layer\"\n",
      "_________________________________________________________________\n",
      " Layer (type)                Output Shape              Param #   \n",
      "=================================================================\n",
      " Input_layer (Flatten)       (None, 784)               0         \n",
      "                                                                 \n",
      " Hidden_layer_1 (Dense)      (None, 250)               196250    \n",
      "                                                                 \n",
      " Hidden_layer_2 (Dense)      (None, 500)               125500    \n",
      "                                                                 \n",
      " Hidden_layer_3 (Dense)      (None, 250)               125250    \n",
      "                                                                 \n",
      " Output (Dense)              (None, 10)                2510      \n",
      "                                                                 \n",
      "=================================================================\n",
      "Total params: 449,510\n",
      "Trainable params: 449,510\n",
      "Non-trainable params: 0\n",
      "_________________________________________________________________\n"
     ]
    }
   ],
   "source": [
    "model_3.summary()"
   ]
  },
  {
   "cell_type": "code",
   "execution_count": 7,
   "metadata": {},
   "outputs": [],
   "source": [
    "earlystopping = keras.callbacks.EarlyStopping(monitor='loss', min_delta=1e-4, patience=3)\n",
    "# modelCheckpoints = keras.callbacks.ModelCheckpoint(filepath='model.{epoch:02d}-{val_loss:.2f}.h5')\n",
    "sgd_optimizer = keras.optimizers.SGD(learning_rate=0.001,name='SGD', momentum=0)\n",
    "model_3.compile(optimizer=sgd_optimizer, loss='sparse_categorical_crossentropy', metrics=['accuracy'])"
   ]
  },
  {
   "cell_type": "code",
   "execution_count": 8,
   "metadata": {},
   "outputs": [
    {
     "name": "stdout",
     "output_type": "stream",
     "text": [
      "Epoch 1/100000\n",
      "    1/11385 [..............................] - ETA: 35:42 - loss: 1.8071 - accuracy: 0.0000e+00"
     ]
    },
    {
     "name": "stderr",
     "output_type": "stream",
     "text": [
      "2023-03-15 19:37:23.411097: W tensorflow/tsl/platform/profile_utils/cpu_utils.cc:128] Failed to get CPU frequency: 0 Hz\n"
     ]
    },
    {
     "name": "stdout",
     "output_type": "stream",
     "text": [
      "11385/11385 [==============================] - 8s 684us/step - loss: 1.4980 - accuracy: 0.4233 - val_loss: 1.1762 - val_accuracy: 0.7286\n",
      "Epoch 2/100000\n",
      "11385/11385 [==============================] - 8s 697us/step - loss: 0.7094 - accuracy: 0.8622 - val_loss: 0.3808 - val_accuracy: 0.9404\n",
      "Epoch 3/100000\n",
      "11385/11385 [==============================] - 8s 686us/step - loss: 0.2687 - accuracy: 0.9479 - val_loss: 0.1983 - val_accuracy: 0.9534\n",
      "Epoch 4/100000\n",
      "11385/11385 [==============================] - 8s 666us/step - loss: 0.1655 - accuracy: 0.9594 - val_loss: 0.1439 - val_accuracy: 0.9621\n",
      "Epoch 5/100000\n",
      "11385/11385 [==============================] - 8s 678us/step - loss: 0.1316 - accuracy: 0.9652 - val_loss: 0.1263 - val_accuracy: 0.9639\n",
      "Epoch 6/100000\n",
      "11385/11385 [==============================] - 8s 673us/step - loss: 0.1138 - accuracy: 0.9685 - val_loss: 0.1128 - val_accuracy: 0.9668\n",
      "Epoch 7/100000\n",
      "11385/11385 [==============================] - 8s 677us/step - loss: 0.1036 - accuracy: 0.9709 - val_loss: 0.1113 - val_accuracy: 0.9671\n",
      "Epoch 8/100000\n",
      "11385/11385 [==============================] - 8s 677us/step - loss: 0.0966 - accuracy: 0.9718 - val_loss: 0.0994 - val_accuracy: 0.9702\n",
      "Epoch 9/100000\n",
      "11385/11385 [==============================] - 8s 678us/step - loss: 0.0895 - accuracy: 0.9751 - val_loss: 0.0966 - val_accuracy: 0.9684\n",
      "Epoch 10/100000\n",
      "11385/11385 [==============================] - 8s 681us/step - loss: 0.0806 - accuracy: 0.9770 - val_loss: 0.0935 - val_accuracy: 0.9710\n",
      "Epoch 11/100000\n",
      "11385/11385 [==============================] - 8s 677us/step - loss: 0.0765 - accuracy: 0.9782 - val_loss: 0.0893 - val_accuracy: 0.9726\n",
      "Epoch 12/100000\n",
      "11385/11385 [==============================] - 8s 680us/step - loss: 0.0733 - accuracy: 0.9792 - val_loss: 0.0850 - val_accuracy: 0.9742\n",
      "Epoch 13/100000\n",
      "11385/11385 [==============================] - 8s 679us/step - loss: 0.0689 - accuracy: 0.9803 - val_loss: 0.0857 - val_accuracy: 0.9713\n",
      "Epoch 14/100000\n",
      "11385/11385 [==============================] - 8s 681us/step - loss: 0.0714 - accuracy: 0.9794 - val_loss: 0.0834 - val_accuracy: 0.9747\n",
      "Epoch 15/100000\n",
      "11385/11385 [==============================] - 8s 677us/step - loss: 0.0632 - accuracy: 0.9820 - val_loss: 0.0786 - val_accuracy: 0.9760\n",
      "Epoch 16/100000\n",
      "11385/11385 [==============================] - 8s 683us/step - loss: 0.0616 - accuracy: 0.9825 - val_loss: 0.0803 - val_accuracy: 0.9752\n",
      "Epoch 17/100000\n",
      "11385/11385 [==============================] - 8s 679us/step - loss: 0.0604 - accuracy: 0.9825 - val_loss: 0.0808 - val_accuracy: 0.9736\n",
      "Epoch 18/100000\n",
      "11385/11385 [==============================] - 8s 681us/step - loss: 0.0577 - accuracy: 0.9832 - val_loss: 0.0764 - val_accuracy: 0.9781\n",
      "Epoch 19/100000\n",
      "11385/11385 [==============================] - 8s 680us/step - loss: 0.0602 - accuracy: 0.9835 - val_loss: 0.0779 - val_accuracy: 0.9776\n",
      "Epoch 20/100000\n",
      "11385/11385 [==============================] - 8s 683us/step - loss: 0.0607 - accuracy: 0.9824 - val_loss: 0.0783 - val_accuracy: 0.9765\n",
      "Epoch 21/100000\n",
      "11385/11385 [==============================] - 8s 684us/step - loss: 0.0584 - accuracy: 0.9823 - val_loss: 0.0806 - val_accuracy: 0.9752\n"
     ]
    }
   ],
   "source": [
    "history = model_3.fit(x=train_data, y=train_labels, batch_size=1, epochs=100_000,\n",
    "                    callbacks=[earlystopping], shuffle=True,\n",
    "                    verbose=1,\n",
    "                    validation_split=0.0, validation_data=(val_data, val_labels), validation_batch_size=None)"
   ]
  },
  {
   "cell_type": "code",
   "execution_count": 9,
   "metadata": {},
   "outputs": [
    {
     "data": {
      "text/plain": [
       "<matplotlib.legend.Legend at 0x2856261d0>"
      ]
     },
     "execution_count": 9,
     "metadata": {},
     "output_type": "execute_result"
    },
    {
     "data": {
      "image/png": "[encoded data removed]",
      "text/plain": [
       "<Figure size 640x480 with 1 Axes>"
      ]
     },
     "metadata": {},
     "output_type": "display_data"
    }
   ],
   "source": [
    "plt.figure()\n",
    "plt.title(\"SGD\")\n",
    "plt.xlabel(\"Epochs\")\n",
    "plt.ylabel(\"Loss\")\n",
    "\n",
    "plt.plot(history.history['loss'], label='Training')\n",
    "plt.plot(history.history['val_loss'], label='Validation')\n",
    "plt.legend()"
   ]
  },
  {
   "cell_type": "code",
   "execution_count": 10,
   "metadata": {},
   "outputs": [
    {
     "name": "stdout",
     "output_type": "stream",
     "text": [
      "119/119 [==============================] - 0s 705us/step - loss: 0.0817 - accuracy: 0.9739\n"
     ]
    },
    {
     "data": {
      "text/plain": [
       "[0.08169551193714142, 0.9739130139350891]"
      ]
     },
     "execution_count": 10,
     "metadata": {},
     "output_type": "execute_result"
    }
   ],
   "source": [
    "model_3.evaluate(test_data, test_labels)"
   ]
  },
  {
   "attachments": {},
   "cell_type": "markdown",
   "metadata": {},
   "source": [
    "## Test"
   ]
  },
  {
   "cell_type": "code",
   "execution_count": 11,
   "metadata": {},
   "outputs": [
    {
     "name": "stdout",
     "output_type": "stream",
     "text": [
      "119/119 [==============================] - 0s 558us/step\n",
      "[[742   0   3   0   0   0  10   4]\n",
      " [  0 751   5   0   0   0   1   2]\n",
      " [ 11   7 713   0   0   0  16  12]\n",
      " [  0   0   0   0   0   0   0   0]\n",
      " [  0   0   0   0   0   0   0   0]\n",
      " [  0   0   0   0   0   0   0   0]\n",
      " [  4   0   7   0   0   0 747   1]\n",
      " [  2   2   9   0   0   0   3 743]]\n"
     ]
    }
   ],
   "source": [
    "pred_labels = model_3.predict(test_data, verbose=1)\n",
    "pred_labels = np.argmax(pred_labels, axis=1)\n",
    "\n",
    "confusion_matrix = tf.math.confusion_matrix(test_labels, pred_labels)\n",
    "print(confusion_matrix.numpy())"
   ]
  },
  {
   "cell_type": "code",
   "execution_count": null,
   "metadata": {},
   "outputs": [],
   "source": []
  }
 ],
 "metadata": {
  "kernelspec": {
   "display_name": ".env",
   "language": "python",
   "name": "python3"
  },
  "language_info": {
   "codemirror_mode": {
    "name": "ipython",
    "version": 3
   },
   "file_extension": ".py",
   "mimetype": "text/x-python",
   "name": "python",
   "nbconvert_exporter": "python",
   "pygments_lexer": "ipython3",
   "version": "3.10.9"
  },
  "orig_nbformat": 4
 },
 "nbformat": 4,
 "nbformat_minor": 2
}
