{
 "cells": [
  {
   "cell_type": "code",
   "execution_count": 1,
   "metadata": {
    "tags": []
   },
   "outputs": [],
   "source": [
    "import numpy as np\n",
    "from matplotlib import pyplot as plt\n",
    "# import pandas as pd\n",
    "import os\n",
    "import cv2\n",
    "import tensorflow as tf\n",
    "from tensorflow import keras \n",
    "from tensorflow.keras.models import Model\n",
    "from tensorflow.keras.layers import Input, Dense, Flatten\n",
    "import copy\n",
    "import pickle"
   ]
  },
  {
   "cell_type": "markdown",
   "metadata": {},
   "source": [
    "## Importing data"
   ]
  },
  {
   "cell_type": "code",
   "execution_count": 7,
   "metadata": {
    "tags": []
   },
   "outputs": [],
   "source": [
    "def data_import(data_path):\n",
    "    class_labels = os.listdir(data_path) # reads directory names as class-labels\n",
    "    data=[]\n",
    "    labels=[]\n",
    "    for class_ in class_labels:\n",
    "        if class_ == '.DS_Store':\n",
    "            continue\n",
    "        class_path = data_path+'/'+class_\n",
    "        imgs = os.listdir(class_path) # reads images names to read\n",
    "        for img in imgs:\n",
    "            if img == '.DS_Store':\n",
    "                continue\n",
    "            data.append(cv2.imread(class_path+'/'+img, cv2.IMREAD_GRAYSCALE))\n",
    "            labels.append(int(class_))\n",
    "\n",
    "    return np.array(data), np.array(labels)"
   ]
  },
  {
   "cell_type": "code",
   "execution_count": 9,
   "metadata": {
    "tags": []
   },
   "outputs": [
    {
     "name": "stdout",
     "output_type": "stream",
     "text": [
      "Summary of data\n",
      "No. of train images: 11385\n",
      "No. of test images: 3795\n",
      "No. of val images: 3795\n"
     ]
    }
   ],
   "source": [
    "test_path='./Group_10/test'\n",
    "train_path='./Group_10/train'\n",
    "val_path='./Group_10/val'\n",
    "# test_data, test_labels = data_import(test_path)\n",
    "# train_data, train_labels = data_import(train_path)\n",
    "# val_data, val_labels = data_import(val_path)\n",
    "\n",
    "# with open('test_data', mode='wb') as f:\n",
    "#     pickle.dump(test_data, f)\n",
    "# with open('train_data', mode='wb') as f:\n",
    "#     pickle.dump(train_data, f)\n",
    "# with open('val_data', mode='wb') as f:\n",
    "#     pickle.dump(val_data, f)\n",
    "\n",
    "# with open('test_labels', mode='wb') as f:\n",
    "#     pickle.dump(test_labels, f)\n",
    "# with open('train_labels', mode='wb') as f:\n",
    "#     pickle.dump(train_labels, f)\n",
    "# with open('val_labels', mode='wb') as f:\n",
    "#     pickle.dump(val_labels, f)\n",
    "\n",
    "with open('test_data', mode='rb') as f:\n",
    "    test_data = pickle.load(f)\n",
    "with open('train_data', mode='rb') as f:\n",
    "    train_data = pickle.load(f)\n",
    "with open('val_data', mode='rb') as f:\n",
    "    val_data = pickle.load(f)\n",
    "\n",
    "with open('test_labels', mode='rb') as f:\n",
    "    test_labels = pickle.load(f)\n",
    "with open('train_labels', mode='rb') as f:\n",
    "    train_labels = pickle.load(f)\n",
    "with open('val_labels', mode='rb') as f:\n",
    "    val_labels = pickle.load(f)\n",
    "\n",
    "print('Summary of data')\n",
    "print(f'No. of train images: {len(train_data)}')\n",
    "print(f'No. of test images: {len(test_data)}')\n",
    "print(f'No. of val images: {len(val_data)}')\n"
   ]
  },
  {
   "cell_type": "markdown",
   "metadata": {},
   "source": [
    "## SGD"
   ]
  },
  {
   "cell_type": "markdown",
   "metadata": {},
   "source": [
    "### Model"
   ]
  },
  {
   "cell_type": "code",
   "execution_count": 12,
   "metadata": {
    "tags": []
   },
   "outputs": [
    {
     "name": "stdout",
     "output_type": "stream",
     "text": [
      "Model: \"FCNN_3layer\"\n",
      "_________________________________________________________________\n",
      " Layer (type)                Output Shape              Param #   \n",
      "=================================================================\n",
      " Input_layer (Flatten)       (None, 784)               0         \n",
      "                                                                 \n",
      " Hidden_layer_1 (Dense)      (None, 250)               196250    \n",
      "                                                                 \n",
      " Hidden_layer_2 (Dense)      (None, 400)               100400    \n",
      "                                                                 \n",
      " Hidden_layer_3 (Dense)      (None, 100)               40100     \n",
      "                                                                 \n",
      " Output (Dense)              (None, 10)                1010      \n",
      "                                                                 \n",
      "=================================================================\n",
      "Total params: 337,760\n",
      "Trainable params: 337,760\n",
      "Non-trainable params: 0\n",
      "_________________________________________________________________\n"
     ]
    }
   ],
   "source": [
    "initializer = keras.initializers.RandomUniform(minval=-1, maxval=1, seed=6)\n",
    "# Three layer FCNN\n",
    "model_3 = keras.Sequential([\n",
    "    Flatten(input_shape=(28,28), name='Input_layer'), # image data as input\n",
    "    Dense(250, activation='sigmoid', kernel_initializer=initializer, bias_initializer=keras.initializers.Zeros(), name='Hidden_layer_1'),\n",
    "    Dense(400, activation='sigmoid', kernel_initializer=initializer, bias_initializer=keras.initializers.Zeros(), name='Hidden_layer_2'),\n",
    "    Dense(100, activation='sigmoid', kernel_initializer=initializer, bias_initializer=keras.initializers.Zeros(), name='Hidden_layer_3'),\n",
    "    Dense(10, activation='softmax', kernel_initializer=initializer, bias_initializer=keras.initializers.Zeros(), name='Output')\n",
    "], name='FCNN_3layer')\n",
    "model_3.summary()"
   ]
  },
  {
   "cell_type": "code",
   "execution_count": 13,
   "metadata": {
    "tags": []
   },
   "outputs": [],
   "source": [
    "earlystopping = keras.callbacks.EarlyStopping(monitor='loss', min_delta=1e-4, patience=3, verbose=1)\n",
    "# modelCheckpoints = keras.callbacks.ModelCheckpoint(filepath='./modelCheckpoints/SGD/model.{epoch:02d}-{loss:.2f}.h5', verbose=0)\n",
    "sgd_optimizer = keras.optimizers.SGD(learning_rate=0.001,name='SGD', momentum=0)\n",
    "model_3.compile(optimizer=sgd_optimizer, loss='sparse_categorical_crossentropy', metrics=['accuracy'])"
   ]
  },
  {
   "cell_type": "code",
   "execution_count": 14,
   "metadata": {
    "tags": []
   },
   "outputs": [],
   "source": [
    "save_weights = []\n",
    "for layer in model_3.layers:\n",
    "    save_weights.append(layer.get_weights())"
   ]
  },
  {
   "cell_type": "code",
   "execution_count": 15,
   "metadata": {
    "tags": []
   },
   "outputs": [
    {
     "name": "stdout",
     "output_type": "stream",
     "text": [
      "Epoch 1/100000\n",
      "11385/11385 [==============================] - 7s 597us/step - loss: 0.9891 - accuracy: 0.6601 - val_loss: 0.5147 - val_accuracy: 0.8235\n",
      "Epoch 2/100000\n",
      "11385/11385 [==============================] - 7s 603us/step - loss: 0.4200 - accuracy: 0.8601 - val_loss: 0.3710 - val_accuracy: 0.8804\n",
      "Epoch 3/100000\n",
      "11385/11385 [==============================] - 7s 587us/step - loss: 0.3162 - accuracy: 0.8978 - val_loss: 0.3012 - val_accuracy: 0.9041\n",
      "Epoch 4/100000\n",
      "11385/11385 [==============================] - 7s 600us/step - loss: 0.2733 - accuracy: 0.9112 - val_loss: 0.2600 - val_accuracy: 0.9125\n",
      "Epoch 5/100000\n",
      "11385/11385 [==============================] - 7s 584us/step - loss: 0.2280 - accuracy: 0.9282 - val_loss: 0.2430 - val_accuracy: 0.9199\n",
      "Epoch 6/100000\n",
      "11385/11385 [==============================] - 7s 585us/step - loss: 0.2153 - accuracy: 0.9302 - val_loss: 0.2270 - val_accuracy: 0.9252\n",
      "Epoch 7/100000\n",
      "11385/11385 [==============================] - 7s 598us/step - loss: 0.1996 - accuracy: 0.9344 - val_loss: 0.2153 - val_accuracy: 0.9304\n",
      "Epoch 8/100000\n",
      "11385/11385 [==============================] - 7s 641us/step - loss: 0.1837 - accuracy: 0.9398 - val_loss: 0.2069 - val_accuracy: 0.9312\n",
      "Epoch 9/100000\n",
      "11385/11385 [==============================] - 7s 605us/step - loss: 0.1683 - accuracy: 0.9450 - val_loss: 0.1978 - val_accuracy: 0.9307\n",
      "Epoch 10/100000\n",
      "11385/11385 [==============================] - 7s 606us/step - loss: 0.1609 - accuracy: 0.9476 - val_loss: 0.1875 - val_accuracy: 0.9386\n",
      "Epoch 11/100000\n",
      "11385/11385 [==============================] - 7s 597us/step - loss: 0.1553 - accuracy: 0.9488 - val_loss: 0.1901 - val_accuracy: 0.9375\n",
      "Epoch 12/100000\n",
      "11385/11385 [==============================] - 7s 610us/step - loss: 0.1438 - accuracy: 0.9534 - val_loss: 0.1811 - val_accuracy: 0.9412\n",
      "Epoch 13/100000\n",
      "11385/11385 [==============================] - 7s 590us/step - loss: 0.1402 - accuracy: 0.9550 - val_loss: 0.1721 - val_accuracy: 0.9447\n",
      "Epoch 14/100000\n",
      "11385/11385 [==============================] - 7s 593us/step - loss: 0.1338 - accuracy: 0.9580 - val_loss: 0.1656 - val_accuracy: 0.9468\n",
      "Epoch 15/100000\n",
      "11385/11385 [==============================] - 7s 592us/step - loss: 0.1238 - accuracy: 0.9606 - val_loss: 0.1602 - val_accuracy: 0.9494\n",
      "Epoch 16/100000\n",
      "11385/11385 [==============================] - 8s 697us/step - loss: 0.1140 - accuracy: 0.9621 - val_loss: 0.1643 - val_accuracy: 0.9494\n",
      "Epoch 17/100000\n",
      "11385/11385 [==============================] - 7s 582us/step - loss: 0.1118 - accuracy: 0.9643 - val_loss: 0.1604 - val_accuracy: 0.9478\n",
      "Epoch 18/100000\n",
      "11385/11385 [==============================] - 7s 577us/step - loss: 0.1095 - accuracy: 0.9652 - val_loss: 0.1543 - val_accuracy: 0.9518\n",
      "Epoch 19/100000\n",
      "11385/11385 [==============================] - 7s 593us/step - loss: 0.1054 - accuracy: 0.9648 - val_loss: 0.1585 - val_accuracy: 0.9497\n",
      "Epoch 20/100000\n",
      "11385/11385 [==============================] - 7s 596us/step - loss: 0.0996 - accuracy: 0.9669 - val_loss: 0.1584 - val_accuracy: 0.9502\n",
      "Epoch 21/100000\n",
      "11385/11385 [==============================] - 7s 605us/step - loss: 0.0957 - accuracy: 0.9694 - val_loss: 0.1526 - val_accuracy: 0.9534\n",
      "Epoch 22/100000\n",
      "11385/11385 [==============================] - 7s 579us/step - loss: 0.0909 - accuracy: 0.9712 - val_loss: 0.1463 - val_accuracy: 0.9531\n",
      "Epoch 23/100000\n",
      "11385/11385 [==============================] - 7s 589us/step - loss: 0.0922 - accuracy: 0.9699 - val_loss: 0.1480 - val_accuracy: 0.9534\n",
      "Epoch 24/100000\n",
      "11385/11385 [==============================] - 7s 588us/step - loss: 0.0928 - accuracy: 0.9710 - val_loss: 0.1444 - val_accuracy: 0.9520\n",
      "Epoch 25/100000\n",
      "11385/11385 [==============================] - 7s 580us/step - loss: 0.0909 - accuracy: 0.9707 - val_loss: 0.1448 - val_accuracy: 0.9531\n",
      "Epoch 25: early stopping\n"
     ]
    }
   ],
   "source": [
    "history = model_3.fit(x=train_data, y=train_labels, batch_size=1, epochs=100_000,\n",
    "                    callbacks=[earlystopping],\n",
    "                    verbose=1, shuffle=True,\n",
    "                    validation_split=0.0, validation_data=(val_data, val_labels), validation_batch_size=None)"
   ]
  },
  {
   "cell_type": "code",
   "execution_count": 19,
   "metadata": {},
   "outputs": [
    {
     "data": {
      "text/plain": [
       "<matplotlib.legend.Legend at 0x2c73608b0>"
      ]
     },
     "execution_count": 19,
     "metadata": {},
     "output_type": "execute_result"
    },
    {
     "data": {
      "image/png": "[encoded data removed]",
      "text/plain": [
       "<Figure size 640x480 with 1 Axes>"
      ]
     },
     "metadata": {},
     "output_type": "display_data"
    }
   ],
   "source": [
    "plt.figure()\n",
    "plt.title(\"SGD\")\n",
    "plt.xlabel(\"Epochs\")\n",
    "plt.ylabel(\"Loss\")\n",
    "\n",
    "plt.plot(history.history['loss'], label='Training')\n",
    "plt.plot(history.history['val_loss'], label='Validation')\n",
    "plt.legend()"
   ]
  },
  {
   "cell_type": "code",
   "execution_count": 17,
   "metadata": {},
   "outputs": [
    {
     "name": "stdout",
     "output_type": "stream",
     "text": [
      "119/119 [==============================] - 0s 1ms/step - loss: 0.1495 - accuracy: 0.9560\n"
     ]
    },
    {
     "data": {
      "text/plain": [
       "[0.14952945709228516, 0.955994725227356]"
      ]
     },
     "execution_count": 17,
     "metadata": {},
     "output_type": "execute_result"
    }
   ],
   "source": [
    "model_3.evaluate(test_data, test_labels)"
   ]
  },
  {
   "cell_type": "markdown",
   "metadata": {},
   "source": [
    "### Test"
   ]
  },
  {
   "cell_type": "code",
   "execution_count": 18,
   "metadata": {},
   "outputs": [
    {
     "name": "stdout",
     "output_type": "stream",
     "text": [
      "(SGD)Confusion matrix on test data:\n",
      "\n",
      "[[732   0   8   0   0   0  14   5   0   0]\n",
      " [  2 740   9   0   0   0   2   6   0   0]\n",
      " [ 12  10 701   0   0   0  10  26   0   0]\n",
      " [  0   0   0   0   0   0   0   0   0   0]\n",
      " [  0   0   0   0   0   0   0   0   0   0]\n",
      " [  0   0   0   0   0   0   0   0   0   0]\n",
      " [  8   7  18   0   0   0 726   0   0   0]\n",
      " [  4   6  18   0   0   0   2 729   0   0]\n",
      " [  0   0   0   0   0   0   0   0   0   0]\n",
      " [  0   0   0   0   0   0   0   0   0   0]]\n"
     ]
    }
   ],
   "source": [
    "pred_labels = model_3.predict(test_data, verbose=0)\n",
    "pred_labels = np.argmax(pred_labels, axis=1)\n",
    "\n",
    "confusion_matrix = tf.math.confusion_matrix(test_labels, pred_labels, num_classes=10)\n",
    "print('(SGD)Confusion matrix on test data:\\n')\n",
    "print(confusion_matrix.numpy())"
   ]
  },
  {
   "cell_type": "code",
   "execution_count": null,
   "metadata": {},
   "outputs": [],
   "source": []
  }
 ],
 "metadata": {
  "kernelspec": {
   "display_name": "Python 3 (ipykernel)",
   "language": "python",
   "name": "python3"
  },
  "language_info": {
   "codemirror_mode": {
    "name": "ipython",
    "version": 3
   },
   "file_extension": ".py",
   "mimetype": "text/x-python",
   "name": "python",
   "nbconvert_exporter": "python",
   "pygments_lexer": "ipython3",
   "version": "3.10.9"
  }
 },
 "nbformat": 4,
 "nbformat_minor": 4
}
