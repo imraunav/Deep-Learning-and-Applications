{
 "cells": [
  {
   "cell_type": "code",
   "execution_count": 1,
   "metadata": {
    "tags": []
   },
   "outputs": [],
   "source": [
    "import numpy as np\n",
    "from matplotlib import pyplot as plt\n",
    "# import pandas as pd\n",
    "import os\n",
    "import cv2\n",
    "import tensorflow as tf\n",
    "from tensorflow import keras \n",
    "from tensorflow.keras.models import Model\n",
    "from tensorflow.keras.layers import Input, Dense, Flatten\n",
    "import copy\n",
    "import pickle"
   ]
  },
  {
   "cell_type": "markdown",
   "metadata": {},
   "source": [
    "## Importing data"
   ]
  },
  {
   "cell_type": "code",
   "execution_count": 2,
   "metadata": {
    "tags": []
   },
   "outputs": [],
   "source": [
    "def data_import(data_path):\n",
    "    class_labels = os.listdir(data_path) # reads directory names as class-labels\n",
    "    data=[]\n",
    "    labels=[]\n",
    "    for class_ in class_labels:\n",
    "        if class_ == '.DS_Store':\n",
    "            continue\n",
    "        class_path = data_path+'/'+class_\n",
    "        imgs = os.listdir(class_path) # reads images names to read\n",
    "        for img in imgs:\n",
    "            if img == '.DS_Store':\n",
    "                continue\n",
    "            data.append(cv2.imread(class_path+'/'+img, cv2.IMREAD_GRAYSCALE))\n",
    "            labels.append(int(class_))\n",
    "\n",
    "    return np.array(data), np.array(labels)"
   ]
  },
  {
   "cell_type": "code",
   "execution_count": 3,
   "metadata": {
    "tags": []
   },
   "outputs": [
    {
     "name": "stdout",
     "output_type": "stream",
     "text": [
      "Summary of data\n",
      "No. of train images: 11385\n",
      "No. of test images: 3795\n",
      "No. of val images: 3795\n"
     ]
    }
   ],
   "source": [
    "test_path='./Group_10/test'\n",
    "train_path='./Group_10/train'\n",
    "val_path='./Group_10/val'\n",
    "# test_data, test_labels = data_import(test_path)\n",
    "# train_data, train_labels = data_import(train_path)\n",
    "# val_data, val_labels = data_import(val_path)\n",
    "\n",
    "# with open('test_data', mode='wb') as f:\n",
    "#     pickle.dump(test_data, f)\n",
    "# with open('train_data', mode='wb') as f:\n",
    "#     pickle.dump(train_data, f)\n",
    "# with open('val_data', mode='wb') as f:\n",
    "#     pickle.dump(val_data, f)\n",
    "\n",
    "# with open('test_labels', mode='wb') as f:\n",
    "#     pickle.dump(test_labels, f)\n",
    "# with open('train_labels', mode='wb') as f:\n",
    "#     pickle.dump(train_labels, f)\n",
    "# with open('val_labels', mode='wb') as f:\n",
    "#     pickle.dump(val_labels, f)\n",
    "\n",
    "with open('test_data', mode='rb') as f:\n",
    "    test_data = pickle.load(f)\n",
    "with open('train_data', mode='rb') as f:\n",
    "    train_data = pickle.load(f)\n",
    "with open('val_data', mode='rb') as f:\n",
    "    val_data = pickle.load(f)\n",
    "\n",
    "with open('test_labels', mode='rb') as f:\n",
    "    test_labels = pickle.load(f)\n",
    "with open('train_labels', mode='rb') as f:\n",
    "    train_labels = pickle.load(f)\n",
    "with open('val_labels', mode='rb') as f:\n",
    "    val_labels = pickle.load(f)\n",
    "\n",
    "print('Summary of data')\n",
    "print(f'No. of train images: {len(train_data)}')\n",
    "print(f'No. of test images: {len(test_data)}')\n",
    "print(f'No. of val images: {len(val_data)}')\n"
   ]
  },
  {
   "cell_type": "markdown",
   "metadata": {},
   "source": [
    "## SGD"
   ]
  },
  {
   "cell_type": "markdown",
   "metadata": {},
   "source": [
    "### Model"
   ]
  },
  {
   "cell_type": "code",
   "execution_count": 4,
   "metadata": {
    "tags": []
   },
   "outputs": [
    {
     "name": "stdout",
     "output_type": "stream",
     "text": [
      "Model: \"FCNN_3layer\"\n",
      "_________________________________________________________________\n",
      " Layer (type)                Output Shape              Param #   \n",
      "=================================================================\n",
      " Input_layer (Flatten)       (None, 784)               0         \n",
      "                                                                 \n",
      " Hidden_layer_1 (Dense)      (None, 250)               196250    \n",
      "                                                                 \n",
      " Hidden_layer_2 (Dense)      (None, 400)               100400    \n",
      "                                                                 \n",
      " Hidden_layer_3 (Dense)      (None, 100)               40100     \n",
      "                                                                 \n",
      " Output (Dense)              (None, 10)                1010      \n",
      "                                                                 \n",
      "=================================================================\n",
      "Total params: 337,760\n",
      "Trainable params: 337,760\n",
      "Non-trainable params: 0\n",
      "_________________________________________________________________\n"
     ]
    }
   ],
   "source": [
    "initializer = keras.initializers.RandomUniform(minval=-1, maxval=1, seed=6)\n",
    "# Three layer FCNN\n",
    "model_3 = keras.Sequential([\n",
    "    Flatten(input_shape=(28,28), name='Input_layer'), # image data as input\n",
    "    Dense(250, activation='sigmoid', name='Hidden_layer_1'),\n",
    "    Dense(400, activation='sigmoid', name='Hidden_layer_2'),\n",
    "    Dense(100, activation='sigmoid', name='Hidden_layer_3'),\n",
    "    Dense(10, activation='softmax', kernel_initializer=initializer, bias_initializer=keras.initializers.Zeros(), name='Output')\n",
    "], name='FCNN_3layer')\n",
    "model_3.summary()"
   ]
  },
  {
   "cell_type": "code",
   "execution_count": 5,
   "metadata": {
    "tags": []
   },
   "outputs": [],
   "source": [
    "earlystopping = keras.callbacks.EarlyStopping(monitor='loss', min_delta=1e-4, patience=3, verbose=1)\n",
    "# modelCheckpoints = keras.callbacks.ModelCheckpoint(filepath='./modelCheckpoints/SGD/model.{epoch:02d}-{loss:.2f}.h5', verbose=0)\n",
    "sgd_optimizer = keras.optimizers.SGD(learning_rate=0.001,name='SGD', momentum=0)\n",
    "model_3.compile(optimizer=sgd_optimizer, loss='sparse_categorical_crossentropy', metrics=['accuracy'])"
   ]
  },
  {
   "cell_type": "code",
   "execution_count": 6,
   "metadata": {
    "tags": []
   },
   "outputs": [],
   "source": [
    "save_weights = []\n",
    "for layer in model_3.layers:\n",
    "    save_weights.append(layer.get_weights())"
   ]
  },
  {
   "cell_type": "code",
   "execution_count": 7,
   "metadata": {
    "tags": []
   },
   "outputs": [
    {
     "name": "stdout",
     "output_type": "stream",
     "text": [
      "Epoch 1/100000\n"
     ]
    },
    {
     "name": "stderr",
     "output_type": "stream",
     "text": [
      "2023-03-16 19:01:31.300445: W tensorflow/tsl/platform/profile_utils/cpu_utils.cc:128] Failed to get CPU frequency: 0 Hz\n"
     ]
    },
    {
     "name": "stdout",
     "output_type": "stream",
     "text": [
      "11385/11385 [==============================] - 7s 568us/step - loss: 0.4548 - accuracy: 0.8950 - val_loss: 0.1638 - val_accuracy: 0.9602\n",
      "Epoch 2/100000\n",
      "11385/11385 [==============================] - 6s 564us/step - loss: 0.1471 - accuracy: 0.9624 - val_loss: 0.1385 - val_accuracy: 0.9615\n",
      "Epoch 3/100000\n",
      "11385/11385 [==============================] - 6s 563us/step - loss: 0.1203 - accuracy: 0.9664 - val_loss: 0.1211 - val_accuracy: 0.9639\n",
      "Epoch 4/100000\n",
      "11385/11385 [==============================] - 6s 561us/step - loss: 0.1037 - accuracy: 0.9716 - val_loss: 0.1021 - val_accuracy: 0.9726\n",
      "Epoch 5/100000\n",
      "11385/11385 [==============================] - 6s 563us/step - loss: 0.0957 - accuracy: 0.9728 - val_loss: 0.1017 - val_accuracy: 0.9721\n",
      "Epoch 6/100000\n",
      "11385/11385 [==============================] - 6s 563us/step - loss: 0.0936 - accuracy: 0.9743 - val_loss: 0.0960 - val_accuracy: 0.9715\n",
      "Epoch 7/100000\n",
      "11385/11385 [==============================] - 6s 562us/step - loss: 0.0825 - accuracy: 0.9759 - val_loss: 0.0916 - val_accuracy: 0.9726\n",
      "Epoch 8/100000\n",
      "11385/11385 [==============================] - 6s 565us/step - loss: 0.0854 - accuracy: 0.9765 - val_loss: 0.0927 - val_accuracy: 0.9752\n",
      "Epoch 9/100000\n",
      "11385/11385 [==============================] - 6s 565us/step - loss: 0.0813 - accuracy: 0.9772 - val_loss: 0.0863 - val_accuracy: 0.9742\n",
      "Epoch 10/100000\n",
      "11385/11385 [==============================] - 6s 566us/step - loss: 0.0774 - accuracy: 0.9776 - val_loss: 0.0840 - val_accuracy: 0.9734\n",
      "Epoch 11/100000\n",
      "11385/11385 [==============================] - 6s 564us/step - loss: 0.0722 - accuracy: 0.9790 - val_loss: 0.0875 - val_accuracy: 0.9729\n",
      "Epoch 12/100000\n",
      "11385/11385 [==============================] - 6s 566us/step - loss: 0.0683 - accuracy: 0.9799 - val_loss: 0.0846 - val_accuracy: 0.9750\n",
      "Epoch 13/100000\n",
      "11385/11385 [==============================] - 6s 565us/step - loss: 0.0718 - accuracy: 0.9783 - val_loss: 0.0847 - val_accuracy: 0.9750\n",
      "Epoch 14/100000\n",
      "11385/11385 [==============================] - 6s 564us/step - loss: 0.0786 - accuracy: 0.9787 - val_loss: 0.0781 - val_accuracy: 0.9779\n",
      "Epoch 15/100000\n",
      "11385/11385 [==============================] - 6s 566us/step - loss: 0.0677 - accuracy: 0.9798 - val_loss: 0.0777 - val_accuracy: 0.9734\n",
      "Epoch 16/100000\n",
      "11385/11385 [==============================] - 7s 589us/step - loss: 0.0689 - accuracy: 0.9804 - val_loss: 0.0791 - val_accuracy: 0.9758\n",
      "Epoch 17/100000\n",
      "11385/11385 [==============================] - 7s 584us/step - loss: 0.0659 - accuracy: 0.9811 - val_loss: 0.0715 - val_accuracy: 0.9784\n",
      "Epoch 18/100000\n",
      "11385/11385 [==============================] - 7s 582us/step - loss: 0.0626 - accuracy: 0.9819 - val_loss: 0.0795 - val_accuracy: 0.9765\n",
      "Epoch 19/100000\n",
      "11385/11385 [==============================] - 7s 581us/step - loss: 0.0639 - accuracy: 0.9821 - val_loss: 0.0774 - val_accuracy: 0.9776\n",
      "Epoch 20/100000\n",
      "11385/11385 [==============================] - 7s 585us/step - loss: 0.0695 - accuracy: 0.9797 - val_loss: 0.0782 - val_accuracy: 0.9734\n",
      "Epoch 21/100000\n",
      "11385/11385 [==============================] - 7s 583us/step - loss: 0.0640 - accuracy: 0.9811 - val_loss: 0.0766 - val_accuracy: 0.9765\n",
      "Epoch 21: early stopping\n"
     ]
    }
   ],
   "source": [
    "history = model_3.fit(x=train_data, y=train_labels, batch_size=1, epochs=100_000,\n",
    "                    callbacks=[earlystopping],\n",
    "                    verbose=1, shuffle=True,\n",
    "                    validation_split=0.0, validation_data=(val_data, val_labels), validation_batch_size=None)"
   ]
  },
  {
   "cell_type": "code",
   "execution_count": 8,
   "metadata": {},
   "outputs": [
    {
     "data": {
      "text/plain": [
       "<matplotlib.legend.Legend at 0x297b8b880>"
      ]
     },
     "execution_count": 8,
     "metadata": {},
     "output_type": "execute_result"
    },
    {
     "data": {
      "image/png": "[encoded data removed]",
      "text/plain": [
       "<Figure size 640x480 with 1 Axes>"
      ]
     },
     "metadata": {},
     "output_type": "display_data"
    }
   ],
   "source": [
    "plt.figure()\n",
    "plt.title(\"SGD\")\n",
    "plt.xlabel(\"Epochs\")\n",
    "plt.ylabel(\"Loss\")\n",
    "\n",
    "plt.plot(history.history['loss'], label='Training')\n",
    "# plt.plot(history.history['val_loss'], label='Validation')\n",
    "plt.legend()"
   ]
  },
  {
   "cell_type": "code",
   "execution_count": 9,
   "metadata": {},
   "outputs": [
    {
     "name": "stdout",
     "output_type": "stream",
     "text": [
      "119/119 [==============================] - 0s 616us/step - loss: 0.0823 - accuracy: 0.9726\n"
     ]
    },
    {
     "data": {
      "text/plain": [
       "[0.08233193308115005, 0.9725955128669739]"
      ]
     },
     "execution_count": 9,
     "metadata": {},
     "output_type": "execute_result"
    }
   ],
   "source": [
    "model_3.evaluate(test_data, test_labels)"
   ]
  },
  {
   "cell_type": "markdown",
   "metadata": {},
   "source": [
    "### Test"
   ]
  },
  {
   "cell_type": "code",
   "execution_count": 10,
   "metadata": {},
   "outputs": [
    {
     "name": "stdout",
     "output_type": "stream",
     "text": [
      "(SGD)Confusion matrix on test data:\n",
      "\n",
      "[[746   0   2   0   0   0   6   5   0   0]\n",
      " [  0 750   7   0   0   0   0   2   0   0]\n",
      " [ 12   5 725   0   0   0  11   6   0   0]\n",
      " [  0   0   0   0   0   0   0   0   0   0]\n",
      " [  0   0   0   0   0   0   0   0   0   0]\n",
      " [  0   0   0   0   0   0   0   0   0   0]\n",
      " [  9   5   4   0   0   0 741   0   0   0]\n",
      " [  4   7  18   0   0   0   1 729   0   0]\n",
      " [  0   0   0   0   0   0   0   0   0   0]\n",
      " [  0   0   0   0   0   0   0   0   0   0]]\n"
     ]
    }
   ],
   "source": [
    "pred_labels = model_3.predict(test_data, verbose=0)\n",
    "pred_labels = np.argmax(pred_labels, axis=1)\n",
    "\n",
    "confusion_matrix = tf.math.confusion_matrix(test_labels, pred_labels, num_classes=10)\n",
    "print('(SGD)Confusion matrix on test data:\\n')\n",
    "print(confusion_matrix.numpy())"
   ]
  },
  {
   "cell_type": "code",
   "execution_count": null,
   "metadata": {},
   "outputs": [],
   "source": []
  }
 ],
 "metadata": {
  "kernelspec": {
   "display_name": "Python 3 (ipykernel)",
   "language": "python",
   "name": "python3"
  },
  "language_info": {
   "codemirror_mode": {
    "name": "ipython",
    "version": 3
   },
   "file_extension": ".py",
   "mimetype": "text/x-python",
   "name": "python",
   "nbconvert_exporter": "python",
   "pygments_lexer": "ipython3",
   "version": "3.10.9"
  }
 },
 "nbformat": 4,
 "nbformat_minor": 4
}
