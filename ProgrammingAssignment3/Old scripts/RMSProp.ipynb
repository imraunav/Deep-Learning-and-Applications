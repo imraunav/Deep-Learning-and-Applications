{
 "cells": [
  {
   "cell_type": "code",
   "execution_count": 1,
   "metadata": {},
   "outputs": [],
   "source": [
    "import numpy as np\n",
    "from matplotlib import pyplot as plt\n",
    "# import pandas as pd\n",
    "import os\n",
    "import cv2\n",
    "import tensorflow as tf\n",
    "from tensorflow import keras \n",
    "from tensorflow.keras.models import Model\n",
    "from tensorflow.keras.layers import Input, Dense, Flatten\n",
    "import copy\n",
    "import pickle"
   ]
  },
  {
   "attachments": {},
   "cell_type": "markdown",
   "metadata": {},
   "source": [
    "# Importing data"
   ]
  },
  {
   "cell_type": "code",
   "execution_count": 2,
   "metadata": {},
   "outputs": [],
   "source": [
    "def data_import(data_path):\n",
    "    class_labels = os.listdir(data_path) # reads directory names as class-labels\n",
    "    data=[]\n",
    "    labels=[]\n",
    "    for class_ in class_labels:\n",
    "        if class_ == '.DS_Store':\n",
    "            continue\n",
    "        class_path = data_path+'/'+class_\n",
    "        imgs = os.listdir(class_path) # reads images names to read\n",
    "        for img in imgs:\n",
    "            if img == '.DS_Store':\n",
    "                continue\n",
    "            data.append(cv2.imread(class_path+'/'+img, cv2.IMREAD_GRAYSCALE))\n",
    "            labels.append(int(class_))\n",
    "\n",
    "    return np.array(data), np.array(labels)"
   ]
  },
  {
   "cell_type": "code",
   "execution_count": 3,
   "metadata": {},
   "outputs": [
    {
     "name": "stdout",
     "output_type": "stream",
     "text": [
      "Summary of data\n",
      "No. of train images: 11385\n",
      "No. of test images: 3795\n",
      "No. of val images: 3795\n"
     ]
    }
   ],
   "source": [
    "test_path='./Group_10/test'\n",
    "train_path='./Group_10/train'\n",
    "val_path='./Group_10/val'\n",
    "# test_data, test_labels = data_import(test_path)\n",
    "# train_data, train_labels = data_import(train_path)\n",
    "# val_data, val_labels = data_import(val_path)\n",
    "\n",
    "# with open('test_data', mode='wb') as f:\n",
    "#     pickle.dump(test_data, f)\n",
    "# with open('train_data', mode='wb') as f:\n",
    "#     pickle.dump(train_data, f)\n",
    "# with open('val_data', mode='wb') as f:\n",
    "#     pickle.dump(val_data, f)\n",
    "\n",
    "# with open('test_labels', mode='wb') as f:\n",
    "#     pickle.dump(test_labels, f)\n",
    "# with open('train_labels', mode='wb') as f:\n",
    "#     pickle.dump(train_labels, f)\n",
    "# with open('val_labels', mode='wb') as f:\n",
    "#     pickle.dump(val_labels, f)\n",
    "\n",
    "with open('test_data', mode='rb') as f:\n",
    "    test_data = pickle.load(f)\n",
    "with open('train_data', mode='rb') as f:\n",
    "    train_data = pickle.load(f)\n",
    "with open('val_data', mode='rb') as f:\n",
    "    val_data = pickle.load(f)\n",
    "\n",
    "with open('test_labels', mode='rb') as f:\n",
    "    test_labels = pickle.load(f)\n",
    "with open('train_labels', mode='rb') as f:\n",
    "    train_labels = pickle.load(f)\n",
    "with open('val_labels', mode='rb') as f:\n",
    "    val_labels = pickle.load(f)\n",
    "\n",
    "print('Summary of data')\n",
    "print(f'No. of train images: {len(train_data)}')\n",
    "print(f'No. of test images: {len(test_data)}')\n",
    "print(f'No. of val images: {len(val_data)}')"
   ]
  },
  {
   "attachments": {},
   "cell_type": "markdown",
   "metadata": {},
   "source": [
    "## RMSProp"
   ]
  },
  {
   "attachments": {},
   "cell_type": "markdown",
   "metadata": {},
   "source": [
    "### Model"
   ]
  },
  {
   "cell_type": "code",
   "execution_count": 4,
   "metadata": {},
   "outputs": [
    {
     "name": "stdout",
     "output_type": "stream",
     "text": [
      "Model: \"FCNN_3layer\"\n",
      "_________________________________________________________________\n",
      " Layer (type)                Output Shape              Param #   \n",
      "=================================================================\n",
      " Input_layer (Flatten)       (None, 784)               0         \n",
      "                                                                 \n",
      " Hidden_layer_1 (Dense)      (None, 128)               100480    \n",
      "                                                                 \n",
      " Hidden_layer_2 (Dense)      (None, 100)               12900     \n",
      "                                                                 \n",
      " Hidden_layer_3 (Dense)      (None, 128)               12928     \n",
      "                                                                 \n",
      " Output (Dense)              (None, 10)                1290      \n",
      "                                                                 \n",
      "=================================================================\n",
      "Total params: 127,598\n",
      "Trainable params: 127,598\n",
      "Non-trainable params: 0\n",
      "_________________________________________________________________\n"
     ]
    }
   ],
   "source": [
    "initializer = keras.initializers.RandomUniform(minval=-1, maxval=1, seed=6)\n",
    "# Three layer FCNN\n",
    "model_3 = keras.Sequential([\n",
    "    Flatten(input_shape=(28,28), name='Input_layer'), # image data as input\n",
    "    Dense(128, activation='sigmoid', name='Hidden_layer_1'),\n",
    "    Dense(100, activation='sigmoid', name='Hidden_layer_2'),\n",
    "    Dense(128, activation='sigmoid', name='Hidden_layer_3'),\n",
    "    Dense(10, activation='softmax', name='Output')\n",
    "], name='FCNN_3layer')\n",
    "model_3.summary()"
   ]
  },
  {
   "cell_type": "code",
   "execution_count": 5,
   "metadata": {},
   "outputs": [],
   "source": [
    "earlystopping = keras.callbacks.EarlyStopping(monitor='loss', min_delta=1e-4, patience=3, verbose=1)\n",
    "rmsprop = keras.optimizers.RMSprop(learning_rate=0.001,\n",
    "        rho=0.99, epsilon=1e-8, centered=False,\n",
    "        name=\"RMSProp\")\n",
    "model_3.compile(optimizer=rmsprop,\n",
    "                loss='sparse_categorical_crossentropy',\n",
    "                metrics=['accuracy'])"
   ]
  },
  {
   "cell_type": "code",
   "execution_count": 6,
   "metadata": {},
   "outputs": [
    {
     "name": "stdout",
     "output_type": "stream",
     "text": [
      "Epoch 1/100000\n"
     ]
    },
    {
     "name": "stderr",
     "output_type": "stream",
     "text": [
      "2023-03-16 13:54:01.666925: W tensorflow/tsl/platform/profile_utils/cpu_utils.cc:128] Failed to get CPU frequency: 0 Hz\n"
     ]
    },
    {
     "name": "stdout",
     "output_type": "stream",
     "text": [
      "11385/11385 [==============================] - 8s 659us/step - loss: 1.3047 - accuracy: 0.3837 - val_loss: 1.0494 - val_accuracy: 0.5115\n",
      "Epoch 2/100000\n",
      "11385/11385 [==============================] - 8s 678us/step - loss: 1.0589 - accuracy: 0.5129 - val_loss: 1.1170 - val_accuracy: 0.4867\n",
      "Epoch 3/100000\n",
      "11385/11385 [==============================] - 7s 641us/step - loss: 1.0646 - accuracy: 0.5096 - val_loss: 0.9319 - val_accuracy: 0.5515\n",
      "Epoch 4/100000\n",
      "11385/11385 [==============================] - 7s 649us/step - loss: 0.9151 - accuracy: 0.5828 - val_loss: 0.9264 - val_accuracy: 0.5581\n",
      "Epoch 5/100000\n",
      "11385/11385 [==============================] - 8s 665us/step - loss: 0.8642 - accuracy: 0.6047 - val_loss: 0.9227 - val_accuracy: 0.5481\n",
      "Epoch 6/100000\n",
      "11385/11385 [==============================] - 7s 655us/step - loss: 0.8740 - accuracy: 0.5787 - val_loss: 0.8943 - val_accuracy: 0.6063\n",
      "Epoch 7/100000\n",
      "11385/11385 [==============================] - 8s 683us/step - loss: 0.8331 - accuracy: 0.6430 - val_loss: 1.0820 - val_accuracy: 0.5431\n",
      "Epoch 8/100000\n",
      "11385/11385 [==============================] - 8s 686us/step - loss: 0.7805 - accuracy: 0.7047 - val_loss: 0.8362 - val_accuracy: 0.6859\n",
      "Epoch 9/100000\n",
      "11385/11385 [==============================] - 8s 666us/step - loss: 0.7804 - accuracy: 0.6781 - val_loss: 0.6793 - val_accuracy: 0.7534\n",
      "Epoch 10/100000\n",
      "11385/11385 [==============================] - 8s 660us/step - loss: 0.6487 - accuracy: 0.7607 - val_loss: 0.5858 - val_accuracy: 0.8453\n",
      "Epoch 11/100000\n",
      "11385/11385 [==============================] - 8s 662us/step - loss: 0.6392 - accuracy: 0.7943 - val_loss: 0.8023 - val_accuracy: 0.6993\n",
      "Epoch 12/100000\n",
      "11385/11385 [==============================] - 8s 683us/step - loss: 0.6970 - accuracy: 0.7513 - val_loss: 0.5977 - val_accuracy: 0.8279\n",
      "Epoch 13/100000\n",
      "11385/11385 [==============================] - 7s 656us/step - loss: 0.5870 - accuracy: 0.8154 - val_loss: 0.5579 - val_accuracy: 0.8601\n",
      "Epoch 14/100000\n",
      "11385/11385 [==============================] - 7s 646us/step - loss: 0.6469 - accuracy: 0.7688 - val_loss: 0.7765 - val_accuracy: 0.7075\n",
      "Epoch 15/100000\n",
      "11385/11385 [==============================] - 7s 645us/step - loss: 0.7018 - accuracy: 0.7606 - val_loss: 0.4690 - val_accuracy: 0.8883\n",
      "Epoch 16/100000\n",
      "11385/11385 [==============================] - 7s 649us/step - loss: 0.5688 - accuracy: 0.8314 - val_loss: 0.4964 - val_accuracy: 0.8625\n",
      "Epoch 17/100000\n",
      "11385/11385 [==============================] - 8s 677us/step - loss: 0.6108 - accuracy: 0.7947 - val_loss: 0.5664 - val_accuracy: 0.8063\n",
      "Epoch 18/100000\n",
      "11385/11385 [==============================] - 8s 668us/step - loss: 0.6360 - accuracy: 0.7965 - val_loss: 0.7714 - val_accuracy: 0.7581\n",
      "Epoch 19/100000\n",
      "11385/11385 [==============================] - 7s 656us/step - loss: 0.6190 - accuracy: 0.8174 - val_loss: 0.5995 - val_accuracy: 0.8406\n",
      "Epoch 19: early stopping\n"
     ]
    }
   ],
   "source": [
    "history = model_3.fit(x=train_data, y=train_labels, batch_size=1, epochs=100_000,\n",
    "                    callbacks=[earlystopping],\n",
    "                    verbose=1, shuffle=True,\n",
    "                    validation_split=0.0, validation_data=(val_data, val_labels), validation_batch_size=None)"
   ]
  },
  {
   "cell_type": "code",
   "execution_count": 7,
   "metadata": {},
   "outputs": [
    {
     "data": {
      "text/plain": [
       "<matplotlib.legend.Legend at 0x29945b880>"
      ]
     },
     "execution_count": 7,
     "metadata": {},
     "output_type": "execute_result"
    },
    {
     "data": {
      "image/png": "[encoded data removed]",
      "text/plain": [
       "<Figure size 640x480 with 1 Axes>"
      ]
     },
     "metadata": {},
     "output_type": "display_data"
    }
   ],
   "source": [
    "plt.figure()\n",
    "plt.title(\"RMSProp\")\n",
    "plt.xlabel(\"Epochs\")\n",
    "plt.ylabel(\"Loss\")\n",
    "\n",
    "plt.plot(history.history['loss'], label='Training')\n",
    "# plt.plot(history.history['val_loss'], label='Validation')\n",
    "plt.legend()"
   ]
  },
  {
   "attachments": {},
   "cell_type": "markdown",
   "metadata": {},
   "source": [
    "### Test"
   ]
  },
  {
   "cell_type": "code",
   "execution_count": 8,
   "metadata": {},
   "outputs": [
    {
     "name": "stdout",
     "output_type": "stream",
     "text": [
      "119/119 [==============================] - 0s 450us/step - loss: 0.6120 - accuracy: 0.8340\n"
     ]
    },
    {
     "data": {
      "text/plain": [
       "[0.6119946241378784, 0.8339921236038208]"
      ]
     },
     "execution_count": 8,
     "metadata": {},
     "output_type": "execute_result"
    }
   ],
   "source": [
    "model_3.evaluate(test_data, test_labels)"
   ]
  },
  {
   "cell_type": "code",
   "execution_count": 10,
   "metadata": {},
   "outputs": [
    {
     "name": "stdout",
     "output_type": "stream",
     "text": [
      "(RMSProp)Confusion matrix on test data:\n",
      "\n",
      "[[751   0   3   0   0   0   3   2   0   0]\n",
      " [  1 713  17   0   0   0  27   1   0   0]\n",
      " [175  78 380   0   0   0 117   9   0   0]\n",
      " [  0   0   0   0   0   0   0   0   0   0]\n",
      " [  0   0   0   0   0   0   0   0   0   0]\n",
      " [  0   0   0   0   0   0   0   0   0   0]\n",
      " [ 94  11   6   0   0   0 648   0   0   0]\n",
      " [ 15  17  46   0   0   0   8 673   0   0]\n",
      " [  0   0   0   0   0   0   0   0   0   0]\n",
      " [  0   0   0   0   0   0   0   0   0   0]]\n"
     ]
    }
   ],
   "source": [
    "pred_labels = model_3.predict(test_data, verbose=0)\n",
    "pred_labels = np.argmax(pred_labels, axis=1)\n",
    "\n",
    "confusion_matrix = tf.math.confusion_matrix(test_labels, pred_labels, num_classes=10)\n",
    "print('(RMSProp)Confusion matrix on test data:\\n')\n",
    "print(confusion_matrix.numpy())"
   ]
  },
  {
   "cell_type": "code",
   "execution_count": null,
   "metadata": {},
   "outputs": [],
   "source": []
  }
 ],
 "metadata": {
  "kernelspec": {
   "display_name": ".env",
   "language": "python",
   "name": "python3"
  },
  "language_info": {
   "codemirror_mode": {
    "name": "ipython",
    "version": 3
   },
   "file_extension": ".py",
   "mimetype": "text/x-python",
   "name": "python",
   "nbconvert_exporter": "python",
   "pygments_lexer": "ipython3",
   "version": "3.10.9"
  },
  "orig_nbformat": 4
 },
 "nbformat": 4,
 "nbformat_minor": 2
}
